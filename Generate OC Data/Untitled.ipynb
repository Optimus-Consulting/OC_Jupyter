{
 "cells": [
  {
   "cell_type": "code",
   "execution_count": 32,
   "metadata": {},
   "outputs": [],
   "source": [
    "from bentley_ottmann.base import segments_intersections\n",
    "import poly_point_isect\n",
    "from shapely.geometry import Point, Polygon, LineString"
   ]
  },
  {
   "cell_type": "code",
   "execution_count": 28,
   "metadata": {},
   "outputs": [
    {
     "data": {
      "text/plain": [
       "[(1.0, 1.0), (4.5, 3.0), (5.2, 3.0)]"
      ]
     },
     "execution_count": 28,
     "metadata": {},
     "output_type": "execute_result"
    }
   ],
   "source": [
    "line1 = [(0,0), (1,1), (8,5)]\n",
    "line2 = [(1,0), (7,3), (3,3)]\n",
    "l1=LineString([Point(p) for p in line1])\n",
    "poly_point_isect.isect_polygon((line1+line2))"
   ]
  },
  {
   "cell_type": "code",
   "execution_count": 29,
   "metadata": {},
   "outputs": [
    {
     "data": {
      "text/plain": [
       "[(0, 0), (1, 1), (8, 5), (1, 0), (7, 3), (3, 3)]"
      ]
     },
     "execution_count": 29,
     "metadata": {},
     "output_type": "execute_result"
    }
   ],
   "source": [
    "l=line1+line2\n",
    "l"
   ]
  },
  {
   "cell_type": "code",
   "execution_count": 30,
   "metadata": {},
   "outputs": [],
   "source": []
  },
  {
   "cell_type": "code",
   "execution_count": 31,
   "metadata": {},
   "outputs": [
    {
     "data": {
      "image/svg+xml": [
       "<svg xmlns=\"http://www.w3.org/2000/svg\" xmlns:xlink=\"http://www.w3.org/1999/xlink\" width=\"100.0\" height=\"100.0\" viewBox=\"-0.32 -0.32 8.64 5.640000000000001\" preserveAspectRatio=\"xMinYMin meet\"><g transform=\"matrix(1,0,0,-1,0,5.0)\"><polyline fill=\"none\" stroke=\"#66cc99\" stroke-width=\"0.1728\" points=\"0.0,0.0 1.0,1.0 8.0,5.0 1.0,0.0 7.0,3.0 3.0,3.0\" opacity=\"0.8\" /></g></svg>"
      ],
      "text/plain": [
       "<shapely.geometry.linestring.LineString at 0x7fa7b070e2d0>"
      ]
     },
     "execution_count": 31,
     "metadata": {},
     "output_type": "execute_result"
    }
   ],
   "source": [
    "points=[]\n",
    "for p in l:\n",
    "    points.append(Point(p))\n",
    "LineString(points)\n",
    "    "
   ]
  },
  {
   "cell_type": "code",
   "execution_count": 37,
   "metadata": {},
   "outputs": [
    {
     "name": "stdout",
     "output_type": "stream",
     "text": [
      "POINT (4.5 3)\n"
     ]
    }
   ],
   "source": [
    "l1=LineString([Point(p) for p in line1])\n",
    "l2=LineString([Point(p) for p in line2])\n",
    "ii=l1.intersection(l2)\n",
    "print((ii))"
   ]
  },
  {
   "cell_type": "code",
   "execution_count": 23,
   "metadata": {},
   "outputs": [
    {
     "name": "stdout",
     "output_type": "stream",
     "text": [
      "LINESTRING (2.02796158358983 3.881536656406788, 2.072567874421353 2.097285023145893)\n",
      "LINESTRING (2.019819096605441 4.207236135782384, 2.080725721869193 1.770971125232286)\n",
      "LINESTRING (2.019819096605441 4.207236135782384, 2.027961583589831 3.881536656406788, 2.072567874421353 2.097285023145893, 2.080725721869193 1.770971125232286)\n"
     ]
    }
   ],
   "source": [
    "from shapely.geometry import LineString, Point\n",
    "from shapely.ops import linemerge\n",
    "\n",
    "def getProyection(aline, point_coords):\n",
    "    return aline.interpolate(aline.project(Point(point_coords)))\n",
    "\n",
    "def mergeInside(aline, inside_line):\n",
    "    mline_tups = [(aline.project(Point(p)), p) for p in aline.coords]\n",
    "    mline_tups.extend([ (aline.project(Point(p)), getProyection(aline, p))\n",
    "                                    for p in inside_line.coords])\n",
    "    mline_tups.sort()\n",
    "    return LineString([p for _, p in mline_tups])\n",
    "\n",
    "line = LineString([(2, 5), (2.1, 1)])  # slightly oblique line\n",
    "point1 = Point(2.5, 3)\n",
    "int1 = line.intersection(point1.buffer(1))\n",
    "int2 = line.intersection(point1.buffer(1.3))\n",
    "merged_line = mergeInside(int2, int1)\n",
    "\n",
    "print(int1)\n",
    "print(int2)\n",
    "print(merged_line)"
   ]
  },
  {
   "cell_type": "code",
   "execution_count": 24,
   "metadata": {},
   "outputs": [
    {
     "data": {
      "image/svg+xml": [
       "<svg xmlns=\"http://www.w3.org/2000/svg\" xmlns:xlink=\"http://www.w3.org/1999/xlink\" width=\"100.0\" height=\"100.0\" viewBox=\"1.84 0.84 0.42000000000000015 4.32\" preserveAspectRatio=\"xMinYMin meet\"><g transform=\"matrix(1,0,0,-1,0,6.0)\"><polyline fill=\"none\" stroke=\"#66cc99\" stroke-width=\"0.0864\" points=\"2.0,5.0 2.1,1.0\" opacity=\"0.8\" /></g></svg>"
      ],
      "text/plain": [
       "<shapely.geometry.linestring.LineString at 0x7fa7b065bb90>"
      ]
     },
     "execution_count": 24,
     "metadata": {},
     "output_type": "execute_result"
    }
   ],
   "source": [
    "line"
   ]
  },
  {
   "cell_type": "code",
   "execution_count": null,
   "metadata": {},
   "outputs": [],
   "source": []
  }
 ],
 "metadata": {
  "kernelspec": {
   "display_name": "Python 3",
   "language": "python",
   "name": "python3"
  },
  "language_info": {
   "codemirror_mode": {
    "name": "ipython",
    "version": 3
   },
   "file_extension": ".py",
   "mimetype": "text/x-python",
   "name": "python",
   "nbconvert_exporter": "python",
   "pygments_lexer": "ipython3",
   "version": "3.7.4"
  }
 },
 "nbformat": 4,
 "nbformat_minor": 4
}
