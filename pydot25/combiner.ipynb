{
 "cells": [
  {
   "cell_type": "code",
   "execution_count": 3,
   "metadata": {},
   "outputs": [],
   "source": [
    "from pathlib import Path\n",
    "path = Path(\".\")"
   ]
  },
  {
   "cell_type": "code",
   "execution_count": 4,
   "metadata": {},
   "outputs": [
    {
     "name": "stdout",
     "output_type": "stream",
     "text": [
      "combiner.ipynb\n",
      "merged.ipynb\n",
      "merged1.ipynb\n",
      "tips.ipynb\n",
      ".ipynb_checkpoints\\combiner-checkpoint.ipynb\n",
      ".ipynb_checkpoints\\merged-checkpoint.ipynb\n",
      ".ipynb_checkpoints\\tips-checkpoint.ipynb\n",
      "01-Python-Foundations\\Day01\\day01-pydot24-workbook.ipynb\n",
      "01-Python-Foundations\\Day01\\day01-workbook.ipynb\n",
      "01-Python-Foundations\\Day01\\pydot25-day01-workbook.ipynb\n",
      "01-Python-Foundations\\Day01\\.ipynb_checkpoints\\day01-pydot24-workbook-checkpoint.ipynb\n",
      "01-Python-Foundations\\Day01\\.ipynb_checkpoints\\pydot25-day01-workbook-checkpoint.ipynb\n",
      "01-Python-Foundations\\Day01\\Exercises\\BasicExercises.ipynb\n",
      "01-Python-Foundations\\Day01\\Exercises\\Exercises01-GettingStarted.ipynb\n",
      "01-Python-Foundations\\Day01\\Exercises\\Exercises02-IfElseStatements.ipynb\n",
      "01-Python-Foundations\\Day01\\Exercises\\Exercises03-Functions.ipynb\n",
      "01-Python-Foundations\\Day01\\Exercises\\Exercises04-Loops.ipynb\n",
      "01-Python-Foundations\\Day01\\Exercises\\.ipynb_checkpoints\\BasicExercises-checkpoint.ipynb\n",
      "01-Python-Foundations\\Day01\\Exercises\\.ipynb_checkpoints\\Exercises01-GettingStarted-checkpoint.ipynb\n",
      "01-Python-Foundations\\Day01\\Exercises\\.ipynb_checkpoints\\Exercises02-IfElseStatements-checkpoint.ipynb\n",
      "01-Python-Foundations\\Day01\\Exercises\\.ipynb_checkpoints\\Exercises03-Functions-checkpoint.ipynb\n",
      "01-Python-Foundations\\Day01\\Exercises\\.ipynb_checkpoints\\Exercises04-Loops-checkpoint.ipynb\n",
      "01-Python-Foundations\\Day01\\Exercises\\Solutions\\Exercises01-GettingStarted-Solutions.ipynb\n",
      "01-Python-Foundations\\Day01\\Exercises\\Solutions\\Exercises02-IfElseStatements-Solution.ipynb\n",
      "01-Python-Foundations\\Day01\\Exercises\\Solutions\\Exercises03-Functions-Solutions.ipynb\n",
      "01-Python-Foundations\\Day01\\Exercises\\Solutions\\Exercises04-Loops-Solutions.ipynb\n",
      "01-Python-Foundations\\Day01\\Exercises\\Solutions\\.ipynb_checkpoints\\Exercises01-GettingStarted-Solutions-checkpoint.ipynb\n",
      "01-Python-Foundations\\Day01\\Exercises\\Solutions\\.ipynb_checkpoints\\Exercises02-IfElseStatements-Solution-checkpoint.ipynb\n",
      "01-Python-Foundations\\Day01\\Exercises\\Solutions\\.ipynb_checkpoints\\Exercises03-Functions-Solutions-checkpoint.ipynb\n",
      "01-Python-Foundations\\Day01\\Exercises\\Solutions\\.ipynb_checkpoints\\Exercises04-Loops-Solutions-checkpoint.ipynb\n",
      "01-Python-Foundations\\Day01\\Lectures\\Day1.ipynb\n",
      "01-Python-Foundations\\Day01\\Lectures\\Day1_Classroom_Exercise_Solution.ipynb\n",
      "01-Python-Foundations\\Day01\\Lectures\\jupyter_notebook_tutorial.ipynb\n",
      "01-Python-Foundations\\Day01\\Lectures\\Lecture01.ipynb\n",
      "01-Python-Foundations\\Day01\\Lectures\\Recap Cont.ipynb\n",
      "01-Python-Foundations\\Day01\\Lectures\\Recap.ipynb\n",
      "01-Python-Foundations\\Day01\\Lectures\\.ipynb_checkpoints\\Day1_Classroom_Exercise_Solution-checkpoint.ipynb\n",
      "01-Python-Foundations\\Day01\\Lectures\\.ipynb_checkpoints\\Lecture01-checkpoint.ipynb\n",
      "01-Python-Foundations\\Day01\\Lectures\\.ipynb_checkpoints\\Recap Cont-checkpoint.ipynb\n",
      "01-Python-Foundations\\Day01\\Lectures\\.ipynb_checkpoints\\Recap-checkpoint.ipynb\n",
      "01-Python-Foundations\\Day02\\day02-pydot24-workbook.ipynb\n",
      "01-Python-Foundations\\Day02\\day02-workbook.ipynb\n",
      "01-Python-Foundations\\Day02\\pydot25-day02-function-exercise.ipynb\n",
      "01-Python-Foundations\\Day02\\pydot25-day02-workbook.ipynb\n",
      "01-Python-Foundations\\Day02\\workshop02-part2.ipynb\n",
      "01-Python-Foundations\\Day02\\.ipynb_checkpoints\\day02-pydot24-workbook-checkpoint.ipynb\n",
      "01-Python-Foundations\\Day02\\.ipynb_checkpoints\\pydot25-day02-function-exercise-checkpoint.ipynb\n",
      "01-Python-Foundations\\Day02\\.ipynb_checkpoints\\pydot25-day02-workbook-checkpoint.ipynb\n",
      "01-Python-Foundations\\Day02\\.ipynb_checkpoints\\workshop02-part2-checkpoint.ipynb\n",
      "01-Python-Foundations\\Day02\\Exercises\\DepreciatedExercises.ipynb\n",
      "01-Python-Foundations\\Day02\\Exercises\\Exercises01-ListsDictionaries.ipynb\n",
      "01-Python-Foundations\\Day02\\Exercises\\Exercises02-Classes.ipynb\n",
      "01-Python-Foundations\\Day02\\Exercises\\.ipynb_checkpoints\\DepreciatedExercises-checkpoint.ipynb\n",
      "01-Python-Foundations\\Day02\\Exercises\\.ipynb_checkpoints\\Excercise_day1-checkpoint.ipynb\n",
      "01-Python-Foundations\\Day02\\Exercises\\.ipynb_checkpoints\\Exercises01-ListsDictionaries-checkpoint.ipynb\n",
      "01-Python-Foundations\\Day02\\Exercises\\.ipynb_checkpoints\\Exercises02-Classes-checkpoint.ipynb\n",
      "01-Python-Foundations\\Day02\\Exercises\\Solutions\\Exercises01-ListsDictionaries-Solution.ipynb\n",
      "01-Python-Foundations\\Day02\\Exercises\\Solutions\\Exercises02-Classes-Solution.ipynb\n",
      "01-Python-Foundations\\Day02\\Exercises\\Solutions\\.ipynb_checkpoints\\Exercises01-ListsDictionaries-Solution-checkpoint.ipynb\n",
      "01-Python-Foundations\\Day02\\Exercises\\Solutions\\.ipynb_checkpoints\\Exercises02-Classes-Solution-checkpoint.ipynb\n",
      "01-Python-Foundations\\Day02\\Lectures\\Day2.ipynb\n",
      "01-Python-Foundations\\Day02\\Lectures\\Lectures02.ipynb\n",
      "01-Python-Foundations\\Day02\\Lectures\\Multi-Inheritance.ipynb\n",
      "01-Python-Foundations\\Day02\\Lectures\\Object_Oriented_Programming.ipynb\n",
      "01-Python-Foundations\\Day02\\Lectures\\recap 3.ipynb\n",
      "01-Python-Foundations\\Day02\\Lectures\\recap 4.ipynb\n",
      "01-Python-Foundations\\Day02\\Lectures\\recap.ipynb\n",
      "01-Python-Foundations\\Day02\\Lectures\\recap2.ipynb\n",
      "01-Python-Foundations\\Day02\\Lectures\\.ipynb_checkpoints\\Lecture02-checkpoint.ipynb\n",
      "01-Python-Foundations\\Day02\\Lectures\\.ipynb_checkpoints\\Lectures02-checkpoint.ipynb\n",
      "01-Python-Foundations\\Day02\\Lectures\\.ipynb_checkpoints\\Multi-Inheritance-checkpoint.ipynb\n",
      "01-Python-Foundations\\Day02\\Lectures\\.ipynb_checkpoints\\recap 3-checkpoint.ipynb\n",
      "01-Python-Foundations\\Day02\\Lectures\\.ipynb_checkpoints\\recap 4-checkpoint.ipynb\n",
      "01-Python-Foundations\\Day02\\Lectures\\.ipynb_checkpoints\\recap-checkpoint.ipynb\n",
      "01-Python-Foundations\\Day02\\Lectures\\.ipynb_checkpoints\\recap2-checkpoint.ipynb\n",
      "02-FileIO-mongodb-API\\Day03\\workshop03.ipynb\n",
      "02-FileIO-mongodb-API\\Day03\\.ipynb_checkpoints\\workshop03-checkpoint.ipynb\n",
      "02-FileIO-mongodb-API\\Day04\\day04-pydot24-workbook.ipynb\n",
      "02-FileIO-mongodb-API\\Day04\\day04-workbook.ipynb\n",
      "02-FileIO-mongodb-API\\Day04\\pydot25-day04-workbook.ipynb\n",
      "02-FileIO-mongodb-API\\Day04\\workshop04-api-exploration.ipynb\n",
      "02-FileIO-mongodb-API\\Day04\\.ipynb_checkpoints\\day04-pydot24-workbook-checkpoint.ipynb\n",
      "02-FileIO-mongodb-API\\Day04\\.ipynb_checkpoints\\pydot25-day04-workbook-checkpoint.ipynb\n",
      "02-FileIO-mongodb-API\\Day04\\.ipynb_checkpoints\\workshop04-api-exploration-checkpoint.ipynb\n",
      "02-FileIO-mongodb-API\\Day04\\day04-notebooks\\day04_workbook.ipynb\n",
      "02-FileIO-mongodb-API\\Day04\\day04-notebooks\\Exercise_for_day3_evening.ipynb\n",
      "02-FileIO-mongodb-API\\Day04\\day04-notebooks\\Exercise_Solution.ipynb\n",
      "02-FileIO-mongodb-API\\Day04\\day04-notebooks\\Lecture.ipynb\n",
      "02-FileIO-mongodb-API\\Day04\\day04-notebooks\\.ipynb_checkpoints\\Exercise_for_day3_evening-checkpoint.ipynb\n",
      "02-FileIO-mongodb-API\\Day04\\day04-notebooks\\.ipynb_checkpoints\\Exercise_Solution-checkpoint.ipynb\n",
      "02-FileIO-mongodb-API\\Day04\\day04-notebooks\\.ipynb_checkpoints\\Lecture-checkpoint.ipynb\n",
      "02-FileIO-mongodb-API\\Day04\\mqtt-demo\\MQTT-DEMO.ipynb\n",
      "02-FileIO-mongodb-API\\Day04\\mqtt-demo\\.ipynb_checkpoints\\MQTT-DEMO-checkpoint.ipynb\n",
      "02-FileIO-mongodb-API\\Day05\\day05-pydot24-workbook.ipynb\n",
      "02-FileIO-mongodb-API\\Day05\\day05-workbook.ipynb\n",
      "02-FileIO-mongodb-API\\Day05\\google-image-search.ipynb\n",
      "02-FileIO-mongodb-API\\Day05\\pydot25-day05-workbook.ipynb\n",
      "02-FileIO-mongodb-API\\Day05\\.ipynb_checkpoints\\day05-pydot24-workbook-checkpoint.ipynb\n",
      "02-FileIO-mongodb-API\\Day05\\.ipynb_checkpoints\\google-image-search-checkpoint.ipynb\n",
      "02-FileIO-mongodb-API\\Day05\\.ipynb_checkpoints\\pydot25-day05-workbook-checkpoint.ipynb\n",
      "02-FileIO-mongodb-API\\Day05\\Exercise\\Excercise_day6.ipynb\n",
      "02-FileIO-mongodb-API\\Day05\\Exercise\\exercise_simple_html_reasons-student.ipynb\n",
      "02-FileIO-mongodb-API\\Day05\\Exercise\\exercise_simple_html_reasons.ipynb\n",
      "02-FileIO-mongodb-API\\Day05\\Exercise\\retrieve_stock_data.ipynb\n",
      "02-FileIO-mongodb-API\\Day05\\Exercise\\Stock Price Data.ipynb\n",
      "02-FileIO-mongodb-API\\Day05\\Exercise\\webscraping_extend.ipynb\n",
      "02-FileIO-mongodb-API\\Day05\\FastAIModel\\Build_your_first_Image_Classfier_Apples_Banana.ipynb\n",
      "02-FileIO-mongodb-API\\Day05\\Lectures\\00_lectures6_7.ipynb\n",
      "02-FileIO-mongodb-API\\Day05\\Lectures\\01b_structured_data_collection_API.ipynb\n",
      "02-FileIO-mongodb-API\\Day05\\Lectures\\01_structured_data_collection.ipynb\n",
      "02-FileIO-mongodb-API\\Day05\\Lectures\\02_data_visualization.ipynb\n",
      "02-FileIO-mongodb-API\\Day05\\Lectures\\03unstructured_data_collection.ipynb\n",
      "02-FileIO-mongodb-API\\Day05\\Lectures\\04unstructured_data_lazada.ipynb\n",
      "02-FileIO-mongodb-API\\Day05\\Lectures\\chatbot.ipynb\n",
      "02-FileIO-mongodb-API\\Day05\\Lectures\\pydot16_workbook_day6.ipynb\n",
      "02-FileIO-mongodb-API\\Day05\\Lectures\\pydot_16_workbook_day5.ipynb\n",
      "02-FileIO-mongodb-API\\Day05\\Lectures\\zzz.ipynb\n",
      "02-FileIO-mongodb-API\\Day05\\Lectures\\zzzz.ipynb\n",
      "02-FileIO-mongodb-API\\Day05\\Lectures\\selenium_simple\\selenium.ipynb\n",
      "03-Data Analysis np-pandas-matplotlib\\Day06\\day06-pydot24-workbook.ipynb\n",
      "03-Data Analysis np-pandas-matplotlib\\Day06\\day06-workbook.ipynb\n",
      "03-Data Analysis np-pandas-matplotlib\\Day06\\global_imports.ipynb\n",
      "03-Data Analysis np-pandas-matplotlib\\Day06\\neural-net-from-scratch.ipynb\n",
      "03-Data Analysis np-pandas-matplotlib\\Day06\\Pandas_Data_Analaysis.ipynb\n",
      "03-Data Analysis np-pandas-matplotlib\\Day06\\pydot25-day06-workbook.ipynb\n",
      "03-Data Analysis np-pandas-matplotlib\\Day06\\Tutorial - Manipulating Data with Pandas.ipynb\n",
      "03-Data Analysis np-pandas-matplotlib\\Day06\\.ipynb_checkpoints\\day06-pydot24-workbook-checkpoint.ipynb\n",
      "03-Data Analysis np-pandas-matplotlib\\Day06\\.ipynb_checkpoints\\pydot25-day06-workbook-checkpoint.ipynb\n",
      "03-Data Analysis np-pandas-matplotlib\\Day06\\Exercise\\Excercise_day7.ipynb\n",
      "03-Data Analysis np-pandas-matplotlib\\Day06\\Exercise\\.ipynb_checkpoints\\Excercise_day1-checkpoint.ipynb\n",
      "03-Data Analysis np-pandas-matplotlib\\Day06\\Exercise\\.ipynb_checkpoints\\Excercise_day7-checkpoint.ipynb\n",
      "03-Data Analysis np-pandas-matplotlib\\Day06\\Lectures\\Day06_Pandas_session09.ipynb\n",
      "03-Data Analysis np-pandas-matplotlib\\Day06\\Lectures\\day06_workbook.ipynb\n",
      "03-Data Analysis np-pandas-matplotlib\\Day06\\Lectures\\Day07_Session10.ipynb\n",
      "03-Data Analysis np-pandas-matplotlib\\Day06\\Lectures\\Day6.ipynb\n",
      "03-Data Analysis np-pandas-matplotlib\\Day06\\Lectures\\Example Notebook.ipynb\n",
      "03-Data Analysis np-pandas-matplotlib\\Day06\\Lectures\\iris.ipynb\n",
      "03-Data Analysis np-pandas-matplotlib\\Day06\\Lectures\\numpy.ipynb\n",
      "03-Data Analysis np-pandas-matplotlib\\Day06\\Lectures\\NumpyLecture.ipynb\n",
      "03-Data Analysis np-pandas-matplotlib\\Day06\\Lectures\\pandas.ipynb\n",
      "03-Data Analysis np-pandas-matplotlib\\Day06\\Lectures\\Pandas01.ipynb\n",
      "03-Data Analysis np-pandas-matplotlib\\Day06\\Lectures\\Pandas02.ipynb\n",
      "03-Data Analysis np-pandas-matplotlib\\Day06\\Lectures\\Pandas03.ipynb\n",
      "03-Data Analysis np-pandas-matplotlib\\Day06\\Lectures\\Pandas04.ipynb\n",
      "03-Data Analysis np-pandas-matplotlib\\Day06\\Lectures\\Pandas05.ipynb\n",
      "03-Data Analysis np-pandas-matplotlib\\Day06\\Lectures\\Pandas06.ipynb\n",
      "03-Data Analysis np-pandas-matplotlib\\Day06\\Lectures\\Pandas07.ipynb\n",
      "03-Data Analysis np-pandas-matplotlib\\Day06\\Lectures\\Pandas08.ipynb\n",
      "03-Data Analysis np-pandas-matplotlib\\Day06\\Lectures\\Pandas10.ipynb\n",
      "03-Data Analysis np-pandas-matplotlib\\Day06\\Lectures\\workbook_day06.ipynb\n",
      "03-Data Analysis np-pandas-matplotlib\\Day06\\Lectures\\zzz.ipynb\n",
      "03-Data Analysis np-pandas-matplotlib\\Day06\\Lectures\\.ipynb_checkpoints\\Day06_Pandas_session09-checkpoint.ipynb\n",
      "03-Data Analysis np-pandas-matplotlib\\Day06\\Lectures\\.ipynb_checkpoints\\day06_workbook-checkpoint.ipynb\n",
      "03-Data Analysis np-pandas-matplotlib\\Day06\\Lectures\\.ipynb_checkpoints\\Day07_Session10-checkpoint.ipynb\n",
      "03-Data Analysis np-pandas-matplotlib\\Day06\\Lectures\\.ipynb_checkpoints\\Example Notebook-checkpoint.ipynb\n",
      "03-Data Analysis np-pandas-matplotlib\\Day06\\Lectures\\.ipynb_checkpoints\\iris-checkpoint.ipynb\n",
      "03-Data Analysis np-pandas-matplotlib\\Day06\\Lectures\\.ipynb_checkpoints\\Lecture01-checkpoint.ipynb\n",
      "03-Data Analysis np-pandas-matplotlib\\Day06\\Lectures\\.ipynb_checkpoints\\numpy-checkpoint.ipynb\n",
      "03-Data Analysis np-pandas-matplotlib\\Day06\\Lectures\\.ipynb_checkpoints\\pandas-checkpoint.ipynb\n",
      "03-Data Analysis np-pandas-matplotlib\\Day06\\Lectures\\.ipynb_checkpoints\\Pandas04-checkpoint.ipynb\n",
      "03-Data Analysis np-pandas-matplotlib\\Day06\\Lectures\\.ipynb_checkpoints\\Pandas05-checkpoint.ipynb\n",
      "03-Data Analysis np-pandas-matplotlib\\Day06\\Lectures\\.ipynb_checkpoints\\Pandas06-checkpoint.ipynb\n",
      "03-Data Analysis np-pandas-matplotlib\\Day06\\Lectures\\.ipynb_checkpoints\\Pandas07-checkpoint.ipynb\n",
      "03-Data Analysis np-pandas-matplotlib\\Day06\\Lectures\\.ipynb_checkpoints\\Pandas08-checkpoint.ipynb\n",
      "03-Data Analysis np-pandas-matplotlib\\Day06\\Lectures\\.ipynb_checkpoints\\Pandas10-checkpoint.ipynb\n",
      "03-Data Analysis np-pandas-matplotlib\\Day06\\Lectures\\.ipynb_checkpoints\\workbook_day06-checkpoint.ipynb\n",
      "03-Data Analysis np-pandas-matplotlib\\Day06\\Lectures\\.ipynb_checkpoints\\zzz-checkpoint.ipynb\n",
      "03-Data Analysis np-pandas-matplotlib\\Day06\\Lectures\\Pandas9\\Pandas9.ipynb\n",
      "03-Data Analysis np-pandas-matplotlib\\Day06\\Lectures\\Pandas9\\.ipynb_checkpoints\\Pandas9-checkpoint.ipynb\n",
      "03-Data Analysis np-pandas-matplotlib\\Day07\\day07-pydot24-workbook.ipynb\n",
      "03-Data Analysis np-pandas-matplotlib\\Day07\\day07-workbook part2 Pandas- Concat - Join Multiple Dataframes.ipynb\n",
      "03-Data Analysis np-pandas-matplotlib\\Day07\\day07-workbook.ipynb\n",
      "03-Data Analysis np-pandas-matplotlib\\Day07\\plotly.ipynb\n",
      "03-Data Analysis np-pandas-matplotlib\\Day07\\pydot25-day07-workbook.ipynb\n",
      "03-Data Analysis np-pandas-matplotlib\\Day07\\pydot25-seaborn-tutorial.ipynb\n",
      "03-Data Analysis np-pandas-matplotlib\\Day07\\.ipynb_checkpoints\\day07-pydot24-workbook-checkpoint.ipynb\n",
      "03-Data Analysis np-pandas-matplotlib\\Day07\\.ipynb_checkpoints\\plotly-checkpoint.ipynb\n",
      "03-Data Analysis np-pandas-matplotlib\\Day07\\.ipynb_checkpoints\\pydot25-day07-workbook-checkpoint.ipynb\n",
      "03-Data Analysis np-pandas-matplotlib\\Day07\\.ipynb_checkpoints\\pydot25-seaborn-tutorial-checkpoint.ipynb\n",
      "03-Data Analysis np-pandas-matplotlib\\Day07\\Lectures\\CaseStudy_Pandas_Matplotlib.ipynb\n",
      "03-Data Analysis np-pandas-matplotlib\\Day07\\Lectures\\Lecture_part1_matplotlib.ipynb\n",
      "03-Data Analysis np-pandas-matplotlib\\Day07\\Lectures\\Lecture_part2_word_cloud.ipynb\n",
      "03-Data Analysis np-pandas-matplotlib\\Day07\\Lectures\\recap.ipynb\n",
      "03-Data Analysis np-pandas-matplotlib\\Day07\\Lectures\\Workshop_demo_day07_wordcloud_matplotlib.ipynb\n",
      "03-Data Analysis np-pandas-matplotlib\\Day07\\Lectures\\.ipynb_checkpoints\\Lecture_part1_matplotlib-checkpoint.ipynb\n",
      "03-Data Analysis np-pandas-matplotlib\\Day07\\Lectures\\.ipynb_checkpoints\\Lecture_part2_word_cloud-checkpoint.ipynb\n",
      "03-Data Analysis np-pandas-matplotlib\\Day07\\Lectures\\.ipynb_checkpoints\\recap-checkpoint.ipynb\n",
      "03-Data Analysis np-pandas-matplotlib\\Day07\\Lectures\\.ipynb_checkpoints\\Workshop_demo_day07_wordcloud_matplotlib-checkpoint.ipynb\n",
      "03-Data Analysis np-pandas-matplotlib\\Day07\\workshop-playstore\\Google App Store - QA Exercise.ipynb\n",
      "03-Data Analysis np-pandas-matplotlib\\Day07\\workshop-playstore\\Google App Store - QA Solution.ipynb\n",
      "03-Data Analysis np-pandas-matplotlib\\Day07\\workshop-playstore\\Google App Store - QA With Answer Reference.ipynb\n",
      "03-Data Analysis np-pandas-matplotlib\\Day07\\workshop-playstore\\.ipynb_checkpoints\\Google App Store - QA Exercise-checkpoint.ipynb\n",
      "03-Data Analysis np-pandas-matplotlib\\Day07\\workshop-playstore\\.ipynb_checkpoints\\Google App Store - QA With Answer Reference-checkpoint.ipynb\n",
      "day08-chatbots\\api_exploration_for_bot.ipynb\n",
      "day08-chatbots\\tutorials-on-some-random-topics-pydot25.ipynb\n",
      "day08-chatbots\\.ipynb_checkpoints\\api_exploration_for_bot-checkpoint.ipynb\n",
      "day08-chatbots\\.ipynb_checkpoints\\tutorials-on-some-random-topics-pydot25-checkpoint.ipynb\n"
     ]
    }
   ],
   "source": [
    "for file in path.glob(\"**/*.ipynb\"):\n",
    "    print(file)"
   ]
  },
  {
   "cell_type": "code",
   "execution_count": 8,
   "metadata": {},
   "outputs": [
    {
     "name": "stdout",
     "output_type": "stream",
     "text": [
      "01-Python-Foundations\\Day01\\pydot25-day01-workbook.ipynb\n",
      "01-Python-Foundations\\Day02\\pydot25-day02-function-exercise.ipynb\n",
      "01-Python-Foundations\\Day02\\pydot25-day02-workbook.ipynb\n",
      "02-FileIO-mongodb-API\\Day04\\pydot25-day04-workbook.ipynb\n",
      "02-FileIO-mongodb-API\\Day05\\pydot25-day05-workbook.ipynb\n",
      "03-Data Analysis np-pandas-matplotlib\\Day06\\pydot25-day06-workbook.ipynb\n",
      "03-Data Analysis np-pandas-matplotlib\\Day07\\pydot25-day07-workbook.ipynb\n",
      "03-Data Analysis np-pandas-matplotlib\\Day07\\pydot25-seaborn-tutorial.ipynb\n",
      "day08-chatbots\\tutorials-on-some-random-topics-pydot25.ipynb\n"
     ]
    }
   ],
   "source": [
    "files = []\n",
    "for file in path.glob(\"**/*.ipynb\"):\n",
    "    if \".ipynb_checkpoints\" in str(file): continue\n",
    "    if \"pydot25\" in str(file):\n",
    "        print(file)\n",
    "        files.append(file)"
   ]
  },
  {
   "cell_type": "code",
   "execution_count": 6,
   "metadata": {},
   "outputs": [
    {
     "name": "stdout",
     "output_type": "stream",
     "text": [
      "01-Python-Foundations\\Day01\\day01-pydot24-workbook.ipynb\n",
      "01-Python-Foundations\\Day02\\day02-pydot24-workbook.ipynb\n",
      "02-FileIO-mongodb-API\\Day04\\day04-pydot24-workbook.ipynb\n",
      "02-FileIO-mongodb-API\\Day05\\day05-pydot24-workbook.ipynb\n",
      "03-Data Analysis np-pandas-matplotlib\\Day06\\day06-pydot24-workbook.ipynb\n",
      "03-Data Analysis np-pandas-matplotlib\\Day07\\day07-pydot24-workbook.ipynb\n"
     ]
    }
   ],
   "source": [
    "for file in path.glob(\"**/*.ipynb\"):\n",
    "    if \".ipynb_checkpoints\" in str(file): continue\n",
    "    if \"24\" in str(file):\n",
    "        print(file)"
   ]
  },
  {
   "cell_type": "code",
   "execution_count": null,
   "metadata": {},
   "outputs": [],
   "source": []
  },
  {
   "cell_type": "code",
   "execution_count": null,
   "metadata": {},
   "outputs": [],
   "source": []
  },
  {
   "cell_type": "code",
   "execution_count": 14,
   "metadata": {},
   "outputs": [
    {
     "name": "stdout",
     "output_type": "stream",
     "text": [
      "combiner.html\n",
      "tips.html\n"
     ]
    }
   ],
   "source": [
    "from bs4 import BeautifulSoup\n",
    "for ht in Path(\".\").glob(\"*.html\"):\n",
    "    print(ht)\n",
    "    with open(ht) as f:\n",
    "        c = BeautifulSoup(f.read())"
   ]
  },
  {
   "cell_type": "code",
   "execution_count": 1,
   "metadata": {},
   "outputs": [],
   "source": [
    "!nbmerge combiner.ipynb tips.ipynb > merged.ipynb"
   ]
  },
  {
   "cell_type": "code",
   "execution_count": 30,
   "metadata": {},
   "outputs": [],
   "source": [
    "!nbmerge {\" \".join([f.as_posix() for f in files[:4]])} > pydot25_combined_1to4.ipynb"
   ]
  },
  {
   "cell_type": "code",
   "execution_count": 37,
   "metadata": {},
   "outputs": [],
   "source": [
    "!nbmerge {\" \".join([f.as_posix() for f in files[8:]])} > pydot25_combined_8_to_rest.ipynb"
   ]
  },
  {
   "cell_type": "code",
   "execution_count": 38,
   "metadata": {},
   "outputs": [
    {
     "data": {
      "text/plain": [
       "[WindowsPath('02-FileIO-mongodb-API/Day05/pydot25-day05-workbook.ipynb'),\n",
       " WindowsPath('03-Data Analysis np-pandas-matplotlib/Day06/pydot25-day06-workbook.ipynb'),\n",
       " WindowsPath('03-Data Analysis np-pandas-matplotlib/Day07/pydot25-day07-workbook.ipynb'),\n",
       " WindowsPath('03-Data Analysis np-pandas-matplotlib/Day07/pydot25-seaborn-tutorial.ipynb')]"
      ]
     },
     "execution_count": 38,
     "metadata": {},
     "output_type": "execute_result"
    }
   ],
   "source": [
    "files[4:8]"
   ]
  },
  {
   "cell_type": "code",
   "execution_count": 41,
   "metadata": {},
   "outputs": [],
   "source": [
    "# !nbmerge '02-FileIO-mongodb-API/Day05/pydot25-day05-workbook.ipynb 03-Data Analysis np-pandas-matplotlib/Day06/pydot25-day06-workbook.ipynb' > merged_tmp.ipynb"
   ]
  },
  {
   "cell_type": "code",
   "execution_count": 1,
   "metadata": {},
   "outputs": [
    {
     "ename": "NameError",
     "evalue": "name 'files' is not defined",
     "output_type": "error",
     "traceback": [
      "\u001b[0;31m---------------------------------------------------------------------------\u001b[0m",
      "\u001b[0;31mNameError\u001b[0m                                 Traceback (most recent call last)",
      "\u001b[0;32m<ipython-input-1-14c3f515838d>\u001b[0m in \u001b[0;36m<module>\u001b[0;34m\u001b[0m\n\u001b[0;32m----> 1\u001b[0;31m \u001b[0mfiles\u001b[0m\u001b[0;34m[\u001b[0m\u001b[0;34m:\u001b[0m\u001b[0;36m4\u001b[0m\u001b[0;34m]\u001b[0m\u001b[0;34m\u001b[0m\u001b[0;34m\u001b[0m\u001b[0m\n\u001b[0m",
      "\u001b[0;31mNameError\u001b[0m: name 'files' is not defined"
     ]
    }
   ],
   "source": [
    "files[:4]"
   ]
  },
  {
   "cell_type": "code",
   "execution_count": null,
   "metadata": {},
   "outputs": [],
   "source": []
  }
 ],
 "metadata": {
  "kernelspec": {
   "display_name": "Python 3",
   "language": "python",
   "name": "python3"
  },
  "language_info": {
   "codemirror_mode": {
    "name": "ipython",
    "version": 3
   },
   "file_extension": ".py",
   "mimetype": "text/x-python",
   "name": "python",
   "nbconvert_exporter": "python",
   "pygments_lexer": "ipython3",
   "version": "3.7.4"
  }
 },
 "nbformat": 4,
 "nbformat_minor": 4
}
