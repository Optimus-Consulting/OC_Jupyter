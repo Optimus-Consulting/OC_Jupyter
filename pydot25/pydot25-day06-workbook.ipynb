{
 "cells": [
  {
   "cell_type": "markdown",
   "metadata": {},
   "source": [
    "## Agenda\n",
    "---\n",
    "\n",
    "- Intro to Numpy \n",
    "    - dtypes\n",
    "    - indexing / slicing into numpy arrays\n",
    "    - vectoried operations\n",
    "    - common / util functions inside numpy arrays"
   ]
  },
  {
   "cell_type": "code",
   "execution_count": 1,
   "metadata": {},
   "outputs": [
    {
     "name": "stdout",
     "output_type": "stream",
     "text": [
      "Wall time: 113 ms\n"
     ]
    }
   ],
   "source": [
    "%time import numpy as np"
   ]
  },
  {
   "cell_type": "code",
   "execution_count": 3,
   "metadata": {},
   "outputs": [],
   "source": [
    "import numpy as np\n",
    "import pandas as pd\n",
    "\n",
    "#rapdisai\n",
    "\n",
    "# cupy\n",
    "# cudf\n",
    "# cusklearn\n",
    "\n",
    "\n",
    "# Deep , ML libraries..\n",
    "# import torch #FB #cuda GPU\n",
    "# import tensorflow #Google"
   ]
  },
  {
   "cell_type": "code",
   "execution_count": 4,
   "metadata": {},
   "outputs": [
    {
     "name": "stdout",
     "output_type": "stream",
     "text": [
      "Variable   Type      Data/Info\n",
      "------------------------------\n",
      "np         module    <module 'numpy' from 'C:\\<...>ges\\\\numpy\\\\__init__.py'>\n",
      "pd         module    <module 'pandas' from 'C:<...>es\\\\pandas\\\\__init__.py'>\n"
     ]
    }
   ],
   "source": [
    "%whos"
   ]
  },
  {
   "cell_type": "code",
   "execution_count": 5,
   "metadata": {},
   "outputs": [],
   "source": [
    "# globals()"
   ]
  },
  {
   "cell_type": "code",
   "execution_count": 18,
   "metadata": {},
   "outputs": [
    {
     "data": {
      "text/plain": [
       "112"
      ]
     },
     "execution_count": 18,
     "metadata": {},
     "output_type": "execute_result"
    }
   ],
   "source": [
    "a = list([1,2,3])\n",
    "sys.getsizeof(a)"
   ]
  },
  {
   "cell_type": "code",
   "execution_count": 16,
   "metadata": {},
   "outputs": [
    {
     "data": {
      "text/plain": [
       "240"
      ]
     },
     "execution_count": 16,
     "metadata": {},
     "output_type": "execute_result"
    }
   ],
   "source": [
    "a = dict({})\n",
    "sys.getsizeof(a)"
   ]
  },
  {
   "cell_type": "code",
   "execution_count": 17,
   "metadata": {},
   "outputs": [
    {
     "data": {
      "text/plain": [
       "224"
      ]
     },
     "execution_count": 17,
     "metadata": {},
     "output_type": "execute_result"
    }
   ],
   "source": [
    "a = set()\n",
    "sys.getsizeof(a)"
   ]
  },
  {
   "cell_type": "code",
   "execution_count": 9,
   "metadata": {},
   "outputs": [
    {
     "data": {
      "text/plain": [
       "72"
      ]
     },
     "execution_count": 9,
     "metadata": {},
     "output_type": "execute_result"
    }
   ],
   "source": [
    "a = [10]\n",
    "sys.getsizeof(a)"
   ]
  },
  {
   "cell_type": "code",
   "execution_count": 8,
   "metadata": {},
   "outputs": [
    {
     "data": {
      "text/plain": [
       "80"
      ]
     },
     "execution_count": 8,
     "metadata": {},
     "output_type": "execute_result"
    }
   ],
   "source": [
    "a = [10,20]\n",
    "sys.getsizeof(a)"
   ]
  },
  {
   "cell_type": "code",
   "execution_count": 10,
   "metadata": {},
   "outputs": [
    {
     "data": {
      "text/plain": [
       "88"
      ]
     },
     "execution_count": 10,
     "metadata": {},
     "output_type": "execute_result"
    }
   ],
   "source": [
    "a = [10,20,30]\n",
    "sys.getsizeof(a)"
   ]
  },
  {
   "cell_type": "code",
   "execution_count": 7,
   "metadata": {},
   "outputs": [
    {
     "data": {
      "text/plain": [
       "(80, 80)"
      ]
     },
     "execution_count": 7,
     "metadata": {},
     "output_type": "execute_result"
    }
   ],
   "source": [
    "import sys\n",
    "sys.getsizeof(np), sys.getsizeof(pd)"
   ]
  },
  {
   "cell_type": "code",
   "execution_count": 35,
   "metadata": {},
   "outputs": [],
   "source": [
    "a  = [10,20,30]\n",
    "a2 = [\n",
    "        [1,2,3],\n",
    "        [2,1,3]\n",
    "    ]\n",
    "\n",
    "A = np.array(a)\n",
    "A2= np.array(a2)\n"
   ]
  },
  {
   "cell_type": "code",
   "execution_count": 36,
   "metadata": {},
   "outputs": [
    {
     "data": {
      "text/plain": [
       "(3,)"
      ]
     },
     "execution_count": 36,
     "metadata": {},
     "output_type": "execute_result"
    }
   ],
   "source": [
    "A.shape"
   ]
  },
  {
   "cell_type": "code",
   "execution_count": 67,
   "metadata": {},
   "outputs": [],
   "source": [
    "data = [10,20,\"10\"]"
   ]
  },
  {
   "cell_type": "code",
   "execution_count": 68,
   "metadata": {},
   "outputs": [],
   "source": [
    "# data"
   ]
  },
  {
   "cell_type": "code",
   "execution_count": 69,
   "metadata": {},
   "outputs": [],
   "source": [
    "D = np.array(data, dtype=np.float64)"
   ]
  },
  {
   "cell_type": "code",
   "execution_count": 62,
   "metadata": {},
   "outputs": [
    {
     "data": {
      "text/plain": [
       "array([10., 20., 10.])"
      ]
     },
     "execution_count": 62,
     "metadata": {},
     "output_type": "execute_result"
    }
   ],
   "source": [
    "D"
   ]
  },
  {
   "cell_type": "code",
   "execution_count": 54,
   "metadata": {},
   "outputs": [
    {
     "data": {
      "text/plain": [
       "array(['10', '20', 'na'], dtype='<U11')"
      ]
     },
     "execution_count": 54,
     "metadata": {},
     "output_type": "execute_result"
    }
   ],
   "source": [
    "np.unique( D )"
   ]
  },
  {
   "cell_type": "code",
   "execution_count": 55,
   "metadata": {},
   "outputs": [],
   "source": [
    "# and &\n",
    "# or |\n",
    "# npt ~"
   ]
  },
  {
   "cell_type": "code",
   "execution_count": 40,
   "metadata": {},
   "outputs": [],
   "source": [
    "# A3"
   ]
  },
  {
   "cell_type": "code",
   "execution_count": 21,
   "metadata": {},
   "outputs": [
    {
     "data": {
      "text/plain": [
       "10"
      ]
     },
     "execution_count": 21,
     "metadata": {},
     "output_type": "execute_result"
    }
   ],
   "source": [
    "A.min()"
   ]
  },
  {
   "cell_type": "code",
   "execution_count": 22,
   "metadata": {},
   "outputs": [
    {
     "data": {
      "text/plain": [
       "(30, 20.0, 8.16496580927726, 0, 2)"
      ]
     },
     "execution_count": 22,
     "metadata": {},
     "output_type": "execute_result"
    }
   ],
   "source": [
    "A.max(), A.mean(), A.std(), A.argmin(), A.argmax()"
   ]
  },
  {
   "cell_type": "code",
   "execution_count": 24,
   "metadata": {},
   "outputs": [
    {
     "data": {
      "text/plain": [
       "(array([10, 20, 30]), numpy.ndarray)"
      ]
     },
     "execution_count": 24,
     "metadata": {},
     "output_type": "execute_result"
    }
   ],
   "source": [
    "A, type(A)"
   ]
  },
  {
   "cell_type": "code",
   "execution_count": 191,
   "metadata": {},
   "outputs": [],
   "source": [
    "#creating numpy array\n",
    "shape = (2,2)\n",
    "#A = np.array([10,20,30])\n",
    "A1 = np.ones(1)\n",
    "A2 = np.zeros(shape)\n",
    "A3 = np.full(shape, 10)"
   ]
  },
  {
   "cell_type": "code",
   "execution_count": 196,
   "metadata": {},
   "outputs": [
    {
     "data": {
      "text/plain": [
       "array([[1., 1.]])"
      ]
     },
     "execution_count": 196,
     "metadata": {},
     "output_type": "execute_result"
    }
   ],
   "source": []
  },
  {
   "cell_type": "code",
   "execution_count": 192,
   "metadata": {},
   "outputs": [
    {
     "data": {
      "text/plain": [
       "((2, 2), (2, 2), (2, 2))"
      ]
     },
     "execution_count": 192,
     "metadata": {},
     "output_type": "execute_result"
    }
   ],
   "source": [
    "A1.shape, A2.shape, A3.shape"
   ]
  },
  {
   "cell_type": "code",
   "execution_count": 72,
   "metadata": {},
   "outputs": [],
   "source": [
    "shape = (2,3)\n",
    "A1 = np.ones(shape)"
   ]
  },
  {
   "cell_type": "code",
   "execution_count": 73,
   "metadata": {},
   "outputs": [
    {
     "data": {
      "text/plain": [
       "array([[0., 0.],\n",
       "       [0., 0.],\n",
       "       [0., 0.]])"
      ]
     },
     "execution_count": 73,
     "metadata": {},
     "output_type": "execute_result"
    }
   ],
   "source": [
    "shape = (3,2)\n",
    "A2 = np.zeros(shape)\n",
    "A2"
   ]
  },
  {
   "cell_type": "code",
   "execution_count": 74,
   "metadata": {},
   "outputs": [
    {
     "data": {
      "text/plain": [
       "array([[10, 10, 10],\n",
       "       [10, 10, 10],\n",
       "       [10, 10, 10]])"
      ]
     },
     "execution_count": 74,
     "metadata": {},
     "output_type": "execute_result"
    }
   ],
   "source": [
    "shape = (3,3)\n",
    "A3 = np.full(shape, 10)\n",
    "A3"
   ]
  },
  {
   "cell_type": "code",
   "execution_count": 86,
   "metadata": {},
   "outputs": [],
   "source": [
    "shape = (100, 100, 3)\n",
    "img = np.random.random(shape)\n",
    "img;"
   ]
  },
  {
   "cell_type": "code",
   "execution_count": 90,
   "metadata": {},
   "outputs": [
    {
     "data": {
      "text/plain": [
       "(100, 100, 3)"
      ]
     },
     "execution_count": 90,
     "metadata": {},
     "output_type": "execute_result"
    }
   ],
   "source": [
    "img.shape"
   ]
  },
  {
   "cell_type": "code",
   "execution_count": 94,
   "metadata": {},
   "outputs": [
    {
     "data": {
      "text/plain": [
       "(30000, 6.206742499847984e-06, 0.9999536639672453)"
      ]
     },
     "execution_count": 94,
     "metadata": {},
     "output_type": "execute_result"
    }
   ],
   "source": [
    "np.prod(img.shape), img.min(), img.max()"
   ]
  },
  {
   "cell_type": "code",
   "execution_count": 95,
   "metadata": {},
   "outputs": [
    {
     "data": {
      "text/plain": [
       "(100, 100, 3)"
      ]
     },
     "execution_count": 95,
     "metadata": {},
     "output_type": "execute_result"
    }
   ],
   "source": [
    "img * 255"
   ]
  },
  {
   "cell_type": "markdown",
   "metadata": {},
   "source": [
    "## Elementwise operation"
   ]
  },
  {
   "cell_type": "code",
   "execution_count": 97,
   "metadata": {},
   "outputs": [],
   "source": [
    "out = np.zeros_like(img)"
   ]
  },
  {
   "cell_type": "code",
   "execution_count": 103,
   "metadata": {},
   "outputs": [],
   "source": [
    "rows, cols, chans = img.shape\n",
    "count = 0\n",
    "for row in range(rows):\n",
    "    for col in range(cols):\n",
    "        for chan in range(chans):\n",
    "            count +=1\n",
    "            out[row][col][chan] = img[row][col][chan] * 255"
   ]
  },
  {
   "cell_type": "code",
   "execution_count": 112,
   "metadata": {},
   "outputs": [
    {
     "data": {
      "text/plain": [
       "<matplotlib.image.AxesImage at 0x221c3359be0>"
      ]
     },
     "execution_count": 112,
     "metadata": {},
     "output_type": "execute_result"
    },
    {
     "data": {
      "image/png": "[encoded data removed]",
      "text/plain": [
       "<Figure size 432x288 with 1 Axes>"
      ]
     },
     "metadata": {
      "needs_background": "light"
     },
     "output_type": "display_data"
    }
   ],
   "source": [
    "shape = (100,100)\n",
    "img = np.random.random(shape)\n",
    "out = (img * 255).astype(\"int\")\n",
    "plt.imshow(out, cmap)"
   ]
  },
  {
   "cell_type": "code",
   "execution_count": 121,
   "metadata": {},
   "outputs": [
    {
     "data": {
      "text/plain": [
       "array([[6, 7, 5, 8],\n",
       "       [8, 2, 1, 7]])"
      ]
     },
     "execution_count": 121,
     "metadata": {},
     "output_type": "execute_result"
    }
   ],
   "source": [
    "np.random.seed(40)\n",
    "shape = (2,4)\n",
    "A = np.random.randint(0, 10, shape)\n",
    "A"
   ]
  },
  {
   "cell_type": "code",
   "execution_count": 122,
   "metadata": {},
   "outputs": [
    {
     "data": {
      "text/plain": [
       "array([[7, 8, 6, 9],\n",
       "       [9, 3, 2, 8]])"
      ]
     },
     "execution_count": 122,
     "metadata": {},
     "output_type": "execute_result"
    }
   ],
   "source": [
    "A + 1"
   ]
  },
  {
   "cell_type": "code",
   "execution_count": 123,
   "metadata": {},
   "outputs": [
    {
     "data": {
      "text/plain": [
       "array([[5, 6, 4, 7],\n",
       "       [7, 1, 0, 6]])"
      ]
     },
     "execution_count": 123,
     "metadata": {},
     "output_type": "execute_result"
    }
   ],
   "source": [
    "A - 1"
   ]
  },
  {
   "cell_type": "code",
   "execution_count": 124,
   "metadata": {},
   "outputs": [
    {
     "data": {
      "text/plain": [
       "array([[12, 14, 10, 16],\n",
       "       [16,  4,  2, 14]])"
      ]
     },
     "execution_count": 124,
     "metadata": {},
     "output_type": "execute_result"
    }
   ],
   "source": [
    "A * 2"
   ]
  },
  {
   "cell_type": "code",
   "execution_count": 125,
   "metadata": {},
   "outputs": [
    {
     "data": {
      "text/plain": [
       "array([[3. , 3.5, 2.5, 4. ],\n",
       "       [4. , 1. , 0.5, 3.5]])"
      ]
     },
     "execution_count": 125,
     "metadata": {},
     "output_type": "execute_result"
    }
   ],
   "source": [
    "A / 2"
   ]
  },
  {
   "cell_type": "code",
   "execution_count": null,
   "metadata": {},
   "outputs": [],
   "source": [
    "m1 = np.ones((2,3))\n",
    "m2 = np.full((2,4) , 5)\n",
    "\n",
    "m = np.random.randint(0,5, (2,3))\n",
    "v = np.array([1,2,3])\n",
    "\n",
    "v1 =\n",
    "v2 = \n",
    "\n",
    "np.matmul(?, ?)\n",
    "np.dot(?, ?)\n",
    "? @ ?"
   ]
  },
  {
   "cell_type": "code",
   "execution_count": 133,
   "metadata": {},
   "outputs": [
    {
     "data": {
      "text/plain": [
       "((3, 2), (2, 4))"
      ]
     },
     "execution_count": 133,
     "metadata": {},
     "output_type": "execute_result"
    }
   ],
   "source": [
    "m1 = np.ones((2,3))\n",
    "m2 = np.full((2,4) , 5)\n",
    "\n",
    "m1.T.shape, m2.shape\n",
    "#assert m1.shape[-1] ==m2.shape[0], \"Cannot do matmul. please check shapes..\"\n",
    "# m1 @ m2"
   ]
  },
  {
   "cell_type": "code",
   "execution_count": 148,
   "metadata": {},
   "outputs": [
    {
     "data": {
      "text/plain": [
       "array([ True,  True])"
      ]
     },
     "execution_count": 148,
     "metadata": {},
     "output_type": "execute_result"
    }
   ],
   "source": [
    "m = np.random.randint(0,5, (2,3))\n",
    "v = np.array([1,2,3])\n",
    "\n",
    "m @ v == np.dot(m, v)"
   ]
  },
  {
   "cell_type": "code",
   "execution_count": 151,
   "metadata": {},
   "outputs": [],
   "source": [
    "v2 = np.array([1,2,3])\n",
    "v1 = np.array([0,1,300])"
   ]
  },
  {
   "cell_type": "code",
   "execution_count": 152,
   "metadata": {},
   "outputs": [
    {
     "data": {
      "text/plain": [
       "902"
      ]
     },
     "execution_count": 152,
     "metadata": {},
     "output_type": "execute_result"
    }
   ],
   "source": [
    "np.dot(v1,v2)"
   ]
  },
  {
   "cell_type": "code",
   "execution_count": 146,
   "metadata": {},
   "outputs": [
    {
     "data": {
      "text/plain": [
       "((2, 3), (3,))"
      ]
     },
     "execution_count": 146,
     "metadata": {},
     "output_type": "execute_result"
    }
   ],
   "source": [
    "m.shape, v.shape"
   ]
  },
  {
   "cell_type": "code",
   "execution_count": 142,
   "metadata": {},
   "outputs": [
    {
     "data": {
      "text/plain": [
       "array([[10., 10., 10., 10.],\n",
       "       [10., 10., 10., 10.],\n",
       "       [10., 10., 10., 10.]])"
      ]
     },
     "execution_count": 142,
     "metadata": {},
     "output_type": "execute_result"
    }
   ],
   "source": [
    "m1.T @ m2"
   ]
  },
  {
   "cell_type": "code",
   "execution_count": 144,
   "metadata": {},
   "outputs": [
    {
     "data": {
      "text/plain": [
       "array([[ True,  True,  True,  True],\n",
       "       [ True,  True,  True,  True],\n",
       "       [ True,  True,  True,  True]])"
      ]
     },
     "execution_count": 144,
     "metadata": {},
     "output_type": "execute_result"
    }
   ],
   "source": [
    "m1.T @ m2 == np.dot(m1.T, m2)"
   ]
  },
  {
   "cell_type": "code",
   "execution_count": 141,
   "metadata": {},
   "outputs": [
    {
     "data": {
      "text/plain": [
       "array([[False, False, False, False],\n",
       "       [False, False, False, False],\n",
       "       [False, False, False, False]])"
      ]
     },
     "execution_count": 141,
     "metadata": {},
     "output_type": "execute_result"
    }
   ],
   "source": [
    "(np.dot(m1.T, m2) == np.matmul(m1.T, m2))  == (m1.T @ m2)"
   ]
  },
  {
   "cell_type": "code",
   "execution_count": null,
   "metadata": {},
   "outputs": [],
   "source": [
    "# cond for matmul\n",
    "f.shape , s.shape\n",
    "(2,3)     (3,10)\n",
    "\n",
    "f @ s\n",
    "np.matmul(f,s)\n",
    "np.dot(f,s)\n"
   ]
  },
  {
   "cell_type": "code",
   "execution_count": null,
   "metadata": {},
   "outputs": [],
   "source": []
  },
  {
   "cell_type": "code",
   "execution_count": 113,
   "metadata": {},
   "outputs": [],
   "source": [
    "# img[0][0][0], out[0][0][0]\n",
    "# img[0][0][0], out[0, 0, 0]"
   ]
  },
  {
   "cell_type": "code",
   "execution_count": 108,
   "metadata": {},
   "outputs": [],
   "source": [
    "out = out.astype('int')"
   ]
  },
  {
   "cell_type": "code",
   "execution_count": 109,
   "metadata": {},
   "outputs": [
    {
     "data": {
      "text/plain": [
       "<matplotlib.image.AxesImage at 0x221c1e01860>"
      ]
     },
     "execution_count": 109,
     "metadata": {},
     "output_type": "execute_result"
    },
    {
     "data": {
      "image/png": "[encoded data removed]",
      "text/plain": [
       "<Figure size 432x288 with 1 Axes>"
      ]
     },
     "metadata": {
      "needs_background": "light"
     },
     "output_type": "display_data"
    }
   ],
   "source": [
    "import matplotlib.pyplot as plt\n",
    "plt.imshow( out )"
   ]
  },
  {
   "cell_type": "code",
   "execution_count": 158,
   "metadata": {},
   "outputs": [],
   "source": [
    "def open_image_as_np(fname):\n",
    "    from PIL import Image\n",
    "    im = Image.open(fname)\n",
    "    im.convert(\"RGB\")\n",
    "    return np.array(im)"
   ]
  },
  {
   "cell_type": "code",
   "execution_count": 159,
   "metadata": {},
   "outputs": [
    {
     "name": "stdout",
     "output_type": "stream",
     "text": [
      "100% [..............................................................................] 65760 / 65760"
     ]
    },
    {
     "data": {
      "text/plain": [
       "'why-cats-are-best-pets-1559241235 (1).jpg'"
      ]
     },
     "execution_count": 159,
     "metadata": {},
     "output_type": "execute_result"
    }
   ],
   "source": [
    "url = \"https://hips.hearstapps.com/hmg-prod.s3.amazonaws.com/images/why-cats-are-best-pets-1559241235.jpg?crop=0.586xw:0.880xh;0.0684xw,0.0611xh&resize=640:*\"\n",
    "import wget\n",
    "wget.download(url)"
   ]
  },
  {
   "cell_type": "code",
   "execution_count": 160,
   "metadata": {},
   "outputs": [
    {
     "data": {
      "text/plain": [
       "(641, 640, 3)"
      ]
     },
     "execution_count": 160,
     "metadata": {},
     "output_type": "execute_result"
    }
   ],
   "source": [
    "fname= 'why-cats-are-best-pets-1559241235.jpg'\n",
    "img = open_image_as_np(fname)\n",
    "img.shape"
   ]
  },
  {
   "cell_type": "code",
   "execution_count": 165,
   "metadata": {},
   "outputs": [],
   "source": [
    "# img [   ? , ? , ?]\n",
    "\n",
    "r = img[  :  , : , 0 ]\n",
    "g = img[  :  , : , 1 ]\n",
    "b = img[  :  , : , 2 ]"
   ]
  },
  {
   "cell_type": "code",
   "execution_count": 166,
   "metadata": {},
   "outputs": [
    {
     "data": {
      "text/plain": [
       "((641, 640), (641, 640), (641, 640))"
      ]
     },
     "execution_count": 166,
     "metadata": {},
     "output_type": "execute_result"
    }
   ],
   "source": [
    "r.shape, g.shape, b.shape"
   ]
  },
  {
   "cell_type": "code",
   "execution_count": 172,
   "metadata": {},
   "outputs": [
    {
     "data": {
      "image/png": "[encoded data removed]",
      "text/plain": [
       "<Figure size 720x360 with 3 Axes>"
      ]
     },
     "metadata": {
      "needs_background": "light"
     },
     "output_type": "display_data"
    }
   ],
   "source": [
    "fig,ax = plt.subplots(1, 3, figsize=(10,5))\n",
    "ax[0].imshow(r, cmap=\"gray\")\n",
    "ax[1].imshow(g, cmap=\"gray\")\n",
    "ax[2].imshow(b, cmap=\"gray\")\n",
    "plt.show()"
   ]
  },
  {
   "cell_type": "code",
   "execution_count": 174,
   "metadata": {},
   "outputs": [
    {
     "data": {
      "text/plain": [
       "<matplotlib.image.AxesImage at 0x221c5f9b320>"
      ]
     },
     "execution_count": 174,
     "metadata": {},
     "output_type": "execute_result"
    },
    {
     "data": {
      "image/png": "[encoded data removed]",
      "text/plain": [
       "<Figure size 432x288 with 1 Axes>"
      ]
     },
     "metadata": {
      "needs_background": "light"
     },
     "output_type": "display_data"
    }
   ],
   "source": [
    "plt.imshow(img)"
   ]
  },
  {
   "cell_type": "code",
   "execution_count": 178,
   "metadata": {},
   "outputs": [],
   "source": [
    "face = img [100:300 , 300:500 , :]"
   ]
  },
  {
   "cell_type": "code",
   "execution_count": 180,
   "metadata": {},
   "outputs": [
    {
     "data": {
      "text/plain": [
       "(200, 200, 3)"
      ]
     },
     "execution_count": 180,
     "metadata": {},
     "output_type": "execute_result"
    }
   ],
   "source": [
    "face.shape"
   ]
  },
  {
   "cell_type": "code",
   "execution_count": 182,
   "metadata": {},
   "outputs": [],
   "source": [
    "import pickle\n",
    "faceb = pickle.dumps(face)\n",
    "with open(\"face.pkl\", \"wb\") as f:\n",
    "    f.write(faceb)"
   ]
  },
  {
   "cell_type": "code",
   "execution_count": 184,
   "metadata": {},
   "outputs": [],
   "source": []
  },
  {
   "cell_type": "code",
   "execution_count": 187,
   "metadata": {},
   "outputs": [],
   "source": [
    "pklfname = \"face.pkl\"\n",
    "import pickle\n",
    "with open(pklfname, \"rb\") as f:\n",
    "    datab = pickle.load(f)"
   ]
  },
  {
   "cell_type": "code",
   "execution_count": 189,
   "metadata": {},
   "outputs": [
    {
     "data": {
      "text/plain": [
       "<matplotlib.image.AxesImage at 0x221c657b668>"
      ]
     },
     "execution_count": 189,
     "metadata": {},
     "output_type": "execute_result"
    },
    {
     "data": {
      "image/png": "[encoded data removed]",
      "text/plain": [
       "<Figure size 432x288 with 1 Axes>"
      ]
     },
     "metadata": {
      "needs_background": "light"
     },
     "output_type": "display_data"
    }
   ],
   "source": [
    "plt.imshow(datab)"
   ]
  },
  {
   "cell_type": "code",
   "execution_count": null,
   "metadata": {},
   "outputs": [],
   "source": [
    "# img."
   ]
  },
  {
   "cell_type": "code",
   "execution_count": 190,
   "metadata": {},
   "outputs": [],
   "source": [
    "# pd.DataFrame\n",
    "# pd.Series (ndarray)\n",
    "\n",
    "# df.mean()\n",
    "# df.age.mean(), df.price.mean()"
   ]
  },
  {
   "cell_type": "markdown",
   "metadata": {},
   "source": [
    "# show slicing syntax"
   ]
  },
  {
   "cell_type": "code",
   "execution_count": 164,
   "metadata": {},
   "outputs": [
    {
     "data": {
      "text/plain": [
       "<matplotlib.image.AxesImage at 0x221c390d438>"
      ]
     },
     "execution_count": 164,
     "metadata": {},
     "output_type": "execute_result"
    },
    {
     "data": {
      "image/png": "[encoded data removed]",
      "text/plain": [
       "<Figure size 432x288 with 1 Axes>"
      ]
     },
     "metadata": {
      "needs_background": "light"
     },
     "output_type": "display_data"
    }
   ],
   "source": [
    "plt.imshow(img)\n",
    "plt.show()"
   ]
  },
  {
   "cell_type": "code",
   "execution_count": null,
   "metadata": {},
   "outputs": [],
   "source": []
  },
  {
   "cell_type": "code",
   "execution_count": 197,
   "metadata": {},
   "outputs": [],
   "source": [
    "# pd.DataFrame\n",
    "# pd.Series (ndarray)"
   ]
  },
  {
   "cell_type": "code",
   "execution_count": 198,
   "metadata": {},
   "outputs": [],
   "source": [
    "import pandas as pd"
   ]
  },
  {
   "cell_type": "code",
   "execution_count": 249,
   "metadata": {},
   "outputs": [],
   "source": [
    "df = pd.read_excel(r\"C:\\Users\\balap\\Desktop\\teaching\\pydot25\\03-Data Analysis np-pandas-matplotlib\\pandas.xlsx\", \n",
    "                  )"
   ]
  },
  {
   "cell_type": "code",
   "execution_count": 253,
   "metadata": {},
   "outputs": [
    {
     "data": {
      "text/plain": [
       "Index(['name', 'age'], dtype='object')"
      ]
     },
     "execution_count": 253,
     "metadata": {},
     "output_type": "execute_result"
    }
   ],
   "source": [
    "df.columns"
   ]
  },
  {
   "cell_type": "code",
   "execution_count": 254,
   "metadata": {},
   "outputs": [],
   "source": [
    "df.columns = [\"name\", \"age\"]"
   ]
  },
  {
   "cell_type": "code",
   "execution_count": 258,
   "metadata": {},
   "outputs": [
    {
     "data": {
      "text/plain": [
       "Index(['name', 'age'], dtype='object')"
      ]
     },
     "execution_count": 258,
     "metadata": {},
     "output_type": "execute_result"
    }
   ],
   "source": [
    "df.columns  = ??"
   ]
  },
  {
   "cell_type": "code",
   "execution_count": 247,
   "metadata": {},
   "outputs": [],
   "source": [
    "df.columns = ['name',\"age\"]"
   ]
  },
  {
   "cell_type": "code",
   "execution_count": 263,
   "metadata": {},
   "outputs": [
    {
     "data": {
      "text/html": [
       "<div>\n",
       "<style scoped>\n",
       "    .dataframe tbody tr th:only-of-type {\n",
       "        vertical-align: middle;\n",
       "    }\n",
       "\n",
       "    .dataframe tbody tr th {\n",
       "        vertical-align: top;\n",
       "    }\n",
       "\n",
       "    .dataframe thead th {\n",
       "        text-align: right;\n",
       "    }\n",
       "</style>\n",
       "<table border=\"1\" class=\"dataframe\">\n",
       "  <thead>\n",
       "    <tr style=\"text-align: right;\">\n",
       "      <th></th>\n",
       "      <th>name</th>\n",
       "      <th>age</th>\n",
       "    </tr>\n",
       "  </thead>\n",
       "  <tbody>\n",
       "    <tr>\n",
       "      <th>0</th>\n",
       "      <td>ken</td>\n",
       "      <td>40</td>\n",
       "    </tr>\n",
       "  </tbody>\n",
       "</table>\n",
       "</div>"
      ],
      "text/plain": [
       "  name  age\n",
       "0  ken   40"
      ]
     },
     "execution_count": 263,
     "metadata": {},
     "output_type": "execute_result"
    }
   ],
   "source": [
    "df.sort_values(\"age\",ascending=False ).head(1)"
   ]
  },
  {
   "cell_type": "code",
   "execution_count": 235,
   "metadata": {},
   "outputs": [
    {
     "data": {
      "text/plain": [
       "<matplotlib.axes._subplots.AxesSubplot at 0x221cc58c5c0>"
      ]
     },
     "execution_count": 235,
     "metadata": {},
     "output_type": "execute_result"
    },
    {
     "data": {
      "image/png": "[encoded data removed]",
      "text/plain": [
       "<Figure size 432x288 with 1 Axes>"
      ]
     },
     "metadata": {
      "needs_background": "light"
     },
     "output_type": "display_data"
    }
   ],
   "source": [
    "df.name.value_counts().plot(kind=\"bar\")"
   ]
  },
  {
   "cell_type": "code",
   "execution_count": 231,
   "metadata": {},
   "outputs": [
    {
     "data": {
      "text/plain": [
       "bala    2\n",
       "tom     1\n",
       "ken     1\n",
       "Name: name, dtype: int64"
      ]
     },
     "execution_count": 231,
     "metadata": {},
     "output_type": "execute_result"
    }
   ],
   "source": [
    "ser"
   ]
  },
  {
   "cell_type": "code",
   "execution_count": 220,
   "metadata": {},
   "outputs": [
    {
     "data": {
      "text/plain": [
       "0    3\n",
       "1    4\n",
       "2    3\n",
       "Name: name, dtype: int64"
      ]
     },
     "execution_count": 220,
     "metadata": {},
     "output_type": "execute_result"
    }
   ],
   "source": [
    "res= df.name.str.len()\n",
    "res"
   ]
  },
  {
   "cell_type": "code",
   "execution_count": 221,
   "metadata": {},
   "outputs": [
    {
     "data": {
      "text/plain": [
       "<matplotlib.axes._subplots.AxesSubplot at 0x221cc1bff60>"
      ]
     },
     "execution_count": 221,
     "metadata": {},
     "output_type": "execute_result"
    },
    {
     "data": {
      "image/png": "[encoded data removed]",
      "text/plain": [
       "<Figure size 432x288 with 1 Axes>"
      ]
     },
     "metadata": {
      "needs_background": "light"
     },
     "output_type": "display_data"
    }
   ],
   "source": [
    "res.plot(kind=\"bar\")"
   ]
  },
  {
   "cell_type": "code",
   "execution_count": 214,
   "metadata": {},
   "outputs": [
    {
     "data": {
      "text/plain": [
       "<matplotlib.axes._subplots.AxesSubplot at 0x221cc0c8630>"
      ]
     },
     "execution_count": 214,
     "metadata": {},
     "output_type": "execute_result"
    },
    {
     "data": {
      "image/png": "[encoded data removed]",
      "text/plain": [
       "<Figure size 432x288 with 1 Axes>"
      ]
     },
     "metadata": {
      "needs_background": "light"
     },
     "output_type": "display_data"
    }
   ],
   "source": [
    "df.age.plot(kind=\"bar\")"
   ]
  },
  {
   "cell_type": "code",
   "execution_count": 215,
   "metadata": {},
   "outputs": [
    {
     "data": {
      "text/plain": [
       "<matplotlib.axes._subplots.AxesSubplot at 0x221cc09ec50>"
      ]
     },
     "execution_count": 215,
     "metadata": {},
     "output_type": "execute_result"
    },
    {
     "data": {
      "image/png": "[encoded data removed]",
      "text/plain": [
       "<Figure size 432x288 with 1 Axes>"
      ]
     },
     "metadata": {},
     "output_type": "display_data"
    }
   ],
   "source": [
    "df.age.plot(kind=\"pie\")"
   ]
  },
  {
   "cell_type": "code",
   "execution_count": 216,
   "metadata": {},
   "outputs": [
    {
     "data": {
      "text/plain": [
       "<matplotlib.axes._subplots.AxesSubplot at 0x221cc15ec88>"
      ]
     },
     "execution_count": 216,
     "metadata": {},
     "output_type": "execute_result"
    },
    {
     "data": {
      "image/png": "[encoded data removed]",
      "text/plain": [
       "<Figure size 432x288 with 1 Axes>"
      ]
     },
     "metadata": {
      "needs_background": "light"
     },
     "output_type": "display_data"
    }
   ],
   "source": [
    "df.age.plot(kind=\"barh\")"
   ]
  },
  {
   "cell_type": "code",
   "execution_count": 201,
   "metadata": {},
   "outputs": [
    {
     "data": {
      "text/plain": [
       "age    32.333333\n",
       "dtype: float64"
      ]
     },
     "execution_count": 201,
     "metadata": {},
     "output_type": "execute_result"
    }
   ],
   "source": [
    "df.mean()"
   ]
  },
  {
   "cell_type": "code",
   "execution_count": 202,
   "metadata": {},
   "outputs": [
    {
     "data": {
      "text/plain": [
       "0     ken\n",
       "1    bala\n",
       "2     tom\n",
       "Name: name, dtype: object"
      ]
     },
     "execution_count": 202,
     "metadata": {},
     "output_type": "execute_result"
    }
   ],
   "source": [
    "df.name"
   ]
  },
  {
   "cell_type": "code",
   "execution_count": 208,
   "metadata": {},
   "outputs": [
    {
     "data": {
      "text/plain": [
       "0     ken\n",
       "1    bala\n",
       "2     tom\n",
       "Name: name, dtype: object"
      ]
     },
     "execution_count": 208,
     "metadata": {},
     "output_type": "execute_result"
    }
   ],
   "source": [
    "df[\"name\"]"
   ]
  },
  {
   "cell_type": "code",
   "execution_count": 209,
   "metadata": {},
   "outputs": [
    {
     "data": {
      "text/html": [
       "<div>\n",
       "<style scoped>\n",
       "    .dataframe tbody tr th:only-of-type {\n",
       "        vertical-align: middle;\n",
       "    }\n",
       "\n",
       "    .dataframe tbody tr th {\n",
       "        vertical-align: top;\n",
       "    }\n",
       "\n",
       "    .dataframe thead th {\n",
       "        text-align: right;\n",
       "    }\n",
       "</style>\n",
       "<table border=\"1\" class=\"dataframe\">\n",
       "  <thead>\n",
       "    <tr style=\"text-align: right;\">\n",
       "      <th></th>\n",
       "      <th>name</th>\n",
       "    </tr>\n",
       "  </thead>\n",
       "  <tbody>\n",
       "    <tr>\n",
       "      <th>0</th>\n",
       "      <td>ken</td>\n",
       "    </tr>\n",
       "    <tr>\n",
       "      <th>1</th>\n",
       "      <td>bala</td>\n",
       "    </tr>\n",
       "    <tr>\n",
       "      <th>2</th>\n",
       "      <td>tom</td>\n",
       "    </tr>\n",
       "  </tbody>\n",
       "</table>\n",
       "</div>"
      ],
      "text/plain": [
       "   name\n",
       "0   ken\n",
       "1  bala\n",
       "2   tom"
      ]
     },
     "execution_count": 209,
     "metadata": {},
     "output_type": "execute_result"
    }
   ],
   "source": [
    "df[[\"name\"]]"
   ]
  },
  {
   "cell_type": "code",
   "execution_count": null,
   "metadata": {},
   "outputs": [],
   "source": [
    "# select one column from df\n",
    "\n",
    "df.col\n",
    "df[\"col\"]\n",
    "\n",
    "# ser vs df\n",
    "\n",
    "# ser.plot() # make sure the values are some number..."
   ]
  },
  {
   "cell_type": "code",
   "execution_count": null,
   "metadata": {},
   "outputs": [],
   "source": []
  },
  {
   "cell_type": "code",
   "execution_count": null,
   "metadata": {},
   "outputs": [],
   "source": []
  },
  {
   "cell_type": "markdown",
   "metadata": {},
   "source": [
    "---\n",
    "\n",
    "- Deep dive into Pandas\n",
    "\n",
    "    - Load data into DataFrame\n",
    "        - csv\n",
    "        - excell\n",
    "        - json\n",
    "        ...\n",
    "        - sql\n",
    "        - mongodb"
   ]
  },
  {
   "cell_type": "markdown",
   "metadata": {},
   "source": [
    "---\n",
    "- Check columns & its data types \n",
    "\n",
    "- If cleaning is needed , do clean the dataframe  - NAN , NULL\n",
    "    - Drop empty rows,\n",
    "    - Drop rows with improper values..\n",
    "    - patch it with mean.. median.. (depends on the column..)"
   ]
  },
  {
   "cell_type": "markdown",
   "metadata": {},
   "source": [
    "- Explore the dataframe.. \n",
    "    - checkout unique values in some columns / each columns\n",
    "    - Visualize (not covered today.. tomorrow)"
   ]
  },
  {
   "cell_type": "markdown",
   "metadata": {},
   "source": [
    "- Filter out records\n",
    "    - based on some condition\n",
    "    - Select all rows...\n",
    "    - Select some rows & columns\n",
    "    - do some operation based on that..\n",
    "\n",
    "- Transform one / many columns to some new columns..\n",
    "    - add new columns\n",
    "    - delete an existing column\n",
    "    - update an existing columns\n",
    "    - combine two columns to make a new column\n",
    "    - Apply some custom transformation (Advanced... )\n",
    "\n",
    "- Filter records based on groups\n",
    "    - Group BY (Advanced... )"
   ]
  },
  {
   "cell_type": "markdown",
   "metadata": {},
   "source": [
    "---\n",
    "- Save DataFrame back to files (csv...)\n",
    "- Visualize (not covered today.. tomorrow)\n",
    "\n",
    "- Workshop"
   ]
  },
  {
   "cell_type": "markdown",
   "metadata": {},
   "source": [
    "## Datasets...."
   ]
  },
  {
   "cell_type": "code",
   "execution_count": 270,
   "metadata": {},
   "outputs": [],
   "source": [
    "avocado_csv_fname = r\"C:\\Users\\balap\\Downloads\\avocado.csv\""
   ]
  },
  {
   "cell_type": "code",
   "execution_count": 271,
   "metadata": {},
   "outputs": [],
   "source": [
    "import pandas as pd"
   ]
  },
  {
   "cell_type": "code",
   "execution_count": 347,
   "metadata": {},
   "outputs": [],
   "source": [
    "df = pd.read_csv(avocado_csv_fname, parse_dates=True, infer_datetime_format=True)\n",
    "df.columns = [\"tmpcol\"] + list(df.columns[1:])\n",
    "\n",
    "# del df[\"tmpcol\"]\n",
    "df.drop(columns=[\"tmpcol\"], inplace=True)"
   ]
  },
  {
   "cell_type": "code",
   "execution_count": 349,
   "metadata": {},
   "outputs": [
    {
     "data": {
      "text/plain": [
       "Date             object\n",
       "AveragePrice    float64\n",
       "Total Volume    float64\n",
       "4046            float64\n",
       "4225            float64\n",
       "4770            float64\n",
       "Total Bags      float64\n",
       "Small Bags      float64\n",
       "Large Bags      float64\n",
       "XLarge Bags     float64\n",
       "type             object\n",
       "year              int64\n",
       "region           object\n",
       "dtype: object"
      ]
     },
     "execution_count": 349,
     "metadata": {},
     "output_type": "execute_result"
    }
   ],
   "source": [
    "df.dtypes"
   ]
  },
  {
   "cell_type": "code",
   "execution_count": 350,
   "metadata": {},
   "outputs": [
    {
     "data": {
      "text/html": [
       "<div>\n",
       "<style scoped>\n",
       "    .dataframe tbody tr th:only-of-type {\n",
       "        vertical-align: middle;\n",
       "    }\n",
       "\n",
       "    .dataframe tbody tr th {\n",
       "        vertical-align: top;\n",
       "    }\n",
       "\n",
       "    .dataframe thead th {\n",
       "        text-align: right;\n",
       "    }\n",
       "</style>\n",
       "<table border=\"1\" class=\"dataframe\">\n",
       "  <thead>\n",
       "    <tr style=\"text-align: right;\">\n",
       "      <th></th>\n",
       "      <th>Date</th>\n",
       "      <th>AveragePrice</th>\n",
       "      <th>Total Volume</th>\n",
       "      <th>4046</th>\n",
       "      <th>4225</th>\n",
       "      <th>4770</th>\n",
       "      <th>Total Bags</th>\n",
       "      <th>Small Bags</th>\n",
       "      <th>Large Bags</th>\n",
       "      <th>XLarge Bags</th>\n",
       "      <th>type</th>\n",
       "      <th>year</th>\n",
       "      <th>region</th>\n",
       "    </tr>\n",
       "  </thead>\n",
       "  <tbody>\n",
       "    <tr>\n",
       "      <th>0</th>\n",
       "      <td>2015-12-27</td>\n",
       "      <td>1.33</td>\n",
       "      <td>64236.62</td>\n",
       "      <td>1036.74</td>\n",
       "      <td>54454.85</td>\n",
       "      <td>48.16</td>\n",
       "      <td>8696.87</td>\n",
       "      <td>8603.62</td>\n",
       "      <td>93.25</td>\n",
       "      <td>0.0</td>\n",
       "      <td>conventional</td>\n",
       "      <td>2015</td>\n",
       "      <td>Albany</td>\n",
       "    </tr>\n",
       "    <tr>\n",
       "      <th>1</th>\n",
       "      <td>2015-12-20</td>\n",
       "      <td>1.35</td>\n",
       "      <td>54876.98</td>\n",
       "      <td>674.28</td>\n",
       "      <td>44638.81</td>\n",
       "      <td>58.33</td>\n",
       "      <td>9505.56</td>\n",
       "      <td>9408.07</td>\n",
       "      <td>97.49</td>\n",
       "      <td>0.0</td>\n",
       "      <td>conventional</td>\n",
       "      <td>2015</td>\n",
       "      <td>Albany</td>\n",
       "    </tr>\n",
       "  </tbody>\n",
       "</table>\n",
       "</div>"
      ],
      "text/plain": [
       "         Date  AveragePrice  Total Volume     4046      4225   4770  \\\n",
       "0  2015-12-27          1.33      64236.62  1036.74  54454.85  48.16   \n",
       "1  2015-12-20          1.35      54876.98   674.28  44638.81  58.33   \n",
       "\n",
       "   Total Bags  Small Bags  Large Bags  XLarge Bags          type  year  region  \n",
       "0     8696.87     8603.62       93.25          0.0  conventional  2015  Albany  \n",
       "1     9505.56     9408.07       97.49          0.0  conventional  2015  Albany  "
      ]
     },
     "execution_count": 350,
     "metadata": {},
     "output_type": "execute_result"
    }
   ],
   "source": [
    "df.head(2)"
   ]
  },
  {
   "cell_type": "code",
   "execution_count": 351,
   "metadata": {},
   "outputs": [
    {
     "data": {
      "text/plain": [
       "array(['conventional', 'organic'], dtype=object)"
      ]
     },
     "execution_count": 351,
     "metadata": {},
     "output_type": "execute_result"
    }
   ],
   "source": [
    "df.type.unique()"
   ]
  },
  {
   "cell_type": "code",
   "execution_count": 354,
   "metadata": {},
   "outputs": [
    {
     "data": {
      "text/plain": [
       "array(['Albany', 'Atlanta', 'BaltimoreWashington', 'Boise', 'Boston',\n",
       "       'BuffaloRochester', 'California', 'Charlotte', 'Chicago',\n",
       "       'CincinnatiDayton', 'Columbus', 'DallasFtWorth', 'Denver',\n",
       "       'Detroit', 'GrandRapids', 'GreatLakes', 'HarrisburgScranton',\n",
       "       'HartfordSpringfield', 'Houston', 'Indianapolis', 'Jacksonville',\n",
       "       'LasVegas', 'LosAngeles', 'Louisville', 'MiamiFtLauderdale',\n",
       "       'Midsouth', 'Nashville', 'NewOrleansMobile', 'NewYork',\n",
       "       'Northeast', 'NorthernNewEngland', 'Orlando', 'Philadelphia',\n",
       "       'PhoenixTucson', 'Pittsburgh', 'Plains', 'Portland',\n",
       "       'RaleighGreensboro', 'RichmondNorfolk', 'Roanoke', 'Sacramento',\n",
       "       'SanDiego', 'SanFrancisco', 'Seattle', 'SouthCarolina',\n",
       "       'SouthCentral', 'Southeast', 'Spokane', 'StLouis', 'Syracuse',\n",
       "       'Tampa', 'TotalUS', 'West', 'WestTexNewMexico'], dtype=object)"
      ]
     },
     "execution_count": 354,
     "metadata": {},
     "output_type": "execute_result"
    }
   ],
   "source": [
    "df.region.unique()"
   ]
  },
  {
   "cell_type": "code",
   "execution_count": 355,
   "metadata": {},
   "outputs": [
    {
     "data": {
      "text/plain": [
       "Date             object\n",
       "AveragePrice    float64\n",
       "Total Volume    float64\n",
       "4046            float64\n",
       "4225            float64\n",
       "4770            float64\n",
       "Total Bags      float64\n",
       "Small Bags      float64\n",
       "Large Bags      float64\n",
       "XLarge Bags     float64\n",
       "type             object\n",
       "year              int64\n",
       "region           object\n",
       "dtype: object"
      ]
     },
     "execution_count": 355,
     "metadata": {},
     "output_type": "execute_result"
    }
   ],
   "source": [
    "df.dtypes"
   ]
  },
  {
   "cell_type": "code",
   "execution_count": 358,
   "metadata": {},
   "outputs": [],
   "source": [
    "#create a new column named date_dt , \n",
    "df[\"date_dt\"] = pd.to_datetime(df.Date)"
   ]
  },
  {
   "cell_type": "code",
   "execution_count": 359,
   "metadata": {},
   "outputs": [
    {
     "data": {
      "text/html": [
       "<div>\n",
       "<style scoped>\n",
       "    .dataframe tbody tr th:only-of-type {\n",
       "        vertical-align: middle;\n",
       "    }\n",
       "\n",
       "    .dataframe tbody tr th {\n",
       "        vertical-align: top;\n",
       "    }\n",
       "\n",
       "    .dataframe thead th {\n",
       "        text-align: right;\n",
       "    }\n",
       "</style>\n",
       "<table border=\"1\" class=\"dataframe\">\n",
       "  <thead>\n",
       "    <tr style=\"text-align: right;\">\n",
       "      <th></th>\n",
       "      <th>Date</th>\n",
       "      <th>AveragePrice</th>\n",
       "      <th>Total Volume</th>\n",
       "      <th>4046</th>\n",
       "      <th>4225</th>\n",
       "      <th>4770</th>\n",
       "      <th>Total Bags</th>\n",
       "      <th>Small Bags</th>\n",
       "      <th>Large Bags</th>\n",
       "      <th>XLarge Bags</th>\n",
       "      <th>type</th>\n",
       "      <th>year</th>\n",
       "      <th>region</th>\n",
       "      <th>date_dt</th>\n",
       "    </tr>\n",
       "  </thead>\n",
       "  <tbody>\n",
       "    <tr>\n",
       "      <th>0</th>\n",
       "      <td>2015-12-27</td>\n",
       "      <td>1.33</td>\n",
       "      <td>64236.62</td>\n",
       "      <td>1036.74</td>\n",
       "      <td>54454.85</td>\n",
       "      <td>48.16</td>\n",
       "      <td>8696.87</td>\n",
       "      <td>8603.62</td>\n",
       "      <td>93.25</td>\n",
       "      <td>0.0</td>\n",
       "      <td>conventional</td>\n",
       "      <td>2015</td>\n",
       "      <td>Albany</td>\n",
       "      <td>2015-12-27</td>\n",
       "    </tr>\n",
       "    <tr>\n",
       "      <th>1</th>\n",
       "      <td>2015-12-20</td>\n",
       "      <td>1.35</td>\n",
       "      <td>54876.98</td>\n",
       "      <td>674.28</td>\n",
       "      <td>44638.81</td>\n",
       "      <td>58.33</td>\n",
       "      <td>9505.56</td>\n",
       "      <td>9408.07</td>\n",
       "      <td>97.49</td>\n",
       "      <td>0.0</td>\n",
       "      <td>conventional</td>\n",
       "      <td>2015</td>\n",
       "      <td>Albany</td>\n",
       "      <td>2015-12-20</td>\n",
       "    </tr>\n",
       "  </tbody>\n",
       "</table>\n",
       "</div>"
      ],
      "text/plain": [
       "         Date  AveragePrice  Total Volume     4046      4225   4770  \\\n",
       "0  2015-12-27          1.33      64236.62  1036.74  54454.85  48.16   \n",
       "1  2015-12-20          1.35      54876.98   674.28  44638.81  58.33   \n",
       "\n",
       "   Total Bags  Small Bags  Large Bags  XLarge Bags          type  year  \\\n",
       "0     8696.87     8603.62       93.25          0.0  conventional  2015   \n",
       "1     9505.56     9408.07       97.49          0.0  conventional  2015   \n",
       "\n",
       "   region    date_dt  \n",
       "0  Albany 2015-12-27  \n",
       "1  Albany 2015-12-20  "
      ]
     },
     "execution_count": 359,
     "metadata": {},
     "output_type": "execute_result"
    }
   ],
   "source": [
    "df.head(2)"
   ]
  },
  {
   "cell_type": "code",
   "execution_count": 376,
   "metadata": {},
   "outputs": [],
   "source": [
    "df[\"month\"]= df.date_dt.dt.month_name()"
   ]
  },
  {
   "cell_type": "code",
   "execution_count": 378,
   "metadata": {},
   "outputs": [],
   "source": [
    "# df.head(2)"
   ]
  },
  {
   "cell_type": "code",
   "execution_count": 379,
   "metadata": {},
   "outputs": [],
   "source": [
    "# a.day_name();\n",
    "# a.month;\n",
    "# a.month_name()"
   ]
  },
  {
   "cell_type": "code",
   "execution_count": 380,
   "metadata": {},
   "outputs": [
    {
     "data": {
      "text/html": [
       "<div>\n",
       "<style scoped>\n",
       "    .dataframe tbody tr th:only-of-type {\n",
       "        vertical-align: middle;\n",
       "    }\n",
       "\n",
       "    .dataframe tbody tr th {\n",
       "        vertical-align: top;\n",
       "    }\n",
       "\n",
       "    .dataframe thead th {\n",
       "        text-align: right;\n",
       "    }\n",
       "</style>\n",
       "<table border=\"1\" class=\"dataframe\">\n",
       "  <thead>\n",
       "    <tr style=\"text-align: right;\">\n",
       "      <th></th>\n",
       "      <th>Date</th>\n",
       "      <th>AveragePrice</th>\n",
       "      <th>Total Volume</th>\n",
       "      <th>4046</th>\n",
       "      <th>4225</th>\n",
       "      <th>4770</th>\n",
       "      <th>Total Bags</th>\n",
       "      <th>Small Bags</th>\n",
       "      <th>Large Bags</th>\n",
       "      <th>XLarge Bags</th>\n",
       "      <th>type</th>\n",
       "      <th>year</th>\n",
       "      <th>region</th>\n",
       "      <th>date_dt</th>\n",
       "      <th>month</th>\n",
       "    </tr>\n",
       "  </thead>\n",
       "  <tbody>\n",
       "    <tr>\n",
       "      <th>0</th>\n",
       "      <td>2015-12-27</td>\n",
       "      <td>1.33</td>\n",
       "      <td>64236.62</td>\n",
       "      <td>1036.74</td>\n",
       "      <td>54454.85</td>\n",
       "      <td>48.16</td>\n",
       "      <td>8696.87</td>\n",
       "      <td>8603.62</td>\n",
       "      <td>93.25</td>\n",
       "      <td>0.0</td>\n",
       "      <td>conventional</td>\n",
       "      <td>2015</td>\n",
       "      <td>Albany</td>\n",
       "      <td>2015-12-27</td>\n",
       "      <td>December</td>\n",
       "    </tr>\n",
       "    <tr>\n",
       "      <th>1</th>\n",
       "      <td>2015-12-20</td>\n",
       "      <td>1.35</td>\n",
       "      <td>54876.98</td>\n",
       "      <td>674.28</td>\n",
       "      <td>44638.81</td>\n",
       "      <td>58.33</td>\n",
       "      <td>9505.56</td>\n",
       "      <td>9408.07</td>\n",
       "      <td>97.49</td>\n",
       "      <td>0.0</td>\n",
       "      <td>conventional</td>\n",
       "      <td>2015</td>\n",
       "      <td>Albany</td>\n",
       "      <td>2015-12-20</td>\n",
       "      <td>December</td>\n",
       "    </tr>\n",
       "  </tbody>\n",
       "</table>\n",
       "</div>"
      ],
      "text/plain": [
       "         Date  AveragePrice  Total Volume     4046      4225   4770  \\\n",
       "0  2015-12-27          1.33      64236.62  1036.74  54454.85  48.16   \n",
       "1  2015-12-20          1.35      54876.98   674.28  44638.81  58.33   \n",
       "\n",
       "   Total Bags  Small Bags  Large Bags  XLarge Bags          type  year  \\\n",
       "0     8696.87     8603.62       93.25          0.0  conventional  2015   \n",
       "1     9505.56     9408.07       97.49          0.0  conventional  2015   \n",
       "\n",
       "   region    date_dt     month  \n",
       "0  Albany 2015-12-27  December  \n",
       "1  Albany 2015-12-20  December  "
      ]
     },
     "execution_count": 380,
     "metadata": {},
     "output_type": "execute_result"
    }
   ],
   "source": [
    "df.head(2)"
   ]
  },
  {
   "cell_type": "markdown",
   "metadata": {},
   "source": [
    "## Selecting rows & columns"
   ]
  },
  {
   "cell_type": "code",
   "execution_count": null,
   "metadata": {},
   "outputs": [],
   "source": [
    "df.loc\n",
    "\n",
    "\n",
    "df.iloc\n",
    "img [:, :, :]"
   ]
  },
  {
   "cell_type": "code",
   "execution_count": 382,
   "metadata": {},
   "outputs": [
    {
     "data": {
      "text/html": [
       "<div>\n",
       "<style scoped>\n",
       "    .dataframe tbody tr th:only-of-type {\n",
       "        vertical-align: middle;\n",
       "    }\n",
       "\n",
       "    .dataframe tbody tr th {\n",
       "        vertical-align: top;\n",
       "    }\n",
       "\n",
       "    .dataframe thead th {\n",
       "        text-align: right;\n",
       "    }\n",
       "</style>\n",
       "<table border=\"1\" class=\"dataframe\">\n",
       "  <thead>\n",
       "    <tr style=\"text-align: right;\">\n",
       "      <th></th>\n",
       "      <th>Date</th>\n",
       "      <th>AveragePrice</th>\n",
       "      <th>Total Volume</th>\n",
       "      <th>4046</th>\n",
       "      <th>4225</th>\n",
       "      <th>4770</th>\n",
       "      <th>Total Bags</th>\n",
       "      <th>Small Bags</th>\n",
       "      <th>Large Bags</th>\n",
       "      <th>XLarge Bags</th>\n",
       "      <th>type</th>\n",
       "      <th>year</th>\n",
       "      <th>region</th>\n",
       "      <th>date_dt</th>\n",
       "      <th>month</th>\n",
       "    </tr>\n",
       "  </thead>\n",
       "  <tbody>\n",
       "    <tr>\n",
       "      <th>0</th>\n",
       "      <td>2015-12-27</td>\n",
       "      <td>1.33</td>\n",
       "      <td>64236.62</td>\n",
       "      <td>1036.74</td>\n",
       "      <td>54454.85</td>\n",
       "      <td>48.16</td>\n",
       "      <td>8696.87</td>\n",
       "      <td>8603.62</td>\n",
       "      <td>93.25</td>\n",
       "      <td>0.0</td>\n",
       "      <td>conventional</td>\n",
       "      <td>2015</td>\n",
       "      <td>Albany</td>\n",
       "      <td>2015-12-27</td>\n",
       "      <td>December</td>\n",
       "    </tr>\n",
       "    <tr>\n",
       "      <th>1</th>\n",
       "      <td>2015-12-20</td>\n",
       "      <td>1.35</td>\n",
       "      <td>54876.98</td>\n",
       "      <td>674.28</td>\n",
       "      <td>44638.81</td>\n",
       "      <td>58.33</td>\n",
       "      <td>9505.56</td>\n",
       "      <td>9408.07</td>\n",
       "      <td>97.49</td>\n",
       "      <td>0.0</td>\n",
       "      <td>conventional</td>\n",
       "      <td>2015</td>\n",
       "      <td>Albany</td>\n",
       "      <td>2015-12-20</td>\n",
       "      <td>December</td>\n",
       "    </tr>\n",
       "  </tbody>\n",
       "</table>\n",
       "</div>"
      ],
      "text/plain": [
       "         Date  AveragePrice  Total Volume     4046      4225   4770  \\\n",
       "0  2015-12-27          1.33      64236.62  1036.74  54454.85  48.16   \n",
       "1  2015-12-20          1.35      54876.98   674.28  44638.81  58.33   \n",
       "\n",
       "   Total Bags  Small Bags  Large Bags  XLarge Bags          type  year  \\\n",
       "0     8696.87     8603.62       93.25          0.0  conventional  2015   \n",
       "1     9505.56     9408.07       97.49          0.0  conventional  2015   \n",
       "\n",
       "   region    date_dt     month  \n",
       "0  Albany 2015-12-27  December  \n",
       "1  Albany 2015-12-20  December  "
      ]
     },
     "execution_count": 382,
     "metadata": {},
     "output_type": "execute_result"
    }
   ],
   "source": [
    "df.head(2)"
   ]
  },
  {
   "cell_type": "code",
   "execution_count": 383,
   "metadata": {},
   "outputs": [
    {
     "data": {
      "text/plain": [
       "'2015-12-27'"
      ]
     },
     "execution_count": 383,
     "metadata": {},
     "output_type": "execute_result"
    }
   ],
   "source": [
    "df.iloc[ 0 , 0]\n",
    "# df.iloc[ 0 , :2]"
   ]
  },
  {
   "cell_type": "code",
   "execution_count": 384,
   "metadata": {},
   "outputs": [
    {
     "data": {
      "text/plain": [
       "Date            2015-12-27\n",
       "AveragePrice          1.33\n",
       "Name: 0, dtype: object"
      ]
     },
     "execution_count": 384,
     "metadata": {},
     "output_type": "execute_result"
    }
   ],
   "source": [
    "df.iloc[ 0 , :2]"
   ]
  },
  {
   "cell_type": "code",
   "execution_count": 385,
   "metadata": {},
   "outputs": [
    {
     "data": {
      "text/html": [
       "<div>\n",
       "<style scoped>\n",
       "    .dataframe tbody tr th:only-of-type {\n",
       "        vertical-align: middle;\n",
       "    }\n",
       "\n",
       "    .dataframe tbody tr th {\n",
       "        vertical-align: top;\n",
       "    }\n",
       "\n",
       "    .dataframe thead th {\n",
       "        text-align: right;\n",
       "    }\n",
       "</style>\n",
       "<table border=\"1\" class=\"dataframe\">\n",
       "  <thead>\n",
       "    <tr style=\"text-align: right;\">\n",
       "      <th></th>\n",
       "      <th>Date</th>\n",
       "      <th>AveragePrice</th>\n",
       "    </tr>\n",
       "  </thead>\n",
       "  <tbody>\n",
       "    <tr>\n",
       "      <th>0</th>\n",
       "      <td>2015-12-27</td>\n",
       "      <td>1.33</td>\n",
       "    </tr>\n",
       "    <tr>\n",
       "      <th>1</th>\n",
       "      <td>2015-12-20</td>\n",
       "      <td>1.35</td>\n",
       "    </tr>\n",
       "  </tbody>\n",
       "</table>\n",
       "</div>"
      ],
      "text/plain": [
       "         Date  AveragePrice\n",
       "0  2015-12-27          1.33\n",
       "1  2015-12-20          1.35"
      ]
     },
     "execution_count": 385,
     "metadata": {},
     "output_type": "execute_result"
    }
   ],
   "source": [
    "df.iloc [ :2, :2]"
   ]
  },
  {
   "cell_type": "code",
   "execution_count": 386,
   "metadata": {},
   "outputs": [
    {
     "data": {
      "text/html": [
       "<div>\n",
       "<style scoped>\n",
       "    .dataframe tbody tr th:only-of-type {\n",
       "        vertical-align: middle;\n",
       "    }\n",
       "\n",
       "    .dataframe tbody tr th {\n",
       "        vertical-align: top;\n",
       "    }\n",
       "\n",
       "    .dataframe thead th {\n",
       "        text-align: right;\n",
       "    }\n",
       "</style>\n",
       "<table border=\"1\" class=\"dataframe\">\n",
       "  <thead>\n",
       "    <tr style=\"text-align: right;\">\n",
       "      <th></th>\n",
       "      <th>month</th>\n",
       "      <th>AveragePrice</th>\n",
       "    </tr>\n",
       "  </thead>\n",
       "  <tbody>\n",
       "    <tr>\n",
       "      <th>0</th>\n",
       "      <td>December</td>\n",
       "      <td>1.33</td>\n",
       "    </tr>\n",
       "    <tr>\n",
       "      <th>1</th>\n",
       "      <td>December</td>\n",
       "      <td>1.35</td>\n",
       "    </tr>\n",
       "  </tbody>\n",
       "</table>\n",
       "</div>"
      ],
      "text/plain": [
       "      month  AveragePrice\n",
       "0  December          1.33\n",
       "1  December          1.35"
      ]
     },
     "execution_count": 386,
     "metadata": {},
     "output_type": "execute_result"
    }
   ],
   "source": [
    "df.iloc[ :2, [-1, 1] ]"
   ]
  },
  {
   "cell_type": "code",
   "execution_count": 387,
   "metadata": {},
   "outputs": [
    {
     "data": {
      "text/html": [
       "<div>\n",
       "<style scoped>\n",
       "    .dataframe tbody tr th:only-of-type {\n",
       "        vertical-align: middle;\n",
       "    }\n",
       "\n",
       "    .dataframe tbody tr th {\n",
       "        vertical-align: top;\n",
       "    }\n",
       "\n",
       "    .dataframe thead th {\n",
       "        text-align: right;\n",
       "    }\n",
       "</style>\n",
       "<table border=\"1\" class=\"dataframe\">\n",
       "  <thead>\n",
       "    <tr style=\"text-align: right;\">\n",
       "      <th></th>\n",
       "      <th>Date</th>\n",
       "      <th>AveragePrice</th>\n",
       "      <th>Total Volume</th>\n",
       "      <th>4046</th>\n",
       "      <th>4225</th>\n",
       "      <th>4770</th>\n",
       "      <th>Total Bags</th>\n",
       "      <th>Small Bags</th>\n",
       "      <th>Large Bags</th>\n",
       "      <th>XLarge Bags</th>\n",
       "      <th>type</th>\n",
       "      <th>year</th>\n",
       "      <th>region</th>\n",
       "      <th>date_dt</th>\n",
       "      <th>month</th>\n",
       "    </tr>\n",
       "  </thead>\n",
       "  <tbody>\n",
       "    <tr>\n",
       "      <th>0</th>\n",
       "      <td>2015-12-27</td>\n",
       "      <td>1.33</td>\n",
       "      <td>64236.62</td>\n",
       "      <td>1036.74</td>\n",
       "      <td>54454.85</td>\n",
       "      <td>48.16</td>\n",
       "      <td>8696.87</td>\n",
       "      <td>8603.62</td>\n",
       "      <td>93.25</td>\n",
       "      <td>0.0</td>\n",
       "      <td>conventional</td>\n",
       "      <td>2015</td>\n",
       "      <td>Albany</td>\n",
       "      <td>2015-12-27</td>\n",
       "      <td>December</td>\n",
       "    </tr>\n",
       "    <tr>\n",
       "      <th>1</th>\n",
       "      <td>2015-12-20</td>\n",
       "      <td>1.35</td>\n",
       "      <td>54876.98</td>\n",
       "      <td>674.28</td>\n",
       "      <td>44638.81</td>\n",
       "      <td>58.33</td>\n",
       "      <td>9505.56</td>\n",
       "      <td>9408.07</td>\n",
       "      <td>97.49</td>\n",
       "      <td>0.0</td>\n",
       "      <td>conventional</td>\n",
       "      <td>2015</td>\n",
       "      <td>Albany</td>\n",
       "      <td>2015-12-20</td>\n",
       "      <td>December</td>\n",
       "    </tr>\n",
       "  </tbody>\n",
       "</table>\n",
       "</div>"
      ],
      "text/plain": [
       "         Date  AveragePrice  Total Volume     4046      4225   4770  \\\n",
       "0  2015-12-27          1.33      64236.62  1036.74  54454.85  48.16   \n",
       "1  2015-12-20          1.35      54876.98   674.28  44638.81  58.33   \n",
       "\n",
       "   Total Bags  Small Bags  Large Bags  XLarge Bags          type  year  \\\n",
       "0     8696.87     8603.62       93.25          0.0  conventional  2015   \n",
       "1     9505.56     9408.07       97.49          0.0  conventional  2015   \n",
       "\n",
       "   region    date_dt     month  \n",
       "0  Albany 2015-12-27  December  \n",
       "1  Albany 2015-12-20  December  "
      ]
     },
     "execution_count": 387,
     "metadata": {},
     "output_type": "execute_result"
    }
   ],
   "source": [
    "df.head(2)"
   ]
  },
  {
   "cell_type": "code",
   "execution_count": 399,
   "metadata": {},
   "outputs": [
    {
     "data": {
      "text/html": [
       "<div>\n",
       "<style scoped>\n",
       "    .dataframe tbody tr th:only-of-type {\n",
       "        vertical-align: middle;\n",
       "    }\n",
       "\n",
       "    .dataframe tbody tr th {\n",
       "        vertical-align: top;\n",
       "    }\n",
       "\n",
       "    .dataframe thead th {\n",
       "        text-align: right;\n",
       "    }\n",
       "</style>\n",
       "<table border=\"1\" class=\"dataframe\">\n",
       "  <thead>\n",
       "    <tr style=\"text-align: right;\">\n",
       "      <th></th>\n",
       "      <th>month</th>\n",
       "      <th>AveragePrice</th>\n",
       "    </tr>\n",
       "  </thead>\n",
       "  <tbody>\n",
       "    <tr>\n",
       "      <th>0</th>\n",
       "      <td>December</td>\n",
       "      <td>1.33</td>\n",
       "    </tr>\n",
       "    <tr>\n",
       "      <th>1</th>\n",
       "      <td>December</td>\n",
       "      <td>1.35</td>\n",
       "    </tr>\n",
       "    <tr>\n",
       "      <th>2</th>\n",
       "      <td>December</td>\n",
       "      <td>0.93</td>\n",
       "    </tr>\n",
       "  </tbody>\n",
       "</table>\n",
       "</div>"
      ],
      "text/plain": [
       "      month  AveragePrice\n",
       "0  December          1.33\n",
       "1  December          1.35\n",
       "2  December          0.93"
      ]
     },
     "execution_count": 399,
     "metadata": {},
     "output_type": "execute_result"
    }
   ],
   "source": [
    "#loc will include ending index\n",
    "df.loc[ :2, [\"month\", \"AveragePrice\"] ]\n",
    "\n",
    "\n",
    "#loc will include ending index\n",
    "df.loc[ :2, df.columns[:2] ]"
   ]
  },
  {
   "cell_type": "code",
   "execution_count": 401,
   "metadata": {},
   "outputs": [
    {
     "data": {
      "text/plain": [
       "Index(['Date', 'AveragePrice'], dtype='object')"
      ]
     },
     "execution_count": 401,
     "metadata": {},
     "output_type": "execute_result"
    }
   ],
   "source": [
    "df.columns[:2]"
   ]
  },
  {
   "cell_type": "code",
   "execution_count": 393,
   "metadata": {},
   "outputs": [],
   "source": [
    "# df.loc[ : , [\"Date\", \"AveragePrice\", \"Total Volume\",\"Date\"] ]\n",
    "# df.loc[ : , \"Date\" : \"Total Volume\" ]"
   ]
  },
  {
   "cell_type": "code",
   "execution_count": 394,
   "metadata": {},
   "outputs": [
    {
     "data": {
      "text/html": [
       "<div>\n",
       "<style scoped>\n",
       "    .dataframe tbody tr th:only-of-type {\n",
       "        vertical-align: middle;\n",
       "    }\n",
       "\n",
       "    .dataframe tbody tr th {\n",
       "        vertical-align: top;\n",
       "    }\n",
       "\n",
       "    .dataframe thead th {\n",
       "        text-align: right;\n",
       "    }\n",
       "</style>\n",
       "<table border=\"1\" class=\"dataframe\">\n",
       "  <thead>\n",
       "    <tr style=\"text-align: right;\">\n",
       "      <th></th>\n",
       "      <th>Date</th>\n",
       "      <th>AveragePrice</th>\n",
       "      <th>Total Volume</th>\n",
       "      <th>4046</th>\n",
       "      <th>4225</th>\n",
       "      <th>4770</th>\n",
       "      <th>Total Bags</th>\n",
       "      <th>Small Bags</th>\n",
       "      <th>Large Bags</th>\n",
       "      <th>XLarge Bags</th>\n",
       "      <th>type</th>\n",
       "      <th>year</th>\n",
       "      <th>region</th>\n",
       "      <th>date_dt</th>\n",
       "      <th>month</th>\n",
       "    </tr>\n",
       "  </thead>\n",
       "  <tbody>\n",
       "    <tr>\n",
       "      <th>0</th>\n",
       "      <td>2015-12-27</td>\n",
       "      <td>1.33</td>\n",
       "      <td>64236.62</td>\n",
       "      <td>1036.74</td>\n",
       "      <td>54454.85</td>\n",
       "      <td>48.16</td>\n",
       "      <td>8696.87</td>\n",
       "      <td>8603.62</td>\n",
       "      <td>93.25</td>\n",
       "      <td>0.0</td>\n",
       "      <td>conventional</td>\n",
       "      <td>2015</td>\n",
       "      <td>Albany</td>\n",
       "      <td>2015-12-27</td>\n",
       "      <td>December</td>\n",
       "    </tr>\n",
       "    <tr>\n",
       "      <th>1</th>\n",
       "      <td>2015-12-20</td>\n",
       "      <td>1.35</td>\n",
       "      <td>54876.98</td>\n",
       "      <td>674.28</td>\n",
       "      <td>44638.81</td>\n",
       "      <td>58.33</td>\n",
       "      <td>9505.56</td>\n",
       "      <td>9408.07</td>\n",
       "      <td>97.49</td>\n",
       "      <td>0.0</td>\n",
       "      <td>conventional</td>\n",
       "      <td>2015</td>\n",
       "      <td>Albany</td>\n",
       "      <td>2015-12-20</td>\n",
       "      <td>December</td>\n",
       "    </tr>\n",
       "  </tbody>\n",
       "</table>\n",
       "</div>"
      ],
      "text/plain": [
       "         Date  AveragePrice  Total Volume     4046      4225   4770  \\\n",
       "0  2015-12-27          1.33      64236.62  1036.74  54454.85  48.16   \n",
       "1  2015-12-20          1.35      54876.98   674.28  44638.81  58.33   \n",
       "\n",
       "   Total Bags  Small Bags  Large Bags  XLarge Bags          type  year  \\\n",
       "0     8696.87     8603.62       93.25          0.0  conventional  2015   \n",
       "1     9505.56     9408.07       97.49          0.0  conventional  2015   \n",
       "\n",
       "   region    date_dt     month  \n",
       "0  Albany 2015-12-27  December  \n",
       "1  Albany 2015-12-20  December  "
      ]
     },
     "execution_count": 394,
     "metadata": {},
     "output_type": "execute_result"
    }
   ],
   "source": [
    "df.head(2)"
   ]
  },
  {
   "cell_type": "code",
   "execution_count": 398,
   "metadata": {},
   "outputs": [
    {
     "name": "stdout",
     "output_type": "stream",
     "text": [
      "0.96\n"
     ]
    }
   ],
   "source": [
    "# 100th record and its average price\n",
    "index = 99\n",
    "price = df.loc[ index , 'AveragePrice']\n",
    "price = df.iloc[ index , 1]\n",
    "print(price)"
   ]
  },
  {
   "cell_type": "markdown",
   "metadata": {},
   "source": [
    "## Masking\n",
    "## Filtering records from df"
   ]
  },
  {
   "cell_type": "code",
   "execution_count": 403,
   "metadata": {},
   "outputs": [
    {
     "data": {
      "text/html": [
       "<div>\n",
       "<style scoped>\n",
       "    .dataframe tbody tr th:only-of-type {\n",
       "        vertical-align: middle;\n",
       "    }\n",
       "\n",
       "    .dataframe tbody tr th {\n",
       "        vertical-align: top;\n",
       "    }\n",
       "\n",
       "    .dataframe thead th {\n",
       "        text-align: right;\n",
       "    }\n",
       "</style>\n",
       "<table border=\"1\" class=\"dataframe\">\n",
       "  <thead>\n",
       "    <tr style=\"text-align: right;\">\n",
       "      <th></th>\n",
       "      <th>Date</th>\n",
       "      <th>AveragePrice</th>\n",
       "      <th>Total Volume</th>\n",
       "      <th>4046</th>\n",
       "      <th>4225</th>\n",
       "      <th>4770</th>\n",
       "      <th>Total Bags</th>\n",
       "      <th>Small Bags</th>\n",
       "      <th>Large Bags</th>\n",
       "      <th>XLarge Bags</th>\n",
       "      <th>type</th>\n",
       "      <th>year</th>\n",
       "      <th>region</th>\n",
       "      <th>date_dt</th>\n",
       "      <th>month</th>\n",
       "    </tr>\n",
       "  </thead>\n",
       "  <tbody>\n",
       "    <tr>\n",
       "      <th>0</th>\n",
       "      <td>2015-12-27</td>\n",
       "      <td>1.33</td>\n",
       "      <td>64236.62</td>\n",
       "      <td>1036.74</td>\n",
       "      <td>54454.85</td>\n",
       "      <td>48.16</td>\n",
       "      <td>8696.87</td>\n",
       "      <td>8603.62</td>\n",
       "      <td>93.25</td>\n",
       "      <td>0.0</td>\n",
       "      <td>conventional</td>\n",
       "      <td>2015</td>\n",
       "      <td>Albany</td>\n",
       "      <td>2015-12-27</td>\n",
       "      <td>December</td>\n",
       "    </tr>\n",
       "    <tr>\n",
       "      <th>1</th>\n",
       "      <td>2015-12-20</td>\n",
       "      <td>1.35</td>\n",
       "      <td>54876.98</td>\n",
       "      <td>674.28</td>\n",
       "      <td>44638.81</td>\n",
       "      <td>58.33</td>\n",
       "      <td>9505.56</td>\n",
       "      <td>9408.07</td>\n",
       "      <td>97.49</td>\n",
       "      <td>0.0</td>\n",
       "      <td>conventional</td>\n",
       "      <td>2015</td>\n",
       "      <td>Albany</td>\n",
       "      <td>2015-12-20</td>\n",
       "      <td>December</td>\n",
       "    </tr>\n",
       "  </tbody>\n",
       "</table>\n",
       "</div>"
      ],
      "text/plain": [
       "         Date  AveragePrice  Total Volume     4046      4225   4770  \\\n",
       "0  2015-12-27          1.33      64236.62  1036.74  54454.85  48.16   \n",
       "1  2015-12-20          1.35      54876.98   674.28  44638.81  58.33   \n",
       "\n",
       "   Total Bags  Small Bags  Large Bags  XLarge Bags          type  year  \\\n",
       "0     8696.87     8603.62       93.25          0.0  conventional  2015   \n",
       "1     9505.56     9408.07       97.49          0.0  conventional  2015   \n",
       "\n",
       "   region    date_dt     month  \n",
       "0  Albany 2015-12-27  December  \n",
       "1  Albany 2015-12-20  December  "
      ]
     },
     "execution_count": 403,
     "metadata": {},
     "output_type": "execute_result"
    }
   ],
   "source": [
    "df.head(2)"
   ]
  },
  {
   "cell_type": "code",
   "execution_count": 404,
   "metadata": {},
   "outputs": [],
   "source": [
    "# Filter out records\n",
    "# based on some condition\n",
    "# Select all rows...\n",
    "# Select some rows & columns\n",
    "# do some operation based on that.."
   ]
  },
  {
   "cell_type": "code",
   "execution_count": null,
   "metadata": {},
   "outputs": [],
   "source": [
    "cond = ?\n",
    "boolean_mask\n",
    "\n",
    "df[boolean_mask]\n",
    "df[\"hello\"]\n",
    "df[[\"hello\", \"date\"]]"
   ]
  },
  {
   "cell_type": "code",
   "execution_count": 423,
   "metadata": {},
   "outputs": [
    {
     "data": {
      "text/plain": [
       "(18249, 9124.5)"
      ]
     },
     "execution_count": 423,
     "metadata": {},
     "output_type": "execute_result"
    }
   ],
   "source": [
    "len(df), len(df)/2"
   ]
  },
  {
   "cell_type": "code",
   "execution_count": 413,
   "metadata": {},
   "outputs": [],
   "source": [
    "# [True, False]\n",
    "\n",
    "mask = [True,False] * 9124"
   ]
  },
  {
   "cell_type": "code",
   "execution_count": 415,
   "metadata": {},
   "outputs": [],
   "source": [
    "mask = mask + [True]"
   ]
  },
  {
   "cell_type": "code",
   "execution_count": 424,
   "metadata": {},
   "outputs": [
    {
     "data": {
      "text/plain": [
       "(18249, 18249)"
      ]
     },
     "execution_count": 424,
     "metadata": {},
     "output_type": "execute_result"
    }
   ],
   "source": [
    "len(df), len(mask)"
   ]
  },
  {
   "cell_type": "code",
   "execution_count": 428,
   "metadata": {},
   "outputs": [
    {
     "data": {
      "text/plain": [
       "[True, False, True, False, True]"
      ]
     },
     "execution_count": 428,
     "metadata": {},
     "output_type": "execute_result"
    }
   ],
   "source": [
    "mask[:5]"
   ]
  },
  {
   "cell_type": "code",
   "execution_count": 430,
   "metadata": {},
   "outputs": [
    {
     "data": {
      "text/html": [
       "<div>\n",
       "<style scoped>\n",
       "    .dataframe tbody tr th:only-of-type {\n",
       "        vertical-align: middle;\n",
       "    }\n",
       "\n",
       "    .dataframe tbody tr th {\n",
       "        vertical-align: top;\n",
       "    }\n",
       "\n",
       "    .dataframe thead th {\n",
       "        text-align: right;\n",
       "    }\n",
       "</style>\n",
       "<table border=\"1\" class=\"dataframe\">\n",
       "  <thead>\n",
       "    <tr style=\"text-align: right;\">\n",
       "      <th></th>\n",
       "      <th>Date</th>\n",
       "      <th>AveragePrice</th>\n",
       "      <th>Total Volume</th>\n",
       "      <th>4046</th>\n",
       "      <th>4225</th>\n",
       "      <th>4770</th>\n",
       "      <th>Total Bags</th>\n",
       "      <th>Small Bags</th>\n",
       "      <th>Large Bags</th>\n",
       "      <th>XLarge Bags</th>\n",
       "      <th>type</th>\n",
       "      <th>year</th>\n",
       "      <th>region</th>\n",
       "      <th>date_dt</th>\n",
       "      <th>month</th>\n",
       "    </tr>\n",
       "  </thead>\n",
       "  <tbody>\n",
       "    <tr>\n",
       "      <th>0</th>\n",
       "      <td>2015-12-27</td>\n",
       "      <td>1.33</td>\n",
       "      <td>64236.62</td>\n",
       "      <td>1036.74</td>\n",
       "      <td>54454.85</td>\n",
       "      <td>48.16</td>\n",
       "      <td>8696.87</td>\n",
       "      <td>8603.62</td>\n",
       "      <td>93.25</td>\n",
       "      <td>0.0</td>\n",
       "      <td>conventional</td>\n",
       "      <td>2015</td>\n",
       "      <td>Albany</td>\n",
       "      <td>2015-12-27</td>\n",
       "      <td>December</td>\n",
       "    </tr>\n",
       "    <tr>\n",
       "      <th>1</th>\n",
       "      <td>2015-12-20</td>\n",
       "      <td>1.35</td>\n",
       "      <td>54876.98</td>\n",
       "      <td>674.28</td>\n",
       "      <td>44638.81</td>\n",
       "      <td>58.33</td>\n",
       "      <td>9505.56</td>\n",
       "      <td>9408.07</td>\n",
       "      <td>97.49</td>\n",
       "      <td>0.0</td>\n",
       "      <td>conventional</td>\n",
       "      <td>2015</td>\n",
       "      <td>Albany</td>\n",
       "      <td>2015-12-20</td>\n",
       "      <td>December</td>\n",
       "    </tr>\n",
       "  </tbody>\n",
       "</table>\n",
       "</div>"
      ],
      "text/plain": [
       "         Date  AveragePrice  Total Volume     4046      4225   4770  \\\n",
       "0  2015-12-27          1.33      64236.62  1036.74  54454.85  48.16   \n",
       "1  2015-12-20          1.35      54876.98   674.28  44638.81  58.33   \n",
       "\n",
       "   Total Bags  Small Bags  Large Bags  XLarge Bags          type  year  \\\n",
       "0     8696.87     8603.62       93.25          0.0  conventional  2015   \n",
       "1     9505.56     9408.07       97.49          0.0  conventional  2015   \n",
       "\n",
       "   region    date_dt     month  \n",
       "0  Albany 2015-12-27  December  \n",
       "1  Albany 2015-12-20  December  "
      ]
     },
     "execution_count": 430,
     "metadata": {},
     "output_type": "execute_result"
    }
   ],
   "source": [
    "df.head(2)"
   ]
  },
  {
   "cell_type": "code",
   "execution_count": 431,
   "metadata": {},
   "outputs": [
    {
     "data": {
      "text/plain": [
       "array(['Albany', 'Atlanta', 'BaltimoreWashington', 'Boise', 'Boston',\n",
       "       'BuffaloRochester', 'California', 'Charlotte', 'Chicago',\n",
       "       'CincinnatiDayton', 'Columbus', 'DallasFtWorth', 'Denver',\n",
       "       'Detroit', 'GrandRapids', 'GreatLakes', 'HarrisburgScranton',\n",
       "       'HartfordSpringfield', 'Houston', 'Indianapolis', 'Jacksonville',\n",
       "       'LasVegas', 'LosAngeles', 'Louisville', 'MiamiFtLauderdale',\n",
       "       'Midsouth', 'Nashville', 'NewOrleansMobile', 'NewYork',\n",
       "       'Northeast', 'NorthernNewEngland', 'Orlando', 'Philadelphia',\n",
       "       'PhoenixTucson', 'Pittsburgh', 'Plains', 'Portland',\n",
       "       'RaleighGreensboro', 'RichmondNorfolk', 'Roanoke', 'Sacramento',\n",
       "       'SanDiego', 'SanFrancisco', 'Seattle', 'SouthCarolina',\n",
       "       'SouthCentral', 'Southeast', 'Spokane', 'StLouis', 'Syracuse',\n",
       "       'Tampa', 'TotalUS', 'West', 'WestTexNewMexico'], dtype=object)"
      ]
     },
     "execution_count": 431,
     "metadata": {},
     "output_type": "execute_result"
    }
   ],
   "source": [
    "df.region.unique()"
   ]
  },
  {
   "cell_type": "code",
   "execution_count": 436,
   "metadata": {},
   "outputs": [
    {
     "data": {
      "text/plain": [
       "338"
      ]
     },
     "execution_count": 436,
     "metadata": {},
     "output_type": "execute_result"
    }
   ],
   "source": [
    "(df.region == \"Boston\").sum()"
   ]
  },
  {
   "cell_type": "code",
   "execution_count": 439,
   "metadata": {},
   "outputs": [
    {
     "data": {
      "text/plain": [
       "1403"
      ]
     },
     "execution_count": 439,
     "metadata": {},
     "output_type": "execute_result"
    }
   ],
   "source": [
    "(df.month == \"December\").sum()"
   ]
  },
  {
   "cell_type": "code",
   "execution_count": 442,
   "metadata": {},
   "outputs": [],
   "source": [
    "mask = df.region == \"Boston\" #select Boston for region\n",
    "mask2 = df.month == \"December\" #select December for month\n",
    "finalmask = mask & mask2 \n",
    "# & | ~\n",
    "\n",
    "res_df = df[finalmask].copy()"
   ]
  },
  {
   "cell_type": "code",
   "execution_count": 445,
   "metadata": {},
   "outputs": [],
   "source": [
    "# df [   (df.region == \"Boston\" ) & (df.month ==\"December\" ) ]"
   ]
  },
  {
   "cell_type": "code",
   "execution_count": 446,
   "metadata": {},
   "outputs": [],
   "source": [
    "## df.head()"
   ]
  },
  {
   "cell_type": "code",
   "execution_count": 447,
   "metadata": {},
   "outputs": [
    {
     "data": {
      "text/html": [
       "<div>\n",
       "<style scoped>\n",
       "    .dataframe tbody tr th:only-of-type {\n",
       "        vertical-align: middle;\n",
       "    }\n",
       "\n",
       "    .dataframe tbody tr th {\n",
       "        vertical-align: top;\n",
       "    }\n",
       "\n",
       "    .dataframe thead th {\n",
       "        text-align: right;\n",
       "    }\n",
       "</style>\n",
       "<table border=\"1\" class=\"dataframe\">\n",
       "  <thead>\n",
       "    <tr style=\"text-align: right;\">\n",
       "      <th></th>\n",
       "      <th>Date</th>\n",
       "      <th>AveragePrice</th>\n",
       "      <th>Total Volume</th>\n",
       "      <th>4046</th>\n",
       "      <th>4225</th>\n",
       "      <th>4770</th>\n",
       "      <th>Total Bags</th>\n",
       "      <th>Small Bags</th>\n",
       "      <th>Large Bags</th>\n",
       "      <th>XLarge Bags</th>\n",
       "      <th>type</th>\n",
       "      <th>year</th>\n",
       "      <th>region</th>\n",
       "      <th>date_dt</th>\n",
       "      <th>month</th>\n",
       "    </tr>\n",
       "  </thead>\n",
       "  <tbody>\n",
       "    <tr>\n",
       "      <th>0</th>\n",
       "      <td>2015-12-27</td>\n",
       "      <td>1.33</td>\n",
       "      <td>64236.62</td>\n",
       "      <td>1036.74</td>\n",
       "      <td>54454.85</td>\n",
       "      <td>48.16</td>\n",
       "      <td>8696.87</td>\n",
       "      <td>8603.62</td>\n",
       "      <td>93.25</td>\n",
       "      <td>0.0</td>\n",
       "      <td>conventional</td>\n",
       "      <td>2015</td>\n",
       "      <td>Albany</td>\n",
       "      <td>2015-12-27</td>\n",
       "      <td>December</td>\n",
       "    </tr>\n",
       "    <tr>\n",
       "      <th>1</th>\n",
       "      <td>2015-12-20</td>\n",
       "      <td>1.35</td>\n",
       "      <td>54876.98</td>\n",
       "      <td>674.28</td>\n",
       "      <td>44638.81</td>\n",
       "      <td>58.33</td>\n",
       "      <td>9505.56</td>\n",
       "      <td>9408.07</td>\n",
       "      <td>97.49</td>\n",
       "      <td>0.0</td>\n",
       "      <td>conventional</td>\n",
       "      <td>2015</td>\n",
       "      <td>Albany</td>\n",
       "      <td>2015-12-20</td>\n",
       "      <td>December</td>\n",
       "    </tr>\n",
       "  </tbody>\n",
       "</table>\n",
       "</div>"
      ],
      "text/plain": [
       "         Date  AveragePrice  Total Volume     4046      4225   4770  \\\n",
       "0  2015-12-27          1.33      64236.62  1036.74  54454.85  48.16   \n",
       "1  2015-12-20          1.35      54876.98   674.28  44638.81  58.33   \n",
       "\n",
       "   Total Bags  Small Bags  Large Bags  XLarge Bags          type  year  \\\n",
       "0     8696.87     8603.62       93.25          0.0  conventional  2015   \n",
       "1     9505.56     9408.07       97.49          0.0  conventional  2015   \n",
       "\n",
       "   region    date_dt     month  \n",
       "0  Albany 2015-12-27  December  \n",
       "1  Albany 2015-12-20  December  "
      ]
     },
     "execution_count": 447,
     "metadata": {},
     "output_type": "execute_result"
    }
   ],
   "source": [
    "df.head(2)"
   ]
  },
  {
   "cell_type": "code",
   "execution_count": 462,
   "metadata": {},
   "outputs": [
    {
     "data": {
      "text/plain": [
       "array(['conventional', 'organic'], dtype=object)"
      ]
     },
     "execution_count": 462,
     "metadata": {},
     "output_type": "execute_result"
    }
   ],
   "source": [
    "df.type.unique()"
   ]
  },
  {
   "cell_type": "code",
   "execution_count": 474,
   "metadata": {},
   "outputs": [
    {
     "data": {
      "text/html": [
       "<div>\n",
       "<style scoped>\n",
       "    .dataframe tbody tr th:only-of-type {\n",
       "        vertical-align: middle;\n",
       "    }\n",
       "\n",
       "    .dataframe tbody tr th {\n",
       "        vertical-align: top;\n",
       "    }\n",
       "\n",
       "    .dataframe thead th {\n",
       "        text-align: right;\n",
       "    }\n",
       "</style>\n",
       "<table border=\"1\" class=\"dataframe\">\n",
       "  <thead>\n",
       "    <tr style=\"text-align: right;\">\n",
       "      <th></th>\n",
       "      <th>date_dt</th>\n",
       "      <th>AveragePrice</th>\n",
       "    </tr>\n",
       "  </thead>\n",
       "  <tbody>\n",
       "    <tr>\n",
       "      <th>9126</th>\n",
       "      <td>2015-12-27</td>\n",
       "      <td>1.83</td>\n",
       "    </tr>\n",
       "    <tr>\n",
       "      <th>9127</th>\n",
       "      <td>2015-12-20</td>\n",
       "      <td>1.89</td>\n",
       "    </tr>\n",
       "    <tr>\n",
       "      <th>9128</th>\n",
       "      <td>2015-12-13</td>\n",
       "      <td>1.85</td>\n",
       "    </tr>\n",
       "    <tr>\n",
       "      <th>9129</th>\n",
       "      <td>2015-12-06</td>\n",
       "      <td>1.84</td>\n",
       "    </tr>\n",
       "    <tr>\n",
       "      <th>9130</th>\n",
       "      <td>2015-11-29</td>\n",
       "      <td>1.94</td>\n",
       "    </tr>\n",
       "  </tbody>\n",
       "</table>\n",
       "</div>"
      ],
      "text/plain": [
       "        date_dt  AveragePrice\n",
       "9126 2015-12-27          1.83\n",
       "9127 2015-12-20          1.89\n",
       "9128 2015-12-13          1.85\n",
       "9129 2015-12-06          1.84\n",
       "9130 2015-11-29          1.94"
      ]
     },
     "execution_count": 474,
     "metadata": {},
     "output_type": "execute_result"
    }
   ],
   "source": [
    "# plot the average_price for organic tye avoacondaw...\n",
    "\n",
    "\n",
    "mask = df.type == \"organic\"\n",
    "resdf = df[mask][['date_dt', \"AveragePrice\"]]\n",
    "resdf.head(5)"
   ]
  },
  {
   "cell_type": "code",
   "execution_count": 483,
   "metadata": {},
   "outputs": [
    {
     "data": {
      "text/plain": [
       "54"
      ]
     },
     "execution_count": 483,
     "metadata": {},
     "output_type": "execute_result"
    }
   ],
   "source": [
    "len(df.region.unique())"
   ]
  },
  {
   "cell_type": "code",
   "execution_count": 505,
   "metadata": {},
   "outputs": [
    {
     "data": {
      "text/html": [
       "<div>\n",
       "<style scoped>\n",
       "    .dataframe tbody tr th:only-of-type {\n",
       "        vertical-align: middle;\n",
       "    }\n",
       "\n",
       "    .dataframe tbody tr th {\n",
       "        vertical-align: top;\n",
       "    }\n",
       "\n",
       "    .dataframe thead th {\n",
       "        text-align: right;\n",
       "    }\n",
       "</style>\n",
       "<table border=\"1\" class=\"dataframe\">\n",
       "  <thead>\n",
       "    <tr style=\"text-align: right;\">\n",
       "      <th></th>\n",
       "      <th>Date</th>\n",
       "      <th>AveragePrice</th>\n",
       "      <th>Total Volume</th>\n",
       "      <th>4046</th>\n",
       "      <th>4225</th>\n",
       "      <th>4770</th>\n",
       "      <th>Total Bags</th>\n",
       "      <th>Small Bags</th>\n",
       "      <th>Large Bags</th>\n",
       "      <th>XLarge Bags</th>\n",
       "      <th>type</th>\n",
       "      <th>year</th>\n",
       "      <th>region</th>\n",
       "      <th>date_dt</th>\n",
       "      <th>month</th>\n",
       "    </tr>\n",
       "  </thead>\n",
       "  <tbody>\n",
       "    <tr>\n",
       "      <th>0</th>\n",
       "      <td>2015-12-27</td>\n",
       "      <td>1.33</td>\n",
       "      <td>64236.62</td>\n",
       "      <td>1036.74</td>\n",
       "      <td>54454.85</td>\n",
       "      <td>48.16</td>\n",
       "      <td>8696.87</td>\n",
       "      <td>8603.62</td>\n",
       "      <td>93.25</td>\n",
       "      <td>0.0</td>\n",
       "      <td>conventional</td>\n",
       "      <td>2015</td>\n",
       "      <td>Albany</td>\n",
       "      <td>2015-12-27</td>\n",
       "      <td>December</td>\n",
       "    </tr>\n",
       "    <tr>\n",
       "      <th>1</th>\n",
       "      <td>2015-12-20</td>\n",
       "      <td>1.35</td>\n",
       "      <td>54876.98</td>\n",
       "      <td>674.28</td>\n",
       "      <td>44638.81</td>\n",
       "      <td>58.33</td>\n",
       "      <td>9505.56</td>\n",
       "      <td>9408.07</td>\n",
       "      <td>97.49</td>\n",
       "      <td>0.0</td>\n",
       "      <td>conventional</td>\n",
       "      <td>2015</td>\n",
       "      <td>Albany</td>\n",
       "      <td>2015-12-20</td>\n",
       "      <td>December</td>\n",
       "    </tr>\n",
       "  </tbody>\n",
       "</table>\n",
       "</div>"
      ],
      "text/plain": [
       "         Date  AveragePrice  Total Volume     4046      4225   4770  \\\n",
       "0  2015-12-27          1.33      64236.62  1036.74  54454.85  48.16   \n",
       "1  2015-12-20          1.35      54876.98   674.28  44638.81  58.33   \n",
       "\n",
       "   Total Bags  Small Bags  Large Bags  XLarge Bags          type  year  \\\n",
       "0     8696.87     8603.62       93.25          0.0  conventional  2015   \n",
       "1     9505.56     9408.07       97.49          0.0  conventional  2015   \n",
       "\n",
       "   region    date_dt     month  \n",
       "0  Albany 2015-12-27  December  \n",
       "1  Albany 2015-12-20  December  "
      ]
     },
     "execution_count": 505,
     "metadata": {},
     "output_type": "execute_result"
    }
   ],
   "source": [
    "df.head(2)"
   ]
  },
  {
   "cell_type": "code",
   "execution_count": null,
   "metadata": {},
   "outputs": [],
   "source": [
    "df.type\n",
    "\n",
    "# date_dt vs AvgPrice"
   ]
  },
  {
   "cell_type": "code",
   "execution_count": 515,
   "metadata": {},
   "outputs": [],
   "source": [
    "df2 = df[['date_dt','type','AveragePrice']].copy()\n",
    "res = df2.groupby([\"type\", \"date_dt\"])['AveragePrice'].mean()"
   ]
  },
  {
   "cell_type": "code",
   "execution_count": 523,
   "metadata": {},
   "outputs": [],
   "source": [
    "o = res['organic']\n",
    "c = res['conventional']"
   ]
  },
  {
   "cell_type": "code",
   "execution_count": 528,
   "metadata": {},
   "outputs": [
    {
     "data": {
      "text/plain": [
       "<matplotlib.axes._subplots.AxesSubplot at 0x221dcac5080>"
      ]
     },
     "execution_count": 528,
     "metadata": {},
     "output_type": "execute_result"
    },
    {
     "data": {
      "image/png": "[encoded data removed]",
      "text/plain": [
       "<Figure size 432x288 with 1 Axes>"
      ]
     },
     "metadata": {
      "needs_background": "light"
     },
     "output_type": "display_data"
    }
   ],
   "source": [
    "c.plot()\n",
    "o.plot()"
   ]
  },
  {
   "cell_type": "code",
   "execution_count": 535,
   "metadata": {},
   "outputs": [
    {
     "data": {
      "text/plain": [
       "<matplotlib.axes._subplots.AxesSubplot at 0x221dc816588>"
      ]
     },
     "execution_count": 535,
     "metadata": {},
     "output_type": "execute_result"
    },
    {
     "data": {
      "image/png": "[encoded data removed]",
      "text/plain": [
       "<Figure size 720x360 with 1 Axes>"
      ]
     },
     "metadata": {
      "needs_background": "light"
     },
     "output_type": "display_data"
    }
   ],
   "source": [
    "import seaborn as sns\n",
    "resdf = res.reset_index()\n",
    "\n",
    "plt.figure(figsize=(10,5))\n",
    "sns.lineplot(x=\"date_dt\", y=\"AveragePrice\", data=resdf, hue=\"type\")"
   ]
  },
  {
   "cell_type": "code",
   "execution_count": 537,
   "metadata": {},
   "outputs": [],
   "source": [
    "# sns.heatmap()\n",
    "# df.head()"
   ]
  },
  {
   "cell_type": "code",
   "execution_count": 510,
   "metadata": {},
   "outputs": [
    {
     "data": {
      "text/html": [
       "<div>\n",
       "<style scoped>\n",
       "    .dataframe tbody tr th:only-of-type {\n",
       "        vertical-align: middle;\n",
       "    }\n",
       "\n",
       "    .dataframe tbody tr th {\n",
       "        vertical-align: top;\n",
       "    }\n",
       "\n",
       "    .dataframe thead th {\n",
       "        text-align: right;\n",
       "    }\n",
       "</style>\n",
       "<table border=\"1\" class=\"dataframe\">\n",
       "  <thead>\n",
       "    <tr style=\"text-align: right;\">\n",
       "      <th></th>\n",
       "      <th>region</th>\n",
       "      <th>month</th>\n",
       "      <th>AveragePrice</th>\n",
       "    </tr>\n",
       "  </thead>\n",
       "  <tbody>\n",
       "    <tr>\n",
       "      <th>0</th>\n",
       "      <td>Albany</td>\n",
       "      <td>April</td>\n",
       "      <td>1.548846</td>\n",
       "    </tr>\n",
       "    <tr>\n",
       "      <th>1</th>\n",
       "      <td>Albany</td>\n",
       "      <td>August</td>\n",
       "      <td>1.610385</td>\n",
       "    </tr>\n",
       "    <tr>\n",
       "      <th>2</th>\n",
       "      <td>Albany</td>\n",
       "      <td>December</td>\n",
       "      <td>1.545000</td>\n",
       "    </tr>\n",
       "    <tr>\n",
       "      <th>3</th>\n",
       "      <td>Albany</td>\n",
       "      <td>February</td>\n",
       "      <td>1.471563</td>\n",
       "    </tr>\n",
       "    <tr>\n",
       "      <th>4</th>\n",
       "      <td>Albany</td>\n",
       "      <td>January</td>\n",
       "      <td>1.538056</td>\n",
       "    </tr>\n",
       "    <tr>\n",
       "      <th>5</th>\n",
       "      <td>Albany</td>\n",
       "      <td>July</td>\n",
       "      <td>1.564643</td>\n",
       "    </tr>\n",
       "    <tr>\n",
       "      <th>6</th>\n",
       "      <td>Albany</td>\n",
       "      <td>June</td>\n",
       "      <td>1.626667</td>\n",
       "    </tr>\n",
       "    <tr>\n",
       "      <th>7</th>\n",
       "      <td>Albany</td>\n",
       "      <td>March</td>\n",
       "      <td>1.519118</td>\n",
       "    </tr>\n",
       "    <tr>\n",
       "      <th>8</th>\n",
       "      <td>Albany</td>\n",
       "      <td>May</td>\n",
       "      <td>1.580000</td>\n",
       "    </tr>\n",
       "    <tr>\n",
       "      <th>9</th>\n",
       "      <td>Albany</td>\n",
       "      <td>November</td>\n",
       "      <td>1.606923</td>\n",
       "    </tr>\n",
       "    <tr>\n",
       "      <th>10</th>\n",
       "      <td>Albany</td>\n",
       "      <td>October</td>\n",
       "      <td>1.567143</td>\n",
       "    </tr>\n",
       "    <tr>\n",
       "      <th>11</th>\n",
       "      <td>Albany</td>\n",
       "      <td>September</td>\n",
       "      <td>1.602500</td>\n",
       "    </tr>\n",
       "    <tr>\n",
       "      <th>12</th>\n",
       "      <td>Atlanta</td>\n",
       "      <td>April</td>\n",
       "      <td>1.285000</td>\n",
       "    </tr>\n",
       "    <tr>\n",
       "      <th>13</th>\n",
       "      <td>Atlanta</td>\n",
       "      <td>August</td>\n",
       "      <td>1.459231</td>\n",
       "    </tr>\n",
       "    <tr>\n",
       "      <th>14</th>\n",
       "      <td>Atlanta</td>\n",
       "      <td>December</td>\n",
       "      <td>1.272692</td>\n",
       "    </tr>\n",
       "    <tr>\n",
       "      <th>15</th>\n",
       "      <td>Atlanta</td>\n",
       "      <td>February</td>\n",
       "      <td>1.178437</td>\n",
       "    </tr>\n",
       "    <tr>\n",
       "      <th>16</th>\n",
       "      <td>Atlanta</td>\n",
       "      <td>January</td>\n",
       "      <td>1.351111</td>\n",
       "    </tr>\n",
       "    <tr>\n",
       "      <th>17</th>\n",
       "      <td>Atlanta</td>\n",
       "      <td>July</td>\n",
       "      <td>1.297857</td>\n",
       "    </tr>\n",
       "    <tr>\n",
       "      <th>18</th>\n",
       "      <td>Atlanta</td>\n",
       "      <td>June</td>\n",
       "      <td>1.156250</td>\n",
       "    </tr>\n",
       "    <tr>\n",
       "      <th>19</th>\n",
       "      <td>Atlanta</td>\n",
       "      <td>March</td>\n",
       "      <td>1.220000</td>\n",
       "    </tr>\n",
       "    <tr>\n",
       "      <th>20</th>\n",
       "      <td>Atlanta</td>\n",
       "      <td>May</td>\n",
       "      <td>1.264286</td>\n",
       "    </tr>\n",
       "    <tr>\n",
       "      <th>21</th>\n",
       "      <td>Atlanta</td>\n",
       "      <td>November</td>\n",
       "      <td>1.399231</td>\n",
       "    </tr>\n",
       "    <tr>\n",
       "      <th>22</th>\n",
       "      <td>Atlanta</td>\n",
       "      <td>October</td>\n",
       "      <td>1.599286</td>\n",
       "    </tr>\n",
       "    <tr>\n",
       "      <th>23</th>\n",
       "      <td>Atlanta</td>\n",
       "      <td>September</td>\n",
       "      <td>1.637917</td>\n",
       "    </tr>\n",
       "    <tr>\n",
       "      <th>24</th>\n",
       "      <td>BaltimoreWashington</td>\n",
       "      <td>April</td>\n",
       "      <td>1.578846</td>\n",
       "    </tr>\n",
       "    <tr>\n",
       "      <th>25</th>\n",
       "      <td>BaltimoreWashington</td>\n",
       "      <td>August</td>\n",
       "      <td>1.573846</td>\n",
       "    </tr>\n",
       "    <tr>\n",
       "      <th>26</th>\n",
       "      <td>BaltimoreWashington</td>\n",
       "      <td>December</td>\n",
       "      <td>1.476923</td>\n",
       "    </tr>\n",
       "    <tr>\n",
       "      <th>27</th>\n",
       "      <td>BaltimoreWashington</td>\n",
       "      <td>February</td>\n",
       "      <td>1.408438</td>\n",
       "    </tr>\n",
       "    <tr>\n",
       "      <th>28</th>\n",
       "      <td>BaltimoreWashington</td>\n",
       "      <td>January</td>\n",
       "      <td>1.403611</td>\n",
       "    </tr>\n",
       "    <tr>\n",
       "      <th>29</th>\n",
       "      <td>BaltimoreWashington</td>\n",
       "      <td>July</td>\n",
       "      <td>1.639643</td>\n",
       "    </tr>\n",
       "    <tr>\n",
       "      <th>...</th>\n",
       "      <td>...</td>\n",
       "      <td>...</td>\n",
       "      <td>...</td>\n",
       "    </tr>\n",
       "    <tr>\n",
       "      <th>618</th>\n",
       "      <td>TotalUS</td>\n",
       "      <td>June</td>\n",
       "      <td>1.337083</td>\n",
       "    </tr>\n",
       "    <tr>\n",
       "      <th>619</th>\n",
       "      <td>TotalUS</td>\n",
       "      <td>March</td>\n",
       "      <td>1.239118</td>\n",
       "    </tr>\n",
       "    <tr>\n",
       "      <th>620</th>\n",
       "      <td>TotalUS</td>\n",
       "      <td>May</td>\n",
       "      <td>1.254643</td>\n",
       "    </tr>\n",
       "    <tr>\n",
       "      <th>621</th>\n",
       "      <td>TotalUS</td>\n",
       "      <td>November</td>\n",
       "      <td>1.392692</td>\n",
       "    </tr>\n",
       "    <tr>\n",
       "      <th>622</th>\n",
       "      <td>TotalUS</td>\n",
       "      <td>October</td>\n",
       "      <td>1.521786</td>\n",
       "    </tr>\n",
       "    <tr>\n",
       "      <th>623</th>\n",
       "      <td>TotalUS</td>\n",
       "      <td>September</td>\n",
       "      <td>1.519167</td>\n",
       "    </tr>\n",
       "    <tr>\n",
       "      <th>624</th>\n",
       "      <td>West</td>\n",
       "      <td>April</td>\n",
       "      <td>1.096923</td>\n",
       "    </tr>\n",
       "    <tr>\n",
       "      <th>625</th>\n",
       "      <td>West</td>\n",
       "      <td>August</td>\n",
       "      <td>1.508846</td>\n",
       "    </tr>\n",
       "    <tr>\n",
       "      <th>626</th>\n",
       "      <td>West</td>\n",
       "      <td>December</td>\n",
       "      <td>1.140385</td>\n",
       "    </tr>\n",
       "    <tr>\n",
       "      <th>627</th>\n",
       "      <td>West</td>\n",
       "      <td>February</td>\n",
       "      <td>1.116875</td>\n",
       "    </tr>\n",
       "    <tr>\n",
       "      <th>628</th>\n",
       "      <td>West</td>\n",
       "      <td>January</td>\n",
       "      <td>1.130556</td>\n",
       "    </tr>\n",
       "    <tr>\n",
       "      <th>629</th>\n",
       "      <td>West</td>\n",
       "      <td>July</td>\n",
       "      <td>1.448214</td>\n",
       "    </tr>\n",
       "    <tr>\n",
       "      <th>630</th>\n",
       "      <td>West</td>\n",
       "      <td>June</td>\n",
       "      <td>1.291250</td>\n",
       "    </tr>\n",
       "    <tr>\n",
       "      <th>631</th>\n",
       "      <td>West</td>\n",
       "      <td>March</td>\n",
       "      <td>1.117353</td>\n",
       "    </tr>\n",
       "    <tr>\n",
       "      <th>632</th>\n",
       "      <td>West</td>\n",
       "      <td>May</td>\n",
       "      <td>1.122143</td>\n",
       "    </tr>\n",
       "    <tr>\n",
       "      <th>633</th>\n",
       "      <td>West</td>\n",
       "      <td>November</td>\n",
       "      <td>1.339231</td>\n",
       "    </tr>\n",
       "    <tr>\n",
       "      <th>634</th>\n",
       "      <td>West</td>\n",
       "      <td>October</td>\n",
       "      <td>1.541786</td>\n",
       "    </tr>\n",
       "    <tr>\n",
       "      <th>635</th>\n",
       "      <td>West</td>\n",
       "      <td>September</td>\n",
       "      <td>1.551250</td>\n",
       "    </tr>\n",
       "    <tr>\n",
       "      <th>636</th>\n",
       "      <td>WestTexNewMexico</td>\n",
       "      <td>April</td>\n",
       "      <td>1.125000</td>\n",
       "    </tr>\n",
       "    <tr>\n",
       "      <th>637</th>\n",
       "      <td>WestTexNewMexico</td>\n",
       "      <td>August</td>\n",
       "      <td>1.385769</td>\n",
       "    </tr>\n",
       "    <tr>\n",
       "      <th>638</th>\n",
       "      <td>WestTexNewMexico</td>\n",
       "      <td>December</td>\n",
       "      <td>1.222400</td>\n",
       "    </tr>\n",
       "    <tr>\n",
       "      <th>639</th>\n",
       "      <td>WestTexNewMexico</td>\n",
       "      <td>February</td>\n",
       "      <td>1.122187</td>\n",
       "    </tr>\n",
       "    <tr>\n",
       "      <th>640</th>\n",
       "      <td>WestTexNewMexico</td>\n",
       "      <td>January</td>\n",
       "      <td>1.169444</td>\n",
       "    </tr>\n",
       "    <tr>\n",
       "      <th>641</th>\n",
       "      <td>WestTexNewMexico</td>\n",
       "      <td>July</td>\n",
       "      <td>1.307500</td>\n",
       "    </tr>\n",
       "    <tr>\n",
       "      <th>642</th>\n",
       "      <td>WestTexNewMexico</td>\n",
       "      <td>June</td>\n",
       "      <td>1.104091</td>\n",
       "    </tr>\n",
       "    <tr>\n",
       "      <th>643</th>\n",
       "      <td>WestTexNewMexico</td>\n",
       "      <td>March</td>\n",
       "      <td>1.140294</td>\n",
       "    </tr>\n",
       "    <tr>\n",
       "      <th>644</th>\n",
       "      <td>WestTexNewMexico</td>\n",
       "      <td>May</td>\n",
       "      <td>1.107500</td>\n",
       "    </tr>\n",
       "    <tr>\n",
       "      <th>645</th>\n",
       "      <td>WestTexNewMexico</td>\n",
       "      <td>November</td>\n",
       "      <td>1.369231</td>\n",
       "    </tr>\n",
       "    <tr>\n",
       "      <th>646</th>\n",
       "      <td>WestTexNewMexico</td>\n",
       "      <td>October</td>\n",
       "      <td>1.631786</td>\n",
       "    </tr>\n",
       "    <tr>\n",
       "      <th>647</th>\n",
       "      <td>WestTexNewMexico</td>\n",
       "      <td>September</td>\n",
       "      <td>1.535417</td>\n",
       "    </tr>\n",
       "  </tbody>\n",
       "</table>\n",
       "<p>648 rows × 3 columns</p>\n",
       "</div>"
      ],
      "text/plain": [
       "                  region      month  AveragePrice\n",
       "0                 Albany      April      1.548846\n",
       "1                 Albany     August      1.610385\n",
       "2                 Albany   December      1.545000\n",
       "3                 Albany   February      1.471563\n",
       "4                 Albany    January      1.538056\n",
       "5                 Albany       July      1.564643\n",
       "6                 Albany       June      1.626667\n",
       "7                 Albany      March      1.519118\n",
       "8                 Albany        May      1.580000\n",
       "9                 Albany   November      1.606923\n",
       "10                Albany    October      1.567143\n",
       "11                Albany  September      1.602500\n",
       "12               Atlanta      April      1.285000\n",
       "13               Atlanta     August      1.459231\n",
       "14               Atlanta   December      1.272692\n",
       "15               Atlanta   February      1.178437\n",
       "16               Atlanta    January      1.351111\n",
       "17               Atlanta       July      1.297857\n",
       "18               Atlanta       June      1.156250\n",
       "19               Atlanta      March      1.220000\n",
       "20               Atlanta        May      1.264286\n",
       "21               Atlanta   November      1.399231\n",
       "22               Atlanta    October      1.599286\n",
       "23               Atlanta  September      1.637917\n",
       "24   BaltimoreWashington      April      1.578846\n",
       "25   BaltimoreWashington     August      1.573846\n",
       "26   BaltimoreWashington   December      1.476923\n",
       "27   BaltimoreWashington   February      1.408438\n",
       "28   BaltimoreWashington    January      1.403611\n",
       "29   BaltimoreWashington       July      1.639643\n",
       "..                   ...        ...           ...\n",
       "618              TotalUS       June      1.337083\n",
       "619              TotalUS      March      1.239118\n",
       "620              TotalUS        May      1.254643\n",
       "621              TotalUS   November      1.392692\n",
       "622              TotalUS    October      1.521786\n",
       "623              TotalUS  September      1.519167\n",
       "624                 West      April      1.096923\n",
       "625                 West     August      1.508846\n",
       "626                 West   December      1.140385\n",
       "627                 West   February      1.116875\n",
       "628                 West    January      1.130556\n",
       "629                 West       July      1.448214\n",
       "630                 West       June      1.291250\n",
       "631                 West      March      1.117353\n",
       "632                 West        May      1.122143\n",
       "633                 West   November      1.339231\n",
       "634                 West    October      1.541786\n",
       "635                 West  September      1.551250\n",
       "636     WestTexNewMexico      April      1.125000\n",
       "637     WestTexNewMexico     August      1.385769\n",
       "638     WestTexNewMexico   December      1.222400\n",
       "639     WestTexNewMexico   February      1.122187\n",
       "640     WestTexNewMexico    January      1.169444\n",
       "641     WestTexNewMexico       July      1.307500\n",
       "642     WestTexNewMexico       June      1.104091\n",
       "643     WestTexNewMexico      March      1.140294\n",
       "644     WestTexNewMexico        May      1.107500\n",
       "645     WestTexNewMexico   November      1.369231\n",
       "646     WestTexNewMexico    October      1.631786\n",
       "647     WestTexNewMexico  September      1.535417\n",
       "\n",
       "[648 rows x 3 columns]"
      ]
     },
     "execution_count": 510,
     "metadata": {},
     "output_type": "execute_result"
    }
   ],
   "source": [
    "res = df.groupby([\"region\",\"month\"])[\"AveragePrice\"].mean()\n",
    "res.reset_index()"
   ]
  },
  {
   "cell_type": "code",
   "execution_count": 500,
   "metadata": {},
   "outputs": [],
   "source": [
    "# df.apply(axis=1)\n",
    "# df.date_dt.apply(lambda x: x.day)"
   ]
  },
  {
   "cell_type": "code",
   "execution_count": 504,
   "metadata": {},
   "outputs": [
    {
     "data": {
      "text/html": [
       "<div>\n",
       "<style scoped>\n",
       "    .dataframe tbody tr th:only-of-type {\n",
       "        vertical-align: middle;\n",
       "    }\n",
       "\n",
       "    .dataframe tbody tr th {\n",
       "        vertical-align: top;\n",
       "    }\n",
       "\n",
       "    .dataframe thead th {\n",
       "        text-align: right;\n",
       "    }\n",
       "</style>\n",
       "<table border=\"1\" class=\"dataframe\">\n",
       "  <thead>\n",
       "    <tr style=\"text-align: right;\">\n",
       "      <th></th>\n",
       "      <th>AveragePrice</th>\n",
       "    </tr>\n",
       "    <tr>\n",
       "      <th>region</th>\n",
       "      <th></th>\n",
       "    </tr>\n",
       "  </thead>\n",
       "  <tbody>\n",
       "    <tr>\n",
       "      <th>Albany</th>\n",
       "      <td>1.561036</td>\n",
       "    </tr>\n",
       "    <tr>\n",
       "      <th>Atlanta</th>\n",
       "      <td>1.337959</td>\n",
       "    </tr>\n",
       "    <tr>\n",
       "      <th>BaltimoreWashington</th>\n",
       "      <td>1.534231</td>\n",
       "    </tr>\n",
       "    <tr>\n",
       "      <th>Boise</th>\n",
       "      <td>1.348136</td>\n",
       "    </tr>\n",
       "    <tr>\n",
       "      <th>Boston</th>\n",
       "      <td>1.530888</td>\n",
       "    </tr>\n",
       "    <tr>\n",
       "      <th>BuffaloRochester</th>\n",
       "      <td>1.516834</td>\n",
       "    </tr>\n",
       "    <tr>\n",
       "      <th>California</th>\n",
       "      <td>1.395325</td>\n",
       "    </tr>\n",
       "    <tr>\n",
       "      <th>Charlotte</th>\n",
       "      <td>1.606036</td>\n",
       "    </tr>\n",
       "    <tr>\n",
       "      <th>Chicago</th>\n",
       "      <td>1.556775</td>\n",
       "    </tr>\n",
       "    <tr>\n",
       "      <th>CincinnatiDayton</th>\n",
       "      <td>1.209201</td>\n",
       "    </tr>\n",
       "    <tr>\n",
       "      <th>Columbus</th>\n",
       "      <td>1.252781</td>\n",
       "    </tr>\n",
       "    <tr>\n",
       "      <th>DallasFtWorth</th>\n",
       "      <td>1.085592</td>\n",
       "    </tr>\n",
       "    <tr>\n",
       "      <th>Denver</th>\n",
       "      <td>1.218580</td>\n",
       "    </tr>\n",
       "    <tr>\n",
       "      <th>Detroit</th>\n",
       "      <td>1.276095</td>\n",
       "    </tr>\n",
       "    <tr>\n",
       "      <th>GrandRapids</th>\n",
       "      <td>1.505000</td>\n",
       "    </tr>\n",
       "    <tr>\n",
       "      <th>GreatLakes</th>\n",
       "      <td>1.338550</td>\n",
       "    </tr>\n",
       "    <tr>\n",
       "      <th>HarrisburgScranton</th>\n",
       "      <td>1.513284</td>\n",
       "    </tr>\n",
       "    <tr>\n",
       "      <th>HartfordSpringfield</th>\n",
       "      <td>1.818639</td>\n",
       "    </tr>\n",
       "    <tr>\n",
       "      <th>Houston</th>\n",
       "      <td>1.047929</td>\n",
       "    </tr>\n",
       "    <tr>\n",
       "      <th>Indianapolis</th>\n",
       "      <td>1.313994</td>\n",
       "    </tr>\n",
       "    <tr>\n",
       "      <th>Jacksonville</th>\n",
       "      <td>1.510947</td>\n",
       "    </tr>\n",
       "    <tr>\n",
       "      <th>LasVegas</th>\n",
       "      <td>1.380917</td>\n",
       "    </tr>\n",
       "    <tr>\n",
       "      <th>LosAngeles</th>\n",
       "      <td>1.216006</td>\n",
       "    </tr>\n",
       "    <tr>\n",
       "      <th>Louisville</th>\n",
       "      <td>1.286686</td>\n",
       "    </tr>\n",
       "    <tr>\n",
       "      <th>MiamiFtLauderdale</th>\n",
       "      <td>1.428491</td>\n",
       "    </tr>\n",
       "    <tr>\n",
       "      <th>Midsouth</th>\n",
       "      <td>1.404763</td>\n",
       "    </tr>\n",
       "    <tr>\n",
       "      <th>Nashville</th>\n",
       "      <td>1.212101</td>\n",
       "    </tr>\n",
       "    <tr>\n",
       "      <th>NewOrleansMobile</th>\n",
       "      <td>1.304793</td>\n",
       "    </tr>\n",
       "    <tr>\n",
       "      <th>NewYork</th>\n",
       "      <td>1.727574</td>\n",
       "    </tr>\n",
       "    <tr>\n",
       "      <th>Northeast</th>\n",
       "      <td>1.601923</td>\n",
       "    </tr>\n",
       "    <tr>\n",
       "      <th>NorthernNewEngland</th>\n",
       "      <td>1.477396</td>\n",
       "    </tr>\n",
       "    <tr>\n",
       "      <th>Orlando</th>\n",
       "      <td>1.506213</td>\n",
       "    </tr>\n",
       "    <tr>\n",
       "      <th>Philadelphia</th>\n",
       "      <td>1.632130</td>\n",
       "    </tr>\n",
       "    <tr>\n",
       "      <th>PhoenixTucson</th>\n",
       "      <td>1.224438</td>\n",
       "    </tr>\n",
       "    <tr>\n",
       "      <th>Pittsburgh</th>\n",
       "      <td>1.364320</td>\n",
       "    </tr>\n",
       "    <tr>\n",
       "      <th>Plains</th>\n",
       "      <td>1.436509</td>\n",
       "    </tr>\n",
       "    <tr>\n",
       "      <th>Portland</th>\n",
       "      <td>1.317722</td>\n",
       "    </tr>\n",
       "    <tr>\n",
       "      <th>RaleighGreensboro</th>\n",
       "      <td>1.555118</td>\n",
       "    </tr>\n",
       "    <tr>\n",
       "      <th>RichmondNorfolk</th>\n",
       "      <td>1.291331</td>\n",
       "    </tr>\n",
       "    <tr>\n",
       "      <th>Roanoke</th>\n",
       "      <td>1.247929</td>\n",
       "    </tr>\n",
       "    <tr>\n",
       "      <th>Sacramento</th>\n",
       "      <td>1.621568</td>\n",
       "    </tr>\n",
       "    <tr>\n",
       "      <th>SanDiego</th>\n",
       "      <td>1.398166</td>\n",
       "    </tr>\n",
       "    <tr>\n",
       "      <th>SanFrancisco</th>\n",
       "      <td>1.804201</td>\n",
       "    </tr>\n",
       "    <tr>\n",
       "      <th>Seattle</th>\n",
       "      <td>1.442574</td>\n",
       "    </tr>\n",
       "    <tr>\n",
       "      <th>SouthCarolina</th>\n",
       "      <td>1.403284</td>\n",
       "    </tr>\n",
       "    <tr>\n",
       "      <th>SouthCentral</th>\n",
       "      <td>1.101243</td>\n",
       "    </tr>\n",
       "    <tr>\n",
       "      <th>Southeast</th>\n",
       "      <td>1.398018</td>\n",
       "    </tr>\n",
       "    <tr>\n",
       "      <th>Spokane</th>\n",
       "      <td>1.445592</td>\n",
       "    </tr>\n",
       "    <tr>\n",
       "      <th>StLouis</th>\n",
       "      <td>1.430621</td>\n",
       "    </tr>\n",
       "    <tr>\n",
       "      <th>Syracuse</th>\n",
       "      <td>1.520325</td>\n",
       "    </tr>\n",
       "    <tr>\n",
       "      <th>Tampa</th>\n",
       "      <td>1.408846</td>\n",
       "    </tr>\n",
       "    <tr>\n",
       "      <th>TotalUS</th>\n",
       "      <td>1.319024</td>\n",
       "    </tr>\n",
       "    <tr>\n",
       "      <th>West</th>\n",
       "      <td>1.272219</td>\n",
       "    </tr>\n",
       "    <tr>\n",
       "      <th>WestTexNewMexico</th>\n",
       "      <td>1.261701</td>\n",
       "    </tr>\n",
       "  </tbody>\n",
       "</table>\n",
       "</div>"
      ],
      "text/plain": [
       "                     AveragePrice\n",
       "region                           \n",
       "Albany                   1.561036\n",
       "Atlanta                  1.337959\n",
       "BaltimoreWashington      1.534231\n",
       "Boise                    1.348136\n",
       "Boston                   1.530888\n",
       "BuffaloRochester         1.516834\n",
       "California               1.395325\n",
       "Charlotte                1.606036\n",
       "Chicago                  1.556775\n",
       "CincinnatiDayton         1.209201\n",
       "Columbus                 1.252781\n",
       "DallasFtWorth            1.085592\n",
       "Denver                   1.218580\n",
       "Detroit                  1.276095\n",
       "GrandRapids              1.505000\n",
       "GreatLakes               1.338550\n",
       "HarrisburgScranton       1.513284\n",
       "HartfordSpringfield      1.818639\n",
       "Houston                  1.047929\n",
       "Indianapolis             1.313994\n",
       "Jacksonville             1.510947\n",
       "LasVegas                 1.380917\n",
       "LosAngeles               1.216006\n",
       "Louisville               1.286686\n",
       "MiamiFtLauderdale        1.428491\n",
       "Midsouth                 1.404763\n",
       "Nashville                1.212101\n",
       "NewOrleansMobile         1.304793\n",
       "NewYork                  1.727574\n",
       "Northeast                1.601923\n",
       "NorthernNewEngland       1.477396\n",
       "Orlando                  1.506213\n",
       "Philadelphia             1.632130\n",
       "PhoenixTucson            1.224438\n",
       "Pittsburgh               1.364320\n",
       "Plains                   1.436509\n",
       "Portland                 1.317722\n",
       "RaleighGreensboro        1.555118\n",
       "RichmondNorfolk          1.291331\n",
       "Roanoke                  1.247929\n",
       "Sacramento               1.621568\n",
       "SanDiego                 1.398166\n",
       "SanFrancisco             1.804201\n",
       "Seattle                  1.442574\n",
       "SouthCarolina            1.403284\n",
       "SouthCentral             1.101243\n",
       "Southeast                1.398018\n",
       "Spokane                  1.445592\n",
       "StLouis                  1.430621\n",
       "Syracuse                 1.520325\n",
       "Tampa                    1.408846\n",
       "TotalUS                  1.319024\n",
       "West                     1.272219\n",
       "WestTexNewMexico         1.261701"
      ]
     },
     "execution_count": 504,
     "metadata": {},
     "output_type": "execute_result"
    }
   ],
   "source": [
    "df.groupby(\"region\")[[\"AveragePrice\"]].mean()"
   ]
  },
  {
   "cell_type": "code",
   "execution_count": 497,
   "metadata": {},
   "outputs": [
    {
     "data": {
      "text/plain": [
       "region\n",
       "Albany                 1.561036\n",
       "Atlanta                1.337959\n",
       "BaltimoreWashington    1.534231\n",
       "Boise                  1.348136\n",
       "Boston                 1.530888\n",
       "BuffaloRochester       1.516834\n",
       "California             1.395325\n",
       "Charlotte              1.606036\n",
       "Chicago                1.556775\n",
       "CincinnatiDayton       1.209201\n",
       "Columbus               1.252781\n",
       "DallasFtWorth          1.085592\n",
       "Denver                 1.218580\n",
       "Detroit                1.276095\n",
       "GrandRapids            1.505000\n",
       "GreatLakes             1.338550\n",
       "HarrisburgScranton     1.513284\n",
       "HartfordSpringfield    1.818639\n",
       "Houston                1.047929\n",
       "Indianapolis           1.313994\n",
       "Jacksonville           1.510947\n",
       "LasVegas               1.380917\n",
       "LosAngeles             1.216006\n",
       "Louisville             1.286686\n",
       "MiamiFtLauderdale      1.428491\n",
       "Midsouth               1.404763\n",
       "Nashville              1.212101\n",
       "NewOrleansMobile       1.304793\n",
       "NewYork                1.727574\n",
       "Northeast              1.601923\n",
       "NorthernNewEngland     1.477396\n",
       "Orlando                1.506213\n",
       "Philadelphia           1.632130\n",
       "PhoenixTucson          1.224438\n",
       "Pittsburgh             1.364320\n",
       "Plains                 1.436509\n",
       "Portland               1.317722\n",
       "RaleighGreensboro      1.555118\n",
       "RichmondNorfolk        1.291331\n",
       "Roanoke                1.247929\n",
       "Sacramento             1.621568\n",
       "SanDiego               1.398166\n",
       "SanFrancisco           1.804201\n",
       "Seattle                1.442574\n",
       "SouthCarolina          1.403284\n",
       "SouthCentral           1.101243\n",
       "Southeast              1.398018\n",
       "Spokane                1.445592\n",
       "StLouis                1.430621\n",
       "Syracuse               1.520325\n",
       "Tampa                  1.408846\n",
       "TotalUS                1.319024\n",
       "West                   1.272219\n",
       "WestTexNewMexico       1.261701\n",
       "Name: AveragePrice, dtype: float64"
      ]
     },
     "execution_count": 497,
     "metadata": {},
     "output_type": "execute_result"
    }
   ],
   "source": [
    "grpby_obj = df.groupby(\"region\")\n",
    "grpby_obj_s = grpby_obj[\"AveragePrice\"]\n",
    "# grpby_obj_s.apply( lambda x: x.mean() )\n",
    "grpby_obj_s.mean()\n",
    "\n",
    "# larger than one"
   ]
  },
  {
   "cell_type": "code",
   "execution_count": 489,
   "metadata": {},
   "outputs": [
    {
     "data": {
      "text/html": [
       "<div>\n",
       "<style scoped>\n",
       "    .dataframe tbody tr th:only-of-type {\n",
       "        vertical-align: middle;\n",
       "    }\n",
       "\n",
       "    .dataframe tbody tr th {\n",
       "        vertical-align: top;\n",
       "    }\n",
       "\n",
       "    .dataframe thead th {\n",
       "        text-align: right;\n",
       "    }\n",
       "</style>\n",
       "<table border=\"1\" class=\"dataframe\">\n",
       "  <thead>\n",
       "    <tr style=\"text-align: right;\">\n",
       "      <th></th>\n",
       "      <th>Date</th>\n",
       "      <th>AveragePrice</th>\n",
       "      <th>Total Volume</th>\n",
       "      <th>4046</th>\n",
       "      <th>4225</th>\n",
       "      <th>4770</th>\n",
       "      <th>Total Bags</th>\n",
       "      <th>Small Bags</th>\n",
       "      <th>Large Bags</th>\n",
       "      <th>XLarge Bags</th>\n",
       "      <th>type</th>\n",
       "      <th>year</th>\n",
       "      <th>region</th>\n",
       "      <th>date_dt</th>\n",
       "      <th>month</th>\n",
       "    </tr>\n",
       "  </thead>\n",
       "  <tbody>\n",
       "    <tr>\n",
       "      <th>52</th>\n",
       "      <td>2015-12-27</td>\n",
       "      <td>0.99</td>\n",
       "      <td>386100.49</td>\n",
       "      <td>292097.36</td>\n",
       "      <td>27350.92</td>\n",
       "      <td>297.90</td>\n",
       "      <td>66354.31</td>\n",
       "      <td>48605.95</td>\n",
       "      <td>17748.36</td>\n",
       "      <td>0.00</td>\n",
       "      <td>conventional</td>\n",
       "      <td>2015</td>\n",
       "      <td>Atlanta</td>\n",
       "      <td>2015-12-27</td>\n",
       "      <td>December</td>\n",
       "    </tr>\n",
       "    <tr>\n",
       "      <th>53</th>\n",
       "      <td>2015-12-20</td>\n",
       "      <td>1.08</td>\n",
       "      <td>331377.53</td>\n",
       "      <td>251774.15</td>\n",
       "      <td>20702.45</td>\n",
       "      <td>103.06</td>\n",
       "      <td>58797.87</td>\n",
       "      <td>46930.26</td>\n",
       "      <td>11867.61</td>\n",
       "      <td>0.00</td>\n",
       "      <td>conventional</td>\n",
       "      <td>2015</td>\n",
       "      <td>Atlanta</td>\n",
       "      <td>2015-12-20</td>\n",
       "      <td>December</td>\n",
       "    </tr>\n",
       "    <tr>\n",
       "      <th>54</th>\n",
       "      <td>2015-12-13</td>\n",
       "      <td>0.96</td>\n",
       "      <td>417772.47</td>\n",
       "      <td>324932.28</td>\n",
       "      <td>31019.08</td>\n",
       "      <td>275.80</td>\n",
       "      <td>61545.31</td>\n",
       "      <td>38903.57</td>\n",
       "      <td>22628.21</td>\n",
       "      <td>13.53</td>\n",
       "      <td>conventional</td>\n",
       "      <td>2015</td>\n",
       "      <td>Atlanta</td>\n",
       "      <td>2015-12-13</td>\n",
       "      <td>December</td>\n",
       "    </tr>\n",
       "    <tr>\n",
       "      <th>55</th>\n",
       "      <td>2015-12-06</td>\n",
       "      <td>1.07</td>\n",
       "      <td>357636.82</td>\n",
       "      <td>283024.01</td>\n",
       "      <td>23740.85</td>\n",
       "      <td>181.92</td>\n",
       "      <td>50690.04</td>\n",
       "      <td>37032.67</td>\n",
       "      <td>13654.66</td>\n",
       "      <td>2.71</td>\n",
       "      <td>conventional</td>\n",
       "      <td>2015</td>\n",
       "      <td>Atlanta</td>\n",
       "      <td>2015-12-06</td>\n",
       "      <td>December</td>\n",
       "    </tr>\n",
       "    <tr>\n",
       "      <th>56</th>\n",
       "      <td>2015-11-29</td>\n",
       "      <td>0.99</td>\n",
       "      <td>333280.79</td>\n",
       "      <td>250288.65</td>\n",
       "      <td>28889.63</td>\n",
       "      <td>307.83</td>\n",
       "      <td>53794.68</td>\n",
       "      <td>33031.72</td>\n",
       "      <td>20738.55</td>\n",
       "      <td>24.41</td>\n",
       "      <td>conventional</td>\n",
       "      <td>2015</td>\n",
       "      <td>Atlanta</td>\n",
       "      <td>2015-11-29</td>\n",
       "      <td>November</td>\n",
       "    </tr>\n",
       "    <tr>\n",
       "      <th>57</th>\n",
       "      <td>2015-11-22</td>\n",
       "      <td>1.00</td>\n",
       "      <td>356414.57</td>\n",
       "      <td>269799.03</td>\n",
       "      <td>29732.30</td>\n",
       "      <td>501.16</td>\n",
       "      <td>56382.08</td>\n",
       "      <td>36992.30</td>\n",
       "      <td>19389.78</td>\n",
       "      <td>0.00</td>\n",
       "      <td>conventional</td>\n",
       "      <td>2015</td>\n",
       "      <td>Atlanta</td>\n",
       "      <td>2015-11-22</td>\n",
       "      <td>November</td>\n",
       "    </tr>\n",
       "    <tr>\n",
       "      <th>58</th>\n",
       "      <td>2015-11-15</td>\n",
       "      <td>1.13</td>\n",
       "      <td>339860.68</td>\n",
       "      <td>263915.78</td>\n",
       "      <td>28442.45</td>\n",
       "      <td>455.97</td>\n",
       "      <td>47046.48</td>\n",
       "      <td>33656.42</td>\n",
       "      <td>13390.06</td>\n",
       "      <td>0.00</td>\n",
       "      <td>conventional</td>\n",
       "      <td>2015</td>\n",
       "      <td>Atlanta</td>\n",
       "      <td>2015-11-15</td>\n",
       "      <td>November</td>\n",
       "    </tr>\n",
       "    <tr>\n",
       "      <th>59</th>\n",
       "      <td>2015-11-08</td>\n",
       "      <td>1.12</td>\n",
       "      <td>334041.60</td>\n",
       "      <td>250441.38</td>\n",
       "      <td>34483.33</td>\n",
       "      <td>488.24</td>\n",
       "      <td>48628.65</td>\n",
       "      <td>35662.93</td>\n",
       "      <td>12941.12</td>\n",
       "      <td>24.60</td>\n",
       "      <td>conventional</td>\n",
       "      <td>2015</td>\n",
       "      <td>Atlanta</td>\n",
       "      <td>2015-11-08</td>\n",
       "      <td>November</td>\n",
       "    </tr>\n",
       "    <tr>\n",
       "      <th>60</th>\n",
       "      <td>2015-11-01</td>\n",
       "      <td>0.99</td>\n",
       "      <td>419088.74</td>\n",
       "      <td>290457.50</td>\n",
       "      <td>62980.07</td>\n",
       "      <td>252.79</td>\n",
       "      <td>65398.38</td>\n",
       "      <td>39460.77</td>\n",
       "      <td>25929.39</td>\n",
       "      <td>8.22</td>\n",
       "      <td>conventional</td>\n",
       "      <td>2015</td>\n",
       "      <td>Atlanta</td>\n",
       "      <td>2015-11-01</td>\n",
       "      <td>November</td>\n",
       "    </tr>\n",
       "    <tr>\n",
       "      <th>61</th>\n",
       "      <td>2015-10-25</td>\n",
       "      <td>1.09</td>\n",
       "      <td>358478.08</td>\n",
       "      <td>236814.29</td>\n",
       "      <td>64607.97</td>\n",
       "      <td>304.36</td>\n",
       "      <td>56751.46</td>\n",
       "      <td>31826.88</td>\n",
       "      <td>24924.58</td>\n",
       "      <td>0.00</td>\n",
       "      <td>conventional</td>\n",
       "      <td>2015</td>\n",
       "      <td>Atlanta</td>\n",
       "      <td>2015-10-25</td>\n",
       "      <td>October</td>\n",
       "    </tr>\n",
       "    <tr>\n",
       "      <th>62</th>\n",
       "      <td>2015-10-18</td>\n",
       "      <td>1.09</td>\n",
       "      <td>349072.48</td>\n",
       "      <td>228710.28</td>\n",
       "      <td>59731.79</td>\n",
       "      <td>291.22</td>\n",
       "      <td>60339.19</td>\n",
       "      <td>36884.35</td>\n",
       "      <td>23454.84</td>\n",
       "      <td>0.00</td>\n",
       "      <td>conventional</td>\n",
       "      <td>2015</td>\n",
       "      <td>Atlanta</td>\n",
       "      <td>2015-10-18</td>\n",
       "      <td>October</td>\n",
       "    </tr>\n",
       "    <tr>\n",
       "      <th>63</th>\n",
       "      <td>2015-10-11</td>\n",
       "      <td>0.95</td>\n",
       "      <td>433874.46</td>\n",
       "      <td>255933.32</td>\n",
       "      <td>91047.32</td>\n",
       "      <td>599.71</td>\n",
       "      <td>86294.11</td>\n",
       "      <td>41159.96</td>\n",
       "      <td>45134.15</td>\n",
       "      <td>0.00</td>\n",
       "      <td>conventional</td>\n",
       "      <td>2015</td>\n",
       "      <td>Atlanta</td>\n",
       "      <td>2015-10-11</td>\n",
       "      <td>October</td>\n",
       "    </tr>\n",
       "    <tr>\n",
       "      <th>64</th>\n",
       "      <td>2015-10-04</td>\n",
       "      <td>0.96</td>\n",
       "      <td>418682.26</td>\n",
       "      <td>265797.09</td>\n",
       "      <td>92780.33</td>\n",
       "      <td>644.43</td>\n",
       "      <td>59460.41</td>\n",
       "      <td>14875.64</td>\n",
       "      <td>44584.77</td>\n",
       "      <td>0.00</td>\n",
       "      <td>conventional</td>\n",
       "      <td>2015</td>\n",
       "      <td>Atlanta</td>\n",
       "      <td>2015-10-04</td>\n",
       "      <td>October</td>\n",
       "    </tr>\n",
       "    <tr>\n",
       "      <th>65</th>\n",
       "      <td>2015-09-27</td>\n",
       "      <td>1.07</td>\n",
       "      <td>370321.17</td>\n",
       "      <td>262107.44</td>\n",
       "      <td>61870.63</td>\n",
       "      <td>680.80</td>\n",
       "      <td>45662.30</td>\n",
       "      <td>20533.87</td>\n",
       "      <td>25125.65</td>\n",
       "      <td>2.78</td>\n",
       "      <td>conventional</td>\n",
       "      <td>2015</td>\n",
       "      <td>Atlanta</td>\n",
       "      <td>2015-09-27</td>\n",
       "      <td>September</td>\n",
       "    </tr>\n",
       "    <tr>\n",
       "      <th>66</th>\n",
       "      <td>2015-09-20</td>\n",
       "      <td>0.93</td>\n",
       "      <td>516432.60</td>\n",
       "      <td>346118.51</td>\n",
       "      <td>82762.72</td>\n",
       "      <td>1349.41</td>\n",
       "      <td>86201.96</td>\n",
       "      <td>33698.43</td>\n",
       "      <td>52442.25</td>\n",
       "      <td>61.28</td>\n",
       "      <td>conventional</td>\n",
       "      <td>2015</td>\n",
       "      <td>Atlanta</td>\n",
       "      <td>2015-09-20</td>\n",
       "      <td>September</td>\n",
       "    </tr>\n",
       "    <tr>\n",
       "      <th>67</th>\n",
       "      <td>2015-09-13</td>\n",
       "      <td>1.07</td>\n",
       "      <td>417232.18</td>\n",
       "      <td>278048.26</td>\n",
       "      <td>62485.97</td>\n",
       "      <td>714.93</td>\n",
       "      <td>75983.02</td>\n",
       "      <td>46290.32</td>\n",
       "      <td>29678.76</td>\n",
       "      <td>13.94</td>\n",
       "      <td>conventional</td>\n",
       "      <td>2015</td>\n",
       "      <td>Atlanta</td>\n",
       "      <td>2015-09-13</td>\n",
       "      <td>September</td>\n",
       "    </tr>\n",
       "    <tr>\n",
       "      <th>68</th>\n",
       "      <td>2015-09-06</td>\n",
       "      <td>0.97</td>\n",
       "      <td>472136.53</td>\n",
       "      <td>303113.24</td>\n",
       "      <td>73675.85</td>\n",
       "      <td>911.25</td>\n",
       "      <td>94436.19</td>\n",
       "      <td>49833.55</td>\n",
       "      <td>44549.67</td>\n",
       "      <td>52.97</td>\n",
       "      <td>conventional</td>\n",
       "      <td>2015</td>\n",
       "      <td>Atlanta</td>\n",
       "      <td>2015-09-06</td>\n",
       "      <td>September</td>\n",
       "    </tr>\n",
       "    <tr>\n",
       "      <th>69</th>\n",
       "      <td>2015-08-30</td>\n",
       "      <td>1.15</td>\n",
       "      <td>382972.72</td>\n",
       "      <td>275818.27</td>\n",
       "      <td>44839.12</td>\n",
       "      <td>1034.09</td>\n",
       "      <td>61281.24</td>\n",
       "      <td>47138.07</td>\n",
       "      <td>14112.50</td>\n",
       "      <td>30.67</td>\n",
       "      <td>conventional</td>\n",
       "      <td>2015</td>\n",
       "      <td>Atlanta</td>\n",
       "      <td>2015-08-30</td>\n",
       "      <td>August</td>\n",
       "    </tr>\n",
       "    <tr>\n",
       "      <th>70</th>\n",
       "      <td>2015-08-23</td>\n",
       "      <td>1.12</td>\n",
       "      <td>379054.29</td>\n",
       "      <td>274462.42</td>\n",
       "      <td>46223.69</td>\n",
       "      <td>950.09</td>\n",
       "      <td>57418.09</td>\n",
       "      <td>45534.11</td>\n",
       "      <td>11883.98</td>\n",
       "      <td>0.00</td>\n",
       "      <td>conventional</td>\n",
       "      <td>2015</td>\n",
       "      <td>Atlanta</td>\n",
       "      <td>2015-08-23</td>\n",
       "      <td>August</td>\n",
       "    </tr>\n",
       "    <tr>\n",
       "      <th>71</th>\n",
       "      <td>2015-08-16</td>\n",
       "      <td>1.09</td>\n",
       "      <td>465213.81</td>\n",
       "      <td>362579.51</td>\n",
       "      <td>41992.44</td>\n",
       "      <td>1424.96</td>\n",
       "      <td>59216.90</td>\n",
       "      <td>45068.25</td>\n",
       "      <td>14148.65</td>\n",
       "      <td>0.00</td>\n",
       "      <td>conventional</td>\n",
       "      <td>2015</td>\n",
       "      <td>Atlanta</td>\n",
       "      <td>2015-08-16</td>\n",
       "      <td>August</td>\n",
       "    </tr>\n",
       "    <tr>\n",
       "      <th>72</th>\n",
       "      <td>2015-08-09</td>\n",
       "      <td>1.01</td>\n",
       "      <td>503791.72</td>\n",
       "      <td>385027.71</td>\n",
       "      <td>47040.07</td>\n",
       "      <td>4251.74</td>\n",
       "      <td>67472.20</td>\n",
       "      <td>45820.45</td>\n",
       "      <td>21568.48</td>\n",
       "      <td>83.27</td>\n",
       "      <td>conventional</td>\n",
       "      <td>2015</td>\n",
       "      <td>Atlanta</td>\n",
       "      <td>2015-08-09</td>\n",
       "      <td>August</td>\n",
       "    </tr>\n",
       "    <tr>\n",
       "      <th>73</th>\n",
       "      <td>2015-08-02</td>\n",
       "      <td>1.15</td>\n",
       "      <td>405898.44</td>\n",
       "      <td>306587.86</td>\n",
       "      <td>41906.78</td>\n",
       "      <td>3515.48</td>\n",
       "      <td>53888.32</td>\n",
       "      <td>42126.47</td>\n",
       "      <td>11720.30</td>\n",
       "      <td>41.55</td>\n",
       "      <td>conventional</td>\n",
       "      <td>2015</td>\n",
       "      <td>Atlanta</td>\n",
       "      <td>2015-08-02</td>\n",
       "      <td>August</td>\n",
       "    </tr>\n",
       "    <tr>\n",
       "      <th>74</th>\n",
       "      <td>2015-07-26</td>\n",
       "      <td>1.08</td>\n",
       "      <td>437377.75</td>\n",
       "      <td>335372.02</td>\n",
       "      <td>44087.07</td>\n",
       "      <td>708.00</td>\n",
       "      <td>57210.66</td>\n",
       "      <td>45114.22</td>\n",
       "      <td>12096.44</td>\n",
       "      <td>0.00</td>\n",
       "      <td>conventional</td>\n",
       "      <td>2015</td>\n",
       "      <td>Atlanta</td>\n",
       "      <td>2015-07-26</td>\n",
       "      <td>July</td>\n",
       "    </tr>\n",
       "    <tr>\n",
       "      <th>75</th>\n",
       "      <td>2015-07-19</td>\n",
       "      <td>0.97</td>\n",
       "      <td>557212.99</td>\n",
       "      <td>446100.17</td>\n",
       "      <td>47838.42</td>\n",
       "      <td>1982.03</td>\n",
       "      <td>61292.37</td>\n",
       "      <td>45099.87</td>\n",
       "      <td>16192.50</td>\n",
       "      <td>0.00</td>\n",
       "      <td>conventional</td>\n",
       "      <td>2015</td>\n",
       "      <td>Atlanta</td>\n",
       "      <td>2015-07-19</td>\n",
       "      <td>July</td>\n",
       "    </tr>\n",
       "    <tr>\n",
       "      <th>76</th>\n",
       "      <td>2015-07-12</td>\n",
       "      <td>1.14</td>\n",
       "      <td>407204.88</td>\n",
       "      <td>310080.33</td>\n",
       "      <td>37953.24</td>\n",
       "      <td>867.46</td>\n",
       "      <td>58303.85</td>\n",
       "      <td>46023.59</td>\n",
       "      <td>12280.26</td>\n",
       "      <td>0.00</td>\n",
       "      <td>conventional</td>\n",
       "      <td>2015</td>\n",
       "      <td>Atlanta</td>\n",
       "      <td>2015-07-12</td>\n",
       "      <td>July</td>\n",
       "    </tr>\n",
       "    <tr>\n",
       "      <th>77</th>\n",
       "      <td>2015-07-05</td>\n",
       "      <td>1.01</td>\n",
       "      <td>562462.33</td>\n",
       "      <td>436377.91</td>\n",
       "      <td>54675.38</td>\n",
       "      <td>848.55</td>\n",
       "      <td>70560.49</td>\n",
       "      <td>50684.74</td>\n",
       "      <td>19851.00</td>\n",
       "      <td>24.75</td>\n",
       "      <td>conventional</td>\n",
       "      <td>2015</td>\n",
       "      <td>Atlanta</td>\n",
       "      <td>2015-07-05</td>\n",
       "      <td>July</td>\n",
       "    </tr>\n",
       "    <tr>\n",
       "      <th>78</th>\n",
       "      <td>2015-06-28</td>\n",
       "      <td>1.13</td>\n",
       "      <td>435210.71</td>\n",
       "      <td>331353.43</td>\n",
       "      <td>37698.53</td>\n",
       "      <td>816.56</td>\n",
       "      <td>65342.19</td>\n",
       "      <td>52099.76</td>\n",
       "      <td>13108.03</td>\n",
       "      <td>134.40</td>\n",
       "      <td>conventional</td>\n",
       "      <td>2015</td>\n",
       "      <td>Atlanta</td>\n",
       "      <td>2015-06-28</td>\n",
       "      <td>June</td>\n",
       "    </tr>\n",
       "    <tr>\n",
       "      <th>79</th>\n",
       "      <td>2015-06-21</td>\n",
       "      <td>0.99</td>\n",
       "      <td>554763.76</td>\n",
       "      <td>449311.47</td>\n",
       "      <td>30231.78</td>\n",
       "      <td>678.40</td>\n",
       "      <td>74542.11</td>\n",
       "      <td>55484.76</td>\n",
       "      <td>19010.81</td>\n",
       "      <td>46.54</td>\n",
       "      <td>conventional</td>\n",
       "      <td>2015</td>\n",
       "      <td>Atlanta</td>\n",
       "      <td>2015-06-21</td>\n",
       "      <td>June</td>\n",
       "    </tr>\n",
       "    <tr>\n",
       "      <th>80</th>\n",
       "      <td>2015-06-14</td>\n",
       "      <td>1.10</td>\n",
       "      <td>465804.78</td>\n",
       "      <td>386370.50</td>\n",
       "      <td>17701.12</td>\n",
       "      <td>471.72</td>\n",
       "      <td>61261.44</td>\n",
       "      <td>48612.13</td>\n",
       "      <td>12578.28</td>\n",
       "      <td>71.03</td>\n",
       "      <td>conventional</td>\n",
       "      <td>2015</td>\n",
       "      <td>Atlanta</td>\n",
       "      <td>2015-06-14</td>\n",
       "      <td>June</td>\n",
       "    </tr>\n",
       "    <tr>\n",
       "      <th>81</th>\n",
       "      <td>2015-06-07</td>\n",
       "      <td>0.99</td>\n",
       "      <td>551009.05</td>\n",
       "      <td>455565.92</td>\n",
       "      <td>22414.17</td>\n",
       "      <td>738.68</td>\n",
       "      <td>72290.28</td>\n",
       "      <td>50954.84</td>\n",
       "      <td>21329.99</td>\n",
       "      <td>5.45</td>\n",
       "      <td>conventional</td>\n",
       "      <td>2015</td>\n",
       "      <td>Atlanta</td>\n",
       "      <td>2015-06-07</td>\n",
       "      <td>June</td>\n",
       "    </tr>\n",
       "    <tr>\n",
       "      <th>...</th>\n",
       "      <td>...</td>\n",
       "      <td>...</td>\n",
       "      <td>...</td>\n",
       "      <td>...</td>\n",
       "      <td>...</td>\n",
       "      <td>...</td>\n",
       "      <td>...</td>\n",
       "      <td>...</td>\n",
       "      <td>...</td>\n",
       "      <td>...</td>\n",
       "      <td>...</td>\n",
       "      <td>...</td>\n",
       "      <td>...</td>\n",
       "      <td>...</td>\n",
       "      <td>...</td>\n",
       "    </tr>\n",
       "    <tr>\n",
       "      <th>14829</th>\n",
       "      <td>2017-04-30</td>\n",
       "      <td>1.59</td>\n",
       "      <td>15041.91</td>\n",
       "      <td>1487.72</td>\n",
       "      <td>7556.77</td>\n",
       "      <td>0.00</td>\n",
       "      <td>5997.42</td>\n",
       "      <td>194.73</td>\n",
       "      <td>5802.69</td>\n",
       "      <td>0.00</td>\n",
       "      <td>organic</td>\n",
       "      <td>2017</td>\n",
       "      <td>Atlanta</td>\n",
       "      <td>2017-04-30</td>\n",
       "      <td>April</td>\n",
       "    </tr>\n",
       "    <tr>\n",
       "      <th>14830</th>\n",
       "      <td>2017-04-23</td>\n",
       "      <td>1.63</td>\n",
       "      <td>13269.05</td>\n",
       "      <td>1704.94</td>\n",
       "      <td>7073.78</td>\n",
       "      <td>0.00</td>\n",
       "      <td>4490.33</td>\n",
       "      <td>147.22</td>\n",
       "      <td>4343.11</td>\n",
       "      <td>0.00</td>\n",
       "      <td>organic</td>\n",
       "      <td>2017</td>\n",
       "      <td>Atlanta</td>\n",
       "      <td>2017-04-23</td>\n",
       "      <td>April</td>\n",
       "    </tr>\n",
       "    <tr>\n",
       "      <th>14831</th>\n",
       "      <td>2017-04-16</td>\n",
       "      <td>1.27</td>\n",
       "      <td>16411.10</td>\n",
       "      <td>1593.09</td>\n",
       "      <td>7034.18</td>\n",
       "      <td>0.00</td>\n",
       "      <td>7783.83</td>\n",
       "      <td>278.87</td>\n",
       "      <td>7504.96</td>\n",
       "      <td>0.00</td>\n",
       "      <td>organic</td>\n",
       "      <td>2017</td>\n",
       "      <td>Atlanta</td>\n",
       "      <td>2017-04-16</td>\n",
       "      <td>April</td>\n",
       "    </tr>\n",
       "    <tr>\n",
       "      <th>14832</th>\n",
       "      <td>2017-04-09</td>\n",
       "      <td>0.91</td>\n",
       "      <td>24438.67</td>\n",
       "      <td>1358.59</td>\n",
       "      <td>5782.33</td>\n",
       "      <td>0.00</td>\n",
       "      <td>17297.75</td>\n",
       "      <td>1629.46</td>\n",
       "      <td>15668.29</td>\n",
       "      <td>0.00</td>\n",
       "      <td>organic</td>\n",
       "      <td>2017</td>\n",
       "      <td>Atlanta</td>\n",
       "      <td>2017-04-09</td>\n",
       "      <td>April</td>\n",
       "    </tr>\n",
       "    <tr>\n",
       "      <th>14833</th>\n",
       "      <td>2017-04-02</td>\n",
       "      <td>1.26</td>\n",
       "      <td>16943.34</td>\n",
       "      <td>1252.51</td>\n",
       "      <td>6359.96</td>\n",
       "      <td>0.00</td>\n",
       "      <td>9330.87</td>\n",
       "      <td>636.10</td>\n",
       "      <td>8694.77</td>\n",
       "      <td>0.00</td>\n",
       "      <td>organic</td>\n",
       "      <td>2017</td>\n",
       "      <td>Atlanta</td>\n",
       "      <td>2017-04-02</td>\n",
       "      <td>April</td>\n",
       "    </tr>\n",
       "    <tr>\n",
       "      <th>14834</th>\n",
       "      <td>2017-03-26</td>\n",
       "      <td>1.27</td>\n",
       "      <td>16209.23</td>\n",
       "      <td>1653.21</td>\n",
       "      <td>5804.09</td>\n",
       "      <td>0.00</td>\n",
       "      <td>8751.93</td>\n",
       "      <td>146.67</td>\n",
       "      <td>8605.26</td>\n",
       "      <td>0.00</td>\n",
       "      <td>organic</td>\n",
       "      <td>2017</td>\n",
       "      <td>Atlanta</td>\n",
       "      <td>2017-03-26</td>\n",
       "      <td>March</td>\n",
       "    </tr>\n",
       "    <tr>\n",
       "      <th>14835</th>\n",
       "      <td>2017-03-19</td>\n",
       "      <td>1.23</td>\n",
       "      <td>11754.42</td>\n",
       "      <td>1756.42</td>\n",
       "      <td>4656.72</td>\n",
       "      <td>0.00</td>\n",
       "      <td>5341.28</td>\n",
       "      <td>125.41</td>\n",
       "      <td>5215.87</td>\n",
       "      <td>0.00</td>\n",
       "      <td>organic</td>\n",
       "      <td>2017</td>\n",
       "      <td>Atlanta</td>\n",
       "      <td>2017-03-19</td>\n",
       "      <td>March</td>\n",
       "    </tr>\n",
       "    <tr>\n",
       "      <th>14836</th>\n",
       "      <td>2017-03-12</td>\n",
       "      <td>0.90</td>\n",
       "      <td>18563.32</td>\n",
       "      <td>2140.74</td>\n",
       "      <td>4782.95</td>\n",
       "      <td>0.00</td>\n",
       "      <td>11639.63</td>\n",
       "      <td>189.89</td>\n",
       "      <td>11449.74</td>\n",
       "      <td>0.00</td>\n",
       "      <td>organic</td>\n",
       "      <td>2017</td>\n",
       "      <td>Atlanta</td>\n",
       "      <td>2017-03-12</td>\n",
       "      <td>March</td>\n",
       "    </tr>\n",
       "    <tr>\n",
       "      <th>14837</th>\n",
       "      <td>2017-03-05</td>\n",
       "      <td>0.62</td>\n",
       "      <td>32292.39</td>\n",
       "      <td>2078.48</td>\n",
       "      <td>4175.17</td>\n",
       "      <td>0.00</td>\n",
       "      <td>26038.74</td>\n",
       "      <td>342.28</td>\n",
       "      <td>25696.46</td>\n",
       "      <td>0.00</td>\n",
       "      <td>organic</td>\n",
       "      <td>2017</td>\n",
       "      <td>Atlanta</td>\n",
       "      <td>2017-03-05</td>\n",
       "      <td>March</td>\n",
       "    </tr>\n",
       "    <tr>\n",
       "      <th>14838</th>\n",
       "      <td>2017-02-26</td>\n",
       "      <td>0.64</td>\n",
       "      <td>24322.77</td>\n",
       "      <td>1111.31</td>\n",
       "      <td>3495.28</td>\n",
       "      <td>0.00</td>\n",
       "      <td>19716.18</td>\n",
       "      <td>150.00</td>\n",
       "      <td>19566.18</td>\n",
       "      <td>0.00</td>\n",
       "      <td>organic</td>\n",
       "      <td>2017</td>\n",
       "      <td>Atlanta</td>\n",
       "      <td>2017-02-26</td>\n",
       "      <td>February</td>\n",
       "    </tr>\n",
       "    <tr>\n",
       "      <th>14839</th>\n",
       "      <td>2017-02-19</td>\n",
       "      <td>1.06</td>\n",
       "      <td>11866.71</td>\n",
       "      <td>1388.40</td>\n",
       "      <td>3401.60</td>\n",
       "      <td>0.00</td>\n",
       "      <td>7076.71</td>\n",
       "      <td>85.62</td>\n",
       "      <td>6991.09</td>\n",
       "      <td>0.00</td>\n",
       "      <td>organic</td>\n",
       "      <td>2017</td>\n",
       "      <td>Atlanta</td>\n",
       "      <td>2017-02-19</td>\n",
       "      <td>February</td>\n",
       "    </tr>\n",
       "    <tr>\n",
       "      <th>14840</th>\n",
       "      <td>2017-02-12</td>\n",
       "      <td>1.07</td>\n",
       "      <td>11072.75</td>\n",
       "      <td>1085.35</td>\n",
       "      <td>4061.87</td>\n",
       "      <td>0.00</td>\n",
       "      <td>5925.53</td>\n",
       "      <td>200.31</td>\n",
       "      <td>5725.22</td>\n",
       "      <td>0.00</td>\n",
       "      <td>organic</td>\n",
       "      <td>2017</td>\n",
       "      <td>Atlanta</td>\n",
       "      <td>2017-02-12</td>\n",
       "      <td>February</td>\n",
       "    </tr>\n",
       "    <tr>\n",
       "      <th>14841</th>\n",
       "      <td>2017-02-05</td>\n",
       "      <td>1.28</td>\n",
       "      <td>9685.15</td>\n",
       "      <td>1418.26</td>\n",
       "      <td>4208.97</td>\n",
       "      <td>0.00</td>\n",
       "      <td>4057.92</td>\n",
       "      <td>35.71</td>\n",
       "      <td>4022.21</td>\n",
       "      <td>0.00</td>\n",
       "      <td>organic</td>\n",
       "      <td>2017</td>\n",
       "      <td>Atlanta</td>\n",
       "      <td>2017-02-05</td>\n",
       "      <td>February</td>\n",
       "    </tr>\n",
       "    <tr>\n",
       "      <th>14842</th>\n",
       "      <td>2017-01-29</td>\n",
       "      <td>1.53</td>\n",
       "      <td>7330.86</td>\n",
       "      <td>1102.57</td>\n",
       "      <td>4181.73</td>\n",
       "      <td>0.00</td>\n",
       "      <td>2046.56</td>\n",
       "      <td>5.58</td>\n",
       "      <td>2040.98</td>\n",
       "      <td>0.00</td>\n",
       "      <td>organic</td>\n",
       "      <td>2017</td>\n",
       "      <td>Atlanta</td>\n",
       "      <td>2017-01-29</td>\n",
       "      <td>January</td>\n",
       "    </tr>\n",
       "    <tr>\n",
       "      <th>14843</th>\n",
       "      <td>2017-01-22</td>\n",
       "      <td>1.62</td>\n",
       "      <td>7484.99</td>\n",
       "      <td>1121.56</td>\n",
       "      <td>4738.82</td>\n",
       "      <td>0.00</td>\n",
       "      <td>1624.61</td>\n",
       "      <td>2.79</td>\n",
       "      <td>1621.82</td>\n",
       "      <td>0.00</td>\n",
       "      <td>organic</td>\n",
       "      <td>2017</td>\n",
       "      <td>Atlanta</td>\n",
       "      <td>2017-01-22</td>\n",
       "      <td>January</td>\n",
       "    </tr>\n",
       "    <tr>\n",
       "      <th>14844</th>\n",
       "      <td>2017-01-15</td>\n",
       "      <td>1.62</td>\n",
       "      <td>6291.29</td>\n",
       "      <td>1129.49</td>\n",
       "      <td>3582.50</td>\n",
       "      <td>0.00</td>\n",
       "      <td>1579.30</td>\n",
       "      <td>0.00</td>\n",
       "      <td>1579.30</td>\n",
       "      <td>0.00</td>\n",
       "      <td>organic</td>\n",
       "      <td>2017</td>\n",
       "      <td>Atlanta</td>\n",
       "      <td>2017-01-15</td>\n",
       "      <td>January</td>\n",
       "    </tr>\n",
       "    <tr>\n",
       "      <th>14845</th>\n",
       "      <td>2017-01-08</td>\n",
       "      <td>1.74</td>\n",
       "      <td>8244.17</td>\n",
       "      <td>1456.00</td>\n",
       "      <td>5316.57</td>\n",
       "      <td>0.00</td>\n",
       "      <td>1471.60</td>\n",
       "      <td>0.00</td>\n",
       "      <td>1471.60</td>\n",
       "      <td>0.00</td>\n",
       "      <td>organic</td>\n",
       "      <td>2017</td>\n",
       "      <td>Atlanta</td>\n",
       "      <td>2017-01-08</td>\n",
       "      <td>January</td>\n",
       "    </tr>\n",
       "    <tr>\n",
       "      <th>14846</th>\n",
       "      <td>2017-01-01</td>\n",
       "      <td>1.81</td>\n",
       "      <td>5342.85</td>\n",
       "      <td>956.73</td>\n",
       "      <td>2862.95</td>\n",
       "      <td>0.00</td>\n",
       "      <td>1523.17</td>\n",
       "      <td>5.55</td>\n",
       "      <td>1517.62</td>\n",
       "      <td>0.00</td>\n",
       "      <td>organic</td>\n",
       "      <td>2017</td>\n",
       "      <td>Atlanta</td>\n",
       "      <td>2017-01-01</td>\n",
       "      <td>January</td>\n",
       "    </tr>\n",
       "    <tr>\n",
       "      <th>17613</th>\n",
       "      <td>2018-03-25</td>\n",
       "      <td>1.56</td>\n",
       "      <td>18717.08</td>\n",
       "      <td>469.23</td>\n",
       "      <td>3942.82</td>\n",
       "      <td>0.00</td>\n",
       "      <td>14305.03</td>\n",
       "      <td>9398.45</td>\n",
       "      <td>4906.58</td>\n",
       "      <td>0.00</td>\n",
       "      <td>organic</td>\n",
       "      <td>2018</td>\n",
       "      <td>Atlanta</td>\n",
       "      <td>2018-03-25</td>\n",
       "      <td>March</td>\n",
       "    </tr>\n",
       "    <tr>\n",
       "      <th>17614</th>\n",
       "      <td>2018-03-18</td>\n",
       "      <td>1.48</td>\n",
       "      <td>19014.68</td>\n",
       "      <td>626.28</td>\n",
       "      <td>5411.88</td>\n",
       "      <td>0.00</td>\n",
       "      <td>12976.52</td>\n",
       "      <td>9134.72</td>\n",
       "      <td>3841.80</td>\n",
       "      <td>0.00</td>\n",
       "      <td>organic</td>\n",
       "      <td>2018</td>\n",
       "      <td>Atlanta</td>\n",
       "      <td>2018-03-18</td>\n",
       "      <td>March</td>\n",
       "    </tr>\n",
       "    <tr>\n",
       "      <th>17615</th>\n",
       "      <td>2018-03-11</td>\n",
       "      <td>1.43</td>\n",
       "      <td>23042.99</td>\n",
       "      <td>590.29</td>\n",
       "      <td>5224.55</td>\n",
       "      <td>0.00</td>\n",
       "      <td>17228.15</td>\n",
       "      <td>16438.54</td>\n",
       "      <td>789.61</td>\n",
       "      <td>0.00</td>\n",
       "      <td>organic</td>\n",
       "      <td>2018</td>\n",
       "      <td>Atlanta</td>\n",
       "      <td>2018-03-11</td>\n",
       "      <td>March</td>\n",
       "    </tr>\n",
       "    <tr>\n",
       "      <th>17616</th>\n",
       "      <td>2018-03-04</td>\n",
       "      <td>1.66</td>\n",
       "      <td>17082.00</td>\n",
       "      <td>597.40</td>\n",
       "      <td>5315.48</td>\n",
       "      <td>0.00</td>\n",
       "      <td>11169.12</td>\n",
       "      <td>9691.97</td>\n",
       "      <td>1477.15</td>\n",
       "      <td>0.00</td>\n",
       "      <td>organic</td>\n",
       "      <td>2018</td>\n",
       "      <td>Atlanta</td>\n",
       "      <td>2018-03-04</td>\n",
       "      <td>March</td>\n",
       "    </tr>\n",
       "    <tr>\n",
       "      <th>17617</th>\n",
       "      <td>2018-02-25</td>\n",
       "      <td>1.55</td>\n",
       "      <td>15348.44</td>\n",
       "      <td>530.19</td>\n",
       "      <td>5122.82</td>\n",
       "      <td>0.00</td>\n",
       "      <td>9695.43</td>\n",
       "      <td>9065.30</td>\n",
       "      <td>630.13</td>\n",
       "      <td>0.00</td>\n",
       "      <td>organic</td>\n",
       "      <td>2018</td>\n",
       "      <td>Atlanta</td>\n",
       "      <td>2018-02-25</td>\n",
       "      <td>February</td>\n",
       "    </tr>\n",
       "    <tr>\n",
       "      <th>17618</th>\n",
       "      <td>2018-02-18</td>\n",
       "      <td>1.56</td>\n",
       "      <td>11165.57</td>\n",
       "      <td>429.96</td>\n",
       "      <td>4037.32</td>\n",
       "      <td>0.00</td>\n",
       "      <td>6698.29</td>\n",
       "      <td>5920.95</td>\n",
       "      <td>777.34</td>\n",
       "      <td>0.00</td>\n",
       "      <td>organic</td>\n",
       "      <td>2018</td>\n",
       "      <td>Atlanta</td>\n",
       "      <td>2018-02-18</td>\n",
       "      <td>February</td>\n",
       "    </tr>\n",
       "    <tr>\n",
       "      <th>17619</th>\n",
       "      <td>2018-02-11</td>\n",
       "      <td>1.55</td>\n",
       "      <td>14843.93</td>\n",
       "      <td>384.86</td>\n",
       "      <td>3957.78</td>\n",
       "      <td>0.00</td>\n",
       "      <td>10501.29</td>\n",
       "      <td>7478.35</td>\n",
       "      <td>3022.94</td>\n",
       "      <td>0.00</td>\n",
       "      <td>organic</td>\n",
       "      <td>2018</td>\n",
       "      <td>Atlanta</td>\n",
       "      <td>2018-02-11</td>\n",
       "      <td>February</td>\n",
       "    </tr>\n",
       "    <tr>\n",
       "      <th>17620</th>\n",
       "      <td>2018-02-04</td>\n",
       "      <td>1.62</td>\n",
       "      <td>11900.41</td>\n",
       "      <td>384.29</td>\n",
       "      <td>4042.55</td>\n",
       "      <td>0.00</td>\n",
       "      <td>7473.57</td>\n",
       "      <td>5731.98</td>\n",
       "      <td>1741.59</td>\n",
       "      <td>0.00</td>\n",
       "      <td>organic</td>\n",
       "      <td>2018</td>\n",
       "      <td>Atlanta</td>\n",
       "      <td>2018-02-04</td>\n",
       "      <td>February</td>\n",
       "    </tr>\n",
       "    <tr>\n",
       "      <th>17621</th>\n",
       "      <td>2018-01-28</td>\n",
       "      <td>1.67</td>\n",
       "      <td>14446.26</td>\n",
       "      <td>390.17</td>\n",
       "      <td>5130.48</td>\n",
       "      <td>0.00</td>\n",
       "      <td>8925.61</td>\n",
       "      <td>5602.18</td>\n",
       "      <td>3323.43</td>\n",
       "      <td>0.00</td>\n",
       "      <td>organic</td>\n",
       "      <td>2018</td>\n",
       "      <td>Atlanta</td>\n",
       "      <td>2018-01-28</td>\n",
       "      <td>January</td>\n",
       "    </tr>\n",
       "    <tr>\n",
       "      <th>17622</th>\n",
       "      <td>2018-01-21</td>\n",
       "      <td>1.64</td>\n",
       "      <td>18554.97</td>\n",
       "      <td>349.05</td>\n",
       "      <td>3967.66</td>\n",
       "      <td>0.00</td>\n",
       "      <td>14238.26</td>\n",
       "      <td>6204.43</td>\n",
       "      <td>8033.83</td>\n",
       "      <td>0.00</td>\n",
       "      <td>organic</td>\n",
       "      <td>2018</td>\n",
       "      <td>Atlanta</td>\n",
       "      <td>2018-01-21</td>\n",
       "      <td>January</td>\n",
       "    </tr>\n",
       "    <tr>\n",
       "      <th>17623</th>\n",
       "      <td>2018-01-14</td>\n",
       "      <td>1.56</td>\n",
       "      <td>16151.70</td>\n",
       "      <td>291.55</td>\n",
       "      <td>3583.40</td>\n",
       "      <td>0.00</td>\n",
       "      <td>12276.75</td>\n",
       "      <td>7227.80</td>\n",
       "      <td>5048.95</td>\n",
       "      <td>0.00</td>\n",
       "      <td>organic</td>\n",
       "      <td>2018</td>\n",
       "      <td>Atlanta</td>\n",
       "      <td>2018-01-14</td>\n",
       "      <td>January</td>\n",
       "    </tr>\n",
       "    <tr>\n",
       "      <th>17624</th>\n",
       "      <td>2018-01-07</td>\n",
       "      <td>1.53</td>\n",
       "      <td>15714.11</td>\n",
       "      <td>405.37</td>\n",
       "      <td>4195.19</td>\n",
       "      <td>0.00</td>\n",
       "      <td>11113.55</td>\n",
       "      <td>7883.61</td>\n",
       "      <td>3229.94</td>\n",
       "      <td>0.00</td>\n",
       "      <td>organic</td>\n",
       "      <td>2018</td>\n",
       "      <td>Atlanta</td>\n",
       "      <td>2018-01-07</td>\n",
       "      <td>January</td>\n",
       "    </tr>\n",
       "  </tbody>\n",
       "</table>\n",
       "<p>338 rows × 15 columns</p>\n",
       "</div>"
      ],
      "text/plain": [
       "             Date  AveragePrice  Total Volume       4046      4225     4770  \\\n",
       "52     2015-12-27          0.99     386100.49  292097.36  27350.92   297.90   \n",
       "53     2015-12-20          1.08     331377.53  251774.15  20702.45   103.06   \n",
       "54     2015-12-13          0.96     417772.47  324932.28  31019.08   275.80   \n",
       "55     2015-12-06          1.07     357636.82  283024.01  23740.85   181.92   \n",
       "56     2015-11-29          0.99     333280.79  250288.65  28889.63   307.83   \n",
       "57     2015-11-22          1.00     356414.57  269799.03  29732.30   501.16   \n",
       "58     2015-11-15          1.13     339860.68  263915.78  28442.45   455.97   \n",
       "59     2015-11-08          1.12     334041.60  250441.38  34483.33   488.24   \n",
       "60     2015-11-01          0.99     419088.74  290457.50  62980.07   252.79   \n",
       "61     2015-10-25          1.09     358478.08  236814.29  64607.97   304.36   \n",
       "62     2015-10-18          1.09     349072.48  228710.28  59731.79   291.22   \n",
       "63     2015-10-11          0.95     433874.46  255933.32  91047.32   599.71   \n",
       "64     2015-10-04          0.96     418682.26  265797.09  92780.33   644.43   \n",
       "65     2015-09-27          1.07     370321.17  262107.44  61870.63   680.80   \n",
       "66     2015-09-20          0.93     516432.60  346118.51  82762.72  1349.41   \n",
       "67     2015-09-13          1.07     417232.18  278048.26  62485.97   714.93   \n",
       "68     2015-09-06          0.97     472136.53  303113.24  73675.85   911.25   \n",
       "69     2015-08-30          1.15     382972.72  275818.27  44839.12  1034.09   \n",
       "70     2015-08-23          1.12     379054.29  274462.42  46223.69   950.09   \n",
       "71     2015-08-16          1.09     465213.81  362579.51  41992.44  1424.96   \n",
       "72     2015-08-09          1.01     503791.72  385027.71  47040.07  4251.74   \n",
       "73     2015-08-02          1.15     405898.44  306587.86  41906.78  3515.48   \n",
       "74     2015-07-26          1.08     437377.75  335372.02  44087.07   708.00   \n",
       "75     2015-07-19          0.97     557212.99  446100.17  47838.42  1982.03   \n",
       "76     2015-07-12          1.14     407204.88  310080.33  37953.24   867.46   \n",
       "77     2015-07-05          1.01     562462.33  436377.91  54675.38   848.55   \n",
       "78     2015-06-28          1.13     435210.71  331353.43  37698.53   816.56   \n",
       "79     2015-06-21          0.99     554763.76  449311.47  30231.78   678.40   \n",
       "80     2015-06-14          1.10     465804.78  386370.50  17701.12   471.72   \n",
       "81     2015-06-07          0.99     551009.05  455565.92  22414.17   738.68   \n",
       "...           ...           ...           ...        ...       ...      ...   \n",
       "14829  2017-04-30          1.59      15041.91    1487.72   7556.77     0.00   \n",
       "14830  2017-04-23          1.63      13269.05    1704.94   7073.78     0.00   \n",
       "14831  2017-04-16          1.27      16411.10    1593.09   7034.18     0.00   \n",
       "14832  2017-04-09          0.91      24438.67    1358.59   5782.33     0.00   \n",
       "14833  2017-04-02          1.26      16943.34    1252.51   6359.96     0.00   \n",
       "14834  2017-03-26          1.27      16209.23    1653.21   5804.09     0.00   \n",
       "14835  2017-03-19          1.23      11754.42    1756.42   4656.72     0.00   \n",
       "14836  2017-03-12          0.90      18563.32    2140.74   4782.95     0.00   \n",
       "14837  2017-03-05          0.62      32292.39    2078.48   4175.17     0.00   \n",
       "14838  2017-02-26          0.64      24322.77    1111.31   3495.28     0.00   \n",
       "14839  2017-02-19          1.06      11866.71    1388.40   3401.60     0.00   \n",
       "14840  2017-02-12          1.07      11072.75    1085.35   4061.87     0.00   \n",
       "14841  2017-02-05          1.28       9685.15    1418.26   4208.97     0.00   \n",
       "14842  2017-01-29          1.53       7330.86    1102.57   4181.73     0.00   \n",
       "14843  2017-01-22          1.62       7484.99    1121.56   4738.82     0.00   \n",
       "14844  2017-01-15          1.62       6291.29    1129.49   3582.50     0.00   \n",
       "14845  2017-01-08          1.74       8244.17    1456.00   5316.57     0.00   \n",
       "14846  2017-01-01          1.81       5342.85     956.73   2862.95     0.00   \n",
       "17613  2018-03-25          1.56      18717.08     469.23   3942.82     0.00   \n",
       "17614  2018-03-18          1.48      19014.68     626.28   5411.88     0.00   \n",
       "17615  2018-03-11          1.43      23042.99     590.29   5224.55     0.00   \n",
       "17616  2018-03-04          1.66      17082.00     597.40   5315.48     0.00   \n",
       "17617  2018-02-25          1.55      15348.44     530.19   5122.82     0.00   \n",
       "17618  2018-02-18          1.56      11165.57     429.96   4037.32     0.00   \n",
       "17619  2018-02-11          1.55      14843.93     384.86   3957.78     0.00   \n",
       "17620  2018-02-04          1.62      11900.41     384.29   4042.55     0.00   \n",
       "17621  2018-01-28          1.67      14446.26     390.17   5130.48     0.00   \n",
       "17622  2018-01-21          1.64      18554.97     349.05   3967.66     0.00   \n",
       "17623  2018-01-14          1.56      16151.70     291.55   3583.40     0.00   \n",
       "17624  2018-01-07          1.53      15714.11     405.37   4195.19     0.00   \n",
       "\n",
       "       Total Bags  Small Bags  Large Bags  XLarge Bags          type  year  \\\n",
       "52       66354.31    48605.95    17748.36         0.00  conventional  2015   \n",
       "53       58797.87    46930.26    11867.61         0.00  conventional  2015   \n",
       "54       61545.31    38903.57    22628.21        13.53  conventional  2015   \n",
       "55       50690.04    37032.67    13654.66         2.71  conventional  2015   \n",
       "56       53794.68    33031.72    20738.55        24.41  conventional  2015   \n",
       "57       56382.08    36992.30    19389.78         0.00  conventional  2015   \n",
       "58       47046.48    33656.42    13390.06         0.00  conventional  2015   \n",
       "59       48628.65    35662.93    12941.12        24.60  conventional  2015   \n",
       "60       65398.38    39460.77    25929.39         8.22  conventional  2015   \n",
       "61       56751.46    31826.88    24924.58         0.00  conventional  2015   \n",
       "62       60339.19    36884.35    23454.84         0.00  conventional  2015   \n",
       "63       86294.11    41159.96    45134.15         0.00  conventional  2015   \n",
       "64       59460.41    14875.64    44584.77         0.00  conventional  2015   \n",
       "65       45662.30    20533.87    25125.65         2.78  conventional  2015   \n",
       "66       86201.96    33698.43    52442.25        61.28  conventional  2015   \n",
       "67       75983.02    46290.32    29678.76        13.94  conventional  2015   \n",
       "68       94436.19    49833.55    44549.67        52.97  conventional  2015   \n",
       "69       61281.24    47138.07    14112.50        30.67  conventional  2015   \n",
       "70       57418.09    45534.11    11883.98         0.00  conventional  2015   \n",
       "71       59216.90    45068.25    14148.65         0.00  conventional  2015   \n",
       "72       67472.20    45820.45    21568.48        83.27  conventional  2015   \n",
       "73       53888.32    42126.47    11720.30        41.55  conventional  2015   \n",
       "74       57210.66    45114.22    12096.44         0.00  conventional  2015   \n",
       "75       61292.37    45099.87    16192.50         0.00  conventional  2015   \n",
       "76       58303.85    46023.59    12280.26         0.00  conventional  2015   \n",
       "77       70560.49    50684.74    19851.00        24.75  conventional  2015   \n",
       "78       65342.19    52099.76    13108.03       134.40  conventional  2015   \n",
       "79       74542.11    55484.76    19010.81        46.54  conventional  2015   \n",
       "80       61261.44    48612.13    12578.28        71.03  conventional  2015   \n",
       "81       72290.28    50954.84    21329.99         5.45  conventional  2015   \n",
       "...           ...         ...         ...          ...           ...   ...   \n",
       "14829     5997.42      194.73     5802.69         0.00       organic  2017   \n",
       "14830     4490.33      147.22     4343.11         0.00       organic  2017   \n",
       "14831     7783.83      278.87     7504.96         0.00       organic  2017   \n",
       "14832    17297.75     1629.46    15668.29         0.00       organic  2017   \n",
       "14833     9330.87      636.10     8694.77         0.00       organic  2017   \n",
       "14834     8751.93      146.67     8605.26         0.00       organic  2017   \n",
       "14835     5341.28      125.41     5215.87         0.00       organic  2017   \n",
       "14836    11639.63      189.89    11449.74         0.00       organic  2017   \n",
       "14837    26038.74      342.28    25696.46         0.00       organic  2017   \n",
       "14838    19716.18      150.00    19566.18         0.00       organic  2017   \n",
       "14839     7076.71       85.62     6991.09         0.00       organic  2017   \n",
       "14840     5925.53      200.31     5725.22         0.00       organic  2017   \n",
       "14841     4057.92       35.71     4022.21         0.00       organic  2017   \n",
       "14842     2046.56        5.58     2040.98         0.00       organic  2017   \n",
       "14843     1624.61        2.79     1621.82         0.00       organic  2017   \n",
       "14844     1579.30        0.00     1579.30         0.00       organic  2017   \n",
       "14845     1471.60        0.00     1471.60         0.00       organic  2017   \n",
       "14846     1523.17        5.55     1517.62         0.00       organic  2017   \n",
       "17613    14305.03     9398.45     4906.58         0.00       organic  2018   \n",
       "17614    12976.52     9134.72     3841.80         0.00       organic  2018   \n",
       "17615    17228.15    16438.54      789.61         0.00       organic  2018   \n",
       "17616    11169.12     9691.97     1477.15         0.00       organic  2018   \n",
       "17617     9695.43     9065.30      630.13         0.00       organic  2018   \n",
       "17618     6698.29     5920.95      777.34         0.00       organic  2018   \n",
       "17619    10501.29     7478.35     3022.94         0.00       organic  2018   \n",
       "17620     7473.57     5731.98     1741.59         0.00       organic  2018   \n",
       "17621     8925.61     5602.18     3323.43         0.00       organic  2018   \n",
       "17622    14238.26     6204.43     8033.83         0.00       organic  2018   \n",
       "17623    12276.75     7227.80     5048.95         0.00       organic  2018   \n",
       "17624    11113.55     7883.61     3229.94         0.00       organic  2018   \n",
       "\n",
       "        region    date_dt      month  \n",
       "52     Atlanta 2015-12-27   December  \n",
       "53     Atlanta 2015-12-20   December  \n",
       "54     Atlanta 2015-12-13   December  \n",
       "55     Atlanta 2015-12-06   December  \n",
       "56     Atlanta 2015-11-29   November  \n",
       "57     Atlanta 2015-11-22   November  \n",
       "58     Atlanta 2015-11-15   November  \n",
       "59     Atlanta 2015-11-08   November  \n",
       "60     Atlanta 2015-11-01   November  \n",
       "61     Atlanta 2015-10-25    October  \n",
       "62     Atlanta 2015-10-18    October  \n",
       "63     Atlanta 2015-10-11    October  \n",
       "64     Atlanta 2015-10-04    October  \n",
       "65     Atlanta 2015-09-27  September  \n",
       "66     Atlanta 2015-09-20  September  \n",
       "67     Atlanta 2015-09-13  September  \n",
       "68     Atlanta 2015-09-06  September  \n",
       "69     Atlanta 2015-08-30     August  \n",
       "70     Atlanta 2015-08-23     August  \n",
       "71     Atlanta 2015-08-16     August  \n",
       "72     Atlanta 2015-08-09     August  \n",
       "73     Atlanta 2015-08-02     August  \n",
       "74     Atlanta 2015-07-26       July  \n",
       "75     Atlanta 2015-07-19       July  \n",
       "76     Atlanta 2015-07-12       July  \n",
       "77     Atlanta 2015-07-05       July  \n",
       "78     Atlanta 2015-06-28       June  \n",
       "79     Atlanta 2015-06-21       June  \n",
       "80     Atlanta 2015-06-14       June  \n",
       "81     Atlanta 2015-06-07       June  \n",
       "...        ...        ...        ...  \n",
       "14829  Atlanta 2017-04-30      April  \n",
       "14830  Atlanta 2017-04-23      April  \n",
       "14831  Atlanta 2017-04-16      April  \n",
       "14832  Atlanta 2017-04-09      April  \n",
       "14833  Atlanta 2017-04-02      April  \n",
       "14834  Atlanta 2017-03-26      March  \n",
       "14835  Atlanta 2017-03-19      March  \n",
       "14836  Atlanta 2017-03-12      March  \n",
       "14837  Atlanta 2017-03-05      March  \n",
       "14838  Atlanta 2017-02-26   February  \n",
       "14839  Atlanta 2017-02-19   February  \n",
       "14840  Atlanta 2017-02-12   February  \n",
       "14841  Atlanta 2017-02-05   February  \n",
       "14842  Atlanta 2017-01-29    January  \n",
       "14843  Atlanta 2017-01-22    January  \n",
       "14844  Atlanta 2017-01-15    January  \n",
       "14845  Atlanta 2017-01-08    January  \n",
       "14846  Atlanta 2017-01-01    January  \n",
       "17613  Atlanta 2018-03-25      March  \n",
       "17614  Atlanta 2018-03-18      March  \n",
       "17615  Atlanta 2018-03-11      March  \n",
       "17616  Atlanta 2018-03-04      March  \n",
       "17617  Atlanta 2018-02-25   February  \n",
       "17618  Atlanta 2018-02-18   February  \n",
       "17619  Atlanta 2018-02-11   February  \n",
       "17620  Atlanta 2018-02-04   February  \n",
       "17621  Atlanta 2018-01-28    January  \n",
       "17622  Atlanta 2018-01-21    January  \n",
       "17623  Atlanta 2018-01-14    January  \n",
       "17624  Atlanta 2018-01-07    January  \n",
       "\n",
       "[338 rows x 15 columns]"
      ]
     },
     "execution_count": 489,
     "metadata": {},
     "output_type": "execute_result"
    }
   ],
   "source": [
    "grpby_obj.get_group('Atlanta')"
   ]
  },
  {
   "cell_type": "code",
   "execution_count": null,
   "metadata": {},
   "outputs": [],
   "source": [
    "# avg price in each region\n",
    "df3[\"AveragePrice\"].mean()"
   ]
  },
  {
   "cell_type": "code",
   "execution_count": 480,
   "metadata": {},
   "outputs": [
    {
     "data": {
      "text/plain": [
       "<matplotlib.axes._subplots.AxesSubplot at 0x221da65e1d0>"
      ]
     },
     "execution_count": 480,
     "metadata": {},
     "output_type": "execute_result"
    },
    {
     "data": {
      "image/png": "[encoded data removed]",
      "text/plain": [
       "<Figure size 432x288 with 1 Axes>"
      ]
     },
     "metadata": {
      "needs_background": "light"
     },
     "output_type": "display_data"
    }
   ],
   "source": [
    "resdf.groupby(['date_dt'])['AveragePrice'].mean().plot()"
   ]
  },
  {
   "cell_type": "code",
   "execution_count": null,
   "metadata": {},
   "outputs": [],
   "source": [
    "# for each year,, the total volume..."
   ]
  },
  {
   "cell_type": "code",
   "execution_count": 448,
   "metadata": {},
   "outputs": [
    {
     "data": {
      "text/plain": [
       "array([2015, 2016, 2017, 2018], dtype=int64)"
      ]
     },
     "execution_count": 448,
     "metadata": {},
     "output_type": "execute_result"
    }
   ],
   "source": [
    "df.year.unique()"
   ]
  },
  {
   "cell_type": "code",
   "execution_count": 461,
   "metadata": {},
   "outputs": [
    {
     "name": "stdout",
     "output_type": "stream",
     "text": [
      "2015 5615 4385468662.04\n",
      "2016 5616 4820889891.83\n",
      "2017 5722 4934305699.27\n"
     ]
    }
   ],
   "source": [
    "dfs = []\n",
    "for year in df.year.unique()[:-1]:\n",
    "    mask = df.year == year\n",
    "    subset_by_year_df = df[mask].copy()\n",
    "    \n",
    "    print(year, len(subset_by_year_df), subset_by_year_df['Total Volume'].sum())\n",
    "    \n",
    "    dfs.append(subset_by_year_df)"
   ]
  },
  {
   "cell_type": "code",
   "execution_count": 460,
   "metadata": {},
   "outputs": [
    {
     "data": {
      "text/plain": [
       "4820889891.83"
      ]
     },
     "execution_count": 460,
     "metadata": {},
     "output_type": "execute_result"
    }
   ],
   "source": [
    "dfs[1]['Total Volume'].sum()"
   ]
  },
  {
   "cell_type": "code",
   "execution_count": 539,
   "metadata": {},
   "outputs": [],
   "source": [
    "del df[\"Date\"]"
   ]
  },
  {
   "cell_type": "code",
   "execution_count": 542,
   "metadata": {},
   "outputs": [],
   "source": [
    "df[\"type_c\"] = df.type"
   ]
  },
  {
   "cell_type": "code",
   "execution_count": 550,
   "metadata": {},
   "outputs": [
    {
     "data": {
      "text/plain": [
       "{'conventional': 0, 'organic': 1}"
      ]
     },
     "execution_count": 550,
     "metadata": {},
     "output_type": "execute_result"
    }
   ],
   "source": []
  },
  {
   "cell_type": "code",
   "execution_count": 554,
   "metadata": {},
   "outputs": [],
   "source": []
  },
  {
   "cell_type": "code",
   "execution_count": 556,
   "metadata": {},
   "outputs": [
    {
     "data": {
      "text/plain": [
       "1"
      ]
     },
     "execution_count": 556,
     "metadata": {},
     "output_type": "execute_result"
    }
   ],
   "source": [
    "func('organic')"
   ]
  },
  {
   "cell_type": "code",
   "execution_count": 561,
   "metadata": {},
   "outputs": [],
   "source": [
    "type_lookup = { item:index for index, item in enumerate(df.type.unique())}\n",
    "\n",
    "def func(x):\n",
    "    return type_lookup[x]"
   ]
  },
  {
   "cell_type": "code",
   "execution_count": 565,
   "metadata": {},
   "outputs": [
    {
     "data": {
      "text/plain": [
       "1"
      ]
     },
     "execution_count": 565,
     "metadata": {},
     "output_type": "execute_result"
    }
   ],
   "source": [
    "type_lookup[\"organic\"]"
   ]
  },
  {
   "cell_type": "code",
   "execution_count": 562,
   "metadata": {},
   "outputs": [],
   "source": [
    "df[\"type_c\"] = df.type.apply( func)"
   ]
  },
  {
   "cell_type": "code",
   "execution_count": 570,
   "metadata": {},
   "outputs": [],
   "source": [
    "df[\"region_c\"] = df.region.astype('category')"
   ]
  },
  {
   "cell_type": "code",
   "execution_count": 571,
   "metadata": {},
   "outputs": [
    {
     "data": {
      "text/html": [
       "<div>\n",
       "<style scoped>\n",
       "    .dataframe tbody tr th:only-of-type {\n",
       "        vertical-align: middle;\n",
       "    }\n",
       "\n",
       "    .dataframe tbody tr th {\n",
       "        vertical-align: top;\n",
       "    }\n",
       "\n",
       "    .dataframe thead th {\n",
       "        text-align: right;\n",
       "    }\n",
       "</style>\n",
       "<table border=\"1\" class=\"dataframe\">\n",
       "  <thead>\n",
       "    <tr style=\"text-align: right;\">\n",
       "      <th></th>\n",
       "      <th>AveragePrice</th>\n",
       "      <th>Total Volume</th>\n",
       "      <th>4046</th>\n",
       "      <th>4225</th>\n",
       "      <th>4770</th>\n",
       "      <th>Total Bags</th>\n",
       "      <th>Small Bags</th>\n",
       "      <th>Large Bags</th>\n",
       "      <th>XLarge Bags</th>\n",
       "      <th>type</th>\n",
       "      <th>year</th>\n",
       "      <th>region</th>\n",
       "      <th>date_dt</th>\n",
       "      <th>month</th>\n",
       "      <th>type_c</th>\n",
       "      <th>region_c</th>\n",
       "    </tr>\n",
       "  </thead>\n",
       "  <tbody>\n",
       "    <tr>\n",
       "      <th>0</th>\n",
       "      <td>1.33</td>\n",
       "      <td>64236.62</td>\n",
       "      <td>1036.74</td>\n",
       "      <td>54454.85</td>\n",
       "      <td>48.16</td>\n",
       "      <td>8696.87</td>\n",
       "      <td>8603.62</td>\n",
       "      <td>93.25</td>\n",
       "      <td>0.0</td>\n",
       "      <td>conventional</td>\n",
       "      <td>2015</td>\n",
       "      <td>Albany</td>\n",
       "      <td>2015-12-27</td>\n",
       "      <td>December</td>\n",
       "      <td>0</td>\n",
       "      <td>Albany</td>\n",
       "    </tr>\n",
       "    <tr>\n",
       "      <th>1</th>\n",
       "      <td>1.35</td>\n",
       "      <td>54876.98</td>\n",
       "      <td>674.28</td>\n",
       "      <td>44638.81</td>\n",
       "      <td>58.33</td>\n",
       "      <td>9505.56</td>\n",
       "      <td>9408.07</td>\n",
       "      <td>97.49</td>\n",
       "      <td>0.0</td>\n",
       "      <td>conventional</td>\n",
       "      <td>2015</td>\n",
       "      <td>Albany</td>\n",
       "      <td>2015-12-20</td>\n",
       "      <td>December</td>\n",
       "      <td>0</td>\n",
       "      <td>Albany</td>\n",
       "    </tr>\n",
       "  </tbody>\n",
       "</table>\n",
       "</div>"
      ],
      "text/plain": [
       "   AveragePrice  Total Volume     4046      4225   4770  Total Bags  \\\n",
       "0          1.33      64236.62  1036.74  54454.85  48.16     8696.87   \n",
       "1          1.35      54876.98   674.28  44638.81  58.33     9505.56   \n",
       "\n",
       "   Small Bags  Large Bags  XLarge Bags          type  year  region    date_dt  \\\n",
       "0     8603.62       93.25          0.0  conventional  2015  Albany 2015-12-27   \n",
       "1     9408.07       97.49          0.0  conventional  2015  Albany 2015-12-20   \n",
       "\n",
       "      month  type_c region_c  \n",
       "0  December       0   Albany  \n",
       "1  December       0   Albany  "
      ]
     },
     "execution_count": 571,
     "metadata": {},
     "output_type": "execute_result"
    }
   ],
   "source": [
    "df.head(2)"
   ]
  },
  {
   "cell_type": "code",
   "execution_count": 575,
   "metadata": {},
   "outputs": [],
   "source": [
    "a = df.region_c.cat"
   ]
  },
  {
   "cell_type": "code",
   "execution_count": 576,
   "metadata": {},
   "outputs": [
    {
     "data": {
      "text/plain": [
       "Index(['Albany', 'Atlanta', 'BaltimoreWashington', 'Boise', 'Boston',\n",
       "       'BuffaloRochester', 'California', 'Charlotte', 'Chicago',\n",
       "       'CincinnatiDayton', 'Columbus', 'DallasFtWorth', 'Denver', 'Detroit',\n",
       "       'GrandRapids', 'GreatLakes', 'HarrisburgScranton',\n",
       "       'HartfordSpringfield', 'Houston', 'Indianapolis', 'Jacksonville',\n",
       "       'LasVegas', 'LosAngeles', 'Louisville', 'MiamiFtLauderdale', 'Midsouth',\n",
       "       'Nashville', 'NewOrleansMobile', 'NewYork', 'Northeast',\n",
       "       'NorthernNewEngland', 'Orlando', 'Philadelphia', 'PhoenixTucson',\n",
       "       'Pittsburgh', 'Plains', 'Portland', 'RaleighGreensboro',\n",
       "       'RichmondNorfolk', 'Roanoke', 'Sacramento', 'SanDiego', 'SanFrancisco',\n",
       "       'Seattle', 'SouthCarolina', 'SouthCentral', 'Southeast', 'Spokane',\n",
       "       'StLouis', 'Syracuse', 'Tampa', 'TotalUS', 'West', 'WestTexNewMexico'],\n",
       "      dtype='object')"
      ]
     },
     "execution_count": 576,
     "metadata": {},
     "output_type": "execute_result"
    }
   ],
   "source": [
    "a.categories"
   ]
  },
  {
   "cell_type": "code",
   "execution_count": 581,
   "metadata": {},
   "outputs": [],
   "source": [
    "df[\"regoin_c1\"] = df.region_c.cat.codes"
   ]
  },
  {
   "cell_type": "code",
   "execution_count": 582,
   "metadata": {},
   "outputs": [
    {
     "data": {
      "text/html": [
       "<div>\n",
       "<style scoped>\n",
       "    .dataframe tbody tr th:only-of-type {\n",
       "        vertical-align: middle;\n",
       "    }\n",
       "\n",
       "    .dataframe tbody tr th {\n",
       "        vertical-align: top;\n",
       "    }\n",
       "\n",
       "    .dataframe thead th {\n",
       "        text-align: right;\n",
       "    }\n",
       "</style>\n",
       "<table border=\"1\" class=\"dataframe\">\n",
       "  <thead>\n",
       "    <tr style=\"text-align: right;\">\n",
       "      <th></th>\n",
       "      <th>AveragePrice</th>\n",
       "      <th>Total Volume</th>\n",
       "      <th>4046</th>\n",
       "      <th>4225</th>\n",
       "      <th>4770</th>\n",
       "      <th>Total Bags</th>\n",
       "      <th>Small Bags</th>\n",
       "      <th>Large Bags</th>\n",
       "      <th>XLarge Bags</th>\n",
       "      <th>type</th>\n",
       "      <th>year</th>\n",
       "      <th>region</th>\n",
       "      <th>date_dt</th>\n",
       "      <th>month</th>\n",
       "      <th>type_c</th>\n",
       "      <th>region_c</th>\n",
       "      <th>regoin_c1</th>\n",
       "    </tr>\n",
       "  </thead>\n",
       "  <tbody>\n",
       "    <tr>\n",
       "      <th>0</th>\n",
       "      <td>1.33</td>\n",
       "      <td>64236.62</td>\n",
       "      <td>1036.74</td>\n",
       "      <td>54454.85</td>\n",
       "      <td>48.16</td>\n",
       "      <td>8696.87</td>\n",
       "      <td>8603.62</td>\n",
       "      <td>93.25</td>\n",
       "      <td>0.0</td>\n",
       "      <td>conventional</td>\n",
       "      <td>2015</td>\n",
       "      <td>Albany</td>\n",
       "      <td>2015-12-27</td>\n",
       "      <td>December</td>\n",
       "      <td>0</td>\n",
       "      <td>Albany</td>\n",
       "      <td>0</td>\n",
       "    </tr>\n",
       "    <tr>\n",
       "      <th>1</th>\n",
       "      <td>1.35</td>\n",
       "      <td>54876.98</td>\n",
       "      <td>674.28</td>\n",
       "      <td>44638.81</td>\n",
       "      <td>58.33</td>\n",
       "      <td>9505.56</td>\n",
       "      <td>9408.07</td>\n",
       "      <td>97.49</td>\n",
       "      <td>0.0</td>\n",
       "      <td>conventional</td>\n",
       "      <td>2015</td>\n",
       "      <td>Albany</td>\n",
       "      <td>2015-12-20</td>\n",
       "      <td>December</td>\n",
       "      <td>0</td>\n",
       "      <td>Albany</td>\n",
       "      <td>0</td>\n",
       "    </tr>\n",
       "    <tr>\n",
       "      <th>2</th>\n",
       "      <td>0.93</td>\n",
       "      <td>118220.22</td>\n",
       "      <td>794.70</td>\n",
       "      <td>109149.67</td>\n",
       "      <td>130.50</td>\n",
       "      <td>8145.35</td>\n",
       "      <td>8042.21</td>\n",
       "      <td>103.14</td>\n",
       "      <td>0.0</td>\n",
       "      <td>conventional</td>\n",
       "      <td>2015</td>\n",
       "      <td>Albany</td>\n",
       "      <td>2015-12-13</td>\n",
       "      <td>December</td>\n",
       "      <td>0</td>\n",
       "      <td>Albany</td>\n",
       "      <td>0</td>\n",
       "    </tr>\n",
       "    <tr>\n",
       "      <th>3</th>\n",
       "      <td>1.08</td>\n",
       "      <td>78992.15</td>\n",
       "      <td>1132.00</td>\n",
       "      <td>71976.41</td>\n",
       "      <td>72.58</td>\n",
       "      <td>5811.16</td>\n",
       "      <td>5677.40</td>\n",
       "      <td>133.76</td>\n",
       "      <td>0.0</td>\n",
       "      <td>conventional</td>\n",
       "      <td>2015</td>\n",
       "      <td>Albany</td>\n",
       "      <td>2015-12-06</td>\n",
       "      <td>December</td>\n",
       "      <td>0</td>\n",
       "      <td>Albany</td>\n",
       "      <td>0</td>\n",
       "    </tr>\n",
       "    <tr>\n",
       "      <th>4</th>\n",
       "      <td>1.28</td>\n",
       "      <td>51039.60</td>\n",
       "      <td>941.48</td>\n",
       "      <td>43838.39</td>\n",
       "      <td>75.78</td>\n",
       "      <td>6183.95</td>\n",
       "      <td>5986.26</td>\n",
       "      <td>197.69</td>\n",
       "      <td>0.0</td>\n",
       "      <td>conventional</td>\n",
       "      <td>2015</td>\n",
       "      <td>Albany</td>\n",
       "      <td>2015-11-29</td>\n",
       "      <td>November</td>\n",
       "      <td>0</td>\n",
       "      <td>Albany</td>\n",
       "      <td>0</td>\n",
       "    </tr>\n",
       "  </tbody>\n",
       "</table>\n",
       "</div>"
      ],
      "text/plain": [
       "   AveragePrice  Total Volume     4046       4225    4770  Total Bags  \\\n",
       "0          1.33      64236.62  1036.74   54454.85   48.16     8696.87   \n",
       "1          1.35      54876.98   674.28   44638.81   58.33     9505.56   \n",
       "2          0.93     118220.22   794.70  109149.67  130.50     8145.35   \n",
       "3          1.08      78992.15  1132.00   71976.41   72.58     5811.16   \n",
       "4          1.28      51039.60   941.48   43838.39   75.78     6183.95   \n",
       "\n",
       "   Small Bags  Large Bags  XLarge Bags          type  year  region    date_dt  \\\n",
       "0     8603.62       93.25          0.0  conventional  2015  Albany 2015-12-27   \n",
       "1     9408.07       97.49          0.0  conventional  2015  Albany 2015-12-20   \n",
       "2     8042.21      103.14          0.0  conventional  2015  Albany 2015-12-13   \n",
       "3     5677.40      133.76          0.0  conventional  2015  Albany 2015-12-06   \n",
       "4     5986.26      197.69          0.0  conventional  2015  Albany 2015-11-29   \n",
       "\n",
       "      month  type_c region_c  regoin_c1  \n",
       "0  December       0   Albany          0  \n",
       "1  December       0   Albany          0  \n",
       "2  December       0   Albany          0  \n",
       "3  December       0   Albany          0  \n",
       "4  November       0   Albany          0  "
      ]
     },
     "execution_count": 582,
     "metadata": {},
     "output_type": "execute_result"
    }
   ],
   "source": [
    "df.head()"
   ]
  },
  {
   "cell_type": "code",
   "execution_count": 583,
   "metadata": {},
   "outputs": [
    {
     "data": {
      "text/html": [
       "<div>\n",
       "<style scoped>\n",
       "    .dataframe tbody tr th:only-of-type {\n",
       "        vertical-align: middle;\n",
       "    }\n",
       "\n",
       "    .dataframe tbody tr th {\n",
       "        vertical-align: top;\n",
       "    }\n",
       "\n",
       "    .dataframe thead th {\n",
       "        text-align: right;\n",
       "    }\n",
       "</style>\n",
       "<table border=\"1\" class=\"dataframe\">\n",
       "  <thead>\n",
       "    <tr style=\"text-align: right;\">\n",
       "      <th></th>\n",
       "      <th>AveragePrice</th>\n",
       "      <th>Total Volume</th>\n",
       "      <th>4046</th>\n",
       "      <th>4225</th>\n",
       "      <th>4770</th>\n",
       "      <th>Total Bags</th>\n",
       "      <th>Small Bags</th>\n",
       "      <th>Large Bags</th>\n",
       "      <th>XLarge Bags</th>\n",
       "      <th>type</th>\n",
       "      <th>year</th>\n",
       "      <th>region</th>\n",
       "      <th>date_dt</th>\n",
       "      <th>month</th>\n",
       "      <th>type_c</th>\n",
       "      <th>region_c</th>\n",
       "      <th>regoin_c1</th>\n",
       "    </tr>\n",
       "  </thead>\n",
       "  <tbody>\n",
       "    <tr>\n",
       "      <th>0</th>\n",
       "      <td>1.33</td>\n",
       "      <td>64236.62</td>\n",
       "      <td>1036.74</td>\n",
       "      <td>54454.85</td>\n",
       "      <td>48.16</td>\n",
       "      <td>8696.87</td>\n",
       "      <td>8603.62</td>\n",
       "      <td>93.25</td>\n",
       "      <td>0.0</td>\n",
       "      <td>conventional</td>\n",
       "      <td>2015</td>\n",
       "      <td>Albany</td>\n",
       "      <td>2015-12-27</td>\n",
       "      <td>December</td>\n",
       "      <td>0</td>\n",
       "      <td>Albany</td>\n",
       "      <td>0</td>\n",
       "    </tr>\n",
       "    <tr>\n",
       "      <th>1</th>\n",
       "      <td>1.35</td>\n",
       "      <td>54876.98</td>\n",
       "      <td>674.28</td>\n",
       "      <td>44638.81</td>\n",
       "      <td>58.33</td>\n",
       "      <td>9505.56</td>\n",
       "      <td>9408.07</td>\n",
       "      <td>97.49</td>\n",
       "      <td>0.0</td>\n",
       "      <td>conventional</td>\n",
       "      <td>2015</td>\n",
       "      <td>Albany</td>\n",
       "      <td>2015-12-20</td>\n",
       "      <td>December</td>\n",
       "      <td>0</td>\n",
       "      <td>Albany</td>\n",
       "      <td>0</td>\n",
       "    </tr>\n",
       "    <tr>\n",
       "      <th>2</th>\n",
       "      <td>0.93</td>\n",
       "      <td>118220.22</td>\n",
       "      <td>794.70</td>\n",
       "      <td>109149.67</td>\n",
       "      <td>130.50</td>\n",
       "      <td>8145.35</td>\n",
       "      <td>8042.21</td>\n",
       "      <td>103.14</td>\n",
       "      <td>0.0</td>\n",
       "      <td>conventional</td>\n",
       "      <td>2015</td>\n",
       "      <td>Albany</td>\n",
       "      <td>2015-12-13</td>\n",
       "      <td>December</td>\n",
       "      <td>0</td>\n",
       "      <td>Albany</td>\n",
       "      <td>0</td>\n",
       "    </tr>\n",
       "  </tbody>\n",
       "</table>\n",
       "</div>"
      ],
      "text/plain": [
       "   AveragePrice  Total Volume     4046       4225    4770  Total Bags  \\\n",
       "0          1.33      64236.62  1036.74   54454.85   48.16     8696.87   \n",
       "1          1.35      54876.98   674.28   44638.81   58.33     9505.56   \n",
       "2          0.93     118220.22   794.70  109149.67  130.50     8145.35   \n",
       "\n",
       "   Small Bags  Large Bags  XLarge Bags          type  year  region    date_dt  \\\n",
       "0     8603.62       93.25          0.0  conventional  2015  Albany 2015-12-27   \n",
       "1     9408.07       97.49          0.0  conventional  2015  Albany 2015-12-20   \n",
       "2     8042.21      103.14          0.0  conventional  2015  Albany 2015-12-13   \n",
       "\n",
       "      month  type_c region_c  regoin_c1  \n",
       "0  December       0   Albany          0  \n",
       "1  December       0   Albany          0  \n",
       "2  December       0   Albany          0  "
      ]
     },
     "execution_count": 583,
     "metadata": {},
     "output_type": "execute_result"
    }
   ],
   "source": [
    "df.head(3)"
   ]
  },
  {
   "cell_type": "code",
   "execution_count": null,
   "metadata": {},
   "outputs": [],
   "source": [
    "\"Albany_2015\""
   ]
  },
  {
   "cell_type": "code",
   "execution_count": 590,
   "metadata": {},
   "outputs": [],
   "source": [
    "df[\"tmp\"] =  df.region + \"_\" + df.year.astype(\"str\")"
   ]
  },
  {
   "cell_type": "code",
   "execution_count": 591,
   "metadata": {},
   "outputs": [
    {
     "data": {
      "text/html": [
       "<div>\n",
       "<style scoped>\n",
       "    .dataframe tbody tr th:only-of-type {\n",
       "        vertical-align: middle;\n",
       "    }\n",
       "\n",
       "    .dataframe tbody tr th {\n",
       "        vertical-align: top;\n",
       "    }\n",
       "\n",
       "    .dataframe thead th {\n",
       "        text-align: right;\n",
       "    }\n",
       "</style>\n",
       "<table border=\"1\" class=\"dataframe\">\n",
       "  <thead>\n",
       "    <tr style=\"text-align: right;\">\n",
       "      <th></th>\n",
       "      <th>AveragePrice</th>\n",
       "      <th>Total Volume</th>\n",
       "      <th>4046</th>\n",
       "      <th>4225</th>\n",
       "      <th>4770</th>\n",
       "      <th>Total Bags</th>\n",
       "      <th>Small Bags</th>\n",
       "      <th>Large Bags</th>\n",
       "      <th>XLarge Bags</th>\n",
       "      <th>type</th>\n",
       "      <th>year</th>\n",
       "      <th>region</th>\n",
       "      <th>date_dt</th>\n",
       "      <th>month</th>\n",
       "      <th>type_c</th>\n",
       "      <th>region_c</th>\n",
       "      <th>regoin_c1</th>\n",
       "      <th>tmp</th>\n",
       "    </tr>\n",
       "  </thead>\n",
       "  <tbody>\n",
       "    <tr>\n",
       "      <th>0</th>\n",
       "      <td>1.33</td>\n",
       "      <td>64236.62</td>\n",
       "      <td>1036.74</td>\n",
       "      <td>54454.85</td>\n",
       "      <td>48.16</td>\n",
       "      <td>8696.87</td>\n",
       "      <td>8603.62</td>\n",
       "      <td>93.25</td>\n",
       "      <td>0.0</td>\n",
       "      <td>conventional</td>\n",
       "      <td>2015</td>\n",
       "      <td>Albany</td>\n",
       "      <td>2015-12-27</td>\n",
       "      <td>December</td>\n",
       "      <td>0</td>\n",
       "      <td>Albany</td>\n",
       "      <td>0</td>\n",
       "      <td>Albany_2015</td>\n",
       "    </tr>\n",
       "    <tr>\n",
       "      <th>1</th>\n",
       "      <td>1.35</td>\n",
       "      <td>54876.98</td>\n",
       "      <td>674.28</td>\n",
       "      <td>44638.81</td>\n",
       "      <td>58.33</td>\n",
       "      <td>9505.56</td>\n",
       "      <td>9408.07</td>\n",
       "      <td>97.49</td>\n",
       "      <td>0.0</td>\n",
       "      <td>conventional</td>\n",
       "      <td>2015</td>\n",
       "      <td>Albany</td>\n",
       "      <td>2015-12-20</td>\n",
       "      <td>December</td>\n",
       "      <td>0</td>\n",
       "      <td>Albany</td>\n",
       "      <td>0</td>\n",
       "      <td>Albany_2015</td>\n",
       "    </tr>\n",
       "  </tbody>\n",
       "</table>\n",
       "</div>"
      ],
      "text/plain": [
       "   AveragePrice  Total Volume     4046      4225   4770  Total Bags  \\\n",
       "0          1.33      64236.62  1036.74  54454.85  48.16     8696.87   \n",
       "1          1.35      54876.98   674.28  44638.81  58.33     9505.56   \n",
       "\n",
       "   Small Bags  Large Bags  XLarge Bags          type  year  region    date_dt  \\\n",
       "0     8603.62       93.25          0.0  conventional  2015  Albany 2015-12-27   \n",
       "1     9408.07       97.49          0.0  conventional  2015  Albany 2015-12-20   \n",
       "\n",
       "      month  type_c region_c  regoin_c1          tmp  \n",
       "0  December       0   Albany          0  Albany_2015  \n",
       "1  December       0   Albany          0  Albany_2015  "
      ]
     },
     "execution_count": 591,
     "metadata": {},
     "output_type": "execute_result"
    }
   ],
   "source": [
    "df.head(2)"
   ]
  },
  {
   "cell_type": "code",
   "execution_count": 605,
   "metadata": {},
   "outputs": [],
   "source": [
    "def func(row):\n",
    "    r = row[\"region\"]\n",
    "    y = row[\"year\"]\n",
    "    return f\"{r}_{y}\"\n",
    "    #return row\n",
    "\n",
    "df[\"tmp2\"] = df.apply(func, axis=1)"
   ]
  },
  {
   "cell_type": "code",
   "execution_count": null,
   "metadata": {},
   "outputs": [],
   "source": []
  },
  {
   "cell_type": "code",
   "execution_count": 606,
   "metadata": {},
   "outputs": [],
   "source": [
    "# df.iloc[0][[\"region\",\"year\"]]"
   ]
  },
  {
   "cell_type": "code",
   "execution_count": 609,
   "metadata": {},
   "outputs": [],
   "source": [
    "df.drop(columns=[\"tmp\",\"tmp2\"], inplace=True)"
   ]
  },
  {
   "cell_type": "code",
   "execution_count": 610,
   "metadata": {},
   "outputs": [
    {
     "data": {
      "text/html": [
       "<div>\n",
       "<style scoped>\n",
       "    .dataframe tbody tr th:only-of-type {\n",
       "        vertical-align: middle;\n",
       "    }\n",
       "\n",
       "    .dataframe tbody tr th {\n",
       "        vertical-align: top;\n",
       "    }\n",
       "\n",
       "    .dataframe thead th {\n",
       "        text-align: right;\n",
       "    }\n",
       "</style>\n",
       "<table border=\"1\" class=\"dataframe\">\n",
       "  <thead>\n",
       "    <tr style=\"text-align: right;\">\n",
       "      <th></th>\n",
       "      <th>AveragePrice</th>\n",
       "      <th>Total Volume</th>\n",
       "      <th>4046</th>\n",
       "      <th>4225</th>\n",
       "      <th>4770</th>\n",
       "      <th>Total Bags</th>\n",
       "      <th>Small Bags</th>\n",
       "      <th>Large Bags</th>\n",
       "      <th>XLarge Bags</th>\n",
       "      <th>type</th>\n",
       "      <th>year</th>\n",
       "      <th>region</th>\n",
       "      <th>date_dt</th>\n",
       "      <th>month</th>\n",
       "      <th>type_c</th>\n",
       "      <th>region_c</th>\n",
       "      <th>regoin_c1</th>\n",
       "    </tr>\n",
       "  </thead>\n",
       "  <tbody>\n",
       "    <tr>\n",
       "      <th>0</th>\n",
       "      <td>1.33</td>\n",
       "      <td>64236.62</td>\n",
       "      <td>1036.74</td>\n",
       "      <td>54454.85</td>\n",
       "      <td>48.16</td>\n",
       "      <td>8696.87</td>\n",
       "      <td>8603.62</td>\n",
       "      <td>93.25</td>\n",
       "      <td>0.0</td>\n",
       "      <td>conventional</td>\n",
       "      <td>2015</td>\n",
       "      <td>Albany</td>\n",
       "      <td>2015-12-27</td>\n",
       "      <td>December</td>\n",
       "      <td>0</td>\n",
       "      <td>Albany</td>\n",
       "      <td>0</td>\n",
       "    </tr>\n",
       "    <tr>\n",
       "      <th>1</th>\n",
       "      <td>1.35</td>\n",
       "      <td>54876.98</td>\n",
       "      <td>674.28</td>\n",
       "      <td>44638.81</td>\n",
       "      <td>58.33</td>\n",
       "      <td>9505.56</td>\n",
       "      <td>9408.07</td>\n",
       "      <td>97.49</td>\n",
       "      <td>0.0</td>\n",
       "      <td>conventional</td>\n",
       "      <td>2015</td>\n",
       "      <td>Albany</td>\n",
       "      <td>2015-12-20</td>\n",
       "      <td>December</td>\n",
       "      <td>0</td>\n",
       "      <td>Albany</td>\n",
       "      <td>0</td>\n",
       "    </tr>\n",
       "  </tbody>\n",
       "</table>\n",
       "</div>"
      ],
      "text/plain": [
       "   AveragePrice  Total Volume     4046      4225   4770  Total Bags  \\\n",
       "0          1.33      64236.62  1036.74  54454.85  48.16     8696.87   \n",
       "1          1.35      54876.98   674.28  44638.81  58.33     9505.56   \n",
       "\n",
       "   Small Bags  Large Bags  XLarge Bags          type  year  region    date_dt  \\\n",
       "0     8603.62       93.25          0.0  conventional  2015  Albany 2015-12-27   \n",
       "1     9408.07       97.49          0.0  conventional  2015  Albany 2015-12-20   \n",
       "\n",
       "      month  type_c region_c  regoin_c1  \n",
       "0  December       0   Albany          0  \n",
       "1  December       0   Albany          0  "
      ]
     },
     "execution_count": 610,
     "metadata": {},
     "output_type": "execute_result"
    }
   ],
   "source": [
    "df.head(2)"
   ]
  },
  {
   "cell_type": "code",
   "execution_count": 611,
   "metadata": {},
   "outputs": [
    {
     "data": {
      "text/plain": [
       "(0.44, 3.25)"
      ]
     },
     "execution_count": 611,
     "metadata": {},
     "output_type": "execute_result"
    }
   ],
   "source": [
    "df.AveragePrice.min(), df.AveragePrice.max()"
   ]
  },
  {
   "cell_type": "code",
   "execution_count": null,
   "metadata": {},
   "outputs": [],
   "source": [
    "0- 1\n",
    "1- 2\n",
    "2- 3\n",
    "3- 4\n",
    "\n"
   ]
  },
  {
   "cell_type": "code",
   "execution_count": 613,
   "metadata": {},
   "outputs": [],
   "source": [
    "def func(x):\n",
    "    cat = None\n",
    "    if x < 1.:\n",
    "        cat = \"0-1\"\n",
    "    elif x< 2:\n",
    "        cat = \"1-2\"\n",
    "    elif x<3:\n",
    "        cat = \"2-3\"\n",
    "    else:\n",
    "        cat = \"3>\"\n",
    "    return cat\n",
    "\n",
    "df[\"Avg_price_group\"] = df.AveragePrice.apply(func)"
   ]
  },
  {
   "cell_type": "code",
   "execution_count": 616,
   "metadata": {},
   "outputs": [
    {
     "data": {
      "text/plain": [
       "<matplotlib.axes._subplots.AxesSubplot at 0x221d934a828>"
      ]
     },
     "execution_count": 616,
     "metadata": {},
     "output_type": "execute_result"
    },
    {
     "data": {
      "image/png": "[encoded data removed]",
      "text/plain": [
       "<Figure size 432x288 with 1 Axes>"
      ]
     },
     "metadata": {
      "needs_background": "light"
     },
     "output_type": "display_data"
    }
   ],
   "source": [
    "df.groupby(\"Avg_price_group\")['Avg_price_group'].count().plot(kind=\"bar\")"
   ]
  },
  {
   "cell_type": "code",
   "execution_count": 617,
   "metadata": {},
   "outputs": [
    {
     "data": {
      "text/plain": [
       "Index(['AveragePrice', 'Total Volume', '4046', '4225', '4770', 'Total Bags',\n",
       "       'Small Bags', 'Large Bags', 'XLarge Bags', 'type', 'year', 'region',\n",
       "       'date_dt', 'month', 'type_c', 'region_c', 'regoin_c1',\n",
       "       'Avg_price_group'],\n",
       "      dtype='object')"
      ]
     },
     "execution_count": 617,
     "metadata": {},
     "output_type": "execute_result"
    }
   ],
   "source": [
    "df.columns"
   ]
  },
  {
   "cell_type": "code",
   "execution_count": null,
   "metadata": {},
   "outputs": [],
   "source": [
    "df.columns = ['AveragePrice', 'Total Volume', '4046', '4225', '4770', 'Total Bags',\n",
    "       'Small Bags', 'Large Bags', 'XLarge Bags', 'type', 'year', 'region',\n",
    "       'date_dt', 'month', 'type_c', 'region_c', 'regoin_c1',\n",
    "       'Avg_price_group']"
   ]
  }
 ],
 "metadata": {
  "kernelspec": {
   "display_name": "Python 3",
   "language": "python",
   "name": "python3"
  },
  "language_info": {
   "codemirror_mode": {
    "name": "ipython",
    "version": 3
   },
   "file_extension": ".py",
   "mimetype": "text/x-python",
   "name": "python",
   "nbconvert_exporter": "python",
   "pygments_lexer": "ipython3",
   "version": "3.7.4"
  }
 },
 "nbformat": 4,
 "nbformat_minor": 4
}
