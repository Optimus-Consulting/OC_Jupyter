{
 "cells": [
  {
   "cell_type": "code",
   "execution_count": 1,
   "metadata": {},
   "outputs": [],
   "source": [
    "inp = \"computer\"\n",
    "\n",
    "#call some api\n",
    "\n",
    "# get some resp\n",
    "# parse it\n",
    "\n",
    "# send the resp as bot's resp"
   ]
  },
  {
   "cell_type": "code",
   "execution_count": 5,
   "metadata": {},
   "outputs": [],
   "source": [
    "url = f\"https://api.pearson.com/v2/dictionaries/entries?headword={inp}\"\n",
    "from balautil import requestutil as R"
   ]
  },
  {
   "cell_type": "code",
   "execution_count": 14,
   "metadata": {},
   "outputs": [
    {
     "data": {
      "text/plain": [
       "{'status': 200,\n",
       " 'offset': 0,\n",
       " 'limit': 10,\n",
       " 'count': 10,\n",
       " 'total': 114,\n",
       " 'url': '/v2/dictionaries/entries?headword=computer',\n",
       " 'results': [{'datasets': ['lasde', 'dictionary', 'sandbox'],\n",
       "   'headword': 'computer',\n",
       "   'id': 'cvfdkPCWs9',\n",
       "   'part_of_speech': 'noun',\n",
       "   'pronunciations': [{'ipa': 'kəmˈpjuːtə'},\n",
       "    {'ipa': '-ər', 'lang': 'American English'}],\n",
       "   'senses': [{'definition': ['an electronic machine that can store and arrange large amounts of information, which can be used to do many different things'],\n",
       "     'examples': [{'text': 'Always switch off your computer at the end of the day.'}],\n",
       "     'gramatical_examples': [{'examples': [{'text': 'All our data is kept on computer.'}],\n",
       "       'pattern': 'on computer'}]}],\n",
       "   'url': '/v2/dictionaries/entries/cvfdkPCWs9'},\n",
       "  {'datasets': ['brep', 'dictionary', 'sandbox'],\n",
       "   'headword': 'computer',\n",
       "   'id': 'ct59xEDfNA',\n",
       "   'part_of_speech': 'noun',\n",
       "   'pronunciations': [{'ipa': 'kəmˈpjutər', 'lang': 'American English'}],\n",
       "   'senses': [{'translations': [{'example': [{'text': 'computer programs',\n",
       "         'translation': {'text': ['programas de computador']}}],\n",
       "       'text': ['computador']}]}],\n",
       "   'url': '/v2/dictionaries/entries/ct59xEDfNA'},\n",
       "  {'datasets': ['leasd', 'dictionary', 'sandbox'],\n",
       "   'headword': 'computer',\n",
       "   'id': 'cqAFhbD7mC',\n",
       "   'part_of_speech': 'noun',\n",
       "   'senses': [{'definition': 'masjien wat inligting bewaar',\n",
       "     'translations': [{'text': 'rekenaar'}]}],\n",
       "   'url': '/v2/dictionaries/entries/cqAFhbD7mC'},\n",
       "  {'datasets': ['ldoce5', 'dictionary', 'sandbox'],\n",
       "   'headword': 'computer',\n",
       "   'id': 'cqAF62frmq',\n",
       "   'part_of_speech': 'noun',\n",
       "   'pronunciations': [{'audio': [{'lang': 'British English',\n",
       "       'type': 'pronunciation',\n",
       "       'url': '/v2/dictionaries/assets/ldoce/gb_pron/brelasdecomputer.mp3'}],\n",
       "     'ipa': 'kəmˈpjuːtə'},\n",
       "    {'audio': [{'lang': 'American English',\n",
       "       'type': 'pronunciation',\n",
       "       'url': '/v2/dictionaries/assets/ldoce/us_pron/computer.mp3'}],\n",
       "     'ipa': '-ər',\n",
       "     'lang': 'American English'}],\n",
       "   'senses': [{'definition': ['an electronic machine that stores information and uses programs to help you find, organize, or change the information'],\n",
       "     'examples': [{'audio': [{'type': 'example',\n",
       "         'url': '/v2/dictionaries/assets/ldoce/exa_pron/p008-001988082.mp3'}],\n",
       "       'text': 'a huge global computer network'}],\n",
       "     'gramatical_examples': [{'examples': [{'audio': [{'type': 'example',\n",
       "           'url': '/v2/dictionaries/assets/ldoce/exa_pron/p008-001687691.mp3'}],\n",
       "         'text': 'The information is stored on computer.'}],\n",
       "       'pattern': 'on computer'}]}],\n",
       "   'url': '/v2/dictionaries/entries/cqAF62frmq'},\n",
       "  {'datasets': ['laes', 'dictionary', 'sandbox'],\n",
       "   'headword': 'computer',\n",
       "   'id': 'csTMcPkP8q',\n",
       "   'part_of_speech': 'noun',\n",
       "   'pronunciations': [{'ipa': 'kəmˈpyu\\ue015ɚ'}],\n",
       "   'senses': [{}],\n",
       "   'url': '/v2/dictionaries/entries/csTMcPkP8q'},\n",
       "  {'datasets': ['laad3', 'dictionary', 'sandbox'],\n",
       "   'headword': 'computer',\n",
       "   'id': 'cs1sG4c5za',\n",
       "   'part_of_speech': 'noun',\n",
       "   'senses': [{'definition': 'an electronic machine that stores information and uses programs to help you find, organize, or change the information',\n",
       "     'examples': [{'text': 'I use a desktop computer at work.'}]}],\n",
       "   'url': '/v2/dictionaries/entries/cs1sG4c5za'},\n",
       "  {'datasets': ['ldec', 'dictionary', 'sandbox'],\n",
       "   'headword': 'computer',\n",
       "   'id': 'cqAHyq3cjG',\n",
       "   'part_of_speech': 'noun',\n",
       "   'senses': [{'translation': '電腦，計算機'}],\n",
       "   'url': '/v2/dictionaries/entries/cqAHyq3cjG'},\n",
       "  {'datasets': ['wordwise', 'dictionary', 'sandbox'],\n",
       "   'headword': 'computer',\n",
       "   'id': 'cqARKffFGC',\n",
       "   'part_of_speech': 'noun',\n",
       "   'senses': [{'definition': 'an electronic machine that can store and arrange information and that you can use to do many different things',\n",
       "     'examples': [{'text': 'I do a lot of my work on the computer .'}]}],\n",
       "   'url': '/v2/dictionaries/entries/cqARKffFGC'},\n",
       "  {'datasets': ['ldec', 'dictionary'],\n",
       "   'headword': 'neural computer',\n",
       "   'id': 'cqAJQkP02g',\n",
       "   'part_of_speech': 'noun',\n",
       "   'senses': [{'translation': '〔運作方式與人腦相似的〕神經電腦'}],\n",
       "   'url': '/v2/dictionaries/entries/cqAJQkP02g'},\n",
       "  {'datasets': ['ldec', 'dictionary'],\n",
       "   'headword': 'pocket computer',\n",
       "   'id': 'cqAJWJCYGA',\n",
       "   'part_of_speech': 'noun',\n",
       "   'senses': [{'translation': '便攜式電腦'}],\n",
       "   'url': '/v2/dictionaries/entries/cqAJWJCYGA'}]}"
      ]
     },
     "execution_count": 14,
     "metadata": {},
     "output_type": "execute_result"
    }
   ],
   "source": [
    "data = R.Get(url)\n",
    "data"
   ]
  },
  {
   "cell_type": "code",
   "execution_count": 58,
   "metadata": {},
   "outputs": [],
   "source": [
    "url = f\"https://api.pearson.com/v2/dictionaries/entries?headword={inp}\"\n",
    "from balautil import requestutil as R\n",
    "\n",
    "data = R.Get(url)\n",
    "data\n",
    "\n",
    "def find_value_in_dict_recursively(d, cond_f, path=None, values=[]):\n",
    "    #print(d,)\n",
    "    if isinstance(d, dict):\n",
    "        for k,v in d.items():\n",
    "            if isinstance(v, str):\n",
    "                if cond_f(v):\n",
    "                    print(v, path)\n",
    "                    values.append(v)\n",
    "            if isinstance(v, (list,dict)):\n",
    "                find_value_in_dict_recursively(v, cond_f, path=str(path) +f'[\"{k}\"]',values=values)\n",
    "        \n",
    "    if isinstance(d, list):\n",
    "        for i, o in enumerate(d):\n",
    "            find_value_in_dict_recursively(o, cond_f,  path=str(path)+f\"[{i}]\", values=values)\n",
    "\n",
    "global_val = []\n",
    "f = lambda x: str(x).endswith(\".mp3\")\n",
    "find_value_in_dict_recursively(data ,  f, values=global_val)"
   ]
  },
  {
   "cell_type": "code",
   "execution_count": 59,
   "metadata": {},
   "outputs": [
    {
     "name": "stdout",
     "output_type": "stream",
     "text": [
      "/v2/dictionaries/assets/ldoce/gb_pron/brelasdecomputer.mp3 None[\"results\"][3][\"pronunciations\"][0][\"audio\"][0]\n",
      "/v2/dictionaries/assets/ldoce/us_pron/computer.mp3 None[\"results\"][3][\"pronunciations\"][1][\"audio\"][0]\n",
      "/v2/dictionaries/assets/ldoce/exa_pron/p008-001988082.mp3 None[\"results\"][3][\"senses\"][0][\"examples\"][0][\"audio\"][0]\n",
      "/v2/dictionaries/assets/ldoce/exa_pron/p008-001687691.mp3 None[\"results\"][3][\"senses\"][0][\"gramatical_examples\"][0][\"examples\"][0][\"audio\"][0]\n"
     ]
    }
   ],
   "source": [
    "f = lambda x: str(x).endswith(\".mp3\")\n",
    "\n",
    "def f2(x):\n",
    "    return \"/v2/dictionaries/\" in str(x)\n",
    "\n",
    "global_val = []\n",
    "find_value_in_dict_recursively(data ,  f, values=global_val)"
   ]
  },
  {
   "cell_type": "code",
   "execution_count": 60,
   "metadata": {},
   "outputs": [
    {
     "data": {
      "text/plain": [
       "['/v2/dictionaries/assets/ldoce/gb_pron/brelasdecomputer.mp3',\n",
       " '/v2/dictionaries/assets/ldoce/us_pron/computer.mp3',\n",
       " '/v2/dictionaries/assets/ldoce/exa_pron/p008-001988082.mp3',\n",
       " '/v2/dictionaries/assets/ldoce/exa_pron/p008-001687691.mp3']"
      ]
     },
     "execution_count": 60,
     "metadata": {},
     "output_type": "execute_result"
    }
   ],
   "source": [
    "global_val"
   ]
  },
  {
   "cell_type": "code",
   "execution_count": null,
   "metadata": {},
   "outputs": [],
   "source": [
    "results -> List[3] -> pronunciations -> List[0] -> audio -> List[0]\n",
    "data[][\"name\"]"
   ]
  },
  {
   "cell_type": "code",
   "execution_count": 20,
   "metadata": {},
   "outputs": [
    {
     "data": {
      "text/plain": [
       "True"
      ]
     },
     "execution_count": 20,
     "metadata": {},
     "output_type": "execute_result"
    }
   ],
   "source": [
    "f('/v2/dictionaries/assets/ldoce/exa_pron/p008-001687691.mp3')"
   ]
  },
  {
   "cell_type": "code",
   "execution_count": 3,
   "metadata": {},
   "outputs": [
    {
     "name": "stdout",
     "output_type": "stream",
     "text": [
      "/c/Users/balap/Desktop/nbs\n"
     ]
    }
   ],
   "source": [
    "!pwd"
   ]
  },
  {
   "cell_type": "code",
   "execution_count": 4,
   "metadata": {},
   "outputs": [
    {
     "name": "stdout",
     "output_type": "stream",
     "text": [
      "Overwriting C:\\Users\\balap\\Desktop\\teaching\\pydot25\\day08-chatbots\\util.py\n"
     ]
    }
   ],
   "source": [
    "%%writefile C:\\Users\\balap\\Desktop\\teaching\\pydot25\\day08-chatbots\\util.py\n",
    "\n",
    "# Utility program to find pron for a word...\n",
    "from balautil import requestutil as R\n",
    "\n",
    "def find_value_in_dict_recursively(d, cond_f, path=None, values=[]):\n",
    "    #print(d,)\n",
    "    if isinstance(d, dict):\n",
    "        for k,v in d.items():\n",
    "            if isinstance(v, str):\n",
    "                if cond_f(v):\n",
    "                    #print(v, path)\n",
    "                    values.append(v)\n",
    "            if isinstance(v, (list,dict)):\n",
    "                find_value_in_dict_recursively(v, cond_f, path=str(path) +f'[\"{k}\"]',values=values)\n",
    "\n",
    "    if isinstance(d, list):\n",
    "        for i, o in enumerate(d):\n",
    "            find_value_in_dict_recursively(o, cond_f,  path=str(path)+f\"[{i}]\", values=values)\n",
    "\n",
    "def get_pron_for_word(word):\n",
    "    url = f\"https://api.pearson.com/v2/dictionaries/entries?headword={word}\"\n",
    "    data = R.Get(url)\n",
    "    list_of_urls = []\n",
    "    \n",
    "    f = lambda x: str(x).endswith(\".mp3\")\n",
    "    find_value_in_dict_recursively(data ,  f, values=list_of_urls)\n",
    "    list_of_urls = [ \"https://api.pearson.com\" + u for u in list_of_urls]\n",
    "    return list_of_urls"
   ]
  },
  {
   "cell_type": "code",
   "execution_count": null,
   "metadata": {},
   "outputs": [],
   "source": []
  },
  {
   "cell_type": "code",
   "execution_count": null,
   "metadata": {},
   "outputs": [],
   "source": []
  },
  {
   "cell_type": "code",
   "execution_count": null,
   "metadata": {},
   "outputs": [],
   "source": []
  },
  {
   "cell_type": "code",
   "execution_count": null,
   "metadata": {},
   "outputs": [],
   "source": []
  },
  {
   "cell_type": "code",
   "execution_count": 1,
   "metadata": {},
   "outputs": [
    {
     "data": {
      "text/html": [
       "\n",
       "                <audio  controls=\"controls\" >\n",
       "                    <source src=\"https://api.pearson.com/v2/dictionaries/assets/ldoce/gb_pron/python0205.mp3\" type=\"audio/mpeg\" />\n",
       "                    Your browser does not support the audio element.\n",
       "                </audio>\n",
       "              "
      ],
      "text/plain": [
       "<IPython.lib.display.Audio object>"
      ]
     },
     "metadata": {},
     "output_type": "display_data"
    },
    {
     "data": {
      "text/html": [
       "\n",
       "                <audio  controls=\"controls\" >\n",
       "                    <source src=\"https://api.pearson.com/v2/dictionaries/assets/ldoce/us_pron/python.mp3\" type=\"audio/mpeg\" />\n",
       "                    Your browser does not support the audio element.\n",
       "                </audio>\n",
       "              "
      ],
      "text/plain": [
       "<IPython.lib.display.Audio object>"
      ]
     },
     "metadata": {},
     "output_type": "display_data"
    },
    {
     "data": {
      "text/html": [
       "\n",
       "                <audio  controls=\"controls\" >\n",
       "                    <source src=\"https://api.pearson.com/v2/dictionaries/assets/ldoce/gb_pron/p028-000008458.mp3\" type=\"audio/mpeg\" />\n",
       "                    Your browser does not support the audio element.\n",
       "                </audio>\n",
       "              "
      ],
      "text/plain": [
       "<IPython.lib.display.Audio object>"
      ]
     },
     "metadata": {},
     "output_type": "display_data"
    },
    {
     "data": {
      "text/html": [
       "\n",
       "                <audio  controls=\"controls\" >\n",
       "                    <source src=\"https://api.pearson.com/v2/dictionaries/assets/ldoce/us_pron/p028-000008458.mp3\" type=\"audio/mpeg\" />\n",
       "                    Your browser does not support the audio element.\n",
       "                </audio>\n",
       "              "
      ],
      "text/plain": [
       "<IPython.lib.display.Audio object>"
      ]
     },
     "metadata": {},
     "output_type": "display_data"
    },
    {
     "data": {
      "text/html": [
       "\n",
       "                <audio  controls=\"controls\" >\n",
       "                    <source src=\"https://api.pearson.com/v2/dictionaries/assets/ldoce/gb_pron/p028-000008458.mp3\" type=\"audio/mpeg\" />\n",
       "                    Your browser does not support the audio element.\n",
       "                </audio>\n",
       "              "
      ],
      "text/plain": [
       "<IPython.lib.display.Audio object>"
      ]
     },
     "metadata": {},
     "output_type": "display_data"
    }
   ],
   "source": [
    "from util import get_pron_for_word\n",
    "from IPython.display import Audio\n",
    "for url in get_pron_for_word(\"python\"):\n",
    "    display( Audio(url=url) )"
   ]
  },
  {
   "cell_type": "code",
   "execution_count": null,
   "metadata": {},
   "outputs": [],
   "source": []
  }
 ],
 "metadata": {
  "kernelspec": {
   "display_name": "Python 3",
   "language": "python",
   "name": "python3"
  },
  "language_info": {
   "codemirror_mode": {
    "name": "ipython",
    "version": 3
   },
   "file_extension": ".py",
   "mimetype": "text/x-python",
   "name": "python",
   "nbconvert_exporter": "python",
   "pygments_lexer": "ipython3",
   "version": "3.7.4"
  }
 },
 "nbformat": 4,
 "nbformat_minor": 4
}
