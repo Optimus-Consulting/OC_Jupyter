{
 "cells": [
  {
   "cell_type": "code",
   "execution_count": 31,
   "metadata": {},
   "outputs": [],
   "source": [
    "import colebrook\n",
    "import math\n",
    "import numpy as np\n",
    "def calPressureDrop(fluid,line):\n",
    "    line[\"id\"] = line[\"od\"]-2*line[\"wallThickness\"] \n",
    "    velocity = fluid[\"flowRate\"]*math.pow(10,6)/((86400*35.3147)*math.pi/4*math.pow(line[\"id\"],2));\n",
    "    print(velocity)\n",
    "    re=fluid[\"density\"]*velocity*line[\"id\"]/fluid[\"viscosity\"];\n",
    "    pRo = line[\"pipeRoughness\"]\n",
    "    f = colebrook.sjFriction( re, pRo)\n",
    "    pressureDrop_unit = -fluid[\"density\"]*9.81*math.sin(line[\"angle\"]*math.pi/180)-f*fluid[\"density\"]*velocity/(2*line[\"id\"])\n",
    "    return pressureDrop_unit"
   ]
  },
  {
   "cell_type": "code",
   "execution_count": 32,
   "metadata": {},
   "outputs": [],
   "source": [
    "line = {'smys': 448000000.0,\n",
    " 'wallThickness': 0.01588,\n",
    " 'points': [{'x': 0.0, 'y': 0.12000000011175871, 'z': 54.0546},\n",
    "  {'x': 34.71999999997206, 'y': 1213.339999999851, 'z': 6.7686},\n",
    "  {'x': 69.6699999999255, 'y': 2426.5699999993667, 'z': -37.0},\n",
    "  {'x': 104.56999999994878, 'y': 3639.7999999998137, 'z': -46.0},\n",
    "  {'x': 139.4299999999348, 'y': 4853.029999999329, 'z': -56.0},\n",
    "  {'x': 174.2399999999907, 'y': 6066.269999999553, 'z': -69.0},\n",
    "  {'x': 208.9899999999907, 'y': 7279.5099999997765, 'z': -82.0},\n",
    "  {'x': 243.69999999995343, 'y': 8492.739999999292, 'z': -82.0},\n",
    "  {'x': 278.35999999998603, 'y': 9705.989999999292, 'z': -66.0},\n",
    "  {'x': 312.9799999999814, 'y': 10919.229999999516, 'z': -57.0},\n",
    "  {'x': 347.53999999992084, 'y': 12132.479999999516, 'z': -52.0},\n",
    "  {'x': 382.05999999993946, 'y': 13345.71999999974, 'z': -64.0},\n",
    "  {'x': 416.5199999999022, 'y': 14558.96999999974, 'z': -74.0},\n",
    "  {'x': 450.9399999999441, 'y': 15772.229999999516, 'z': -75.0},\n",
    "  {'x': 485.30999999993946, 'y': 16985.479999999516, 'z': -77.0},\n",
    "  {'x': 519.6300000000047, 'y': 18198.739999999292, 'z': -81.0},\n",
    "  {'x': 553.9099999999162, 'y': 19412.0, 'z': -84.0},\n",
    "  {'x': 588.1300000000047, 'y': 20625.259999999776, 'z': -87.0},\n",
    "  {'x': 622.3099999999395, 'y': 21838.519999999553, 'z': -89.0},\n",
    "  {'x': 656.4299999999348, 'y': 23051.790000000037, 'z': -89.0},\n",
    "  {'x': 690.5100000000093, 'y': 24265.05999999959, 'z': -90.0},\n",
    "  {'x': 724.5399999999208, 'y': 25478.330000000075, 'z': -92.0},\n",
    "  {'x': 758.5299999999115, 'y': 26691.599999999627, 'z': -94.0},\n",
    "  {'x': 792.4599999999627, 'y': 27904.87999999989, 'z': -94.0},\n",
    "  {'x': 826.3399999999674, 'y': 29118.14999999944, 'z': -97.0},\n",
    "  {'x': 860.1799999999348, 'y': 30331.429999999702, 'z': -99.0},\n",
    "  {'x': 893.9699999999721, 'y': 31544.709999999963, 'z': -99.0},\n",
    "  {'x': 927.6999999999534, 'y': 32758.0, 'z': -99.0},\n",
    "  {'x': 561.6599999999162, 'y': 33739.199999999255, 'z': -98.0},\n",
    "  {'x': 195.78999999992084, 'y': 34720.43999999948, 'z': -98.0},\n",
    "  {'x': -169.88000000000466, 'y': 35701.71999999974, 'z': -98.0},\n",
    "  {'x': -535.3699999999953, 'y': 36683.04000000004, 'z': -99.0},\n",
    "  {'x': -900.6800000000512, 'y': 37664.389999999665, 'z': -104.0},\n",
    "  {'x': -1265.8000000000466, 'y': 38645.77999999933, 'z': -110.0},\n",
    "  {'x': -1630.7399999999907, 'y': 39627.20999999996, 'z': -111.0},\n",
    "  {'x': -1995.4899999999907, 'y': 40608.669999999925, 'z': -109.0},\n",
    "  {'x': -2360.060000000056, 'y': 41590.169999999925, 'z': -104.0},\n",
    "  {'x': -2724.4400000000605, 'y': 42571.70999999996, 'z': -101.0},\n",
    "  {'x': -3088.6300000000047, 'y': 43553.27999999933, 'z': -103.0},\n",
    "  {'x': -3452.640000000014, 'y': 44534.889999999665, 'z': -104.0},\n",
    "  {'x': -3816.4700000000885, 'y': 45516.52999999933, 'z': -106.0},\n",
    "  {'x': -4180.110000000102, 'y': 46498.21999999974, 'z': -110.0},\n",
    "  {'x': -4543.560000000056, 'y': 47479.93999999948, 'z': -112.0},\n",
    "  {'x': -4906.8300000000745, 'y': 48461.699999999255, 'z': -114.0},\n",
    "  {'x': -5269.910000000033, 'y': 49443.48999999929, 'z': -117.0},\n",
    "  {'x': -5632.810000000056, 'y': 50425.31999999937, 'z': -119.0},\n",
    "  {'x': -5995.520000000019, 'y': 51407.18999999948, 'z': -119.0},\n",
    "  {'x': -6358.040000000037, 'y': 52389.08999999985, 'z': -119.0},\n",
    "  {'x': -6720.380000000005, 'y': 53371.02999999933, 'z': -119.0},\n",
    "  {'x': -7082.540000000037, 'y': 54353.0, 'z': -119.0},\n",
    "  {'x': -7444.510000000009, 'y': 55335.01999999955, 'z': -120.0},\n",
    "  {'x': -7806.290000000037, 'y': 56317.06999999937, 'z': -121.0},\n",
    "  {'x': -8167.890000000014, 'y': 57299.14999999944, 'z': -123.0},\n",
    "  {'x': -8529.300000000047, 'y': 58281.26999999955, 'z': -127.0},\n",
    "  {'x': -8890.530000000028, 'y': 59263.4299999997, 'z': -134.0},\n",
    "  {'x': -9251.570000000065, 'y': 60245.62999999989, 'z': -137.0},\n",
    "  {'x': -9612.420000000042, 'y': 61227.859999999404, 'z': -141.0},\n",
    "  {'x': -9973.090000000084, 'y': 62210.12999999989, 'z': -143.0},\n",
    "  {'x': -10333.570000000065, 'y': 63192.4299999997, 'z': -146.0},\n",
    "  {'x': -10693.869999999995, 'y': 64174.77999999933, 'z': -148.0},\n",
    "  {'x': -11053.980000000098, 'y': 65157.14999999944, 'z': -150.0},\n",
    "  {'x': -11413.900000000023, 'y': 66139.56999999937, 'z': -152.0},\n",
    "  {'x': -11773.640000000014, 'y': 67122.01999999955, 'z': -155.0},\n",
    "  {'x': -12133.20000000007, 'y': 68104.5, 'z': -157.0},\n",
    "  {'x': -12492.560000000056, 'y': 69087.02999999933, 'z': -159.0},\n",
    "  {'x': -12851.73999999999, 'y': 70069.58000000007, 'z': -160.0},\n",
    "  {'x': -13210.73999999999, 'y': 71052.1799999997, 'z': -162.0},\n",
    "  {'x': -13569.550000000047, 'y': 72034.80999999959, 'z': -164.0},\n",
    "  {'x': -13928.170000000042, 'y': 73017.47999999952, 'z': -167.0},\n",
    "  {'x': -14286.600000000093, 'y': 74000.1799999997, 'z': -171.0},\n",
    "  {'x': -14644.850000000093, 'y': 74982.91999999993, 'z': -175.0},\n",
    "  {'x': -15002.920000000042, 'y': 75965.69999999925, 'z': -177.0},\n",
    "  {'x': -15360.800000000047, 'y': 76948.50999999978, 'z': -181.0},\n",
    "  {'x': -15718.48999999999, 'y': 77931.3599999994, 'z': -192.0},\n",
    "  {'x': -16075.98999999999, 'y': 78914.25, 'z': -202.0},\n",
    "  {'x': -16433.310000000056, 'y': 79897.16999999993, 'z': -208.0},\n",
    "  {'x': -16790.44000000006, 'y': 80880.12999999989, 'z': -218.0},\n",
    "  {'x': -17147.390000000014, 'y': 81863.12000000011, 'z': -229.0},\n",
    "  {'x': -17504.150000000023, 'y': 82846.14999999944, 'z': -243.0},\n",
    "  {'x': -17860.72000000009, 'y': 83829.20999999996, 'z': -252.0},\n",
    "  {'x': -18217.110000000102, 'y': 84812.31999999937, 'z': -267.0},\n",
    "  {'x': -18573.310000000056, 'y': 85795.44999999925, 'z': -284.0},\n",
    "  {'x': -18929.320000000065, 'y': 86778.62999999989, 'z': -300.0},\n",
    "  {'x': -19285.150000000023, 'y': 87761.83000000007, 'z': -310.0},\n",
    "  {'x': -19640.790000000037, 'y': 88745.08000000007, 'z': -327.0},\n",
    "  {'x': -19996.23999999999, 'y': 89728.3599999994, 'z': -346.0},\n",
    "  {'x': -20351.51000000001, 'y': 90711.6799999997, 'z': -363.2544},\n",
    "  {'x': -20706.590000000084, 'y': 91695.02999999933, 'z': -377.0},\n",
    "  {'x': -21061.480000000098, 'y': 92678.41999999993, 'z': -407.0},\n",
    "  {'x': -21416.19000000006, 'y': 93661.84999999963, 'z': -430.0},\n",
    "  {'x': -21770.71000000008, 'y': 94645.30999999959, 'z': -447.5849},\n",
    "  {'x': -22125.040000000037, 'y': 95628.80999999959, 'z': -459.0},\n",
    "  {'x': -22479.19000000006, 'y': 96612.33999999985, 'z': -476.0},\n",
    "  {'x': -22833.150000000023, 'y': 97595.91000000015, 'z': -496.0},\n",
    "  {'x': -23186.920000000042, 'y': 98579.50999999978, 'z': -507.0},\n",
    "  {'x': -23540.51000000001, 'y': 99563.14999999944, 'z': -525.0},\n",
    "  {'x': -23893.910000000033, 'y': 100546.83000000007, 'z': -540.0},\n",
    "  {'x': -24247.119999999995, 'y': 101530.54000000004, 'z': -551.0},\n",
    "  {'x': -24600.150000000023, 'y': 102514.29000000004, 'z': -555.4796},\n",
    "  {'x': -24952.980000000098, 'y': 103498.06999999937, 'z': -567.0},\n",
    "  {'x': -25305.630000000005, 'y': 104481.88999999966, 'z': -582.0},\n",
    "  {'x': -25658.100000000093, 'y': 105465.73999999929, 'z': -596.0},\n",
    "  {'x': -26010.380000000005, 'y': 106449.62999999989, 'z': -605.2645},\n",
    "  {'x': -26362.47000000009, 'y': 107433.55999999959, 'z': -628.0},\n",
    "  {'x': -26714.369999999995, 'y': 108417.51999999955, 'z': -641.0},\n",
    "  {'x': -27066.090000000084, 'y': 109401.51999999955, 'z': -654.0},\n",
    "  {'x': -27417.610000000102, 'y': 110385.54999999981, 'z': -658.0},\n",
    "  {'x': -27768.96000000008, 'y': 111369.62000000011, 'z': -671.0},\n",
    "  {'x': -28120.110000000102, 'y': 112353.71999999974, 'z': -687.0},\n",
    "  {'x': -28471.080000000075, 'y': 113337.8599999994, 'z': -704.0},\n",
    "  {'x': -28909.610000000102, 'y': 114166.72999999952, 'z': -720.0},\n",
    "  {'x': -29347.94000000006, 'y': 114995.66000000015, 'z': -740.0},\n",
    "  {'x': -29786.070000000065, 'y': 115824.64999999944, 'z': -766.0},\n",
    "  {'x': -30223.98999999999, 'y': 116653.68999999948, 'z': -796.0},\n",
    "  {'x': -30661.72000000009, 'y': 117482.77999999933, 'z': -796.0},\n",
    "  {'x': -31099.23999999999, 'y': 118311.9299999997, 'z': -834.0},\n",
    "  {'x': -31536.560000000056, 'y': 119141.12999999989, 'z': -882.0},\n",
    "  {'x': -31973.670000000042, 'y': 119970.38999999966, 'z': -934.0},\n",
    "  {'x': -32410.590000000084, 'y': 120799.69999999925, 'z': -984.0},\n",
    "  {'x': -32847.30000000005, 'y': 121629.06999999937, 'z': -1029.0},\n",
    "  {'x': -33283.810000000056, 'y': 122458.5, 'z': -1063.0},\n",
    "  {'x': -33720.119999999995, 'y': 123287.96999999974, 'z': -1088.0},\n",
    "  {'x': -34156.2300000001, 'y': 124117.50999999978, 'z': -1109.0},\n",
    "  {'x': -34592.130000000005, 'y': 124947.08999999985, 'z': -1133.0},\n",
    "  {'x': -35027.840000000084, 'y': 125776.73999999929, 'z': -1154.4494},\n",
    "  {'x': -35463.340000000084, 'y': 126606.4299999997, 'z': -1176.0},\n",
    "  {'x': -35898.630000000005, 'y': 127436.18999999948, 'z': -1203.0},\n",
    "  {'x': -36333.7300000001, 'y': 128265.98999999929, 'z': -1225.0},\n",
    "  {'x': -36768.619999999995, 'y': 129095.84999999963, 'z': -1249.0},\n",
    "  {'x': -37203.310000000056, 'y': 129925.76999999955, 'z': -1277.0},\n",
    "  {'x': -37637.80000000005, 'y': 130755.73999999929, 'z': -1306.0},\n",
    "  {'x': -38072.090000000084, 'y': 131585.75999999978, 'z': -1335.0},\n",
    "  {'x': -38506.17000000004, 'y': 132415.83999999985, 'z': -1362.0},\n",
    "  {'x': -38940.05000000005, 'y': 133245.97999999952, 'z': -1389.0},\n",
    "  {'x': -39373.7300000001, 'y': 134076.16000000015, 'z': -1413.2019},\n",
    "  {'x': -39807.20000000007, 'y': 134906.41000000015, 'z': -1417.0},\n",
    "  {'x': -40240.4800000001, 'y': 135736.69999999925, 'z': -1442.0},\n",
    "  {'x': -40673.55000000005, 'y': 136567.0599999996, 'z': -1455.0},\n",
    "  {'x': -41106.41000000003, 'y': 137397.45999999996, 'z': -1465.0},\n",
    "  {'x': -41539.080000000075, 'y': 138227.91999999993, 'z': -1474.0},\n",
    "  {'x': -41971.54000000004, 'y': 139058.43999999948, 'z': -1480.0},\n",
    "  {'x': -42403.80000000005, 'y': 139889.00999999978, 'z': -1486.0},\n",
    "  {'x': -42835.8600000001, 'y': 140719.6299999999, 'z': -1491.0},\n",
    "  {'x': -43267.71000000008, 'y': 141550.3099999996, 'z': -1493.0},\n",
    "  {'x': -43699.3600000001, 'y': 142381.04000000004, 'z': -1493.0},\n",
    "  {'x': -44130.810000000056, 'y': 143211.81999999937, 'z': -1494.0},\n",
    "  {'x': -44562.060000000056, 'y': 144042.66000000015, 'z': -1498.0},\n",
    "  {'x': -44993.10000000009, 'y': 144873.5599999996, 'z': -1503.0},\n",
    "  {'x': -45423.94000000006, 'y': 145704.50999999978, 'z': -1507.0},\n",
    "  {'x': -45854.580000000075, 'y': 146535.50999999978, 'z': -1512.0},\n",
    "  {'x': -46285.01000000001, 'y': 147366.56999999937, 'z': -1519.0},\n",
    "  {'x': -46715.23999999999, 'y': 148197.6799999997, 'z': -1526.0},\n",
    "  {'x': -47145.27000000002, 'y': 149028.83999999985, 'z': -1532.0},\n",
    "  {'x': -47575.090000000084, 'y': 149860.0599999996, 'z': -1535.0},\n",
    "  {'x': -48004.72000000009, 'y': 150691.33000000007, 'z': -1538.0},\n",
    "  {'x': -48434.140000000014, 'y': 151522.66000000015, 'z': -1538.9255},\n",
    "  {'x': -48863.35000000009, 'y': 152354.04000000004, 'z': -1542.0},\n",
    "  {'x': -49292.3600000001, 'y': 153185.47999999952, 'z': -1549.0},\n",
    "  {'x': -49721.17000000004, 'y': 154016.95999999996, 'z': -1556.0},\n",
    "  {'x': -50149.78000000003, 'y': 154848.50999999978, 'z': -1564.0},\n",
    "  {'x': -50578.18000000005, 'y': 155680.09999999963, 'z': -1572.0},\n",
    "  {'x': -51006.380000000005, 'y': 156511.75, 'z': -1582.0},\n",
    "  {'x': -51434.380000000005, 'y': 157343.45999999996, 'z': -1592.0},\n",
    "  {'x': -51862.17000000004, 'y': 158175.20999999996, 'z': -1602.0},\n",
    "  {'x': -52289.76000000001, 'y': 159007.01999999955, 'z': -1610.0},\n",
    "  {'x': -52717.15000000002, 'y': 159838.88999999966, 'z': -1612.0},\n",
    "  {'x': -53144.330000000075, 'y': 160670.8099999996, 'z': -1618.0},\n",
    "  {'x': -53571.310000000056, 'y': 161502.77999999933, 'z': -1624.0},\n",
    "  {'x': -53998.090000000084, 'y': 162334.7999999998, 'z': -1629.0},\n",
    "  {'x': -54424.66000000003, 'y': 163166.8799999999, 'z': -1634.0},\n",
    "  {'x': -54851.03000000003, 'y': 163999.01999999955, 'z': -1637.0},\n",
    "  {'x': -55277.19000000006, 'y': 164831.19999999925, 'z': -1639.0},\n",
    "  {'x': -55703.16000000003, 'y': 165663.43999999948, 'z': -1640.0},\n",
    "  {'x': -55149.52000000002, 'y': 165878.09999999963, 'z': -1634.0},\n",
    "  {'x': -54595.94000000006, 'y': 166092.83999999985, 'z': -1630.0},\n",
    "  {'x': -54042.44000000006, 'y': 166307.66999999993, 'z': -1627.0},\n",
    "  {'x': -53489.0, 'y': 166522.59999999963, 'z': -1621.0},\n",
    "  {'x': -52935.640000000014, 'y': 166737.6099999994, 'z': -1616.0},\n",
    "  {'x': -52382.340000000084, 'y': 166952.71999999974, 'z': -1613.0},\n",
    "  {'x': -51829.1100000001, 'y': 167167.91000000015, 'z': -1610.0},\n",
    "  {'x': -51275.95000000007, 'y': 167383.19999999925, 'z': -1604.0},\n",
    "  {'x': -50722.8600000001, 'y': 167598.58000000007, 'z': -1599.0},\n",
    "  {'x': -50169.840000000084, 'y': 167814.04000000004, 'z': -1598.0},\n",
    "  {'x': -49616.890000000014, 'y': 168029.59999999963, 'z': -1596.0},\n",
    "  {'x': -49064.01000000001, 'y': 168245.25, 'z': -1594.0},\n",
    "  {'x': -48511.19000000006, 'y': 168460.97999999952, 'z': -1592.0},\n",
    "  {'x': -47958.45000000007, 'y': 168676.8099999996, 'z': -1592.0},\n",
    "  {'x': -47405.77000000002, 'y': 168892.72999999952, 'z': -1591.0},\n",
    "  {'x': -46853.16000000003, 'y': 169108.7399999993, 'z': -1582.0},\n",
    "  {'x': -46300.619999999995, 'y': 169324.83000000007, 'z': -1580.0},\n",
    "  {'x': -45748.15000000002, 'y': 169541.01999999955, 'z': -1574.0},\n",
    "  {'x': -45195.75, 'y': 169757.2999999998, 'z': -1568.9181},\n",
    "  {'x': -44643.42000000004, 'y': 169973.66999999993, 'z': -1562.0},\n",
    "  {'x': -44091.16000000003, 'y': 170190.1299999999, 'z': -1561.7962},\n",
    "  {'x': -43538.97000000009, 'y': 170406.6799999997, 'z': -1561.0},\n",
    "  {'x': -42986.840000000084, 'y': 170623.3099999996, 'z': -1557.0},\n",
    "  {'x': -42434.79000000004, 'y': 170840.04000000004, 'z': -1556.0},\n",
    "  {'x': -41882.80000000005, 'y': 171056.8599999994, 'z': -1555.0},\n",
    "  {'x': -41330.880000000005, 'y': 171273.76999999955, 'z': -1560.0},\n",
    "  {'x': -40779.03000000003, 'y': 171490.76999999955, 'z': -1563.0},\n",
    "  {'x': -40227.26000000001, 'y': 171707.8599999994, 'z': -1564.0},\n",
    "  {'x': -39675.55000000005, 'y': 171925.04000000004, 'z': -1564.0}],\n",
    " 'length': 194742.6263587469,\n",
    " 'pipeRoughness': 0.0045,\n",
    " 'angle': -90,\n",
    " 'corrosionAllowance': 0.003}"
   ]
  },
  {
   "cell_type": "code",
   "execution_count": 33,
   "metadata": {},
   "outputs": [],
   "source": [
    "fluid = {'temperature': 110,\n",
    " 'flowRate': 500,\n",
    " 'pressure': 18000000,\n",
    " 'density': 2.2,\n",
    " 'viscosity': 0.002,\n",
    " 'heatCapapcity': 2.31,\n",
    " 'thermalConductivity': 0.035,\n",
    " 'Compressibility  Factor': 1,\n",
    " 'description': ['COMPOSITION onecomponent = ON',\n",
    "  'library name=\"Methane\" comp=1']}\n",
    "#environment data\n",
    "oceanEnvironment = {\n",
    "    0: {\"temperature\":23, \"current\":0.7, \"waterViscocity\":0.9321*10e-6},\n",
    "    100: {\"temperature\":13, \"current\":0.65, \"waterViscocity\":1.2005*10e-6},\n",
    "    200: {\"temperature\":5, \"current\":0.39, \"waterViscocity\":1.5182*10e-6},\n",
    "    1500: {\"temperature\":3, \"current\":0.1, \"waterViscocity\":1.6735*10e-6}\n",
    "}"
   ]
  },
  {
   "cell_type": "code",
   "execution_count": 34,
   "metadata": {},
   "outputs": [
    {
     "name": "stdout",
     "output_type": "stream",
     "text": [
      "4224.413311501203\n",
      "for od of 10in and wt of 15.879999999999999mm pressure drop is -597.329525479118Pa/m\n",
      "2798.712636568085\n",
      "for od of 12in and wt of 15.879999999999999mm pressure drop is -312.1642769068887Pa/m\n",
      "1989.5271843019182\n",
      "for od of 14in and wt of 15.879999999999999mm pressure drop is -178.451983204269Pa/m\n",
      "1486.5604345728566\n",
      "for od of 16in and wt of 15.879999999999999mm pressure drop is -108.05159330956447Pa/m\n",
      "1152.747580267151\n",
      "for od of 18in and wt of 15.879999999999999mm pressure drop is -66.93873958096988Pa/m\n",
      "919.9391893149918\n",
      "for od of 20in and wt of 15.879999999999999mm pressure drop is -41.52570476003861Pa/m\n",
      "751.1448677784758\n",
      "for od of 22in and wt of 15.879999999999999mm pressure drop is -25.136519971498256Pa/m\n",
      "624.8786053886629\n",
      "for od of 24in and wt of 15.879999999999999mm pressure drop is -13.866429815589736Pa/m\n",
      "527.9670705388949\n",
      "for od of 26in and wt of 15.879999999999999mm pressure drop is -5.948479403577519Pa/m\n",
      "451.96898853135013\n",
      "for od of 28in and wt of 15.879999999999999mm pressure drop is -0.29669426703771506Pa/m\n",
      "391.2727677567502\n",
      "for od of 30in and wt of 15.879999999999999mm pressure drop is 3.9590796840497475Pa/m\n",
      "342.0300836706441\n",
      "for od of 32in and wt of 15.879999999999999mm pressure drop is 7.178935557810762Pa/m\n",
      "301.5305077777069\n",
      "for od of 34in and wt of 15.879999999999999mm pressure drop is 9.659829389295085Pa/m\n"
     ]
    }
   ],
   "source": [
    "for od in range(10,36,2):\n",
    "    line[\"od\"] = od*25.4/1000\n",
    "    wt= line[\"wallThickness\"]\n",
    "    print(f\"for od of {od}in and wt of {wt*1000}mm pressure drop is {calPressureDrop(fluid,line)}Pa/m\")"
   ]
  },
  {
   "cell_type": "code",
   "execution_count": 11,
   "metadata": {},
   "outputs": [
    {
     "name": "stdout",
     "output_type": "stream",
     "text": [
      "163.87048557787654\n"
     ]
    }
   ],
   "source": [
    "print(math.pow(10,6)/((86400*35.3147))*fluid[\"flowRate\"])"
   ]
  },
  {
   "cell_type": "code",
   "execution_count": 18,
   "metadata": {},
   "outputs": [
    {
     "data": {
      "text/plain": [
       "<function id(obj, /)>"
      ]
     },
     "execution_count": 18,
     "metadata": {},
     "output_type": "execute_result"
    }
   ],
   "source": [
    "id"
   ]
  },
  {
   "cell_type": "code",
   "execution_count": 30,
   "metadata": {},
   "outputs": [
    {
     "name": "stdout",
     "output_type": "stream",
     "text": [
      "   Elevation is  1694.0546\n",
      "   External temperature is  3.0\n",
      "   Prandtl number is  0.13199999999999998\n",
      "   Nu =  369.0348201675013\n",
      "   Flow rate is 359.69083333333333 kg/s\n",
      "   ho calculated is -773566.9483939302\n"
     ]
    },
    {
     "ename": "OverflowError",
     "evalue": "math range error",
     "output_type": "error",
     "traceback": [
      "\u001b[0;31m---------------------------------------------------------------------------\u001b[0m",
      "\u001b[0;31mOverflowError\u001b[0m                             Traceback (most recent call last)",
      "\u001b[0;32m<ipython-input-30-03fdde64a07c>\u001b[0m in \u001b[0;36m<module>\u001b[0;34m\u001b[0m\n\u001b[1;32m     50\u001b[0m     \u001b[0;34m-\u001b[0m\u001b[0;36m9.81\u001b[0m\u001b[0;34m*\u001b[0m\u001b[0mdElev\u001b[0m\u001b[0;34m\u001b[0m\u001b[0;34m\u001b[0m\u001b[0m\n\u001b[1;32m     51\u001b[0m \u001b[0mprint\u001b[0m\u001b[0;34m(\u001b[0m\u001b[0;34mf\"   ho calculated is {ho}\"\u001b[0m\u001b[0;34m)\u001b[0m\u001b[0;34m\u001b[0m\u001b[0;34m\u001b[0m\u001b[0m\n\u001b[0;32m---> 52\u001b[0;31m \u001b[0mtOut\u001b[0m \u001b[0;34m=\u001b[0m \u001b[0;34m(\u001b[0m\u001b[0mfluid\u001b[0m\u001b[0;34m[\u001b[0m\u001b[0;34m\"temperature\"\u001b[0m\u001b[0;34m]\u001b[0m \u001b[0;34m-\u001b[0m \u001b[0mtExt\u001b[0m\u001b[0;34m)\u001b[0m \u001b[0;34m/\u001b[0m \u001b[0mmath\u001b[0m\u001b[0;34m.\u001b[0m\u001b[0mexp\u001b[0m\u001b[0;34m(\u001b[0m \u001b[0;34m(\u001b[0m\u001b[0mu\u001b[0m\u001b[0;34m*\u001b[0m\u001b[0;36m2\u001b[0m\u001b[0;34m*\u001b[0m\u001b[0mmath\u001b[0m\u001b[0;34m.\u001b[0m\u001b[0mpi\u001b[0m \u001b[0;34m*\u001b[0m \u001b[0mline\u001b[0m\u001b[0;34m[\u001b[0m\u001b[0;34m\"id\"\u001b[0m\u001b[0;34m]\u001b[0m\u001b[0;34m/\u001b[0m\u001b[0;36m2\u001b[0m\u001b[0;34m)\u001b[0m\u001b[0;34m/\u001b[0m \u001b[0;34m(\u001b[0m\u001b[0mflowRate\u001b[0m\u001b[0;34m*\u001b[0m\u001b[0mcpFluid\u001b[0m\u001b[0;34m)\u001b[0m \u001b[0;34m*\u001b[0m \u001b[0mline\u001b[0m\u001b[0;34m[\u001b[0m\u001b[0;34m\"length\"\u001b[0m\u001b[0;34m]\u001b[0m \u001b[0;34m)\u001b[0m \u001b[0;34m+\u001b[0m \u001b[0mtExt\u001b[0m\u001b[0;34m\u001b[0m\u001b[0;34m\u001b[0m\u001b[0m\n\u001b[0m\u001b[1;32m     53\u001b[0m \u001b[0;31m# print(f\" Temperature at outlet is {tOut}\")\u001b[0m\u001b[0;34m\u001b[0m\u001b[0;34m\u001b[0m\u001b[0;34m\u001b[0m\u001b[0m\n",
      "\u001b[0;31mOverflowError\u001b[0m: math range error"
     ]
    }
   ],
   "source": [
    "\n",
    "owd=[k for k in oceanEnvironment]\n",
    "# print(owd);\n",
    "otemp = [oceanEnvironment[k][\"temperature\"] for k in owd]\n",
    "ovis = [oceanEnvironment[k][\"waterViscocity\"] for k in owd]\n",
    "\n",
    "\n",
    "    \n",
    "    #calculate temperature drop\n",
    "velocity = fluid[\"flowRate\"]*math.pow(10,6)/((86400*35.3147)*math.pow(line[\"id\"],2))\n",
    "Re=fluid[\"density\"]*velocity*line[\"id\"]/fluid[\"viscosity\"]\n",
    "minElev = min(map(lambda point: point[\"z\"], line[\"points\"]))\n",
    "maxElev = max(map(lambda point: point[\"z\"], line[\"points\"]))\n",
    "dElev = maxElev-minElev\n",
    "print(\"   Elevation is \",dElev)\n",
    "tExt = np.interp(-minElev, owd, otemp);\n",
    "print(\"   External temperature is \",tExt)\n",
    "cpFluid = fluid[\"heatCapapcity\"];\n",
    "kFluid = fluid[\"thermalConductivity\"];\n",
    "pr= fluid[\"viscosity\"]*cpFluid/kFluid;\n",
    "print(\"   Prandtl number is \",pr)\n",
    "# waterViscosity = np.interp(maxWd, owd, ovis);\n",
    "waterViscosity = 1*10e-3 # kg/mstaken as dynamic viscosity at 20deg C\n",
    "nu = 0;\n",
    "if re >6000:\n",
    "    nu = math.pow(0.023*Re, 4/5)*math.pow(pr, 1/3)*math.pow(fluid[\"viscosity\"]/waterViscosity,0.14)\n",
    "elif re<2000:\n",
    "    nu = 1.86*re*pr* math.pow(id/line[\"length\"], 1/3)*math.pow(fluid[\"viscosity\"]/waterViscosity,0.14)\n",
    "else: \n",
    "    nu6000 = math.pow(0.023*6000, 4/5)*math.pow(pr, 1/3)*math.pow(fluid[\"viscosity\"]/waterViscosity,0.14)\n",
    "    nu2000 = math.pow(0.023*2000, 4/5)*math.pow(pr, 1/3)*math.pow(fluid[\"viscosity\"]/waterViscosity,0.14)\n",
    "\n",
    "    xp = [2000,6000]\n",
    "    fp = [nu2000, nu6000]     \n",
    "    nu = np.interp(re, xp, fp)\n",
    "    print(f\"   For Re= {re} Nu= {nu}. Interpolation of Re=6000 nu={nu6000} and Re=2000 nu={nu2000}\")\n",
    "print(\"   Nu = \",nu)\n",
    "\n",
    "hin=kFluid*nu/line[\"id\"];\n",
    "R=  8.3144598 # gas constant\n",
    "u= 5 # ??? W/m²K\n",
    "Z = 1.1 #??? https://en.wikipedia.org/wiki/Compressibility_factor\n",
    "MW = 16 # MW is molecular weight of gas component (methane is 16)\n",
    "pEnd = 70e5 # Pa\n",
    "mmscfd = 1177.17 #m3/hr\n",
    "flowRate = fluid[\"flowRate\"]*mmscfd * fluid[\"density\"]/60/60 #kg/s\n",
    "print(f\"   Flow rate is {flowRate} kg/s\")\n",
    "ho=hin \\\n",
    "    +u*( tExt - fluid[\"temperature\"])*math.pi*line[\"id\"]*line[\"length\"]/flowRate \\\n",
    "    -(Z*R*fluid[\"temperature\"]*flowRate/(pEnd*MW*line[\"id\"]**2/4*math.pi)) \\\n",
    "    -9.81*dElev \n",
    "print(f\"   ho calculated is {ho}\")\n",
    "tOut = (fluid[\"temperature\"] - tExt) / math.exp( (u*2*math.pi * line[\"id\"]/2)/ (flowRate*cpFluid) * line[\"length\"] ) + tExt\n",
    "# print(f\" Temperature at outlet is {tOut}\")\n"
   ]
  },
  {
   "cell_type": "code",
   "execution_count": 27,
   "metadata": {},
   "outputs": [
    {
     "name": "stdout",
     "output_type": "stream",
     "text": [
      "0.32774097115575307\n"
     ]
    },
    {
     "data": {
      "text/plain": [
       "0.3269916666666667"
      ]
     },
     "execution_count": 27,
     "metadata": {},
     "output_type": "execute_result"
    }
   ],
   "source": [
    "print(math.pow(10,6)/((86400*35.3147)))\n",
    "mmscfd = 1177.17\n",
    "mmscfd/60/60"
   ]
  },
  {
   "cell_type": "code",
   "execution_count": 72,
   "metadata": {},
   "outputs": [
    {
     "data": {
      "text/plain": [
       "3062.5229360769804"
      ]
     },
     "execution_count": 72,
     "metadata": {},
     "output_type": "execute_result"
    }
   ],
   "source": [
    "(u*2*math.pi * line[\"id\"]/2)/ (flowRate*cpFluid) * line[\"length\"] "
   ]
  },
  {
   "cell_type": "code",
   "execution_count": 89,
   "metadata": {},
   "outputs": [
    {
     "data": {
      "text/plain": [
       "3.0"
      ]
     },
     "execution_count": 89,
     "metadata": {},
     "output_type": "execute_result"
    }
   ],
   "source": [
    "np.interp(1500, owd, otemp)"
   ]
  },
  {
   "cell_type": "code",
   "execution_count": 48,
   "metadata": {},
   "outputs": [
    {
     "ename": "AttributeError",
     "evalue": "'float' object has no attribute 'u'",
     "output_type": "error",
     "traceback": [
      "\u001b[0;31m---------------------------------------------------------------------------\u001b[0m",
      "\u001b[0;31mAttributeError\u001b[0m                            Traceback (most recent call last)",
      "\u001b[0;32m<ipython-input-48-e53d1b071296>\u001b[0m in \u001b[0;36m<module>\u001b[0;34m\u001b[0m\n\u001b[0;32m----> 1\u001b[0;31m \u001b[0mpOutlet\u001b[0m \u001b[0;34m=\u001b[0m \u001b[0;36m70e5\u001b[0m\u001b[0;34m.\u001b[0m\u001b[0mu\u001b[0m\u001b[0;34m.\u001b[0m\u001b[0mPa\u001b[0m\u001b[0;34m\u001b[0m\u001b[0;34m\u001b[0m\u001b[0m\n\u001b[0m\u001b[1;32m      2\u001b[0m \u001b[0mfd\u001b[0m \u001b[0;34m=\u001b[0m \u001b[0mline\u001b[0m\u001b[0;34m[\u001b[0m\u001b[0;34m\"pipeRoughness\"\u001b[0m\u001b[0;34m]\u001b[0m\u001b[0;34m\u001b[0m\u001b[0;34m\u001b[0m\u001b[0m\n\u001b[1;32m      3\u001b[0m \u001b[0md\u001b[0m \u001b[0;34m=\u001b[0m \u001b[0mline\u001b[0m\u001b[0;34m[\u001b[0m\u001b[0;34m\"id\"\u001b[0m\u001b[0;34m]\u001b[0m\u001b[0;34m\u001b[0m\u001b[0;34m\u001b[0m\u001b[0m\n\u001b[1;32m      4\u001b[0m \u001b[0mP_isothermal_critical_flow\u001b[0m\u001b[0;34m(\u001b[0m\u001b[0mP\u001b[0m\u001b[0;34m=\u001b[0m\u001b[0mpOutlet\u001b[0m\u001b[0;34m,\u001b[0m \u001b[0mfd\u001b[0m\u001b[0;34m=\u001b[0m\u001b[0mfd\u001b[0m\u001b[0;34m,\u001b[0m \u001b[0mL\u001b[0m\u001b[0;34m=\u001b[0m\u001b[0;36m1.\u001b[0m\u001b[0;34m,\u001b[0m \u001b[0mD\u001b[0m\u001b[0;34m=\u001b[0m\u001b[0md\u001b[0m\u001b[0;34m)\u001b[0m\u001b[0;34m\u001b[0m\u001b[0;34m\u001b[0m\u001b[0m\n",
      "\u001b[0;31mAttributeError\u001b[0m: 'float' object has no attribute 'u'"
     ]
    }
   ],
   "source": [
    "pOutlet = 70e5.u.Pa\n",
    "fd = line[\"pipeRoughness\"]\n",
    "d = line[\"id\"]\n",
    "P_isothermal_critical_flow(P=pOutlet, fd=fd, L=1., D=d)"
   ]
  },
  {
   "cell_type": "code",
   "execution_count": 37,
   "metadata": {},
   "outputs": [
    {
     "name": "stdout",
     "output_type": "stream",
     "text": [
      "Darcy friction factor = 0.06090765798233322 dimensionless\n",
      "Pressure drop = 176425.27023776315 pascal\n",
      "In imperial, pressure drop = 25.58832207372598 pound_force_per_square_inch\n"
     ]
    }
   ],
   "source": [
    "from math import *\n",
    "from fluids.units import *\n",
    "from thermo import *\n",
    "\n",
    "SG = 0.815\n",
    "rho = SG*999.1*u.kg/u.m**3\n",
    "nu = 2.7*u.centistokes\n",
    "mu = nu_mu_converter(rho,  nu=nu)\n",
    "Q = 2*u.gal/u.s\n",
    "L = 100*u.foot\n",
    "\n",
    "NPS, D_pipe, Do_pipe, t = nearest_pipe(Di=2*u.inch)\n",
    "v = Q/(pi/4*D_pipe**2)\n",
    "Re = Reynolds(rho=rho, mu=mu, D=D_pipe, V=v)\n",
    "fd = friction_factor(Re=Re, eD=0.0018*u.inch/D_pipe)\n",
    "print('Darcy friction factor = %s' %fd)\n",
    "K_friction = K_from_f(fd=fd, L=L, D=D_pipe)\n",
    "dP = dP_from_K(K=K_friction, rho=rho, V=v)\n",
    "print('Pressure drop = %s' %dP.to(u.Pa))\n",
    "print('In imperial, pressure drop = %s' %dP.to(u.psi))"
   ]
  },
  {
   "cell_type": "code",
   "execution_count": 38,
   "metadata": {},
   "outputs": [
    {
     "name": "stdout",
     "output_type": "stream",
     "text": [
      "Darcy friction factor = 0.023\n",
      "Pressure drop = 66621.85593551381 pascal\n",
      "In imperial, pressure drop = 9.662683268274836 pound_force_per_square_inch\n"
     ]
    }
   ],
   "source": [
    "fd = 0.023\n",
    "print('Darcy friction factor = %s' %fd)\n",
    "K_friction = K_from_f(fd=fd, L=L, D=D_pipe)\n",
    "dP = dP_from_K(K=K_friction, rho=rho, V=v)\n",
    "print('Pressure drop = %s' %dP.to(u.Pa))\n",
    "print('In imperial, pressure drop = %s' %dP.to(u.psi))"
   ]
  },
  {
   "cell_type": "code",
   "execution_count": 45,
   "metadata": {},
   "outputs": [
    {
     "data": {
      "text/plain": [
       "[32 <Unit('dimensionless')>,\n",
       " 0.77804 <Unit('meter')>,\n",
       " 0.813 <Unit('meter')>,\n",
       " 0.01748 <Unit('meter')>]"
      ]
     },
     "execution_count": 45,
     "metadata": {},
     "output_type": "execute_result"
    }
   ],
   "source": [
    "id=30*25.4/1000 - 2*19/1000\n",
    "nearest_pipe(Di=id*u.m)\n",
    "# nearest_pipe(Di=2*u.inch)"
   ]
  },
  {
   "cell_type": "code",
   "execution_count": 28,
   "metadata": {},
   "outputs": [
    {
     "ename": "ModuleNotFoundError",
     "evalue": "No module named 'PressureLoss'",
     "output_type": "error",
     "traceback": [
      "\u001b[0;31m---------------------------------------------------------------------------\u001b[0m",
      "\u001b[0;31mModuleNotFoundError\u001b[0m                       Traceback (most recent call last)",
      "\u001b[0;32m<ipython-input-28-09d0015baebc>\u001b[0m in \u001b[0;36m<module>\u001b[0;34m\u001b[0m\n\u001b[1;32m     10\u001b[0m \u001b[0;34m\u001b[0m\u001b[0m\n\u001b[1;32m     11\u001b[0m \u001b[0;31m## Main Function that returns the pressure loss\u001b[0m\u001b[0;34m\u001b[0m\u001b[0;34m\u001b[0m\u001b[0;34m\u001b[0m\u001b[0m\n\u001b[0;32m---> 12\u001b[0;31m \u001b[0;32mimport\u001b[0m \u001b[0mPressureLoss\u001b[0m \u001b[0;32mas\u001b[0m \u001b[0mPL\u001b[0m\u001b[0;34m\u001b[0m\u001b[0;34m\u001b[0m\u001b[0m\n\u001b[0m\u001b[1;32m     13\u001b[0m \u001b[0;34m\u001b[0m\u001b[0m\n\u001b[1;32m     14\u001b[0m \u001b[0mprint\u001b[0m\u001b[0;34m(\u001b[0m\u001b[0;34m\"Pressure Loss [bar] = \"\u001b[0m\u001b[0;34m,\u001b[0m \u001b[0mPL\u001b[0m\u001b[0;34m.\u001b[0m\u001b[0mPressureLoss_DW\u001b[0m\u001b[0;34m(\u001b[0m\u001b[0mL\u001b[0m\u001b[0;34m,\u001b[0m\u001b[0mD\u001b[0m\u001b[0;34m,\u001b[0m\u001b[0mmFlow\u001b[0m\u001b[0;34m,\u001b[0m\u001b[0mT\u001b[0m\u001b[0;34m,\u001b[0m\u001b[0maRou\u001b[0m\u001b[0;34m)\u001b[0m\u001b[0;34m)\u001b[0m\u001b[0;34m\u001b[0m\u001b[0;34m\u001b[0m\u001b[0m\n",
      "\u001b[0;31mModuleNotFoundError\u001b[0m: No module named 'PressureLoss'"
     ]
    }
   ],
   "source": [
    "# Pipe pressure loss - Circular pipe, full flow water in SI Units\n",
    "# based on Darcy-Weisbach, using Clamond algorithm for friction factor\n",
    "\n",
    "# Inputs\n",
    "D=70.3      # [mm]      Pipe diameter\n",
    "aRou=0.1    # [mm]      Absolute roughness\n",
    "mFlow=4.09  # [kg/s]    Mass flow rate\n",
    "T=90        # [ºC]      Water temperature\n",
    "L=66        # [m]       Pipe length\n",
    "\n",
    "## Main Function that returns the pressure loss\n",
    "import PressureLoss as PL\n",
    "\n",
    "print(\"Pressure Loss [bar] = \", PL.PressureLoss_DW(L,D,mFlow,T,aRou))\n",
    "\n",
    "## Other Functions\n",
    "\n",
    "# Function that returns Reynolds number\n",
    "import SubFunctions as SF\n",
    "Re=SF.Reynolds(mFlow,D,T)\n",
    "print(\"Reynolds = \", Re)\n",
    "\n",
    "# Functions that return Darcy Friction Factor, f\n",
    "import DarcyFrictionFactor as DF\n",
    "\n",
    "print(\"Darcy Friction Factor via ColebrookWhite = \", DF.f_ColebrookWhite(D,Re,aRou))\n",
    "print(\"Darcy Friction Factor via SwameeJain = \", DF.f_SwameeJain(D,Re,aRou))\n",
    "print(\"Darcy Friction Factor via Clamond = \", DF.f_Clamond(Re,aRou/D))"
   ]
  },
  {
   "cell_type": "code",
   "execution_count": null,
   "metadata": {},
   "outputs": [],
   "source": []
  }
 ],
 "metadata": {
  "kernelspec": {
   "display_name": "Python 3",
   "language": "python",
   "name": "python3"
  },
  "language_info": {
   "codemirror_mode": {
    "name": "ipython",
    "version": 3
   },
   "file_extension": ".py",
   "mimetype": "text/x-python",
   "name": "python",
   "nbconvert_exporter": "python",
   "pygments_lexer": "ipython3",
   "version": "3.7.4"
  },
  "toc": {
   "base_numbering": 1,
   "nav_menu": {},
   "number_sections": false,
   "sideBar": false,
   "skip_h1_title": false,
   "title_cell": "Table of Contents",
   "title_sidebar": "Contents",
   "toc_cell": false,
   "toc_position": {},
   "toc_section_display": false,
   "toc_window_display": false
  }
 },
 "nbformat": 4,
 "nbformat_minor": 2
}
