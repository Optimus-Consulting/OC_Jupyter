{
 "cells": [
  {
   "cell_type": "markdown",
   "metadata": {},
   "source": [
    "# Pseudo Dry Gas Modelling\n",
    "\n",
    "this notebook deals with modelling of pseudo dy system. Calculations could be immediately tested and result shown on the graphs. When agreed that the calculations are correct we will move this to Offshore Constuctor. "
   ]
  },
  {
   "cell_type": "code",
   "execution_count": 4,
   "metadata": {},
   "outputs": [],
   "source": [
    "from __future__ import print_function\n",
    "import numpy as np\n",
    "import math\n",
    "import json\n",
    "import tsp\n",
    "import pandas as pd\n",
    "import shapely.geometry as geometry\n",
    "from ortools.constraint_solver import routing_enums_pb2\n",
    "from ortools.constraint_solver import pywrapcp\n",
    "from matplotlib import pyplot as plt\n",
    "from sklearn.cluster import KMeans\n",
    "import sklearn.neighbors"
   ]
  },
  {
   "cell_type": "markdown",
   "metadata": {},
   "source": [
    "## Test data"
   ]
  },
  {
   "cell_type": "code",
   "execution_count": 5,
   "metadata": {},
   "outputs": [],
   "source": [
    "pArrival = 70*10**5"
   ]
  },
  {
   "cell_type": "code",
   "execution_count": 6,
   "metadata": {},
   "outputs": [
    {
     "data": {
      "text/plain": [
       "([{'x': -28471.08, 'y': 113337.86, 'z': -704.0},\n",
       "  {'x': -55703.16, 'y': 165663.44, 'z': -1640.0},\n",
       "  {'x': -39675.55, 'y': 171925.05, 'z': -1564.0}],\n",
       " [{'x': 0.0, 'y': 0.12, 'z': 54.0546}])"
      ]
     },
     "execution_count": 6,
     "metadata": {},
     "output_type": "execute_result"
    }
   ],
   "source": [
    "# control points from the line\n",
    "points = [{'x': 0.0, 'y': 0.12, 'z': 54.0546},\n",
    "  {'x': 927.7, 'y': 32758.0, 'z': -99.0},\n",
    "  {'x': -28471.08, 'y': 113337.86, 'z': -704.0},\n",
    "  {'x': -55703.16, 'y': 165663.44, 'z': -1640.0},\n",
    "  {'x': -39675.55, 'y': 171925.05, 'z': -1564.0}]\n",
    "manifolds = points[-3:]\n",
    "endPoint = [points[0]]\n",
    "manifolds, endPoint"
   ]
  },
  {
   "cell_type": "code",
   "execution_count": 7,
   "metadata": {},
   "outputs": [
    {
     "name": "stdout",
     "output_type": "stream",
     "text": [
      "Path lenght connecting all points is 194742.6263587469 m\n"
     ]
    },
    {
     "data": {
      "text/plain": [
       "[<matplotlib.lines.Line2D at 0x7f8079198c50>]"
      ]
     },
     "execution_count": 7,
     "metadata": {},
     "output_type": "execute_result"
    },
    {
     "data": {
      "image/png": "[encoded data removed]",
      "text/plain": [
       "<Figure size 432x288 with 1 Axes>"
      ]
     },
     "metadata": {
      "needs_background": "light"
     },
     "output_type": "display_data"
    }
   ],
   "source": [
    "from shapely.geometry import Point, Polygon, LineString\n",
    "import matplotlib.pyplot as plt\n",
    "from matplotlib import pyplot\n",
    "with open('baseLine.json', \"r\") as json_file:\n",
    "    data=json_file.read()\n",
    "    _line = json.loads(data)\n",
    "    line_points =[(x[\"x\"],x[\"y\"],x[\"z\"]) for x in _line] \n",
    "path=LineString(line_points)\n",
    "print(f\"Path lenght connecting all points is {path.length} m\")\n",
    "_cumkp=0\n",
    "kp=[]\n",
    "for index, point in enumerate(line_points):\n",
    "    if index == 0: \n",
    "        kp.append(0)  \n",
    "        continue\n",
    "    _kp = math.sqrt( (line_points[index][0]-line_points[index-1][0])**2 + \n",
    "                   (line_points[index][1]-line_points[index-1][1])**2 + \n",
    "                   (line_points[index][2]-line_points[index-1][2])**2 )\n",
    "    _cumkp = _cumkp + _kp \n",
    "    kp.append(_cumkp)\n",
    "x,y = path.xy\n",
    "plt.plot(x,y);\n",
    "pyplot.plot(x, y, 'o', color='#999999', zorder=1)"
   ]
  },
  {
   "cell_type": "code",
   "execution_count": 8,
   "metadata": {},
   "outputs": [
    {
     "data": {
      "text/plain": [
       "[<matplotlib.lines.Line2D at 0x7f807b1e5e10>]"
      ]
     },
     "execution_count": 8,
     "metadata": {},
     "output_type": "execute_result"
    },
    {
     "data": {
      "image/png": "[encoded data removed]",
      "text/plain": [
       "<Figure size 432x288 with 1 Axes>"
      ]
     },
     "metadata": {
      "needs_background": "light"
     },
     "output_type": "display_data"
    }
   ],
   "source": [
    "# allignment sheet\n",
    "plt.plot(kp,[x[\"z\"] for x in _line])"
   ]
  },
  {
   "cell_type": "code",
   "execution_count": 9,
   "metadata": {},
   "outputs": [],
   "source": [
    "# here for simplification purpose we use only one line. In Offshore Constructor it is splitted to PLET-PLET. \n",
    "line = { 'smys': 448000000.0,\n",
    " 'wallThickness': 0.01588,\n",
    " 'points': _line}\n",
    "line[\"length\"]= path.length\n",
    "line[\"pipeRoughness\"]= 0.0045 \n",
    "line[\"angle\"] = -90\n",
    "line[\"corrosionAllowance\"] = 0.003\n"
   ]
  },
  {
   "cell_type": "code",
   "execution_count": 10,
   "metadata": {},
   "outputs": [],
   "source": [
    "#fluid data\n",
    "fluid = {\n",
    "    \"temperature\": 110,\n",
    "    \"flowRate\": 500,\n",
    "    \"pressure\": 180*10**5,\n",
    "    \"density\": 2.2,\n",
    "    \"viscosity\": 200*10e-6,\n",
    "    \"heatCapapcity\": 2.31,\n",
    "    \"thermalConductivity\": 0.035,\n",
    "    \"Compressibility  Factor\": 1,\n",
    "    \"description\": [\"COMPOSITION onecomponent = ON\",\"library name=\\\"Methane\\\" comp=1\"]\n",
    "}"
   ]
  },
  {
   "cell_type": "markdown",
   "metadata": {},
   "source": [
    "## CASES\n",
    "### Wells locations known\n",
    "Positions of wells are put in excel together with all properties of the wells, including the fluid data.\n",
    "#### Determining manifold locations\n",
    "User to specify number of manifolds and algorithm to find number of clusters equal to number of manifolds.\n",
    "As a first try place manifolds in the centre of the cluster. \n",
    "\n",
    "### Wells locations unknown\n",
    "Here we place one manifold per reservoir and allow user to place a number of wells per reservoir and \n",
    "distance from the manifold. Algorithm randomly places wells around the manifold at the user specified distance. \n"
   ]
  },
  {
   "cell_type": "markdown",
   "metadata": {},
   "source": [
    "## Functions"
   ]
  },
  {
   "cell_type": "code",
   "execution_count": 14,
   "metadata": {},
   "outputs": [],
   "source": [
    "def getPointsFromSpline(filename):\n",
    "    points=[]\n",
    "    no=0\n",
    "    j=10000\n",
    "    x0 = 428.9\n",
    "    y0 = 61.61\n",
    "    scale_x = 469.866769\n",
    "    scale_y = 365.285025\n",
    "    with open(filename, \"r\") as f:\n",
    "        _raw = f.readlines()\n",
    "        for i, line in enumerate(_raw):\n",
    "            if \"Number of control points:\" in line:\n",
    "                no = int(line.split(\": \")[1])\n",
    "                j=0\n",
    "                _points=[]\n",
    "                continue\n",
    "            if j<int(no):\n",
    "                _p = line.replace(\"X = \",\"\").replace(\"Y = \",\"\").replace(\"Z = \",\"\").replace(\"Control Points: \",\"\").strip().split(\",\")\n",
    "                j+=1\n",
    "                point = ((float(_p[0])-x0)*scale_x,(float(_p[1])-y0)*scale_y)\n",
    "                _points.append(point)\n",
    "                if j==no-1:\n",
    "                    points.append(_points)\n",
    "    print(f\"Imported {len(points)} splines\")\n",
    "    from shapely import geometry\n",
    "    import matplotlib.pyplot as plt\n",
    "    for i, rpoints in enumerate(points):\n",
    "        poly = geometry.Polygon([[p[0], p[1]] for p in rpoints])\n",
    "        x,y = poly.exterior.xy\n",
    "        plt.plot(x,y);\n",
    "    plt.show()\n",
    "    return points\n",
    "def random_wells_in_polygon(number, polygon):\n",
    "    import random\n",
    "    from shapely.geometry import Point\n",
    "    list_of_points = []\n",
    "    minx, miny, maxx, maxy = polygon.bounds\n",
    "    counter = 0\n",
    "    while counter < number:\n",
    "        pnt = Point(random.uniform(minx, maxx), random.uniform(miny, maxy))\n",
    "        if polygon.contains(pnt):\n",
    "            list_of_points.append(pnt)\n",
    "            counter += 1\n",
    "    return list_of_points\n",
    "def testManifoldLocations(wells, maxNum):\n",
    "    items_df = pd.DataFrame()\n",
    "    m_l=[]\n",
    "    if maxNum%3==0: col = 3\n",
    "    else: col = 2\n",
    "    row= round(maxNum/col)\n",
    "    fig, ax = plt.subplots(nrows=row, ncols=col)\n",
    "    SIZE = (15,20)\n",
    "    fig.set_size_inches(SIZE)\n",
    "    i=0\n",
    "    for row in ax:\n",
    "        for col in row:\n",
    "            i+=1\n",
    "            kmeans = KMeans(n_clusters=i, init='k-means++', max_iter=300, n_init=10, random_state=0)\n",
    "            pred_y = kmeans.fit_predict(wells)\n",
    "            m_ix = kmeans.fit_predict(wells)\n",
    "            m_loc = kmeans.cluster_centers_\n",
    "            m_l.append({\"noOfManifolds\": i, \"locations:\":m_loc})\n",
    "            _items_df=connectSystem(wells, m_loc, m_ix)\n",
    "            items_df = items_df.append(_items_df,ignore_index=True, sort=False)\n",
    "            col.scatter(wells[:,0], wells[:,1])\n",
    "            col.scatter(kmeans.cluster_centers_[:, 0], kmeans.cluster_centers_[:, 1], s=300, c='red')\n",
    "            col.set_xlabel(f'{i} manifolds', labelpad = 5)\n",
    "    plt.show()   \n",
    "    return m_l\n",
    "'''\n",
    "Plotting code\n",
    "'''\n",
    "\n",
    "from matplotlib import pyplot\n",
    "from shapely.figures import SIZE, set_limits, plot_coords, plot_bounds, plot_line_issimple\n",
    "from shapely.geometry import Point, Polygon, LineString\n",
    "\n",
    "COLOR = {\n",
    "    True:  '#6699cc',\n",
    "    False: '#ffcc33'\n",
    "    }\n",
    "\n",
    "def v_color(ob):\n",
    "    return COLOR[ob.is_simple]\n",
    "\n",
    "def plot_coords(ax, ob):\n",
    "    x, y = ob.xy\n",
    "    ax.plot(x, y, 'o', color='#999999', zorder=1)\n",
    "\n",
    "def plot_bounds(ax, ob):\n",
    "    x, y = zip(*list((p.x, p.y) for p in ob.boundary))\n",
    "    ax.plot(x, y, 'o', color='#000000', zorder=1)\n",
    "\n",
    "def plot_line(ax, ob):\n",
    "    x, y = ob.xy\n",
    "    ax.plot(x, y, color=v_color(ob), alpha=0.7, linewidth=3, solid_capstyle='round', zorder=2)\n",
    "\n",
    "def plot_df(items_df):\n",
    "    SIZE = (10,10)\n",
    "    fig = pyplot.figure(1, figsize=SIZE, dpi=90)\n",
    "\n",
    "    for case_ix, case in enumerate(items_df[\"case\"].unique()):\n",
    "        case_m=items_df[\"case\"]==case\n",
    "        l_m=items_df[\"Element\"]==\"l\"\n",
    "        mask= case_m & l_m\n",
    "        ax = fig.add_subplot(321+case_ix)\n",
    "\n",
    "\n",
    "        for i in range(items_df[mask][\"Element\"].count()):\n",
    "            line = items_df[mask][\"positions\"].values[i]\n",
    "\n",
    "            plot_coords(ax, line)\n",
    "            plot_bounds(ax, line)\n",
    "            plot_line_issimple(ax, line, alpha=0.7)\n",
    "\n",
    "        ax.set_title(case)\n",
    "\n",
    "    pyplot.show()\n",
    "def connect(point1, point2):\n",
    "    '''\n",
    "    takes 2 points and returns line object\n",
    "    '''\n",
    "    firstPoint = point1\n",
    "    lastPoint = point2\n",
    "#     findPath HOLD\n",
    "    path = [firstPoint,lastPoint]\n",
    "    l=LineString(path)\n",
    "    return l\n",
    "def connectSystem(w_loc, m_loc=[], m_ix=[], ep_loc=[float(0),float(0)]):\n",
    "    '''\n",
    "    Connects all wells to the nearest manifold or end point. Then connectes all manifolds and end point. \n",
    "    Returns a dataframe with lines and lengths and manifolds and number of connections to every manifold. \n",
    "    \n",
    "    :param w_loc: list of well locations [[x1,y1,z1],...[xn,yn,zn]]\n",
    "    :param m_loc: numpy array of position of manifolds\n",
    "    :paramm_ix: numpy array of index showing cluster number for every well\n",
    "    :paramep_loc: location of end point\n",
    "    '''\n",
    "    l=[]\n",
    "    _d={\"Element\": [],\n",
    "          \"qty\": [],\n",
    "          \"positions\": [],\n",
    "          \"case\":[]}\n",
    "    \n",
    "    # treat clusters and end point as connecting nodes, in order to find best connections\n",
    "    eps=m_loc #THE ONLY DIFFERENCE MERGE - HOLD\n",
    "    eps = np.vstack([eps, ep_loc])\n",
    "\n",
    "    # find nearest cluster to connect wells to\n",
    "    tree = sklearn.neighbors.KDTree(eps)\n",
    "    # this connects all wells with the nearest cluster point\n",
    "    # needs a verification if the nearest is also the one chosen by the cluster HOLD\n",
    "    for w in w_loc:    \n",
    "        d, i = tree.query([w])\n",
    "        new_origin = tree.get_arrays()[0][i[0][0]]\n",
    "        distance = d[0][0]\n",
    "        l.append(connect(w,new_origin))\n",
    "\n",
    "\n",
    "    # now we need to connect all cluster points by excluding the current cp from the possible connections    \n",
    "    for kk, ep in enumerate(eps):\n",
    "#         print(\"eps\",eps, eps.shape)\n",
    "#         print(\"ep\",ep, ep.shape)\n",
    "\n",
    "        if eps.shape[0] == 1: \n",
    "            continue\n",
    "\n",
    "        eps_m = np.delete(eps,kk,0)\n",
    "        tree = sklearn.neighbors.KDTree(eps_m)\n",
    "        d, i = tree.query([ep])\n",
    "        new_origin = tree.get_arrays()[0][i[0][0]]\n",
    "        distance = d[0][0]\n",
    "#         print(f\"From node {ep} closest node is {new_origin} with distance {distance}\")\n",
    "#         print(f\"Nodes list to choose closest is {eps_m}\")\n",
    "        l.append(connect(ep,new_origin))\n",
    "    \n",
    "     # put data in dataframe\n",
    "    for item in l:\n",
    "        _d[\"Element\"]= _d[\"Element\"] + [\"l\"]\n",
    "        _d[\"qty\"]= _d[\"qty\"]+ [item.length]\n",
    "        _d[\"positions\"]=_d[\"positions\"]+ [item]\n",
    "        _d[\"case\"]=_d[\"case\"]+ [\"m=\"+str(len(m_loc))]\n",
    "    for m in m_loc:\n",
    "        _d[\"Element\"]= _d[\"Element\"] + [\"m\"]\n",
    "        count=0\n",
    "        for item in l:\n",
    "            if (m == item.coords[0]).all() or (m==item.coords[-1]).all():\n",
    "                count+=1\n",
    "#                 print(f\"M {m} connects line from {item.coords[0]} to {item.coords[-1]}\")\n",
    "#         print(f\" case {str(len(m_loc))} m {m} has {count} connections\")\n",
    "        _d[\"qty\"]= _d[\"qty\"]+ [count]\n",
    "        _d[\"positions\"]=_d[\"positions\"]+ [m]\n",
    "        _d[\"case\"]=_d[\"case\"]+ [\"m=\"+str(len(m_loc))]\n",
    "    df = pd.DataFrame(_d)\n",
    "\n",
    "    return df\n",
    "def print_solution(data, manager, routing, solution):\n",
    "    \"\"\"Prints solution on console.\"\"\"\n",
    "    \n",
    "    path = []\n",
    "    max_route_distance = 0\n",
    "    sum_route_distance = 0\n",
    "    for vehicle_id in range(data['num_lines']):\n",
    "        _path = {}\n",
    "        index = routing.Start(vehicle_id)\n",
    "        plan_output = 'Route for line {}:\\n'.format(vehicle_id)\n",
    "        _path[\"line\"] = vehicle_id\n",
    "        route_distance = 0\n",
    "        _pathL = []\n",
    "        while not routing.IsEnd(index):\n",
    "            plan_output += ' {} -> '.format(manager.IndexToNode(index))\n",
    "            _pathL.append(data[\"locations\"][manager.IndexToNode(index)])\n",
    "            previous_index = index\n",
    "            index = solution.Value(routing.NextVar(index))\n",
    "            route_distance += routing.GetArcCostForVehicle(\n",
    "                previous_index, index, vehicle_id)\n",
    "        _path[\"path\"] =  _pathL\n",
    "        _path[\"distance\"] = route_distance\n",
    "        path.append(_path)\n",
    "        plan_output += '{}\\n'.format(manager.IndexToNode(index))\n",
    "        plan_output += 'Distance of the route: {}m\\n'.format(route_distance)\n",
    "#         print(plan_output)\n",
    "        max_route_distance = max(route_distance, max_route_distance)\n",
    "        sum_route_distance += route_distance\n",
    "#     print('Maximum of the route distances: {}m'.format(max_route_distance))\n",
    "#     print('Sum of the route distances: {}m'.format(sum_route_distance))\n",
    "    return path, sum_route_distance\n",
    "\n",
    "# [START distance_callback]\n",
    "def compute_euclidean_distance_matrix(locations):\n",
    "    \"\"\"Creates callback to return distance between points.\"\"\"\n",
    "    distances = {}\n",
    "    for from_counter, from_node in enumerate(locations):\n",
    "        distances[from_counter] = {}\n",
    "        for to_counter, to_node in enumerate(locations):\n",
    "            if from_counter == to_counter or to_counter == 0:\n",
    "                distances[from_counter][to_counter] = 0\n",
    "            else:\n",
    "                # Euclidean distance\n",
    "                distances[from_counter][to_counter] = (int(\n",
    "                    math.hypot((from_node[0] - to_node[0]),\n",
    "                               (from_node[1] - to_node[1]))))\n",
    "    return distances\n",
    "    # [END distance_callback]\n",
    "def create_data_model(points_2dList, noOfLines):\n",
    "    \"\"\"Stores the data for the problem.\"\"\"\n",
    "    data = {}\n",
    "    \n",
    "    data['locations'] = points_2dList\n",
    "    data['num_lines'] = noOfLines\n",
    "    data['depot'] = 0\n",
    "#     print(data)\n",
    "    return data\n",
    "def getPath(points_2dList, noOfLines, maxLength=200000):\n",
    "    \"\"\"Solve the CVRP problem.\"\"\"\n",
    "    # Instantiate the data problem.\n",
    "    data = create_data_model(points_2dList, noOfLines)\n",
    "\n",
    "    # Create the routing index manager.\n",
    "#     manager = pywrapcp.RoutingIndexManager(len(data['distance_matrix']),\n",
    "#                                            data['num_vehicles'], data['depot'])\n",
    "    manager = pywrapcp.RoutingIndexManager(len(data['locations']),\n",
    "                                           data['num_lines'], data['depot'])\n",
    "\n",
    "    # Create Routing Model.\n",
    "    routing = pywrapcp.RoutingModel(manager)\n",
    "    distance_matrix = compute_euclidean_distance_matrix(data['locations'])\n",
    "\n",
    "    # Create and register a transit callback.\n",
    "    def distance_callback(from_index, to_index):\n",
    "        \"\"\"Returns the distance between the two nodes.\"\"\"\n",
    "        # Convert from routing variable Index to distance matrix NodeIndex.\n",
    "        from_node = manager.IndexToNode(from_index)\n",
    "        to_node = manager.IndexToNode(to_index)\n",
    "        return distance_matrix[from_node][to_node]\n",
    "\n",
    "    transit_callback_index = routing.RegisterTransitCallback(distance_callback)\n",
    "    # Define cost of each arc.\n",
    "    routing.SetArcCostEvaluatorOfAllVehicles(transit_callback_index)\n",
    "\n",
    "    # Add Distance constraint.\n",
    "    dimension_name = 'Distance'\n",
    "    routing.AddDimension(\n",
    "        transit_callback_index,\n",
    "        0,  # no slack\n",
    "        maxLength,  # line maximum distance\n",
    "        True,  # start cumul to zero\n",
    "        dimension_name)\n",
    "    distance_dimension = routing.GetDimensionOrDie(dimension_name)\n",
    "    distance_dimension.SetGlobalSpanCostCoefficient(100)\n",
    "\n",
    "    # Setting first solution heuristic.\n",
    "    search_parameters = pywrapcp.DefaultRoutingSearchParameters()\n",
    "    search_parameters.first_solution_strategy = (\n",
    "        routing_enums_pb2.FirstSolutionStrategy.PATH_CHEAPEST_ARC)\n",
    "\n",
    "    # Solve the problem.\n",
    "    solution = routing.SolveWithParameters(search_parameters)\n",
    "#     print(solution)\n",
    "    # Print solution on console.\n",
    "    if solution:\n",
    "        path, total_distance = print_solution(data, manager, routing, solution)\n",
    "        \n",
    "    else:\n",
    "        print(\"No solution found!\")\n",
    "    return path, total_distance\n",
    "def getMinMaxWd(line):\n",
    "    maxWd = -(min(map(lambda point: point[\"z\"], line[\"points\"])))\n",
    "    minWd = -(max(map(lambda point: point[\"z\"], line[\"points\"])))\n",
    "    return minWd, maxWd\n",
    "def maxOdForWd(wd):\n",
    "    # from Figure 2-1: Deep Water Pipelines – Ongoing Technological Advances\n",
    "    maxOdEnvelope = [\n",
    "    [100,1500,2000,2500],\n",
    "    [48, 38, 34, 30]\n",
    "    ]\n",
    "    return np.interp(wd, maxOdEnvelope[0], maxOdEnvelope[1]);\n",
    "def calcOd(fluid, line):\n",
    "    minWd, maxWd = getMinMaxWd(line)\n",
    "    ins_limit = maxOdForWd(maxWd)\n",
    "    if fluid[\"flowRate\"] < 600:\n",
    "        od = 30\n",
    "    else:\n",
    "        od = 32\n",
    "    if od>ins_limit:\n",
    "        print(f\"Selected od of {od} in is bigger than the current installation limit of {ins_limit} in\")\n",
    "    return od\n",
    "def calPressureDrop(fluid,line,pressure):\n",
    "    line[\"id\"] = line[\"od\"]-2*line[\"wallThickness\"] \n",
    "    velocity = math.pow(10,6)/((86400*35.3147)*math.pi/4*math.pow(line[\"id\"],2))* math.pow (10,5)* fluid[\"Compressibility  Factor\"]*( fluid[\"temperature\"]+273.15)/ pressure/288.71;\n",
    "    re=fluid[\"density\"]*velocity*line[\"id\"]/fluid[\"viscosity\"];\n",
    "    pRo = line[\"pipeRoughness\"]\n",
    "    f = colebrook.sjFriction( re, pRo)\n",
    "    print(f\"Friction factor is {f}\")\n",
    "    pressureDrop_unit = -fluid[\"density\"]*9.81*math.sin(line[\"angle\"]*math.pi/180)-f*fluid[\"density\"]*velocity/(2*line[\"id\"])\n",
    "    return pressureDrop_unit\n",
    "def calWt(fluid, line, p_design):\n",
    "    minWd, maxWd = getMinMaxWd(line)\n",
    "    t = fluid[\"temperature\"] #deg C\n",
    "    rhoWater = 1025 #kg/m3\n",
    "    designFactor = 0.75\n",
    "    pExtMin = rhoWater * 9.81 * minWd\n",
    "    pExtMax = rhoWater * 9.81 * maxWd\n",
    "    if t < 121:\n",
    "        tDer = 1\n",
    "    elif t < 148.9:\n",
    "        tDer = (t-121)/(148.9-121)*(0.967-1)+1\n",
    "    elif t < 176.7:\n",
    "        tDer = (t-148.9)/(176.7- 148.9)*(0.933 - 0.967)+0.967\n",
    "    elif t < 204.4:\n",
    "        tDer = (t-176.7)/(204.4 - 176.7)*(0.9 - 0.933)+0.933\n",
    "    elif t < 232.2:\n",
    "        tDer = (t-204.4)/(233.3 - 204.4)*(0.867 - 0.9)+0.9\n",
    "    else: print(\"Max temperature that this code can handle is 232.2 degC.\")\n",
    "\n",
    "#     print(f\"derating factor is {tDer}\")\n",
    "\n",
    "    wtMinOperations = abs(p_design - pExtMin) * line[\"od\"] / 2 / tDer / line[\"smys\"] / designFactor + line[\"corrosionAllowance\"]\n",
    "    print(f\"from operation {wtMinOperations} m\")\n",
    "    wtMinHydotest = abs(p_design * 1.25 - pExtMin) * line[\"od\"] / 2 / tDer / line[\"smys\"] / 0.9 + line[\"corrosionAllowance\"]\n",
    "    print(f\"from hydrotest {wtMinHydotest} m\")\n",
    "    wtMinInstallation = abs(0 - pExtMax) * line[\"od\"] / 2 / tDer / line[\"smys\"] / 0.9 + line[\"corrosionAllowance\"]\n",
    "    print(f\"from installation/shutdown {wtMinInstallation} m\")\n",
    "    wtMin = max(wtMinOperations, wtMinHydotest,wtMinInstallation)\n",
    "    print(f\"Min water depth is {minWd}m and maximum is {maxWd}m\")\n",
    "    print(f\"Min wt is {wtMin*1000} mm\")\n",
    "    return wtMin"
   ]
  },
  {
   "cell_type": "markdown",
   "metadata": {},
   "source": [
    "## Main"
   ]
  },
  {
   "cell_type": "markdown",
   "metadata": {},
   "source": [
    "### from Autocad drawings of the reservoir make polygons "
   ]
  },
  {
   "cell_type": "code",
   "execution_count": 15,
   "metadata": {},
   "outputs": [
    {
     "name": "stdout",
     "output_type": "stream",
     "text": [
      "Imported 9 splines\n"
     ]
    },
    {
     "data": {
      "image/png": "[encoded data removed]",
      "text/plain": [
       "<Figure size 432x288 with 1 Axes>"
      ]
     },
     "metadata": {
      "needs_background": "light"
     },
     "output_type": "display_data"
    }
   ],
   "source": [
    "#from Autocad drawings of the reservoir make polygons\n",
    "_points = getPointsFromSpline(\"autocadList\")\n",
    "r_names = [\"Provenance\", \"Laxford\", \"Victory\", \"Cragganmore\", \"Colza\", \"Mull\", \"Bunnnehaven\", \"Tobermory\", \"Lyon\" ]\n",
    "d=[]\n",
    "for i, rpoints in enumerate(_points):\n",
    "    poly = geometry.Polygon([[p[0], p[1]] for p in rpoints])\n",
    "    _d = {\"reservoir\": r_names[i],\n",
    "         \"polygon\": poly}\n",
    "    d.append(_d)\n",
    "df = pd.DataFrame(d)\n",
    "\n",
    "# specify number of the wells per reservoir\n",
    "df[\"no_wells\"] = [1, 1, 1, 4, 2, 4, 1, 1, 6]\n",
    "\n",
    "#place wells in a random position within the reservoir polygon\n",
    "_w_loc = []\n",
    "for i, res in enumerate(df.values):\n",
    "    _w_loc.append(random_wells_in_polygon(res[2], res[1]))\n",
    "df[\"wells_loc\"] = _w_loc\n",
    "\n",
    "# make a list of wells to use later\n",
    "w_loc = []\n",
    "wells = []\n",
    "for index, p in list(df.iterrows()):\n",
    "    for p2 in p[3]:\n",
    "        w_loc.append({\"res_index\":index, \"x\":p2.x, \"y\":p2.y})\n",
    "        wells.append((p2.x, p2.y))\n",
    "df2=pd.DataFrame(w_loc)\n",
    "wells =np.array(wells)\n",
    "# print(df2.head())"
   ]
  },
  {
   "cell_type": "code",
   "execution_count": 17,
   "metadata": {},
   "outputs": [
    {
     "data": {
      "text/html": [
       "<div>\n",
       "<style scoped>\n",
       "    .dataframe tbody tr th:only-of-type {\n",
       "        vertical-align: middle;\n",
       "    }\n",
       "\n",
       "    .dataframe tbody tr th {\n",
       "        vertical-align: top;\n",
       "    }\n",
       "\n",
       "    .dataframe thead th {\n",
       "        text-align: right;\n",
       "    }\n",
       "</style>\n",
       "<table border=\"1\" class=\"dataframe\">\n",
       "  <thead>\n",
       "    <tr style=\"text-align: right;\">\n",
       "      <th></th>\n",
       "      <th>reservoir</th>\n",
       "      <th>polygon</th>\n",
       "      <th>no_wells</th>\n",
       "      <th>wells_loc</th>\n",
       "    </tr>\n",
       "  </thead>\n",
       "  <tbody>\n",
       "    <tr>\n",
       "      <td>0</td>\n",
       "      <td>Provenance</td>\n",
       "      <td>POLYGON ((-57630.80375154148 68099.57581171501...</td>\n",
       "      <td>1</td>\n",
       "      <td>[POINT (-56075.05700437741 65290.01644444446)]</td>\n",
       "    </tr>\n",
       "    <tr>\n",
       "      <td>1</td>\n",
       "      <td>Laxford</td>\n",
       "      <td>POLYGON ((-65115.21754158869 72860.95652708251...</td>\n",
       "      <td>1</td>\n",
       "      <td>[POINT (-55765.65782429989 81042.85350781072)]</td>\n",
       "    </tr>\n",
       "    <tr>\n",
       "      <td>2</td>\n",
       "      <td>Victory</td>\n",
       "      <td>POLYGON ((-45827.09270078488 57297.87845145001...</td>\n",
       "      <td>1</td>\n",
       "      <td>[POINT (-46010.87968074223 55387.94544337507)]</td>\n",
       "    </tr>\n",
       "    <tr>\n",
       "      <td>3</td>\n",
       "      <td>Cragganmore</td>\n",
       "      <td>POLYGON ((-35010.24282495898 117852.49207179, ...</td>\n",
       "      <td>4</td>\n",
       "      <td>[POINT (-32097.60676353113 114364.2985740556),...</td>\n",
       "    </tr>\n",
       "    <tr>\n",
       "      <td>4</td>\n",
       "      <td>Colza</td>\n",
       "      <td>POLYGON ((505.7645901516165 123580.59960582, -...</td>\n",
       "      <td>2</td>\n",
       "      <td>[POINT (-6711.81152915072 121605.4939347545), ...</td>\n",
       "    </tr>\n",
       "    <tr>\n",
       "      <td>5</td>\n",
       "      <td>Mull</td>\n",
       "      <td>POLYGON ((-53164.29723210438 145299.935793285,...</td>\n",
       "      <td>4</td>\n",
       "      <td>[POINT (-59006.7374758345 135197.3426504473), ...</td>\n",
       "    </tr>\n",
       "    <tr>\n",
       "      <td>6</td>\n",
       "      <td>Bunnnehaven</td>\n",
       "      <td>POLYGON ((-70076.25883539829 152544.5241086025...</td>\n",
       "      <td>1</td>\n",
       "      <td>[POINT (-73139.87179319667 145675.9484774045)]</td>\n",
       "    </tr>\n",
       "    <tr>\n",
       "      <td>7</td>\n",
       "      <td>Tobermory</td>\n",
       "      <td>POLYGON ((-71927.25198519688 167604.2028912825...</td>\n",
       "      <td>1</td>\n",
       "      <td>[POINT (-71951.09498691239 165308.8466689403)]</td>\n",
       "    </tr>\n",
       "    <tr>\n",
       "      <td>8</td>\n",
       "      <td>Lyon</td>\n",
       "      <td>POLYGON ((-40522.95469225149 177869.2234928175...</td>\n",
       "      <td>6</td>\n",
       "      <td>[POINT (-39697.12184012844 174899.7277640577),...</td>\n",
       "    </tr>\n",
       "  </tbody>\n",
       "</table>\n",
       "</div>"
      ],
      "text/plain": [
       "     reservoir                                            polygon  no_wells  \\\n",
       "0   Provenance  POLYGON ((-57630.80375154148 68099.57581171501...         1   \n",
       "1      Laxford  POLYGON ((-65115.21754158869 72860.95652708251...         1   \n",
       "2      Victory  POLYGON ((-45827.09270078488 57297.87845145001...         1   \n",
       "3  Cragganmore  POLYGON ((-35010.24282495898 117852.49207179, ...         4   \n",
       "4        Colza  POLYGON ((505.7645901516165 123580.59960582, -...         2   \n",
       "5         Mull  POLYGON ((-53164.29723210438 145299.935793285,...         4   \n",
       "6  Bunnnehaven  POLYGON ((-70076.25883539829 152544.5241086025...         1   \n",
       "7    Tobermory  POLYGON ((-71927.25198519688 167604.2028912825...         1   \n",
       "8         Lyon  POLYGON ((-40522.95469225149 177869.2234928175...         6   \n",
       "\n",
       "                                           wells_loc  \n",
       "0     [POINT (-56075.05700437741 65290.01644444446)]  \n",
       "1     [POINT (-55765.65782429989 81042.85350781072)]  \n",
       "2     [POINT (-46010.87968074223 55387.94544337507)]  \n",
       "3  [POINT (-32097.60676353113 114364.2985740556),...  \n",
       "4  [POINT (-6711.81152915072 121605.4939347545), ...  \n",
       "5  [POINT (-59006.7374758345 135197.3426504473), ...  \n",
       "6     [POINT (-73139.87179319667 145675.9484774045)]  \n",
       "7     [POINT (-71951.09498691239 165308.8466689403)]  \n",
       "8  [POINT (-39697.12184012844 174899.7277640577),...  "
      ]
     },
     "execution_count": 17,
     "metadata": {},
     "output_type": "execute_result"
    }
   ],
   "source": [
    "df"
   ]
  },
  {
   "cell_type": "code",
   "execution_count": 16,
   "metadata": {},
   "outputs": [
    {
     "data": {
      "text/plain": [
       "array([[-56075.05700438,  65290.01644444],\n",
       "       [-55765.6578243 ,  81042.85350781],\n",
       "       [-46010.87968074,  55387.94544338],\n",
       "       [-32097.60676353, 114364.29857406],\n",
       "       [-35397.04155624, 115581.72902767],\n",
       "       [-38161.10523258, 111507.67194936],\n",
       "       [-37625.52937341, 114908.03026175],\n",
       "       [ -6711.81152915, 121605.49393475],\n",
       "       [ -9325.08111473, 118397.85322556],\n",
       "       [-59006.73747583, 135197.34265045],\n",
       "       [-54943.43229178, 142547.81731379],\n",
       "       [-61077.63728068, 134864.90841371],\n",
       "       [-60885.36628176, 138495.81521021],\n",
       "       [-73139.8717932 , 145675.9484774 ],\n",
       "       [-71951.09498691, 165308.84666894],\n",
       "       [-39697.12184013, 174899.72776406],\n",
       "       [-41136.72233216, 170921.22166658],\n",
       "       [-45751.83433155, 174322.61378737],\n",
       "       [-40565.92751021, 166035.63429819],\n",
       "       [-38148.28978879, 175248.8394016 ],\n",
       "       [-40514.92367   , 170301.19535806]])"
      ]
     },
     "execution_count": 16,
     "metadata": {},
     "output_type": "execute_result"
    }
   ],
   "source": [
    "wells"
   ]
  },
  {
   "cell_type": "code",
   "execution_count": 16,
   "metadata": {},
   "outputs": [
    {
     "data": {
      "image/png": "[encoded data removed]",
      "text/plain": [
       "<Figure size 1080x1440 with 9 Axes>"
      ]
     },
     "metadata": {
      "needs_background": "light"
     },
     "output_type": "display_data"
    }
   ],
   "source": [
    "# check how many manifols to use\n",
    "m_l = testManifoldLocations(wells,9)"
   ]
  },
  {
   "cell_type": "code",
   "execution_count": 17,
   "metadata": {},
   "outputs": [
    {
     "data": {
      "text/plain": [
       "array([[-57696.92851883, 137758.52865335],\n",
       "       [-38270.14133892, 169807.1348368 ],\n",
       "       [-34693.25859297, 114008.12094652],\n",
       "       [-55224.19094855,  66592.57113007],\n",
       "       [ -3867.32454328, 122392.06084135],\n",
       "       [-73257.55877613, 158650.70783171]])"
      ]
     },
     "execution_count": 17,
     "metadata": {},
     "output_type": "execute_result"
    }
   ],
   "source": [
    "m_l[5][\"locations:\"]"
   ]
  },
  {
   "cell_type": "markdown",
   "metadata": {},
   "source": [
    "### Define how many lines to use and their path ??\n",
    "For now criteria = min length with and max length of each line to be 200km\n",
    "i.e. if one line length is more then 200km two lines will be checked. And if the locations of manifolds are\n",
    "in opposite directions maybe more lines will return the min lenght. So we do a loop and stop with the min \n",
    "overall lenght of the lines. \n",
    "\n",
    "Maybe best to connect the sortest distance to the manifold with most production and the rest to tie into the line?"
   ]
  },
  {
   "cell_type": "code",
   "execution_count": 13,
   "metadata": {},
   "outputs": [
    {
     "name": "stdout",
     "output_type": "stream",
     "text": [
      "3 lines solution line 0 length is 181864\n",
      "3 lines solution line 1 length is 139482\n",
      "3 lines solution line 2 length is 181784\n",
      "2 lines solution line 0 length is 216857\n",
      "2 lines solution line 1 length is 167005\n",
      "1 lines solution line 0 length is 284989\n"
     ]
    },
    {
     "data": {
      "image/png": "[encoded data removed]",
      "text/plain": [
       "<Figure size 1800x1800 with 3 Axes>"
      ]
     },
     "metadata": {
      "needs_background": "light"
     },
     "output_type": "display_data"
    }
   ],
   "source": [
    "# points_2dList = [(x[\"x\"],x[\"y\"]) for x in points]\n",
    "from shapely.figures import SIZE, set_limits, plot_coords, plot_bounds, plot_line\n",
    "SIZE = (20,20)\n",
    "col_l=[\"BLUE\",\"RED\",\"DARKGRAY\",\"GREEN\"]\n",
    "fig = pyplot.figure(1, figsize=SIZE, dpi=90)\n",
    "\n",
    "points_2dList = m_l[5][\"locations:\"].tolist()\n",
    "points_2dList.insert(0,[0.0,0.0])\n",
    "\n",
    "maxLength = 500000\n",
    "for i in range(3,0,-1):\n",
    "    ax = fig.add_subplot(320+i)\n",
    "    paths, total_distance = getPath(points_2dList,i,maxLength)\n",
    "#     print(f\"with {i} lines, total distance is {total_distance}\")\n",
    "    ax.set_title(f\"Using {i} lines, total distance is {total_distance}\")\n",
    "    _l=[]\n",
    "#     print(len(paths))\n",
    "    for k in range(i):\n",
    "        col=col_l[k]\n",
    "        for j, p in enumerate(paths[k][\"path\"][:-1]):\n",
    "            _line = connect(paths[k][\"path\"][j], paths[k][\"path\"][j+1])\n",
    "            _l.append(_line)\n",
    "            plot_coords(ax,_line)\n",
    "            plot_bounds(ax,_line)\n",
    "            plot_line(ax,_line, alpha=0.7,color=col)\n",
    "            dist = paths[k-1][\"distance\"]\n",
    "        print(f\"{i} lines solution line {k} length is {dist}\")\n",
    "plt.show()"
   ]
  },
  {
   "cell_type": "markdown",
   "metadata": {},
   "source": [
    "## HOLD \n",
    "### 1. how to chose number of manifolds?\n",
    "### 2. how to chose the line path?\n",
    "### 3. if multiple lines does every line needs 4 PDG?\n",
    "### 4. sizing of lines - currently taken as 30in"
   ]
  },
  {
   "cell_type": "markdown",
   "metadata": {},
   "source": [
    "### Gas line\n",
    "1. Connect Manifolds using 30in line PLET to PLET, and HOLD Jumper\n",
    "2. Put PDGS as ILT at desired locations on the line\n",
    "3. If PDGS is located within 50m of Manifold then no need to add aditional PLETs and connect PDGS directly to Manifold with rigid jumper. "
   ]
  },
  {
   "cell_type": "code",
   "execution_count": 18,
   "metadata": {},
   "outputs": [
    {
     "name": "stdout",
     "output_type": "stream",
     "text": [
      "Friction factor is 5.7347\n",
      "For given arrival pressure of 70.0bar calculated inlet pressure is 111.7797692566487 bar\n",
      "from operation 0.019460111308605785 m\n",
      "from hydrotest 0.020017547811020626 m\n",
      "from installation/shutdown 0.01858264486607143 m\n",
      "Min water depth is -54.0546m and maximum is 1640.0m\n",
      "Min wt is 20.017547811020627 mm\n"
     ]
    }
   ],
   "source": [
    "# calculate OD - idealy this should be complex function but for now\n",
    "# 1. check the max od from the installation standpoint\n",
    "# 2. take if installation allows 30in for less than 600mmscfd and 32in if more than 600mmscfd\n",
    "od = calcOd(fluid, line)\n",
    "line[\"od\"]= od *25.4 /1000\n",
    "\n",
    "# calculate inlet pressure using simple pressure drop calc\n",
    "pInlet = pArrival + calPressureDrop(fluid,line,pArrival) * line[\"length\"]\n",
    "print(f\"For given arrival pressure of {pArrival/10**5}bar calculated inlet pressure is {pInlet/10**5} bar\")\n",
    "\n",
    "#use design factor as 1.25 times the inlet pressure for wt calculations\n",
    "p_design = pInlet * 1.25\n",
    "line[\"design pressure\"] = p_design\n",
    "# calculate wall thickness\n",
    "wt = calWt(fluid, line, p_design)\n",
    "line[\"wallThickness\"] = wt"
   ]
  },
  {
   "cell_type": "code",
   "execution_count": 152,
   "metadata": {},
   "outputs": [
    {
     "name": "stdout",
     "output_type": "stream",
     "text": [
      "Flow rates, standard condition 163.87048557787656m3/s 116.74154605933394kg/s, actual 1.8750410115400888m3/s 116.74154605933394kg/s\n",
      "106.922\n",
      "103.236\n",
      "103.236\n",
      "103.236\n",
      "103.236\n",
      "103.236\n",
      "103.236\n",
      "103.236\n",
      "103.236\n",
      "103.236\n"
     ]
    }
   ],
   "source": [
    "import thermo\n",
    "import fluids\n",
    "P1 = 110e5\n",
    "temp=fluid[\"temperature\"]\n",
    "epsilon = line[\"pipeRoughness\"]\n",
    "Qst = fluid[\"flowRate\"]*1e6/(86400*35.3147) # mmscfd to m3/sec at standard coditions\n",
    "S0=thermo.Stream('natural gas', T=15+273.15, P=101325, Q=Qst)\n",
    "S1=thermo.Stream('natural gas', T=temp+273.15, P=P1, n=S0.n)\n",
    "print(f\"Flow rates, standard condition {S0.Q}m3/s {S0.m}kg/s, actual {S1.Q}m3/s {S0.m}kg/s\")\n",
    "# m3/sec at actual coditions, needs to be in the iteration because temp, pressure and Z are fuction of p and T\n",
    "D=line[\"id\"]\n",
    "L=16100\n",
    "for i in range(10):\n",
    "    S2 = thermo.Stream('natural gas', P=0.5*(P2+S1.P), m=S1.m)\n",
    "    V = S2.Q/(math.pi/4*D**2)\n",
    "    Re = S2.Reynolds(D=D, V=V)\n",
    "    fd = friction_factor(Re=Re, eD=epsilon/D)\n",
    "    P2 = fluids.isothermal_gas(rho=S2.rho, fd=fd, P1=S1.P, D=D, L=L, m=S1.m)/1e5\n",
    "    print('%g' %P2)\n",
    "#     Qac = ( Qst * 1e5* fluid[\"Compressibility  Factor\"]*(fluid[\"temperature\"]+273.15))  / (pressure*288.71) \n",
    "# Qac"
   ]
  },
  {
   "cell_type": "code",
   "execution_count": 136,
   "metadata": {},
   "outputs": [
    {
     "data": {
      "text/plain": [
       "1"
      ]
     },
     "execution_count": 136,
     "metadata": {},
     "output_type": "execute_result"
    }
   ],
   "source": [
    "fluid[\"Compressibility  Factor\"]"
   ]
  },
  {
   "cell_type": "code",
   "execution_count": 135,
   "metadata": {},
   "outputs": [
    {
     "name": "stdout",
     "output_type": "stream",
     "text": [
      "<Stream, components=['methane', 'nitrogen', 'carbon dioxide', 'ethane', 'propane', 'isobutane', 'butane', '2-methylbutane', 'pentane', 'hexane'], mole fractions=[0.9652, 0.0026, 0.006, 0.0182, 0.0046, 0.001, 0.001, 0.0005, 0.0003, 0.0007], mole flow=11514.480033592601 mol/s, T=383.15 K, P=11000000 Pa>\n"
     ]
    }
   ],
   "source": [
    "fluid[\"flowRate\"]*1e6/(86400*35.3147)\n",
    "(1e5* fluid[\"Compressibility  Factor\"]*(fluid[\"temperature\"]+273.15)) / (pressure*288.71)\n",
    "S1= thermo.Stream('natural gas', T=fluid[\"temperature\"]+273.15, P=P1, Q=Qac)\n",
    "print(S1)"
   ]
  },
  {
   "cell_type": "code",
   "execution_count": null,
   "metadata": {},
   "outputs": [],
   "source": [
    "S1 = thermo.Stream('natural gas', P=P1, m=m)\n",
    "V = S1.Q/(math.pi/4*D**2)\n",
    "Re = S1.Reynolds(D=D, V=V)\n",
    "fd = fluids.friction_factor(Re=Re, eD=epsilon/D)\n",
    "print(f\"rho={S1.rho}, fd={fd}, P1={S1.P}, D={D}, L={L}, m={S1.m}, Re={Re}, V={V}\")\n",
    "P2 = fluids.isothermal_gas(rho=S1.rho, fd=fd, P1=S1.P, D=D, L=L, m=S1.m)\n",
    "P2\n",
    "for i in range(10):\n",
    "    S2 = Stream('natural gas', P=0.5*(P2+S1.P), m=m)\n",
    "    V = S2.Q/(pi/4*D**2)\n",
    "    Re = S2.Reynolds(D=D, V=V)\n",
    "    fd = friction_factor(Re=Re, eD=epsilon/D)\n",
    "    P2 = isothermal_gas(rho=S2.rho, fd=fd, P1=S1.P, D=D, L=L, m=S1.m)\n",
    "    print('%g' %P2)"
   ]
  },
  {
   "cell_type": "code",
   "execution_count": 44,
   "metadata": {},
   "outputs": [
    {
     "name": "stdout",
     "output_type": "stream",
     "text": [
      "0.0045 0.0014\n",
      "500\n",
      "Re=5958.636452900938, Velocity=7.418030003711031m/s, Friction factor is (0.0415, 0.03722574984692974)\n",
      "18.142048379907376\n",
      "rho=2.2, fd=0.0415, P2=7000000, D=0.73024, L=194742.6263587469, m=359.69083333333333\n"
     ]
    },
    {
     "ename": "Exception",
     "evalue": "The desired mass flow rate of 359.690833 kg/s cannot be achieved with the specified downstream pressure; the maximum flowrate is nan kg/s at an upstream pressure of inf Pa",
     "output_type": "error",
     "traceback": [
      "\u001b[0;31m---------------------------------------------------------------------------\u001b[0m",
      "\u001b[0;31mAssertionError\u001b[0m                            Traceback (most recent call last)",
      "\u001b[0;32m/opt/anaconda3/lib/python3.7/site-packages/fluids/compressible.py\u001b[0m in \u001b[0;36misothermal_gas\u001b[0;34m(rho, fd, P1, P2, L, D, m)\u001b[0m\n\u001b[1;32m    857\u001b[0m             \u001b[0mm_max\u001b[0m \u001b[0;34m=\u001b[0m \u001b[0misothermal_gas\u001b[0m\u001b[0;34m(\u001b[0m\u001b[0mrho\u001b[0m\u001b[0;34m,\u001b[0m \u001b[0mfd\u001b[0m\u001b[0;34m,\u001b[0m \u001b[0mP1\u001b[0m\u001b[0;34m=\u001b[0m\u001b[0mP1\u001b[0m\u001b[0;34m,\u001b[0m \u001b[0mP2\u001b[0m\u001b[0;34m=\u001b[0m\u001b[0mPcf\u001b[0m\u001b[0;34m,\u001b[0m \u001b[0mL\u001b[0m\u001b[0;34m=\u001b[0m\u001b[0mL\u001b[0m\u001b[0;34m,\u001b[0m \u001b[0mD\u001b[0m\u001b[0;34m=\u001b[0m\u001b[0mD\u001b[0m\u001b[0;34m)\u001b[0m\u001b[0;34m\u001b[0m\u001b[0;34m\u001b[0m\u001b[0m\n\u001b[0;32m--> 858\u001b[0;31m             \u001b[0;32massert\u001b[0m \u001b[0mm\u001b[0m \u001b[0;34m<=\u001b[0m \u001b[0mm_max\u001b[0m\u001b[0;34m\u001b[0m\u001b[0;34m\u001b[0m\u001b[0m\n\u001b[0m\u001b[1;32m    859\u001b[0m \u001b[0;34m\u001b[0m\u001b[0m\n",
      "\u001b[0;31mAssertionError\u001b[0m: ",
      "\nDuring handling of the above exception, another exception occurred:\n",
      "\u001b[0;31mRuntimeError\u001b[0m                              Traceback (most recent call last)",
      "\u001b[0;32m/opt/anaconda3/lib/python3.7/site-packages/fluids/compressible.py\u001b[0m in \u001b[0;36misothermal_gas\u001b[0;34m(rho, fd, P1, P2, L, D, m)\u001b[0m\n\u001b[1;32m    879\u001b[0m             \u001b[0;32mtry\u001b[0m\u001b[0;34m:\u001b[0m\u001b[0;34m\u001b[0m\u001b[0;34m\u001b[0m\u001b[0m\n\u001b[0;32m--> 880\u001b[0;31m                 \u001b[0;32mreturn\u001b[0m \u001b[0mridder\u001b[0m\u001b[0;34m(\u001b[0m\u001b[0mto_solve\u001b[0m\u001b[0;34m,\u001b[0m \u001b[0ma\u001b[0m\u001b[0;34m=\u001b[0m\u001b[0mPcf\u001b[0m\u001b[0;34m,\u001b[0m \u001b[0mb\u001b[0m\u001b[0;34m=\u001b[0m\u001b[0mP1\u001b[0m\u001b[0;34m)\u001b[0m\u001b[0;34m\u001b[0m\u001b[0;34m\u001b[0m\u001b[0m\n\u001b[0m\u001b[1;32m    881\u001b[0m \u001b[0;31m#                m_max = isothermal_gas(rho, fd, P1=P1, P2=Pcf, L=L, D=D)\u001b[0m\u001b[0;34m\u001b[0m\u001b[0;34m\u001b[0m\u001b[0;34m\u001b[0m\u001b[0m\n",
      "\u001b[0;32m/opt/anaconda3/lib/python3.7/site-packages/scipy/optimize/zeros.py\u001b[0m in \u001b[0;36mridder\u001b[0;34m(f, a, b, args, xtol, rtol, maxiter, full_output, disp)\u001b[0m\n\u001b[1;32m    624\u001b[0m         \u001b[0;32mraise\u001b[0m \u001b[0mValueError\u001b[0m\u001b[0;34m(\u001b[0m\u001b[0;34m\"rtol too small (%g < %g)\"\u001b[0m \u001b[0;34m%\u001b[0m \u001b[0;34m(\u001b[0m\u001b[0mrtol\u001b[0m\u001b[0;34m,\u001b[0m \u001b[0m_rtol\u001b[0m\u001b[0;34m)\u001b[0m\u001b[0;34m)\u001b[0m\u001b[0;34m\u001b[0m\u001b[0;34m\u001b[0m\u001b[0m\n\u001b[0;32m--> 625\u001b[0;31m     \u001b[0mr\u001b[0m \u001b[0;34m=\u001b[0m \u001b[0m_zeros\u001b[0m\u001b[0;34m.\u001b[0m\u001b[0m_ridder\u001b[0m\u001b[0;34m(\u001b[0m\u001b[0mf\u001b[0m\u001b[0;34m,\u001b[0m \u001b[0ma\u001b[0m\u001b[0;34m,\u001b[0m \u001b[0mb\u001b[0m\u001b[0;34m,\u001b[0m \u001b[0mxtol\u001b[0m\u001b[0;34m,\u001b[0m \u001b[0mrtol\u001b[0m\u001b[0;34m,\u001b[0m \u001b[0mmaxiter\u001b[0m\u001b[0;34m,\u001b[0m \u001b[0margs\u001b[0m\u001b[0;34m,\u001b[0m \u001b[0mfull_output\u001b[0m\u001b[0;34m,\u001b[0m \u001b[0mdisp\u001b[0m\u001b[0;34m)\u001b[0m\u001b[0;34m\u001b[0m\u001b[0;34m\u001b[0m\u001b[0m\n\u001b[0m\u001b[1;32m    626\u001b[0m     \u001b[0;32mreturn\u001b[0m \u001b[0mresults_c\u001b[0m\u001b[0;34m(\u001b[0m\u001b[0mfull_output\u001b[0m\u001b[0;34m,\u001b[0m \u001b[0mr\u001b[0m\u001b[0;34m)\u001b[0m\u001b[0;34m\u001b[0m\u001b[0;34m\u001b[0m\u001b[0m\n",
      "\u001b[0;31mRuntimeError\u001b[0m: Failed to converge after 100 iterations.",
      "\nDuring handling of the above exception, another exception occurred:\n",
      "\u001b[0;31mException\u001b[0m                                 Traceback (most recent call last)",
      "\u001b[0;32m/opt/anaconda3/lib/python3.7/site-packages/fluids/compressible.py\u001b[0m in \u001b[0;36misothermal_gas\u001b[0;34m(rho, fd, P1, P2, L, D, m)\u001b[0m\n\u001b[1;32m    842\u001b[0m                 \u001b[0;32mreturn\u001b[0m \u001b[0mabs\u001b[0m\u001b[0;34m(\u001b[0m\u001b[0mP2\u001b[0m \u001b[0;34m-\u001b[0m \u001b[0misothermal_gas\u001b[0m\u001b[0;34m(\u001b[0m\u001b[0mrho\u001b[0m\u001b[0;34m,\u001b[0m \u001b[0mfd\u001b[0m\u001b[0;34m,\u001b[0m \u001b[0mm\u001b[0m\u001b[0;34m=\u001b[0m\u001b[0mm\u001b[0m\u001b[0;34m,\u001b[0m \u001b[0mP1\u001b[0m\u001b[0;34m=\u001b[0m\u001b[0mP1\u001b[0m\u001b[0;34m,\u001b[0m \u001b[0mP2\u001b[0m\u001b[0;34m=\u001b[0m\u001b[0;32mNone\u001b[0m\u001b[0;34m,\u001b[0m \u001b[0mL\u001b[0m\u001b[0;34m=\u001b[0m\u001b[0mL\u001b[0m\u001b[0;34m,\u001b[0m \u001b[0mD\u001b[0m\u001b[0;34m=\u001b[0m\u001b[0mD\u001b[0m\u001b[0;34m)\u001b[0m\u001b[0;34m)\u001b[0m\u001b[0;34m\u001b[0m\u001b[0;34m\u001b[0m\u001b[0m\n\u001b[0;32m--> 843\u001b[0;31m             \u001b[0mP1\u001b[0m \u001b[0;34m=\u001b[0m \u001b[0mnewton\u001b[0m\u001b[0;34m(\u001b[0m\u001b[0mto_solve_P2_basis\u001b[0m\u001b[0;34m,\u001b[0m \u001b[0;34m(\u001b[0m\u001b[0mP2\u001b[0m\u001b[0;34m+\u001b[0m\u001b[0mPcf\u001b[0m\u001b[0;34m)\u001b[0m\u001b[0;34m/\u001b[0m\u001b[0;36m2.\u001b[0m\u001b[0;34m)\u001b[0m\u001b[0;34m\u001b[0m\u001b[0;34m\u001b[0m\u001b[0m\n\u001b[0m\u001b[1;32m    844\u001b[0m             \u001b[0;32massert\u001b[0m \u001b[0mP2\u001b[0m \u001b[0;34m<=\u001b[0m \u001b[0mP1\u001b[0m\u001b[0;34m\u001b[0m\u001b[0;34m\u001b[0m\u001b[0m\n",
      "\u001b[0;32m/opt/anaconda3/lib/python3.7/site-packages/scipy/optimize/zeros.py\u001b[0m in \u001b[0;36mnewton\u001b[0;34m(func, x0, fprime, args, tol, maxiter, fprime2, x1, rtol, full_output, disp)\u001b[0m\n\u001b[1;32m    313\u001b[0m             \u001b[0mp1\u001b[0m \u001b[0;34m+=\u001b[0m \u001b[0;34m(\u001b[0m\u001b[0meps\u001b[0m \u001b[0;32mif\u001b[0m \u001b[0mp1\u001b[0m \u001b[0;34m>=\u001b[0m \u001b[0;36m0\u001b[0m \u001b[0;32melse\u001b[0m \u001b[0;34m-\u001b[0m\u001b[0meps\u001b[0m\u001b[0;34m)\u001b[0m\u001b[0;34m\u001b[0m\u001b[0;34m\u001b[0m\u001b[0m\n\u001b[0;32m--> 314\u001b[0;31m         \u001b[0mq0\u001b[0m \u001b[0;34m=\u001b[0m \u001b[0mfunc\u001b[0m\u001b[0;34m(\u001b[0m\u001b[0mp0\u001b[0m\u001b[0;34m,\u001b[0m \u001b[0;34m*\u001b[0m\u001b[0margs\u001b[0m\u001b[0;34m)\u001b[0m\u001b[0;34m\u001b[0m\u001b[0;34m\u001b[0m\u001b[0m\n\u001b[0m\u001b[1;32m    315\u001b[0m         \u001b[0mfuncalls\u001b[0m \u001b[0;34m+=\u001b[0m \u001b[0;36m1\u001b[0m\u001b[0;34m\u001b[0m\u001b[0;34m\u001b[0m\u001b[0m\n",
      "\u001b[0;32m/opt/anaconda3/lib/python3.7/site-packages/fluids/compressible.py\u001b[0m in \u001b[0;36mto_solve_P2_basis\u001b[0;34m(P1)\u001b[0m\n\u001b[1;32m    841\u001b[0m             \u001b[0;32mdef\u001b[0m \u001b[0mto_solve_P2_basis\u001b[0m\u001b[0;34m(\u001b[0m\u001b[0mP1\u001b[0m\u001b[0;34m)\u001b[0m\u001b[0;34m:\u001b[0m\u001b[0;34m\u001b[0m\u001b[0;34m\u001b[0m\u001b[0m\n\u001b[0;32m--> 842\u001b[0;31m                 \u001b[0;32mreturn\u001b[0m \u001b[0mabs\u001b[0m\u001b[0;34m(\u001b[0m\u001b[0mP2\u001b[0m \u001b[0;34m-\u001b[0m \u001b[0misothermal_gas\u001b[0m\u001b[0;34m(\u001b[0m\u001b[0mrho\u001b[0m\u001b[0;34m,\u001b[0m \u001b[0mfd\u001b[0m\u001b[0;34m,\u001b[0m \u001b[0mm\u001b[0m\u001b[0;34m=\u001b[0m\u001b[0mm\u001b[0m\u001b[0;34m,\u001b[0m \u001b[0mP1\u001b[0m\u001b[0;34m=\u001b[0m\u001b[0mP1\u001b[0m\u001b[0;34m,\u001b[0m \u001b[0mP2\u001b[0m\u001b[0;34m=\u001b[0m\u001b[0;32mNone\u001b[0m\u001b[0;34m,\u001b[0m \u001b[0mL\u001b[0m\u001b[0;34m=\u001b[0m\u001b[0mL\u001b[0m\u001b[0;34m,\u001b[0m \u001b[0mD\u001b[0m\u001b[0;34m=\u001b[0m\u001b[0mD\u001b[0m\u001b[0;34m)\u001b[0m\u001b[0;34m)\u001b[0m\u001b[0;34m\u001b[0m\u001b[0;34m\u001b[0m\u001b[0m\n\u001b[0m\u001b[1;32m    843\u001b[0m             \u001b[0mP1\u001b[0m \u001b[0;34m=\u001b[0m \u001b[0mnewton\u001b[0m\u001b[0;34m(\u001b[0m\u001b[0mto_solve_P2_basis\u001b[0m\u001b[0;34m,\u001b[0m \u001b[0;34m(\u001b[0m\u001b[0mP2\u001b[0m\u001b[0;34m+\u001b[0m\u001b[0mPcf\u001b[0m\u001b[0;34m)\u001b[0m\u001b[0;34m/\u001b[0m\u001b[0;36m2.\u001b[0m\u001b[0;34m)\u001b[0m\u001b[0;34m\u001b[0m\u001b[0;34m\u001b[0m\u001b[0m\n",
      "\u001b[0;32m/opt/anaconda3/lib/python3.7/site-packages/fluids/compressible.py\u001b[0m in \u001b[0;36misothermal_gas\u001b[0;34m(rho, fd, P1, P2, L, D, m)\u001b[0m\n\u001b[1;32m    888\u001b[0m \u001b[0;34m'with the specified upstream pressure of %f Pa; the maximum flowrate is %f '\u001b[0m\u001b[0;34m\u001b[0m\u001b[0;34m\u001b[0m\u001b[0m\n\u001b[0;32m--> 889\u001b[0;31m 'kg/s at a downstream pressure of %f' %(P1, m_max, Pcf))\n\u001b[0m\u001b[1;32m    890\u001b[0m             \u001b[0;31m# A solver which respects its boundaries is required here.\u001b[0m\u001b[0;34m\u001b[0m\u001b[0;34m\u001b[0m\u001b[0;34m\u001b[0m\u001b[0m\n",
      "\u001b[0;31mException\u001b[0m: The desired mass flow rate cannot be achieved with the specified upstream pressure of inf Pa; the maximum flowrate is nan kg/s at a downstream pressure of nan",
      "\nDuring handling of the above exception, another exception occurred:\n",
      "\u001b[0;31mRuntimeError\u001b[0m                              Traceback (most recent call last)",
      "\u001b[0;32m/opt/anaconda3/lib/python3.7/site-packages/fluids/compressible.py\u001b[0m in \u001b[0;36misothermal_gas\u001b[0;34m(rho, fd, P1, P2, L, D, m)\u001b[0m\n\u001b[1;32m    847\u001b[0m             \u001b[0;32mtry\u001b[0m\u001b[0;34m:\u001b[0m\u001b[0;34m\u001b[0m\u001b[0;34m\u001b[0m\u001b[0m\n\u001b[0;32m--> 848\u001b[0;31m                 \u001b[0;32mreturn\u001b[0m \u001b[0mridder\u001b[0m\u001b[0;34m(\u001b[0m\u001b[0mto_solve\u001b[0m\u001b[0;34m,\u001b[0m \u001b[0ma\u001b[0m\u001b[0;34m=\u001b[0m\u001b[0mP2\u001b[0m\u001b[0;34m,\u001b[0m \u001b[0mb\u001b[0m\u001b[0;34m=\u001b[0m\u001b[0mPcf\u001b[0m\u001b[0;34m)\u001b[0m\u001b[0;34m\u001b[0m\u001b[0;34m\u001b[0m\u001b[0m\n\u001b[0m\u001b[1;32m    849\u001b[0m             \u001b[0;32mexcept\u001b[0m\u001b[0;34m:\u001b[0m\u001b[0;34m\u001b[0m\u001b[0;34m\u001b[0m\u001b[0m\n",
      "\u001b[0;32m/opt/anaconda3/lib/python3.7/site-packages/scipy/optimize/zeros.py\u001b[0m in \u001b[0;36mridder\u001b[0;34m(f, a, b, args, xtol, rtol, maxiter, full_output, disp)\u001b[0m\n\u001b[1;32m    624\u001b[0m         \u001b[0;32mraise\u001b[0m \u001b[0mValueError\u001b[0m\u001b[0;34m(\u001b[0m\u001b[0;34m\"rtol too small (%g < %g)\"\u001b[0m \u001b[0;34m%\u001b[0m \u001b[0;34m(\u001b[0m\u001b[0mrtol\u001b[0m\u001b[0;34m,\u001b[0m \u001b[0m_rtol\u001b[0m\u001b[0;34m)\u001b[0m\u001b[0;34m)\u001b[0m\u001b[0;34m\u001b[0m\u001b[0;34m\u001b[0m\u001b[0m\n\u001b[0;32m--> 625\u001b[0;31m     \u001b[0mr\u001b[0m \u001b[0;34m=\u001b[0m \u001b[0m_zeros\u001b[0m\u001b[0;34m.\u001b[0m\u001b[0m_ridder\u001b[0m\u001b[0;34m(\u001b[0m\u001b[0mf\u001b[0m\u001b[0;34m,\u001b[0m \u001b[0ma\u001b[0m\u001b[0;34m,\u001b[0m \u001b[0mb\u001b[0m\u001b[0;34m,\u001b[0m \u001b[0mxtol\u001b[0m\u001b[0;34m,\u001b[0m \u001b[0mrtol\u001b[0m\u001b[0;34m,\u001b[0m \u001b[0mmaxiter\u001b[0m\u001b[0;34m,\u001b[0m \u001b[0margs\u001b[0m\u001b[0;34m,\u001b[0m \u001b[0mfull_output\u001b[0m\u001b[0;34m,\u001b[0m \u001b[0mdisp\u001b[0m\u001b[0;34m)\u001b[0m\u001b[0;34m\u001b[0m\u001b[0;34m\u001b[0m\u001b[0m\n\u001b[0m\u001b[1;32m    626\u001b[0m     \u001b[0;32mreturn\u001b[0m \u001b[0mresults_c\u001b[0m\u001b[0;34m(\u001b[0m\u001b[0mfull_output\u001b[0m\u001b[0;34m,\u001b[0m \u001b[0mr\u001b[0m\u001b[0;34m)\u001b[0m\u001b[0;34m\u001b[0m\u001b[0;34m\u001b[0m\u001b[0m\n",
      "\u001b[0;31mRuntimeError\u001b[0m: Failed to converge after 100 iterations.",
      "\nDuring handling of the above exception, another exception occurred:\n",
      "\u001b[0;31mException\u001b[0m                                 Traceback (most recent call last)",
      "\u001b[0;32m<ipython-input-44-f0bd074ad205>\u001b[0m in \u001b[0;36m<module>\u001b[0;34m\u001b[0m\n\u001b[1;32m     27\u001b[0m \u001b[0mprint\u001b[0m\u001b[0;34m(\u001b[0m\u001b[0;34mf\"rho={rho}, fd={fd}, P2={P2}, D={D}, L={L}, m={m}\"\u001b[0m\u001b[0;34m)\u001b[0m\u001b[0;34m\u001b[0m\u001b[0;34m\u001b[0m\u001b[0m\n\u001b[1;32m     28\u001b[0m \u001b[0;31m#isothermal_gas(rho=11.3, fd=0.00185, P1=1E6, D=0.5, L=1000, m=200)\u001b[0m\u001b[0;34m\u001b[0m\u001b[0;34m\u001b[0m\u001b[0;34m\u001b[0m\u001b[0m\n\u001b[0;32m---> 29\u001b[0;31m \u001b[0mfluids\u001b[0m\u001b[0;34m.\u001b[0m\u001b[0misothermal_gas\u001b[0m\u001b[0;34m(\u001b[0m\u001b[0mrho\u001b[0m\u001b[0;34m=\u001b[0m\u001b[0mrho\u001b[0m\u001b[0;34m,\u001b[0m \u001b[0mfd\u001b[0m\u001b[0;34m=\u001b[0m\u001b[0mfd\u001b[0m\u001b[0;34m,\u001b[0m \u001b[0mP2\u001b[0m\u001b[0;34m=\u001b[0m\u001b[0;36m70e5\u001b[0m\u001b[0;34m,\u001b[0m \u001b[0mD\u001b[0m\u001b[0;34m=\u001b[0m\u001b[0mD\u001b[0m\u001b[0;34m,\u001b[0m \u001b[0mL\u001b[0m\u001b[0;34m=\u001b[0m\u001b[0mL\u001b[0m\u001b[0;34m,\u001b[0m \u001b[0mm\u001b[0m\u001b[0;34m=\u001b[0m\u001b[0mm\u001b[0m\u001b[0;34m)\u001b[0m\u001b[0;34m\u001b[0m\u001b[0;34m\u001b[0m\u001b[0m\n\u001b[0m",
      "\u001b[0;32m/opt/anaconda3/lib/python3.7/site-packages/fluids/compressible.py\u001b[0m in \u001b[0;36misothermal_gas\u001b[0;34m(rho, fd, P1, P2, L, D, m)\u001b[0m\n\u001b[1;32m    851\u001b[0m                 raise Exception('The desired mass flow rate of %f kg/s cannot '\n\u001b[1;32m    852\u001b[0m \u001b[0;34m'be achieved with the specified downstream pressure; the maximum flowrate is '\u001b[0m\u001b[0;34m\u001b[0m\u001b[0;34m\u001b[0m\u001b[0m\n\u001b[0;32m--> 853\u001b[0;31m '%f kg/s at an upstream pressure of %f Pa' %(m, m_max, Pcf))\n\u001b[0m\u001b[1;32m    854\u001b[0m     \u001b[0;32melif\u001b[0m \u001b[0mP2\u001b[0m \u001b[0;32mis\u001b[0m \u001b[0;32mNone\u001b[0m \u001b[0;32mand\u001b[0m \u001b[0;34m(\u001b[0m\u001b[0;32mNone\u001b[0m \u001b[0;32mnot\u001b[0m \u001b[0;32min\u001b[0m \u001b[0;34m[\u001b[0m\u001b[0mL\u001b[0m\u001b[0;34m,\u001b[0m \u001b[0mP1\u001b[0m\u001b[0;34m,\u001b[0m \u001b[0mD\u001b[0m\u001b[0;34m,\u001b[0m \u001b[0mm\u001b[0m\u001b[0;34m]\u001b[0m\u001b[0;34m)\u001b[0m\u001b[0;34m:\u001b[0m\u001b[0;34m\u001b[0m\u001b[0;34m\u001b[0m\u001b[0m\n\u001b[1;32m    855\u001b[0m         \u001b[0;32mtry\u001b[0m\u001b[0;34m:\u001b[0m\u001b[0;34m\u001b[0m\u001b[0;34m\u001b[0m\u001b[0m\n",
      "\u001b[0;31mException\u001b[0m: The desired mass flow rate of 359.690833 kg/s cannot be achieved with the specified downstream pressure; the maximum flowrate is nan kg/s at an upstream pressure of inf Pa"
     ]
    }
   ],
   "source": [
    "#using fluid library to do calculations\n",
    "import fluids\n",
    "\n",
    "pressure = pArrival\n",
    "velocity = fluid[\"flowRate\"]*math.pow(10,6)/((86400*35.3147)*math.pi/4*math.pow(line[\"id\"],2))* math.pow (10,5)* fluid[\"Compressibility  Factor\"]*( fluid[\"temperature\"]+273.15)/ pressure/288.71;\n",
    "re=fluid[\"density\"]*velocity*line[\"id\"]/fluid[\"viscosity\"];\n",
    "pRo = line[\"pipeRoughness\"]\n",
    "pRo2 = fluids.friction.material_roughness('gas pipe', line[\"id\"])\n",
    "print(pRo,pRo2)\n",
    "f = colebrook.sjFriction( re, pRo)\n",
    "\n",
    "f2 = fluids.friction.Colebrook(re,pRo2)\n",
    "\n",
    "print(fluid[\"flowRate\"])\n",
    "print(f\"Re={re}, Velocity={velocity}m/s, Friction factor is {f,f2}\")\n",
    "pressureDrop_unit = -fluid[\"density\"]*9.81*math.sin(line[\"angle\"]*math.pi/180)-f*fluid[\"density\"]*math.pow(velocity,2)/(2*line[\"id\"])\n",
    "print(pressureDrop_unit)    \n",
    "# fd=line[\"pipeRoughness\"]\n",
    "P2=pArrival\n",
    "D=line[\"id\"]\n",
    "L=line[\"length\"]\n",
    "mmscfd = 1177.17 #m3/hr\n",
    "rho=fluid[\"density\"]\n",
    "fd=f\n",
    "m=fluid[\"flowRate\"]*mmscfd * fluid[\"density\"]/60/60 #kg/s\n",
    "print(f\"rho={rho}, fd={fd}, P2={P2}, D={D}, L={L}, m={m}\")\n",
    "#isothermal_gas(rho=11.3, fd=0.00185, P1=1E6, D=0.5, L=1000, m=200)\n",
    "fluids.isothermal_gas(rho=rho, fd=fd, P2=70e5, D=D, L=L, m=m)"
   ]
  },
  {
   "cell_type": "code",
   "execution_count": 66,
   "metadata": {},
   "outputs": [
    {
     "data": {
      "text/plain": [
       "(30, 0.74294, 0.762, 0.009529999999999999)"
      ]
     },
     "execution_count": 66,
     "metadata": {},
     "output_type": "execute_result"
    }
   ],
   "source": [
    "fluids.friction.nearest_material_roughness(\"gas pipeline\")\n",
    "fluids.nearest_pipe(NPS=30,schedule=\"STD\")"
   ]
  },
  {
   "cell_type": "code",
   "execution_count": null,
   "metadata": {},
   "outputs": [],
   "source": []
  },
  {
   "cell_type": "code",
   "execution_count": 77,
   "metadata": {},
   "outputs": [
    {
     "data": {
      "text/plain": [
       "4.851459184051316"
      ]
     },
     "execution_count": 77,
     "metadata": {},
     "output_type": "execute_result"
    }
   ],
   "source": [
    "fluids.P_isothermal_critical_flow(P=110E5, fd=0.00185, L=200000., D=0.730)/1e5"
   ]
  },
  {
   "cell_type": "code",
   "execution_count": 103,
   "metadata": {},
   "outputs": [
    {
     "data": {
      "text/plain": [
       "32.151317721046965"
      ]
     },
     "execution_count": 103,
     "metadata": {},
     "output_type": "execute_result"
    }
   ],
   "source": [
    "fluids.isothermal_gas(rho=11.3, fd=0.00185, P1=110E5, L=60000, D=0.730, m=359)/1e5"
   ]
  },
  {
   "cell_type": "code",
   "execution_count": 70,
   "metadata": {},
   "outputs": [
    {
     "name": "stdout",
     "output_type": "stream",
     "text": [
      "(30, 0.7493, 0.762, 0.00635) 5\n",
      "(30, 0.7461599999999999, 0.762, 0.00792) 10\n",
      "(30, 0.7366, 0.762, 0.0127) 20\n",
      "(30, 0.73024, 0.762, 0.015880000000000002) 30\n",
      "(30, 0.74294, 0.762, 0.009529999999999999) STD\n",
      "(30, 0.7366, 0.762, 0.0127) XS\n",
      "(30, 0.7493, 0.762, 0.00635) 5S\n",
      "(30, 0.7461599999999999, 0.762, 0.00792) 10S\n"
     ]
    }
   ],
   "source": [
    "pipe_schedules = ['5', '10', '20', '30', '40', '60', '80', '100', '120', '140', '160', 'STD', 'XS', 'XXS', '5S', '10S', '40S', '80S']\n",
    "for sch in pipe_schedules:\n",
    "    try:\n",
    "        print(fluids.piping.nearest_pipe(NPS=30, schedule=sch), sch)\n",
    "    except Exception:\n",
    "        pass"
   ]
  },
  {
   "cell_type": "code",
   "execution_count": 92,
   "metadata": {},
   "outputs": [
    {
     "data": {
      "text/plain": [
       "9.810812480292153"
      ]
     },
     "execution_count": 92,
     "metadata": {},
     "output_type": "execute_result"
    }
   ],
   "source": [
    "fluids.isothermal_gas(rho=11.3, fd=0.00185, P1=1E6, D=0.5, L=100, m=200)/1e5"
   ]
  },
  {
   "cell_type": "code",
   "execution_count": 113,
   "metadata": {},
   "outputs": [
    {
     "ename": "UndefinedUnitError",
     "evalue": "'mmscfd' is not defined in the unit registry",
     "output_type": "error",
     "traceback": [
      "\u001b[0;31m---------------------------------------------------------------------------\u001b[0m",
      "\u001b[0;31mUndefinedUnitError\u001b[0m                        Traceback (most recent call last)",
      "\u001b[0;32m<ipython-input-113-0c8adb99bc35>\u001b[0m in \u001b[0;36m<module>\u001b[0;34m\u001b[0m\n\u001b[1;32m      1\u001b[0m \u001b[0;32mfrom\u001b[0m \u001b[0mfluids\u001b[0m\u001b[0;34m.\u001b[0m\u001b[0munits\u001b[0m \u001b[0;32mimport\u001b[0m \u001b[0;34m*\u001b[0m\u001b[0;34m\u001b[0m\u001b[0;34m\u001b[0m\u001b[0m\n\u001b[0;32m----> 2\u001b[0;31m \u001b[0mu\u001b[0m\u001b[0;34m.\u001b[0m\u001b[0mmmscfd\u001b[0m\u001b[0;34m\u001b[0m\u001b[0;34m\u001b[0m\u001b[0m\n\u001b[0m",
      "\u001b[0;32m/opt/anaconda3/lib/python3.7/site-packages/pint/registry.py\u001b[0m in \u001b[0;36m__getattr__\u001b[0;34m(self, item)\u001b[0m\n\u001b[1;32m    201\u001b[0m         \u001b[0;32mif\u001b[0m \u001b[0mitem\u001b[0m\u001b[0;34m[\u001b[0m\u001b[0;36m0\u001b[0m\u001b[0;34m]\u001b[0m \u001b[0;34m==\u001b[0m \u001b[0;34m'_'\u001b[0m\u001b[0;34m:\u001b[0m\u001b[0;34m\u001b[0m\u001b[0;34m\u001b[0m\u001b[0m\n\u001b[1;32m    202\u001b[0m             \u001b[0;32mreturn\u001b[0m \u001b[0msuper\u001b[0m\u001b[0;34m(\u001b[0m\u001b[0mBaseRegistry\u001b[0m\u001b[0;34m,\u001b[0m \u001b[0mself\u001b[0m\u001b[0;34m)\u001b[0m\u001b[0;34m.\u001b[0m\u001b[0m__getattribute__\u001b[0m\u001b[0;34m(\u001b[0m\u001b[0mitem\u001b[0m\u001b[0;34m)\u001b[0m\u001b[0;34m\u001b[0m\u001b[0;34m\u001b[0m\u001b[0m\n\u001b[0;32m--> 203\u001b[0;31m         \u001b[0;32mreturn\u001b[0m \u001b[0mself\u001b[0m\u001b[0;34m.\u001b[0m\u001b[0mUnit\u001b[0m\u001b[0;34m(\u001b[0m\u001b[0mitem\u001b[0m\u001b[0;34m)\u001b[0m\u001b[0;34m\u001b[0m\u001b[0;34m\u001b[0m\u001b[0m\n\u001b[0m\u001b[1;32m    204\u001b[0m \u001b[0;34m\u001b[0m\u001b[0m\n\u001b[1;32m    205\u001b[0m     \u001b[0;32mdef\u001b[0m \u001b[0m__getitem__\u001b[0m\u001b[0;34m(\u001b[0m\u001b[0mself\u001b[0m\u001b[0;34m,\u001b[0m \u001b[0mitem\u001b[0m\u001b[0;34m)\u001b[0m\u001b[0;34m:\u001b[0m\u001b[0;34m\u001b[0m\u001b[0;34m\u001b[0m\u001b[0m\n",
      "\u001b[0;32m/opt/anaconda3/lib/python3.7/site-packages/pint/unit.py\u001b[0m in \u001b[0;36m__new__\u001b[0;34m(cls, units)\u001b[0m\n\u001b[1;32m     44\u001b[0m             \u001b[0minst\u001b[0m\u001b[0;34m.\u001b[0m\u001b[0m_units\u001b[0m \u001b[0;34m=\u001b[0m \u001b[0munits\u001b[0m\u001b[0;34m\u001b[0m\u001b[0;34m\u001b[0m\u001b[0m\n\u001b[1;32m     45\u001b[0m         \u001b[0;32melif\u001b[0m \u001b[0misinstance\u001b[0m\u001b[0;34m(\u001b[0m\u001b[0munits\u001b[0m\u001b[0;34m,\u001b[0m \u001b[0mstring_types\u001b[0m\u001b[0;34m)\u001b[0m\u001b[0;34m:\u001b[0m\u001b[0;34m\u001b[0m\u001b[0;34m\u001b[0m\u001b[0m\n\u001b[0;32m---> 46\u001b[0;31m             \u001b[0minst\u001b[0m\u001b[0;34m.\u001b[0m\u001b[0m_units\u001b[0m \u001b[0;34m=\u001b[0m \u001b[0minst\u001b[0m\u001b[0;34m.\u001b[0m\u001b[0m_REGISTRY\u001b[0m\u001b[0;34m.\u001b[0m\u001b[0mparse_units\u001b[0m\u001b[0;34m(\u001b[0m\u001b[0munits\u001b[0m\u001b[0;34m)\u001b[0m\u001b[0;34m.\u001b[0m\u001b[0m_units\u001b[0m\u001b[0;34m\u001b[0m\u001b[0;34m\u001b[0m\u001b[0m\n\u001b[0m\u001b[1;32m     47\u001b[0m         \u001b[0;32melif\u001b[0m \u001b[0misinstance\u001b[0m\u001b[0;34m(\u001b[0m\u001b[0munits\u001b[0m\u001b[0;34m,\u001b[0m \u001b[0m_Unit\u001b[0m\u001b[0;34m)\u001b[0m\u001b[0;34m:\u001b[0m\u001b[0;34m\u001b[0m\u001b[0;34m\u001b[0m\u001b[0m\n\u001b[1;32m     48\u001b[0m             \u001b[0minst\u001b[0m\u001b[0;34m.\u001b[0m\u001b[0m_units\u001b[0m \u001b[0;34m=\u001b[0m \u001b[0munits\u001b[0m\u001b[0;34m.\u001b[0m\u001b[0m_units\u001b[0m\u001b[0;34m\u001b[0m\u001b[0;34m\u001b[0m\u001b[0m\n",
      "\u001b[0;32m/opt/anaconda3/lib/python3.7/site-packages/pint/registry.py\u001b[0m in \u001b[0;36mparse_units\u001b[0;34m(self, input_string, as_delta)\u001b[0m\n\u001b[1;32m    790\u001b[0m             \u001b[0;34m:\u001b[0m\u001b[0;32mclass\u001b[0m\u001b[0;34m:\u001b[0m\u001b[0;31m`\u001b[0m\u001b[0mValueError\u001b[0m\u001b[0;31m`\u001b[0m \u001b[0;32mif\u001b[0m \u001b[0mthe\u001b[0m \u001b[0mexpression\u001b[0m \u001b[0;32mis\u001b[0m \u001b[0minvalid\u001b[0m\u001b[0;34m.\u001b[0m\u001b[0;34m\u001b[0m\u001b[0;34m\u001b[0m\u001b[0m\n\u001b[1;32m    791\u001b[0m         \"\"\"\n\u001b[0;32m--> 792\u001b[0;31m         \u001b[0munits\u001b[0m \u001b[0;34m=\u001b[0m \u001b[0mself\u001b[0m\u001b[0;34m.\u001b[0m\u001b[0m_parse_units\u001b[0m\u001b[0;34m(\u001b[0m\u001b[0minput_string\u001b[0m\u001b[0;34m,\u001b[0m \u001b[0mas_delta\u001b[0m\u001b[0;34m)\u001b[0m\u001b[0;34m\u001b[0m\u001b[0;34m\u001b[0m\u001b[0m\n\u001b[0m\u001b[1;32m    793\u001b[0m         \u001b[0;32mreturn\u001b[0m \u001b[0mself\u001b[0m\u001b[0;34m.\u001b[0m\u001b[0mUnit\u001b[0m\u001b[0;34m(\u001b[0m\u001b[0munits\u001b[0m\u001b[0;34m)\u001b[0m\u001b[0;34m\u001b[0m\u001b[0;34m\u001b[0m\u001b[0m\n\u001b[1;32m    794\u001b[0m \u001b[0;34m\u001b[0m\u001b[0m\n",
      "\u001b[0;32m/opt/anaconda3/lib/python3.7/site-packages/pint/registry.py\u001b[0m in \u001b[0;36m_parse_units\u001b[0;34m(self, input_string, as_delta)\u001b[0m\n\u001b[1;32m    900\u001b[0m             \u001b[0mas_delta\u001b[0m \u001b[0;34m=\u001b[0m \u001b[0mself\u001b[0m\u001b[0;34m.\u001b[0m\u001b[0mdefault_as_delta\u001b[0m\u001b[0;34m\u001b[0m\u001b[0;34m\u001b[0m\u001b[0m\n\u001b[1;32m    901\u001b[0m \u001b[0;34m\u001b[0m\u001b[0m\n\u001b[0;32m--> 902\u001b[0;31m         \u001b[0;32mreturn\u001b[0m \u001b[0msuper\u001b[0m\u001b[0;34m(\u001b[0m\u001b[0mNonMultiplicativeRegistry\u001b[0m\u001b[0;34m,\u001b[0m \u001b[0mself\u001b[0m\u001b[0;34m)\u001b[0m\u001b[0;34m.\u001b[0m\u001b[0m_parse_units\u001b[0m\u001b[0;34m(\u001b[0m\u001b[0minput_string\u001b[0m\u001b[0;34m,\u001b[0m \u001b[0mas_delta\u001b[0m\u001b[0;34m)\u001b[0m\u001b[0;34m\u001b[0m\u001b[0;34m\u001b[0m\u001b[0m\n\u001b[0m\u001b[1;32m    903\u001b[0m \u001b[0;34m\u001b[0m\u001b[0m\n\u001b[1;32m    904\u001b[0m     \u001b[0;32mdef\u001b[0m \u001b[0m_define\u001b[0m\u001b[0;34m(\u001b[0m\u001b[0mself\u001b[0m\u001b[0;34m,\u001b[0m \u001b[0mdefinition\u001b[0m\u001b[0;34m)\u001b[0m\u001b[0;34m:\u001b[0m\u001b[0;34m\u001b[0m\u001b[0;34m\u001b[0m\u001b[0m\n",
      "\u001b[0;32m/opt/anaconda3/lib/python3.7/site-packages/pint/registry.py\u001b[0m in \u001b[0;36m_parse_units\u001b[0;34m(self, input_string, as_delta)\u001b[0m\n\u001b[1;32m    815\u001b[0m         \u001b[0mmany\u001b[0m \u001b[0;34m=\u001b[0m \u001b[0mlen\u001b[0m\u001b[0;34m(\u001b[0m\u001b[0munits\u001b[0m\u001b[0;34m)\u001b[0m \u001b[0;34m>\u001b[0m \u001b[0;36m1\u001b[0m\u001b[0;34m\u001b[0m\u001b[0;34m\u001b[0m\u001b[0m\n\u001b[1;32m    816\u001b[0m         \u001b[0;32mfor\u001b[0m \u001b[0mname\u001b[0m \u001b[0;32min\u001b[0m \u001b[0munits\u001b[0m\u001b[0;34m:\u001b[0m\u001b[0;34m\u001b[0m\u001b[0;34m\u001b[0m\u001b[0m\n\u001b[0;32m--> 817\u001b[0;31m             \u001b[0mcname\u001b[0m \u001b[0;34m=\u001b[0m \u001b[0mself\u001b[0m\u001b[0;34m.\u001b[0m\u001b[0mget_name\u001b[0m\u001b[0;34m(\u001b[0m\u001b[0mname\u001b[0m\u001b[0;34m)\u001b[0m\u001b[0;34m\u001b[0m\u001b[0;34m\u001b[0m\u001b[0m\n\u001b[0m\u001b[1;32m    818\u001b[0m             \u001b[0mvalue\u001b[0m \u001b[0;34m=\u001b[0m \u001b[0munits\u001b[0m\u001b[0;34m[\u001b[0m\u001b[0mname\u001b[0m\u001b[0;34m]\u001b[0m\u001b[0;34m\u001b[0m\u001b[0;34m\u001b[0m\u001b[0m\n\u001b[1;32m    819\u001b[0m             \u001b[0;32mif\u001b[0m \u001b[0;32mnot\u001b[0m \u001b[0mcname\u001b[0m\u001b[0;34m:\u001b[0m\u001b[0;34m\u001b[0m\u001b[0;34m\u001b[0m\u001b[0m\n",
      "\u001b[0;32m/opt/anaconda3/lib/python3.7/site-packages/pint/registry.py\u001b[0m in \u001b[0;36mget_name\u001b[0;34m(self, name_or_alias, case_sensitive)\u001b[0m\n\u001b[1;32m    476\u001b[0m         \u001b[0mcandidates\u001b[0m \u001b[0;34m=\u001b[0m \u001b[0mself\u001b[0m\u001b[0;34m.\u001b[0m\u001b[0m_dedup_candidates\u001b[0m\u001b[0;34m(\u001b[0m\u001b[0mself\u001b[0m\u001b[0;34m.\u001b[0m\u001b[0mparse_unit_name\u001b[0m\u001b[0;34m(\u001b[0m\u001b[0mname_or_alias\u001b[0m\u001b[0;34m,\u001b[0m \u001b[0mcase_sensitive\u001b[0m\u001b[0;34m)\u001b[0m\u001b[0;34m)\u001b[0m\u001b[0;34m\u001b[0m\u001b[0;34m\u001b[0m\u001b[0m\n\u001b[1;32m    477\u001b[0m         \u001b[0;32mif\u001b[0m \u001b[0;32mnot\u001b[0m \u001b[0mcandidates\u001b[0m\u001b[0;34m:\u001b[0m\u001b[0;34m\u001b[0m\u001b[0;34m\u001b[0m\u001b[0m\n\u001b[0;32m--> 478\u001b[0;31m             \u001b[0;32mraise\u001b[0m \u001b[0mUndefinedUnitError\u001b[0m\u001b[0;34m(\u001b[0m\u001b[0mname_or_alias\u001b[0m\u001b[0;34m)\u001b[0m\u001b[0;34m\u001b[0m\u001b[0;34m\u001b[0m\u001b[0m\n\u001b[0m\u001b[1;32m    479\u001b[0m         \u001b[0;32melif\u001b[0m \u001b[0mlen\u001b[0m\u001b[0;34m(\u001b[0m\u001b[0mcandidates\u001b[0m\u001b[0;34m)\u001b[0m \u001b[0;34m==\u001b[0m \u001b[0;36m1\u001b[0m\u001b[0;34m:\u001b[0m\u001b[0;34m\u001b[0m\u001b[0;34m\u001b[0m\u001b[0m\n\u001b[1;32m    480\u001b[0m             \u001b[0mprefix\u001b[0m\u001b[0;34m,\u001b[0m \u001b[0munit_name\u001b[0m\u001b[0;34m,\u001b[0m \u001b[0m_\u001b[0m \u001b[0;34m=\u001b[0m \u001b[0mcandidates\u001b[0m\u001b[0;34m[\u001b[0m\u001b[0;36m0\u001b[0m\u001b[0;34m]\u001b[0m\u001b[0;34m\u001b[0m\u001b[0;34m\u001b[0m\u001b[0m\n",
      "\u001b[0;31mUndefinedUnitError\u001b[0m: 'mmscfd' is not defined in the unit registry"
     ]
    }
   ],
   "source": [
    "from fluids.units import *\n"
   ]
  },
  {
   "cell_type": "code",
   "execution_count": null,
   "metadata": {},
   "outputs": [],
   "source": []
  },
  {
   "cell_type": "code",
   "execution_count": null,
   "metadata": {},
   "outputs": [],
   "source": [
    "S1"
   ]
  },
  {
   "cell_type": "code",
   "execution_count": null,
   "metadata": {},
   "outputs": [],
   "source": []
  },
  {
   "cell_type": "code",
   "execution_count": null,
   "metadata": {},
   "outputs": [],
   "source": [
    "1e5"
   ]
  },
  {
   "cell_type": "markdown",
   "metadata": {},
   "source": [
    "###  PDGS units\n",
    "1. 1st manifold location\n",
    "2. major low point\n",
    "3. 30% of the line from the field\n",
    "4. 50% of the line from the field\n",
    "5. If any PGDS unit is 2000m from another then do not place this unit. "
   ]
  },
  {
   "cell_type": "code",
   "execution_count": null,
   "metadata": {},
   "outputs": [],
   "source": [
    "pds=[]\n",
    "# 1. 1st manifold location\n",
    "# problem is here how to identify the first manifold?\n",
    "# Approach 1 - make a min path between the end point and manifolds and take the last item. \n",
    "# Approach 2 - HOLD to discuss - maybe take the manifold with the highest flow rate?\n",
    "pds.append(paths[0][\"path\"][-1])\n",
    "# 2. major low point\n",
    "x= min(_line, key=lambda x: x[\"z\"])[\"x\"]\n",
    "y= min(_line, key=lambda x: x[\"z\"])[\"y\"]\n",
    "pds.append((x,y))\n",
    "# 3. 30% of the line from the field\n",
    "x = list(path.interpolate(1-0.3, normalized=True).xy[0])[0]\n",
    "y = list(path.interpolate(1-0.3, normalized=True).xy[1])[0]\n",
    "pds.append((x,y))\n",
    "# 4. 50% of the line from the field\n",
    "x = list(path.interpolate(0.5, normalized=True).xy[0])[0]\n",
    "y = list(path.interpolate(0.5, normalized=True).xy[1])[0]\n",
    "pds.append((x,y))\n",
    "print(f\"Locations for PDS units are {pds}\")"
   ]
  },
  {
   "cell_type": "markdown",
   "metadata": {},
   "source": [
    "### Main line pump Skid\n",
    "1. Place at the same place with the 50% main line PDS\n",
    "2. Connect MLP with Water Line PLET/ILT with 8in rigid jumper "
   ]
  },
  {
   "cell_type": "code",
   "execution_count": null,
   "metadata": {},
   "outputs": [],
   "source": [
    "# at the same place with the 50% main line PDS\n",
    "mlp = [pds[-1]]\n",
    "print(f\"Locations for Main Pump is {mlp}\")"
   ]
  },
  {
   "cell_type": "markdown",
   "metadata": {},
   "source": [
    "### Water line\n",
    "1. Criteria velocity = 1m/s, use flowrate from wells and double it for the MEG\n",
    "2. Place one Pump Skid at every PGDS unit\n",
    "3. Connect Pump Skid to PGDS with 2in flexible\n",
    "4. Connect Pump Skid to Water Line PLET/ILT with 2in flexible "
   ]
  },
  {
   "cell_type": "code",
   "execution_count": null,
   "metadata": {},
   "outputs": [],
   "source": [
    "# place a small pump close to every PDG unit expect the unit that has main line pump and connect\n",
    "# all pumps with the 8 in line\n",
    "w_line = {\n",
    "    \"od\": 8*25.4/1000\n",
    "}"
   ]
  },
  {
   "cell_type": "markdown",
   "metadata": {},
   "source": [
    "### Umbilical line\n",
    "1. Place SDU at every manifold location\n",
    "2. At every Pump Skid location if not within 300m from the SDU split umbilical by pair of UTA and connect UTA with Pump Skid by HFL, EFL\n",
    "3. Connect Pump Skid and PGDS by HFL, EFL\n",
    "4. Connect SDU with Manifolds and Pump Skids (within 300m) by HFL, EFL\n",
    "5. Connect every Xmas with the nearest SDU with (HFL, EFL, MEGFL) -> UTA -> Infiled Umbilical -> UTA -> (HFL, EFL, MEGFL)\n",
    "6. Connect SDU with MEG PLET/ILT by MEGFL"
   ]
  },
  {
   "cell_type": "markdown",
   "metadata": {},
   "source": [
    "### MEG line"
   ]
  },
  {
   "cell_type": "code",
   "execution_count": null,
   "metadata": {},
   "outputs": [],
   "source": [
    "#HOLD calculation for qty needed\n",
    "# \n",
    "m_line = {\n",
    "    \"od\": 6*25.4/1000\n",
    "}"
   ]
  },
  {
   "cell_type": "markdown",
   "metadata": {},
   "source": [
    "## Plot results"
   ]
  },
  {
   "cell_type": "code",
   "execution_count": null,
   "metadata": {},
   "outputs": [],
   "source": [
    "rows_list = []\n",
    "for row in pds:\n",
    "        dict1 = {}\n",
    "        aa = {\"x\": row[0],\n",
    "             \"y\": row[1],\n",
    "             \"z\": 0,\n",
    "             \"type\": \"pdg unit\",\n",
    "             \"kp\": \"na\"}\n",
    "        dict1.update(aa) \n",
    "        rows_list.append(dict1)\n",
    "for row in mlp:\n",
    "        dict1 = {}\n",
    "        aa = {\"x\": row[0],\n",
    "             \"y\": row[1],\n",
    "             \"z\": 0,\n",
    "             \"type\": \"main pump\",\n",
    "             \"kp\": \"na\"}\n",
    "        dict1.update(aa) \n",
    "        rows_list.append(dict1)\n",
    "for row in manifolds:\n",
    "        dict1 = row\n",
    "        aa = { \"type\": \"manifold\",\n",
    "             \"kp\": \"na\"}\n",
    "        dict1.update(aa) \n",
    "        rows_list.append(dict1)        \n",
    "for row in endPoint:\n",
    "        dict1 = row\n",
    "        aa = { \"type\": \"end point\",\n",
    "             \"kp\": \"na\"}\n",
    "        dict1.update(aa) \n",
    "        rows_list.append(dict1)  \n",
    "for index, row in enumerate(_line):\n",
    "        dict1 = row\n",
    "        aa = { \"type\": \"main line\",\n",
    "             \"kp\": kp[index]}\n",
    "        dict1.update(aa) \n",
    "        rows_list.append(dict1) \n",
    "\n",
    "df = pd.DataFrame(rows_list)       \n",
    "df\n"
   ]
  },
  {
   "cell_type": "code",
   "execution_count": null,
   "metadata": {},
   "outputs": [],
   "source": [
    "import seaborn as sns\n",
    "a4_dims = (11.7, 8.27)\n",
    "fig, ax = pyplot.subplots(figsize=a4_dims)\n",
    "markers = {\"pdg unit\": \"s\", \"main pump\": \"X\"}\n",
    "sns.scatterplot(x=\"x\", y=\"y\", data=df, hue=\"type\", size=\"type\", markers=markers, s=20)"
   ]
  },
  {
   "cell_type": "code",
   "execution_count": 116,
   "metadata": {},
   "outputs": [
    {
     "data": {
      "text/latex": [
       "$\\displaystyle \\sqrt{x^{2} + \\left(1.73205080756888 x + 4\\right)^{2}} + \\sqrt{\\left(10 - x\\right)^{2} + \\left(1.73205080756888 x + 12\\right)^{2}}$"
      ],
      "text/plain": [
       "sqrt(x**2 + (1.73205080756888*x + 4)**2) + sqrt((10 - x)**2 + (1.73205080756888*x + 12)**2)"
      ]
     },
     "execution_count": 116,
     "metadata": {},
     "output_type": "execute_result"
    }
   ],
   "source": [
    "# location of ILT for future connections\n",
    "# https://www.maa.org/press/periodicals/convergence/historical-activities-for-calculus-module-3-optimization-herons-shortest-distance-problem\n",
    "from sympy import solve, Poly, Eq, Function, exp, Symbol, diff, root\n",
    "from sympy.abc import x, y, z, a, b\n",
    "f = Function('f')\n",
    "# x = Symbol('x')\n",
    "A = (0,4) # future manifold location\n",
    "B = (10,12) # location of the end point\n",
    "azimuth = math.radians(-30)\n",
    "fC= x/math.tan(azimuth)\n",
    "C = (x,fC) # equation of the line where ILT should be\n",
    "f = root(((A[0]-C[0])**2+(A[1]-C[1])**2),2 ) + root(((B[0]-C[0])**2 +( B[1]-C[1])**2),2)\n",
    "f\n"
   ]
  },
  {
   "cell_type": "code",
   "execution_count": 117,
   "metadata": {},
   "outputs": [
    {
     "data": {
      "text/latex": [
       "$\\displaystyle \\frac{4.0 x + 6.92820323027551}{\\sqrt{x^{2} + \\left(1.73205080756888 x + 4\\right)^{2}}} + \\frac{4.0 x + 10.7846096908265}{\\sqrt{\\left(10 - x\\right)^{2} + \\left(1.73205080756888 x + 12\\right)^{2}}}$"
      ],
      "text/plain": [
       "(4.0*x + 6.92820323027551)/sqrt(x**2 + (1.73205080756888*x + 4)**2) + (4.0*x + 10.7846096908265)/sqrt((10 - x)**2 + (1.73205080756888*x + 12)**2)"
      ]
     },
     "execution_count": 117,
     "metadata": {},
     "output_type": "execute_result"
    }
   ],
   "source": [
    "df = diff(f,x)\n",
    "df "
   ]
  },
  {
   "cell_type": "code",
   "execution_count": 123,
   "metadata": {},
   "outputs": [
    {
     "ename": "TypeError",
     "evalue": "eval() arg 1 must be a string, bytes or code object",
     "output_type": "error",
     "traceback": [
      "\u001b[0;31m---------------------------------------------------------------------------\u001b[0m",
      "\u001b[0;31mTypeError\u001b[0m                                 Traceback (most recent call last)",
      "\u001b[0;32m<ipython-input-123-dc48e43109e8>\u001b[0m in \u001b[0;36m<module>\u001b[0;34m\u001b[0m\n\u001b[1;32m      1\u001b[0m \u001b[0mCx\u001b[0m \u001b[0;34m=\u001b[0m \u001b[0msolve\u001b[0m\u001b[0;34m(\u001b[0m\u001b[0mdiff\u001b[0m\u001b[0;34m(\u001b[0m\u001b[0mf\u001b[0m\u001b[0;34m,\u001b[0m\u001b[0mx\u001b[0m\u001b[0;34m)\u001b[0m\u001b[0;34m)\u001b[0m\u001b[0;34m\u001b[0m\u001b[0;34m\u001b[0m\u001b[0m\n\u001b[1;32m      2\u001b[0m \u001b[0mx\u001b[0m\u001b[0;34m=\u001b[0m\u001b[0mCx\u001b[0m\u001b[0;34m\u001b[0m\u001b[0;34m\u001b[0m\u001b[0m\n\u001b[0;32m----> 3\u001b[0;31m \u001b[0meval\u001b[0m\u001b[0;34m(\u001b[0m\u001b[0mfC\u001b[0m\u001b[0;34m)\u001b[0m\u001b[0;34m\u001b[0m\u001b[0;34m\u001b[0m\u001b[0m\n\u001b[0m",
      "\u001b[0;31mTypeError\u001b[0m: eval() arg 1 must be a string, bytes or code object"
     ]
    }
   ],
   "source": [
    "Cx = solve(diff(f,x))\n",
    "x=Cx\n",
    "eval(fC)"
   ]
  },
  {
   "cell_type": "code",
   "execution_count": 126,
   "metadata": {},
   "outputs": [
    {
     "data": {
      "text/plain": [
       "False"
      ]
     },
     "execution_count": 126,
     "metadata": {},
     "output_type": "execute_result"
    }
   ],
   "source": [
    "fC"
   ]
  },
  {
   "cell_type": "code",
   "execution_count": 122,
   "metadata": {},
   "outputs": [
    {
     "data": {
      "text/plain": [
       "[0.0]"
      ]
     },
     "execution_count": 122,
     "metadata": {},
     "output_type": "execute_result"
    }
   ],
   "source": [
    "solve(fC,x=Cx)"
   ]
  },
  {
   "cell_type": "code",
   "execution_count": 101,
   "metadata": {},
   "outputs": [
    {
     "data": {
      "image/png": "[encoded data removed]",
      "text/plain": [
       "<Figure size 432x288 with 1 Axes>"
      ]
     },
     "metadata": {
      "needs_background": "light"
     },
     "output_type": "display_data"
    }
   ],
   "source": [
    "from sympy.plotting import plot\n",
    "p1=plot(f, show=False)\n",
    "p2=plot(df, show=False)\n",
    "p3=plot(fC, show=False)\n",
    "p1.append(p2[0])\n",
    "p1.append(p3[0])\n",
    "p1.show()"
   ]
  },
  {
   "cell_type": "code",
   "execution_count": 87,
   "metadata": {},
   "outputs": [],
   "source": [
    "import numpy as np  \n",
    "import matplotlib.pyplot as plt  \n",
    "def graph(formula, x_range):  \n",
    "    x = np.array(x_range)  \n",
    "    y = eval(formula)\n",
    "    plt.plot(x, y)  \n",
    "    plt.show()"
   ]
  },
  {
   "cell_type": "code",
   "execution_count": 90,
   "metadata": {},
   "outputs": [
    {
     "ename": "ValueError",
     "evalue": "x and y must have same first dimension, but have shapes (21,) and (1,)",
     "output_type": "error",
     "traceback": [
      "\u001b[0;31m---------------------------------------------------------------------------\u001b[0m",
      "\u001b[0;31mValueError\u001b[0m                                Traceback (most recent call last)",
      "\u001b[0;32m<ipython-input-90-2a17e407c5cd>\u001b[0m in \u001b[0;36m<module>\u001b[0;34m\u001b[0m\n\u001b[0;32m----> 1\u001b[0;31m \u001b[0mgraph\u001b[0m\u001b[0;34m(\u001b[0m\u001b[0;34m'f'\u001b[0m\u001b[0;34m,\u001b[0m \u001b[0mrange\u001b[0m\u001b[0;34m(\u001b[0m\u001b[0;34m-\u001b[0m\u001b[0;36m10\u001b[0m\u001b[0;34m,\u001b[0m \u001b[0;36m11\u001b[0m\u001b[0;34m)\u001b[0m\u001b[0;34m)\u001b[0m\u001b[0;34m\u001b[0m\u001b[0;34m\u001b[0m\u001b[0m\n\u001b[0m",
      "\u001b[0;32m<ipython-input-87-7cf828a21983>\u001b[0m in \u001b[0;36mgraph\u001b[0;34m(formula, x_range)\u001b[0m\n\u001b[1;32m      4\u001b[0m     \u001b[0mx\u001b[0m \u001b[0;34m=\u001b[0m \u001b[0mnp\u001b[0m\u001b[0;34m.\u001b[0m\u001b[0marray\u001b[0m\u001b[0;34m(\u001b[0m\u001b[0mx_range\u001b[0m\u001b[0;34m)\u001b[0m\u001b[0;34m\u001b[0m\u001b[0;34m\u001b[0m\u001b[0m\n\u001b[1;32m      5\u001b[0m     \u001b[0my\u001b[0m \u001b[0;34m=\u001b[0m \u001b[0meval\u001b[0m\u001b[0;34m(\u001b[0m\u001b[0mformula\u001b[0m\u001b[0;34m)\u001b[0m\u001b[0;34m\u001b[0m\u001b[0;34m\u001b[0m\u001b[0m\n\u001b[0;32m----> 6\u001b[0;31m     \u001b[0mplt\u001b[0m\u001b[0;34m.\u001b[0m\u001b[0mplot\u001b[0m\u001b[0;34m(\u001b[0m\u001b[0mx\u001b[0m\u001b[0;34m,\u001b[0m \u001b[0my\u001b[0m\u001b[0;34m)\u001b[0m\u001b[0;34m\u001b[0m\u001b[0;34m\u001b[0m\u001b[0m\n\u001b[0m\u001b[1;32m      7\u001b[0m     \u001b[0mplt\u001b[0m\u001b[0;34m.\u001b[0m\u001b[0mshow\u001b[0m\u001b[0;34m(\u001b[0m\u001b[0;34m)\u001b[0m\u001b[0;34m\u001b[0m\u001b[0;34m\u001b[0m\u001b[0m\n",
      "\u001b[0;32m/opt/anaconda3/lib/python3.7/site-packages/matplotlib/pyplot.py\u001b[0m in \u001b[0;36mplot\u001b[0;34m(scalex, scaley, data, *args, **kwargs)\u001b[0m\n\u001b[1;32m   2793\u001b[0m     return gca().plot(\n\u001b[1;32m   2794\u001b[0m         *args, scalex=scalex, scaley=scaley, **({\"data\": data} if data\n\u001b[0;32m-> 2795\u001b[0;31m         is not None else {}), **kwargs)\n\u001b[0m\u001b[1;32m   2796\u001b[0m \u001b[0;34m\u001b[0m\u001b[0m\n\u001b[1;32m   2797\u001b[0m \u001b[0;34m\u001b[0m\u001b[0m\n",
      "\u001b[0;32m/opt/anaconda3/lib/python3.7/site-packages/matplotlib/axes/_axes.py\u001b[0m in \u001b[0;36mplot\u001b[0;34m(self, scalex, scaley, data, *args, **kwargs)\u001b[0m\n\u001b[1;32m   1664\u001b[0m         \"\"\"\n\u001b[1;32m   1665\u001b[0m         \u001b[0mkwargs\u001b[0m \u001b[0;34m=\u001b[0m \u001b[0mcbook\u001b[0m\u001b[0;34m.\u001b[0m\u001b[0mnormalize_kwargs\u001b[0m\u001b[0;34m(\u001b[0m\u001b[0mkwargs\u001b[0m\u001b[0;34m,\u001b[0m \u001b[0mmlines\u001b[0m\u001b[0;34m.\u001b[0m\u001b[0mLine2D\u001b[0m\u001b[0;34m.\u001b[0m\u001b[0m_alias_map\u001b[0m\u001b[0;34m)\u001b[0m\u001b[0;34m\u001b[0m\u001b[0;34m\u001b[0m\u001b[0m\n\u001b[0;32m-> 1666\u001b[0;31m         \u001b[0mlines\u001b[0m \u001b[0;34m=\u001b[0m \u001b[0;34m[\u001b[0m\u001b[0;34m*\u001b[0m\u001b[0mself\u001b[0m\u001b[0;34m.\u001b[0m\u001b[0m_get_lines\u001b[0m\u001b[0;34m(\u001b[0m\u001b[0;34m*\u001b[0m\u001b[0margs\u001b[0m\u001b[0;34m,\u001b[0m \u001b[0mdata\u001b[0m\u001b[0;34m=\u001b[0m\u001b[0mdata\u001b[0m\u001b[0;34m,\u001b[0m \u001b[0;34m**\u001b[0m\u001b[0mkwargs\u001b[0m\u001b[0;34m)\u001b[0m\u001b[0;34m]\u001b[0m\u001b[0;34m\u001b[0m\u001b[0;34m\u001b[0m\u001b[0m\n\u001b[0m\u001b[1;32m   1667\u001b[0m         \u001b[0;32mfor\u001b[0m \u001b[0mline\u001b[0m \u001b[0;32min\u001b[0m \u001b[0mlines\u001b[0m\u001b[0;34m:\u001b[0m\u001b[0;34m\u001b[0m\u001b[0;34m\u001b[0m\u001b[0m\n\u001b[1;32m   1668\u001b[0m             \u001b[0mself\u001b[0m\u001b[0;34m.\u001b[0m\u001b[0madd_line\u001b[0m\u001b[0;34m(\u001b[0m\u001b[0mline\u001b[0m\u001b[0;34m)\u001b[0m\u001b[0;34m\u001b[0m\u001b[0;34m\u001b[0m\u001b[0m\n",
      "\u001b[0;32m/opt/anaconda3/lib/python3.7/site-packages/matplotlib/axes/_base.py\u001b[0m in \u001b[0;36m__call__\u001b[0;34m(self, *args, **kwargs)\u001b[0m\n\u001b[1;32m    223\u001b[0m                 \u001b[0mthis\u001b[0m \u001b[0;34m+=\u001b[0m \u001b[0margs\u001b[0m\u001b[0;34m[\u001b[0m\u001b[0;36m0\u001b[0m\u001b[0;34m]\u001b[0m\u001b[0;34m,\u001b[0m\u001b[0;34m\u001b[0m\u001b[0;34m\u001b[0m\u001b[0m\n\u001b[1;32m    224\u001b[0m                 \u001b[0margs\u001b[0m \u001b[0;34m=\u001b[0m \u001b[0margs\u001b[0m\u001b[0;34m[\u001b[0m\u001b[0;36m1\u001b[0m\u001b[0;34m:\u001b[0m\u001b[0;34m]\u001b[0m\u001b[0;34m\u001b[0m\u001b[0;34m\u001b[0m\u001b[0m\n\u001b[0;32m--> 225\u001b[0;31m             \u001b[0;32myield\u001b[0m \u001b[0;32mfrom\u001b[0m \u001b[0mself\u001b[0m\u001b[0;34m.\u001b[0m\u001b[0m_plot_args\u001b[0m\u001b[0;34m(\u001b[0m\u001b[0mthis\u001b[0m\u001b[0;34m,\u001b[0m \u001b[0mkwargs\u001b[0m\u001b[0;34m)\u001b[0m\u001b[0;34m\u001b[0m\u001b[0;34m\u001b[0m\u001b[0m\n\u001b[0m\u001b[1;32m    226\u001b[0m \u001b[0;34m\u001b[0m\u001b[0m\n\u001b[1;32m    227\u001b[0m     \u001b[0;32mdef\u001b[0m \u001b[0mget_next_color\u001b[0m\u001b[0;34m(\u001b[0m\u001b[0mself\u001b[0m\u001b[0;34m)\u001b[0m\u001b[0;34m:\u001b[0m\u001b[0;34m\u001b[0m\u001b[0;34m\u001b[0m\u001b[0m\n",
      "\u001b[0;32m/opt/anaconda3/lib/python3.7/site-packages/matplotlib/axes/_base.py\u001b[0m in \u001b[0;36m_plot_args\u001b[0;34m(self, tup, kwargs)\u001b[0m\n\u001b[1;32m    389\u001b[0m             \u001b[0mx\u001b[0m\u001b[0;34m,\u001b[0m \u001b[0my\u001b[0m \u001b[0;34m=\u001b[0m \u001b[0mindex_of\u001b[0m\u001b[0;34m(\u001b[0m\u001b[0mtup\u001b[0m\u001b[0;34m[\u001b[0m\u001b[0;34m-\u001b[0m\u001b[0;36m1\u001b[0m\u001b[0;34m]\u001b[0m\u001b[0;34m)\u001b[0m\u001b[0;34m\u001b[0m\u001b[0;34m\u001b[0m\u001b[0m\n\u001b[1;32m    390\u001b[0m \u001b[0;34m\u001b[0m\u001b[0m\n\u001b[0;32m--> 391\u001b[0;31m         \u001b[0mx\u001b[0m\u001b[0;34m,\u001b[0m \u001b[0my\u001b[0m \u001b[0;34m=\u001b[0m \u001b[0mself\u001b[0m\u001b[0;34m.\u001b[0m\u001b[0m_xy_from_xy\u001b[0m\u001b[0;34m(\u001b[0m\u001b[0mx\u001b[0m\u001b[0;34m,\u001b[0m \u001b[0my\u001b[0m\u001b[0;34m)\u001b[0m\u001b[0;34m\u001b[0m\u001b[0;34m\u001b[0m\u001b[0m\n\u001b[0m\u001b[1;32m    392\u001b[0m \u001b[0;34m\u001b[0m\u001b[0m\n\u001b[1;32m    393\u001b[0m         \u001b[0;32mif\u001b[0m \u001b[0mself\u001b[0m\u001b[0;34m.\u001b[0m\u001b[0mcommand\u001b[0m \u001b[0;34m==\u001b[0m \u001b[0;34m'plot'\u001b[0m\u001b[0;34m:\u001b[0m\u001b[0;34m\u001b[0m\u001b[0;34m\u001b[0m\u001b[0m\n",
      "\u001b[0;32m/opt/anaconda3/lib/python3.7/site-packages/matplotlib/axes/_base.py\u001b[0m in \u001b[0;36m_xy_from_xy\u001b[0;34m(self, x, y)\u001b[0m\n\u001b[1;32m    268\u001b[0m         \u001b[0;32mif\u001b[0m \u001b[0mx\u001b[0m\u001b[0;34m.\u001b[0m\u001b[0mshape\u001b[0m\u001b[0;34m[\u001b[0m\u001b[0;36m0\u001b[0m\u001b[0;34m]\u001b[0m \u001b[0;34m!=\u001b[0m \u001b[0my\u001b[0m\u001b[0;34m.\u001b[0m\u001b[0mshape\u001b[0m\u001b[0;34m[\u001b[0m\u001b[0;36m0\u001b[0m\u001b[0;34m]\u001b[0m\u001b[0;34m:\u001b[0m\u001b[0;34m\u001b[0m\u001b[0;34m\u001b[0m\u001b[0m\n\u001b[1;32m    269\u001b[0m             raise ValueError(\"x and y must have same first dimension, but \"\n\u001b[0;32m--> 270\u001b[0;31m                              \"have shapes {} and {}\".format(x.shape, y.shape))\n\u001b[0m\u001b[1;32m    271\u001b[0m         \u001b[0;32mif\u001b[0m \u001b[0mx\u001b[0m\u001b[0;34m.\u001b[0m\u001b[0mndim\u001b[0m \u001b[0;34m>\u001b[0m \u001b[0;36m2\u001b[0m \u001b[0;32mor\u001b[0m \u001b[0my\u001b[0m\u001b[0;34m.\u001b[0m\u001b[0mndim\u001b[0m \u001b[0;34m>\u001b[0m \u001b[0;36m2\u001b[0m\u001b[0;34m:\u001b[0m\u001b[0;34m\u001b[0m\u001b[0;34m\u001b[0m\u001b[0m\n\u001b[1;32m    272\u001b[0m             raise ValueError(\"x and y can be no greater than 2-D, but have \"\n",
      "\u001b[0;31mValueError\u001b[0m: x and y must have same first dimension, but have shapes (21,) and (1,)"
     ]
    },
    {
     "data": {
      "image/png": "[encoded data removed]",
      "text/plain": [
       "<Figure size 432x288 with 1 Axes>"
      ]
     },
     "metadata": {
      "needs_background": "light"
     },
     "output_type": "display_data"
    }
   ],
   "source": [
    "graph('f', range(-10, 11))"
   ]
  },
  {
   "cell_type": "code",
   "execution_count": null,
   "metadata": {},
   "outputs": [],
   "source": [
    "# test line adustment\n",
    "xls = pd.ExcelFile('path_to_file.xls')\n",
    "df1 = pd.read_excel(xls, 'Sheet1')\n",
    "df2 = pd.read_excel(xls, 'Sheet2')"
   ]
  },
  {
   "cell_type": "code",
   "execution_count": 127,
   "metadata": {},
   "outputs": [
    {
     "name": "stdout",
     "output_type": "stream",
     "text": [
      "Collecting pyproj\n",
      "\u001b[?25l  Downloading https://files.pythonhosted.org/packages/1d/45/ea3ae47cd95fcb9f8631c290d00377196aa5f409792b49e4a8a20a3588f5/pyproj-2.4.1-cp36-cp36m-manylinux2010_x86_64.whl (10.1MB)\n",
      "\u001b[K     |████████████████████████████████| 10.1MB 4.3MB/s eta 0:00:01| 2.7MB 4.3MB/s eta 0:00:0200:02��██████████            | 6.3MB 4.3MB/s eta 0:00:01�██████▌         | 7.1MB 4.3MB/s eta 0:00:01\n",
      "\u001b[?25hInstalling collected packages: pyproj\n",
      "\u001b[31mERROR: Could not install packages due to an EnvironmentError: [Errno 13] Permission denied: '/usr/local/lib64/python3.6/site-packages/pyproj'\n",
      "Consider using the `--user` option or check the permissions.\n",
      "\u001b[0m\n",
      "\u001b[33mWARNING: You are using pip version 19.2.3, however version 19.3.1 is available.\n",
      "You should consider upgrading via the 'pip install --upgrade pip' command.\u001b[0m\n"
     ]
    }
   ],
   "source": [
    "!pip install pyproj"
   ]
  },
  {
   "cell_type": "code",
   "execution_count": 128,
   "metadata": {},
   "outputs": [],
   "source": [
    "import pyproj"
   ]
  },
  {
   "cell_type": "code",
   "execution_count": 4,
   "metadata": {},
   "outputs": [
    {
     "name": "stdout",
     "output_type": "stream",
     "text": [
      "Hello 1\n",
      "Hello 2\n",
      "Hello 3\n",
      "Hello 4\n",
      "Hello 5\n"
     ]
    }
   ],
   "source": [
    "for i in range(5):\n",
    "    print(f\"Hello {i+1}\")"
   ]
  },
  {
   "cell_type": "code",
   "execution_count": 2,
   "metadata": {},
   "outputs": [],
   "source": [
    "def funks(od=1,wt=5):\n",
    "    return od*2+wt\n",
    "    "
   ]
  },
  {
   "cell_type": "code",
   "execution_count": 14,
   "metadata": {},
   "outputs": [
    {
     "data": {
      "text/plain": [
       "2"
      ]
     },
     "execution_count": 14,
     "metadata": {},
     "output_type": "execute_result"
    }
   ],
   "source": [
    "funks(wt=0)"
   ]
  },
  {
   "cell_type": "code",
   "execution_count": 1,
   "metadata": {},
   "outputs": [
    {
     "name": "stdout",
     "output_type": "stream",
     "text": [
      "Mobilisation\n",
      "Base Mobilisation\n",
      "Demobilisation\n",
      "Base Demobilisation\n",
      "Installation\n",
      "Pipelay\n",
      "Pre-commissioning\n",
      "Survey\n",
      "Metrology\n",
      "Transit\n",
      "Stand by\n",
      "Pre-Cut trenching\n",
      "Backfilling\n",
      "Engineering\n",
      "Fabrication\n",
      "Spooling\n",
      "Support\n",
      "Transport\n"
     ]
    }
   ],
   "source": [
    "dic=[{\"name\":\"Mobilisation\",\"properties\":{}},{\"name\":\"Base Mobilisation\",\"properties\":{}},{\"name\":\"Demobilisation\",\"properties\":{}},{\"name\":\"Base Demobilisation\",\"properties\":{}},{\"name\":\"Installation\",\"properties\":{}},{\"name\":\"Pipelay\",\"properties\":{\"offset\":80}},{\"name\":\"Pre-commissioning\",\"properties\":{\"location\":0,\"color\":255}},{\"name\":\"Survey\",\"properties\":{\"length\":20,\"height\":50,\"color\":2097152}},{\"name\":\"Metrology\",\"properties\":{\"numberOfTransponders\":20,\"circleRadius\":50,\"color\":250}},{\"name\":\"Transit\",\"properties\":{}},{\"name\":\"Stand by\",\"properties\":{}},{\"name\":\"Pre-Cut trenching\",\"properties\":{\"length\":20,\"height\":50,\"color\":125}},{\"name\":\"Backfilling\",\"properties\":{\"length\":20,\"height\":50,\"color\":125}},{\"name\":\"Engineering\",\"properties\":{}},{\"name\":\"Fabrication\",\"properties\":{}},{\"name\":\"Spooling\",\"properties\":{}},{\"name\":\"Support\",\"properties\":{}},{\"name\":\"Transport\",\"properties\":{}}]\n",
    "for i in dic:\n",
    "    print(i['name'])"
   ]
  },
  {
   "cell_type": "code",
   "execution_count": null,
   "metadata": {},
   "outputs": [],
   "source": []
  }
 ],
 "metadata": {
  "kernelspec": {
   "display_name": "Python 3",
   "language": "python",
   "name": "python3"
  },
  "language_info": {
   "codemirror_mode": {
    "name": "ipython",
    "version": 3
   },
   "file_extension": ".py",
   "mimetype": "text/x-python",
   "name": "python",
   "nbconvert_exporter": "python",
   "pygments_lexer": "ipython3",
   "version": "3.7.4"
  },
  "toc": {
   "base_numbering": 1,
   "nav_menu": {},
   "number_sections": false,
   "sideBar": false,
   "skip_h1_title": false,
   "title_cell": "Table of Contents",
   "title_sidebar": "Contents",
   "toc_cell": false,
   "toc_position": {},
   "toc_section_display": false,
   "toc_window_display": false
  }
 },
 "nbformat": 4,
 "nbformat_minor": 4
}
