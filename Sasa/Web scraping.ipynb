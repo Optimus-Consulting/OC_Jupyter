{
 "cells": [
  {
   "cell_type": "code",
   "execution_count": 1,
   "metadata": {},
   "outputs": [],
   "source": [
    "import requests\n",
    "from bs4 import BeautifulSoup\n",
    "from selenium import webdriver\n",
    "import time\n",
    "import pandas as pd"
   ]
  },
  {
   "cell_type": "code",
   "execution_count": 2,
   "metadata": {},
   "outputs": [],
   "source": [
    "def get_soup_from_url_using_selenium(url):\n",
    "    from selenium import webdriver\n",
    "    chromepath = \"/Users/smavrovic/Documents/GitHub/Python_Traning/Pydot25/resources/chromedriver\"\n",
    "    driver = webdriver.Chrome(chromepath)\n",
    "    driver.get(url)\n",
    "    import time\n",
    "    time.sleep(7)\n",
    "    htmldata = driver.page_source\n",
    "    soup = BeautifulSoup(htmldata)\n",
    "    return soup\n",
    "\n",
    "driver_path = \"/Users/smavrovic/Documents/GitHub/Python_Traning/Pydot25/resources/chromedriver\"\n",
    "\n",
    "def get_soup(url, headers=None, use_selenium=False, wait_for_howlong=7, scroll_down=0):\n",
    "    if use_selenium: \n",
    "        driver = webdriver.Chrome(driver_path)\n",
    "        driver.get(url)\n",
    "        time.sleep(wait_for_howlong)\n",
    "        if scroll_down:\n",
    "            for i in range(scroll_down):\n",
    "                driver.execute_script(\"window.scrollTo(0, document.body.scrollHeight);\")\n",
    "                time.sleep(3)\n",
    "        \n",
    "        data_html = driver.page_source\n",
    "        driver.close()\n",
    "    else:\n",
    "        resp = requests.get(url, headers=headers)\n",
    "        data_html = resp.text\n",
    "    soup = BeautifulSoup(data_html)\n",
    "    return soup"
   ]
  },
  {
   "cell_type": "code",
   "execution_count": 130,
   "metadata": {},
   "outputs": [],
   "source": [
    "import re\n",
    "regexp = re.compile(\n",
    "    r'^Price_mainPriceContainer[a-zA-Z_0-9]+'\n",
    ")\n",
    "\n",
    "# for parent in soup.find_all(\"div\", {'class': regexp }):\n",
    "def getDenMurphysWine(soup):\n",
    "    data=[]\n",
    "    for parent in soup.find_all(\"div\", {'class': \"product-content default-content\" }):\n",
    "        price = parent.find(\"span\", {'class': \"value\" })\n",
    "        if price:\n",
    "            price = price.text\n",
    "        name = parent.find(\"span\", {'class': \"title overflow\" }).text + \"-\" + parent.find(\"span\", {'class': \"subtitle overflow\" }).text\n",
    "#         print(name)\n",
    "        star = parent.find(\"img\", {'class': \"badge ng-star-inserted\" })\n",
    "        if star:\n",
    "            star=star.get_attribute_list(\"src\")[0]\n",
    "            star=star.replace('https://media.danmurphys.com.au/dmo/content/Badges/',\"\")\n",
    "            star=star.replace('.png',\"\")\n",
    "    #         print(star)\n",
    "        starP = parent.find(\"img\", {'class': \"badge pointer ng-star-inserted\" })\n",
    "        if starP:\n",
    "            starP=starP.get_attribute_list(\"src\")[0]\n",
    "            starP=starP.replace('https://media.danmurphys.com.au/dmo/content/Badges/',\"\")\n",
    "            starP=starP.replace('.png',\"\")\n",
    "    #         print(starP)\n",
    "    #     if span:\n",
    "    #         print(span)\n",
    "        row = [name, price, star, starP]\n",
    "#         print(row)\n",
    "        data.append(row)\n",
    "#     noOfPages = int(soup.find(\"span\", {\"class\": \"page-count\"}).text.replace(\" of \",\"\"))\n",
    "#     print(\"Number of pages is \",noOfPages)\n",
    "    return data"
   ]
  },
  {
   "cell_type": "code",
   "execution_count": 3,
   "metadata": {},
   "outputs": [
    {
     "name": "stdout",
     "output_type": "stream",
     "text": [
      "Using url https://www.danmurphys.com.au/red-wine/country-australia/price-20-999999?page=11&size=120\n"
     ]
    },
    {
     "ename": "NameError",
     "evalue": "name 'data' is not defined",
     "output_type": "error",
     "traceback": [
      "\u001b[0;31m---------------------------------------------------------------------------\u001b[0m",
      "\u001b[0;31mNameError\u001b[0m                                 Traceback (most recent call last)",
      "\u001b[0;32m<ipython-input-3-298aef9a030b>\u001b[0m in \u001b[0;36m<module>\u001b[0;34m\u001b[0m\n\u001b[1;32m      5\u001b[0m     \u001b[0mprint\u001b[0m\u001b[0;34m(\u001b[0m\u001b[0;34mf\"Using url {url}\"\u001b[0m\u001b[0;34m)\u001b[0m\u001b[0;34m\u001b[0m\u001b[0;34m\u001b[0m\u001b[0m\n\u001b[1;32m      6\u001b[0m     \u001b[0msoup\u001b[0m \u001b[0;34m=\u001b[0m \u001b[0mget_soup\u001b[0m\u001b[0;34m(\u001b[0m\u001b[0murl\u001b[0m\u001b[0;34m,\u001b[0m \u001b[0muse_selenium\u001b[0m\u001b[0;34m=\u001b[0m\u001b[0;32mTrue\u001b[0m\u001b[0;34m,\u001b[0m \u001b[0mscroll_down\u001b[0m\u001b[0;34m=\u001b[0m\u001b[0;36m1\u001b[0m\u001b[0;34m)\u001b[0m\u001b[0;34m\u001b[0m\u001b[0;34m\u001b[0m\u001b[0m\n\u001b[0;32m----> 7\u001b[0;31m     \u001b[0mdata\u001b[0m \u001b[0;34m=\u001b[0m \u001b[0mdata\u001b[0m \u001b[0;34m+\u001b[0m \u001b[0mgetDenMurphysWine\u001b[0m\u001b[0;34m(\u001b[0m\u001b[0msoup\u001b[0m\u001b[0;34m)\u001b[0m\u001b[0;34m\u001b[0m\u001b[0;34m\u001b[0m\u001b[0m\n\u001b[0m\u001b[1;32m      8\u001b[0m     \u001b[0mprint\u001b[0m\u001b[0;34m(\u001b[0m\u001b[0mlen\u001b[0m\u001b[0;34m(\u001b[0m\u001b[0mdata\u001b[0m\u001b[0;34m)\u001b[0m\u001b[0;34m)\u001b[0m\u001b[0;34m\u001b[0m\u001b[0;34m\u001b[0m\u001b[0m\n\u001b[1;32m      9\u001b[0m \u001b[0mdf\u001b[0m\u001b[0;34m=\u001b[0m\u001b[0mpd\u001b[0m\u001b[0;34m.\u001b[0m\u001b[0mDataFrame\u001b[0m\u001b[0;34m(\u001b[0m\u001b[0mdata\u001b[0m\u001b[0;34m)\u001b[0m\u001b[0;34m\u001b[0m\u001b[0;34m\u001b[0m\u001b[0m\n",
      "\u001b[0;31mNameError\u001b[0m: name 'data' is not defined"
     ]
    }
   ],
   "source": [
    "# soup = get_soup_from_url_using_selenium(url)\n",
    "# data = []\n",
    "for i in range(11,32):\n",
    "    url = f\"https://www.danmurphys.com.au/red-wine/country-australia/price-20-999999?page={i}&size=120\"\n",
    "    print(f\"Using url {url}\")\n",
    "    soup = get_soup(url, use_selenium=True, scroll_down=1)\n",
    "    data = data + getDenMurphysWine(soup)\n",
    "    print(len(data))\n",
    "df=pd.DataFrame(data)\n",
    "df.columns = [\"Name\", \"Price\", \"Score\", \"Award\"]\n",
    "df"
   ]
  },
  {
   "cell_type": "code",
   "execution_count": 132,
   "metadata": {},
   "outputs": [],
   "source": [
    "df.to_csv(\"redWinesDenMurphys.csv\")"
   ]
  },
  {
   "cell_type": "code",
   "execution_count": 126,
   "metadata": {},
   "outputs": [
    {
     "data": {
      "text/plain": [
       "539"
      ]
     },
     "execution_count": 126,
     "metadata": {},
     "output_type": "execute_result"
    }
   ],
   "source": [
    "len(data)"
   ]
  },
  {
   "cell_type": "code",
   "execution_count": null,
   "metadata": {},
   "outputs": [],
   "source": []
  }
 ],
 "metadata": {
  "kernelspec": {
   "display_name": "Python 3",
   "language": "python",
   "name": "python3"
  },
  "language_info": {
   "codemirror_mode": {
    "name": "ipython",
    "version": 3
   },
   "file_extension": ".py",
   "mimetype": "text/x-python",
   "name": "python",
   "nbconvert_exporter": "python",
   "pygments_lexer": "ipython3",
   "version": "3.7.4"
  }
 },
 "nbformat": 4,
 "nbformat_minor": 2
}
