{
 "cells": [
  {
   "cell_type": "code",
   "execution_count": 1,
   "metadata": {},
   "outputs": [
    {
     "data": {
      "text/plain": [
       "15"
      ]
     },
     "execution_count": 1,
     "metadata": {},
     "output_type": "execute_result"
    }
   ],
   "source": [
    "import json\n",
    "with open('Gas riser 1.json', \"r\") as json_file:\n",
    "    f=json_file.read()\n",
    "    data = json.loads(f)\n",
    "len(data)"
   ]
  },
  {
   "cell_type": "code",
   "execution_count": 2,
   "metadata": {},
   "outputs": [
    {
     "name": "stdout",
     "output_type": "stream",
     "text": [
      "@class\n",
      "id\n",
      "name\n",
      "properties\n",
      "type\n",
      "children\n",
      "template\n",
      "path\n",
      "asset\n",
      "connections\n",
      "connectionPoints\n",
      "adjustable\n",
      "status\n",
      "creationInfo\n",
      "scopeOfWorkRelationships\n"
     ]
    }
   ],
   "source": [
    "#level 1\n",
    "for i in data:\n",
    "    print(i)"
   ]
  },
  {
   "cell_type": "code",
   "execution_count": 4,
   "metadata": {},
   "outputs": [
    {
     "name": "stdout",
     "output_type": "stream",
     "text": [
      "0 nomOd\n",
      "1 packOn\n",
      "2 od\n",
      "3 color\n",
      "4 material\n",
      "5 weight\n",
      "6 id\n",
      "7 wallThickness\n",
      "8 density\n",
      "9 description\n",
      "10 points\n"
     ]
    }
   ],
   "source": [
    "# interested in elements, lets print their names\n",
    "for index, i in enumerate(data[\"properties\"]):\n",
    "    print(index, i[\"name\"])\n"
   ]
  },
  {
   "cell_type": "code",
   "execution_count": 5,
   "metadata": {},
   "outputs": [
    {
     "data": {
      "text/plain": [
       "{'id': 'dc23bbc9-ca1c-445d-aa7f-c750413fd635',\n",
       " 'name': 'points',\n",
       " 'label': 'Points (x,y,z) (m)',\n",
       " 'value': [{'x': 200286.88, 'y': 650287.8, 'z': 4.0},\n",
       "  {'x': 200328.53, 'y': 650206.75, 'z': -1303.0522},\n",
       "  {'x': 200419.72, 'y': 650029.3, 'z': -1489.101},\n",
       "  {'x': 200458.33, 'y': 649954.2, 'z': -1489.101},\n",
       "  {'x': 200460.9, 'y': 649949.2, 'z': -1486.7578},\n",
       "  {'x': 200463.08, 'y': 649944.94, 'z': -1481.9911},\n",
       "  {'x': 200464.02, 'y': 649943.1, 'z': -1480.4231},\n",
       "  {'x': 200465.14, 'y': 649940.94, 'z': -1479.5883},\n",
       "  {'x': 200466.31, 'y': 649938.7, 'z': -1479.5735},\n",
       "  {'x': 200467.44, 'y': 649936.5, 'z': -1480.3801},\n",
       "  {'x': 200468.38, 'y': 649934.6, 'z': -1481.9244},\n",
       "  {'x': 200469.05, 'y': 649933.3, 'z': -1484.0459},\n",
       "  {'x': 200469.38, 'y': 649932.7, 'z': -1486.5239},\n",
       "  {'x': 200469.36, 'y': 649932.8, 'z': -1487.648}],\n",
       " 'valueType': 'vectorArray',\n",
       " 'formula': None,\n",
       " 'type': 'Engineering'}"
      ]
     },
     "execution_count": 5,
     "metadata": {},
     "output_type": "execute_result"
    }
   ],
   "source": [
    "# and if we want to get the points property\n",
    "data[\"properties\"][10]"
   ]
  },
  {
   "cell_type": "code",
   "execution_count": 6,
   "metadata": {},
   "outputs": [
    {
     "data": {
      "text/plain": [
       "[(200286.88, 650287.8, 4.0),\n",
       " (200328.53, 650206.75, -1303.0522),\n",
       " (200419.72, 650029.3, -1489.101),\n",
       " (200458.33, 649954.2, -1489.101),\n",
       " (200460.9, 649949.2, -1486.7578),\n",
       " (200463.08, 649944.94, -1481.9911),\n",
       " (200464.02, 649943.1, -1480.4231),\n",
       " (200465.14, 649940.94, -1479.5883),\n",
       " (200466.31, 649938.7, -1479.5735),\n",
       " (200467.44, 649936.5, -1480.3801),\n",
       " (200468.38, 649934.6, -1481.9244),\n",
       " (200469.05, 649933.3, -1484.0459),\n",
       " (200469.38, 649932.7, -1486.5239),\n",
       " (200469.36, 649932.8, -1487.648)]"
      ]
     },
     "execution_count": 6,
     "metadata": {},
     "output_type": "execute_result"
    }
   ],
   "source": [
    "# but we want the list of points only then\n",
    "line_points = [(p[\"x\"], p[\"y\"], p[\"z\"])for p in data[\"properties\"][10][\"value\"]]\n",
    "line_points"
   ]
  },
  {
   "cell_type": "code",
   "execution_count": 8,
   "metadata": {},
   "outputs": [
    {
     "data": {
      "text/plain": [
       "[<matplotlib.lines.Line2D at 0x7f0d4a43a8d0>]"
      ]
     },
     "execution_count": 8,
     "metadata": {},
     "output_type": "execute_result"
    },
    {
     "data": {
      "image/png": "[encoded data removed]",
      "text/plain": [
       "<Figure size 432x288 with 1 Axes>"
      ]
     },
     "metadata": {
      "needs_background": "light"
     },
     "output_type": "display_data"
    }
   ],
   "source": [
    "# example to calculate line length and plot the alignment sheet (Length - Z plot)\n",
    "from matplotlib import pyplot as plt\n",
    "import math\n",
    "_cumkp=0\n",
    "kp=[]\n",
    "for index, point in enumerate(line_points):\n",
    "    if index == 0: \n",
    "        kp.append(0)  \n",
    "        continue\n",
    "    _kp = math.sqrt( (line_points[index][0]-line_points[index-1][0])**2 + \n",
    "                   (line_points[index][1]-line_points[index-1][1])**2 + \n",
    "                   (line_points[index][2]-line_points[index-1][2])**2 )\n",
    "    _cumkp = _cumkp + _kp \n",
    "    kp.append(_cumkp)\n",
    "plt.plot(kp,[p[2] for p in line_points])"
   ]
  },
  {
   "cell_type": "code",
   "execution_count": null,
   "metadata": {},
   "outputs": [],
   "source": []
  }
 ],
 "metadata": {
  "kernelspec": {
   "display_name": "Python 3",
   "language": "python",
   "name": "python3"
  },
  "language_info": {
   "codemirror_mode": {
    "name": "ipython",
    "version": 3
   },
   "file_extension": ".py",
   "mimetype": "text/x-python",
   "name": "python",
   "nbconvert_exporter": "python",
   "pygments_lexer": "ipython3",
   "version": "3.7.4"
  }
 },
 "nbformat": 4,
 "nbformat_minor": 4
}
