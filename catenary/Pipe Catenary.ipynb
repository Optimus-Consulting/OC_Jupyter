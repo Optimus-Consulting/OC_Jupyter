{
 "cells": [
  {
   "cell_type": "markdown",
   "metadata": {},
   "source": [
    "# calculate catenary\n",
    "\n",
    "http://svrmoorings.weebly.com/catenary-calculation.html \n",
    "\n",
    "| Input water depth and forces on mooring line | symbol |\n",
    "| --- | --- |\n",
    "waterdepth + distance between sealevel and the fairlead\t| d\n",
    "force applied to the mooring-line at the fairlead\t| F\n",
    "normalized thread diameter\t| D\n",
    "density of the steel material in air\t| rhoSteel\n",
    "output\t\n",
    "horizontal distance between the fairled and the touchdown \t| X\n",
    "weight of the suspended chain \t| V\n",
    "cross sectional area of the thread\t| A\n",
    "unit weight of the mooring line in water\t| w\n",
    "normalized horizontal tension component\t| To\n",
    "length of the suspended mooring line\t| S\n",
    "catenary shape parameter \t| a\n",
    "upper angle of incidence of chain with horizontal in degrees\t| ɸs upAngle\n",
    "lower angle of incidence of chain with horizontal in degrees\t| ɸ1 lowAngle\n",
    "Axial Load on suction Pile\t| Pa"
   ]
  },
  {
   "cell_type": "code",
   "execution_count": 1,
   "metadata": {},
   "outputs": [],
   "source": [
    "import math"
   ]
  },
  {
   "cell_type": "code",
   "execution_count": 68,
   "metadata": {},
   "outputs": [],
   "source": [
    "d= 1365 #m\n",
    "F = 82 #t\n",
    "D=0.38 #m\n",
    "rhoSteel = 7.8 #t/m3\n",
    "\n",
    "A=D**2*math.pi/4 #m2\n",
    "w= (rhoSteel-1)*A #t/m\n",
    "w=0.0451\n",
    "S=(d*((2*F/w)-d))**0.5\n",
    "X=(F/w-d)*math.log((S+F/w)/(F/w-d))\n",
    "V=S*w\n",
    "To=(F**2-V**2)**0.5\n",
    "a=1/((rhoSteel*9.81*A)/To)\n",
    "upAngle = math.degrees(math.acos((F-(w*d))/F))\n",
    "lowAngle = math.degrees(math.atan((w*d)/To))\n",
    "Pa = -((math.sin(math.radians(lowAngle))*F*9.81))/1000"
   ]
  },
  {
   "cell_type": "code",
   "execution_count": 69,
   "metadata": {},
   "outputs": [
    {
     "name": "stdout",
     "output_type": "stream",
     "text": [
      "For Given inputs \n",
      "waterdepth 1365m \n",
      "top force applied 82t \n",
      "OD 0.38m \n",
      "density of the steel material in air 7.8 \n",
      "\n",
      "outputs are \n",
      "horizontal distance to touchdown 936.5182649883043m \n",
      "weight of the suspended pipe 79.41201242727702t \n",
      "cross sectional area of pipe 0.11341149479459153m2 \n",
      "unit weight of the pipe in water 0.0451t/m \n",
      "normalized horizontal tension component 20.4385t \n",
      "length of the suspended line 1760.7985017134595m \n",
      "catenary shape parameter 2.3552029395098266 \n",
      "upper angle of incidence of chain with horizontal 75.56686450125403deg \n",
      "lower angle of incidence of chain with horizontal 71.63376485132638deg \n",
      "Axial Load on suction Pile -0.7634443424808048MN \n"
     ]
    }
   ],
   "source": [
    "print(f\"For Given inputs \\n\\\n",
    "waterdepth {d}m \\n\\\n",
    "top force applied {F}t \\n\\\n",
    "OD {D}m \\n\\\n",
    "density of the steel material in air {rhoSteel} \\n\\n\\\n",
    "outputs are \\n\\\n",
    "horizontal distance to touchdown {X}m \\n\\\n",
    "weight of the suspended pipe {V}t \\n\\\n",
    "cross sectional area of pipe {A}m2 \\n\\\n",
    "unit weight of the pipe in water {w}t/m \\n\\\n",
    "normalized horizontal tension component {To}t \\n\\\n",
    "length of the suspended line {S}m \\n\\\n",
    "catenary shape parameter {a} \\n\\\n",
    "upper angle of incidence of chain with horizontal {upAngle}deg \\n\\\n",
    "lower angle of incidence of chain with horizontal {lowAngle}deg \\n\\\n",
    "Axial Load on suction Pile {Pa}MN \")"
   ]
  },
  {
   "cell_type": "code",
   "execution_count": 70,
   "metadata": {},
   "outputs": [],
   "source": [
    "tmp100=a*(math.cosh(X/a))\n",
    "# print(tmp100)\n",
    "point=[]\n",
    "for i in range(101):\n",
    "    x=X/100*i\n",
    "    y=d/100*i\n",
    "#     print(x,y)\n",
    "    tmp=a*(math.cosh(x/a))\n",
    "#     print(tmp)\n",
    "    dd=(tmp/tmp100)*y\n",
    "#     print(dd)\n",
    "    point.append({\"x\":x, \"z\":dd})"
   ]
  },
  {
   "cell_type": "code",
   "execution_count": 71,
   "metadata": {},
   "outputs": [
    {
     "data": {
      "image/png": "[encoded data removed]",
      "text/plain": [
       "<Figure size 432x288 with 1 Axes>"
      ]
     },
     "metadata": {
      "needs_background": "light"
     },
     "output_type": "display_data"
    }
   ],
   "source": [
    "import matplotlib.pyplot as plt\n",
    "import numpy as np\n",
    "\n",
    "# 100 linearly spaced numbers\n",
    "x = np.linspace(0,X,1)\n",
    "\n",
    "# the function, which is y = x^2 here\n",
    "y = a*(math.cosh(x/a))\n",
    "\n",
    "# setting the axes at the centre\n",
    "fig = plt.figure()\n",
    "ax = fig.add_subplot(1, 1, 1)\n",
    "ax.spines['left'].set_position('center')\n",
    "ax.spines['bottom'].set_position('zero')\n",
    "ax.spines['right'].set_color('none')\n",
    "ax.spines['top'].set_color('none')\n",
    "ax.xaxis.set_ticks_position('bottom')\n",
    "ax.yaxis.set_ticks_position('left')\n",
    "\n",
    "# plot the function\n",
    "plt.plot(x,y, 'r')\n",
    "\n",
    "# show the plot\n",
    "plt.show()"
   ]
  },
  {
   "cell_type": "code",
   "execution_count": null,
   "metadata": {},
   "outputs": [],
   "source": []
  }
 ],
 "metadata": {
  "kernelspec": {
   "display_name": "Python 3",
   "language": "python",
   "name": "python3"
  },
  "language_info": {
   "codemirror_mode": {
    "name": "ipython",
    "version": 3
   },
   "file_extension": ".py",
   "mimetype": "text/x-python",
   "name": "python",
   "nbconvert_exporter": "python",
   "pygments_lexer": "ipython3",
   "version": "3.7.4"
  }
 },
 "nbformat": 4,
 "nbformat_minor": 4
}
