{
 "cells": [
  {
   "cell_type": "code",
   "execution_count": 1,
   "metadata": {},
   "outputs": [],
   "source": [
    "import pandas as pd\n",
    "xls = pd.ExcelFile('_cs_line_01.xlsx')\n",
    "df1 = pd.read_excel(xls, '2000m')\n",
    "df2 = pd.read_excel(xls, '500m')"
   ]
  },
  {
   "cell_type": "code",
   "execution_count": 2,
   "metadata": {},
   "outputs": [
    {
     "data": {
      "text/html": [
       "<div>\n",
       "<style scoped>\n",
       "    .dataframe tbody tr th:only-of-type {\n",
       "        vertical-align: middle;\n",
       "    }\n",
       "\n",
       "    .dataframe tbody tr th {\n",
       "        vertical-align: top;\n",
       "    }\n",
       "\n",
       "    .dataframe thead th {\n",
       "        text-align: right;\n",
       "    }\n",
       "</style>\n",
       "<table border=\"1\" class=\"dataframe\">\n",
       "  <thead>\n",
       "    <tr style=\"text-align: right;\">\n",
       "      <th></th>\n",
       "      <th>x</th>\n",
       "      <th>y</th>\n",
       "      <th>z</th>\n",
       "      <th>nx</th>\n",
       "      <th>ny</th>\n",
       "      <th>nz</th>\n",
       "    </tr>\n",
       "  </thead>\n",
       "  <tbody>\n",
       "    <tr>\n",
       "      <td>0</td>\n",
       "      <td>0.000000</td>\n",
       "      <td>0.120000</td>\n",
       "      <td>38.790432</td>\n",
       "      <td>-0.016114</td>\n",
       "      <td>-0.001873</td>\n",
       "      <td>0.999868</td>\n",
       "    </tr>\n",
       "    <tr>\n",
       "      <td>1</td>\n",
       "      <td>2.830830</td>\n",
       "      <td>100.079025</td>\n",
       "      <td>39.023330</td>\n",
       "      <td>-0.016114</td>\n",
       "      <td>-0.001873</td>\n",
       "      <td>0.999868</td>\n",
       "    </tr>\n",
       "    <tr>\n",
       "      <td>2</td>\n",
       "      <td>5.661660</td>\n",
       "      <td>200.038060</td>\n",
       "      <td>39.256226</td>\n",
       "      <td>-0.016114</td>\n",
       "      <td>-0.001873</td>\n",
       "      <td>0.999868</td>\n",
       "    </tr>\n",
       "    <tr>\n",
       "      <td>3</td>\n",
       "      <td>8.492490</td>\n",
       "      <td>299.997070</td>\n",
       "      <td>39.489124</td>\n",
       "      <td>-0.016114</td>\n",
       "      <td>-0.001873</td>\n",
       "      <td>0.999868</td>\n",
       "    </tr>\n",
       "    <tr>\n",
       "      <td>4</td>\n",
       "      <td>11.323318</td>\n",
       "      <td>399.956050</td>\n",
       "      <td>37.059086</td>\n",
       "      <td>-0.016102</td>\n",
       "      <td>0.039069</td>\n",
       "      <td>0.999107</td>\n",
       "    </tr>\n",
       "    <tr>\n",
       "      <td>...</td>\n",
       "      <td>...</td>\n",
       "      <td>...</td>\n",
       "      <td>...</td>\n",
       "      <td>...</td>\n",
       "      <td>...</td>\n",
       "      <td>...</td>\n",
       "    </tr>\n",
       "    <tr>\n",
       "      <td>1475</td>\n",
       "      <td>-40520.710000</td>\n",
       "      <td>171594.860000</td>\n",
       "      <td>-1608.502300</td>\n",
       "      <td>-0.003224</td>\n",
       "      <td>0.005252</td>\n",
       "      <td>0.999981</td>\n",
       "    </tr>\n",
       "    <tr>\n",
       "      <td>1476</td>\n",
       "      <td>-40427.566000</td>\n",
       "      <td>171631.250000</td>\n",
       "      <td>-1608.393100</td>\n",
       "      <td>-0.003224</td>\n",
       "      <td>0.005252</td>\n",
       "      <td>0.999981</td>\n",
       "    </tr>\n",
       "    <tr>\n",
       "      <td>1477</td>\n",
       "      <td>-39961.848000</td>\n",
       "      <td>171813.200000</td>\n",
       "      <td>-1607.847000</td>\n",
       "      <td>-0.003224</td>\n",
       "      <td>0.005252</td>\n",
       "      <td>0.999981</td>\n",
       "    </tr>\n",
       "    <tr>\n",
       "      <td>1478</td>\n",
       "      <td>-39775.560000</td>\n",
       "      <td>171885.970000</td>\n",
       "      <td>-1607.628500</td>\n",
       "      <td>-0.003224</td>\n",
       "      <td>0.005252</td>\n",
       "      <td>0.999981</td>\n",
       "    </tr>\n",
       "    <tr>\n",
       "      <td>1479</td>\n",
       "      <td>-39675.550000</td>\n",
       "      <td>171925.050000</td>\n",
       "      <td>-1607.511400</td>\n",
       "      <td>-0.003224</td>\n",
       "      <td>0.005252</td>\n",
       "      <td>0.999981</td>\n",
       "    </tr>\n",
       "  </tbody>\n",
       "</table>\n",
       "<p>1480 rows × 6 columns</p>\n",
       "</div>"
      ],
      "text/plain": [
       "                 x              y            z        nx        ny        nz\n",
       "0         0.000000       0.120000    38.790432 -0.016114 -0.001873  0.999868\n",
       "1         2.830830     100.079025    39.023330 -0.016114 -0.001873  0.999868\n",
       "2         5.661660     200.038060    39.256226 -0.016114 -0.001873  0.999868\n",
       "3         8.492490     299.997070    39.489124 -0.016114 -0.001873  0.999868\n",
       "4        11.323318     399.956050    37.059086 -0.016102  0.039069  0.999107\n",
       "...            ...            ...          ...       ...       ...       ...\n",
       "1475 -40520.710000  171594.860000 -1608.502300 -0.003224  0.005252  0.999981\n",
       "1476 -40427.566000  171631.250000 -1608.393100 -0.003224  0.005252  0.999981\n",
       "1477 -39961.848000  171813.200000 -1607.847000 -0.003224  0.005252  0.999981\n",
       "1478 -39775.560000  171885.970000 -1607.628500 -0.003224  0.005252  0.999981\n",
       "1479 -39675.550000  171925.050000 -1607.511400 -0.003224  0.005252  0.999981\n",
       "\n",
       "[1480 rows x 6 columns]"
      ]
     },
     "execution_count": 2,
     "metadata": {},
     "output_type": "execute_result"
    }
   ],
   "source": [
    "df1"
   ]
  },
  {
   "cell_type": "code",
   "execution_count": 3,
   "metadata": {},
   "outputs": [],
   "source": [
    "# example to calculate KP and plot the alignment sheet\n",
    "from matplotlib import pyplot as plt\n",
    "import math\n",
    "def calKp(df1):\n",
    "    _cumkp=0\n",
    "    kp=[]\n",
    "    for index, point in df1.iterrows():\n",
    "        if index == 0: \n",
    "            kp.append(0)  \n",
    "            continue\n",
    "        _kp = math.sqrt( (df1.iloc[[index]].x-df1.iloc[index-1].x)**2 + \n",
    "                       (df1.iloc[[index]].y-df1.iloc[index-1].y)**2 + \n",
    "                       (df1.iloc[[index]].z-df1.iloc[index-1].z)**2 )\n",
    "        _cumkp = _cumkp + _kp \n",
    "        kp.append(_cumkp)\n",
    "    return kp\n",
    "def calAzimuth(df1):\n",
    "    _az=0\n",
    "    azimuth=[]\n",
    "    for index, point in df1.iterrows():\n",
    "        if index == len(df1)-1:\n",
    "            azimuth.append(0)\n",
    "            break\n",
    "        if index == 0: \n",
    "            azimuth.append(0)  \n",
    "            continue\n",
    "        _az12 = math.atan( (df1.iloc[[index]].x-df1.iloc[index-1].x) / \n",
    "                       (df1.iloc[[index]].y-df1.iloc[index-1].y) ) \n",
    "        _az23 = math.atan( (df1.iloc[[index]].x-df1.iloc[index+1].x) / \n",
    "                       (df1.iloc[[index]].y-df1.iloc[index+1].y) )\n",
    "        _az=(_az12+_az23)/2\n",
    "#         print(_az12,_az23)\n",
    "        azimuth.append(_az)\n",
    "    return azimuth\n"
   ]
  },
  {
   "cell_type": "code",
   "execution_count": 4,
   "metadata": {},
   "outputs": [
    {
     "data": {
      "text/plain": [
       "[<matplotlib.lines.Line2D at 0x7fa6e21d4990>]"
      ]
     },
     "execution_count": 4,
     "metadata": {},
     "output_type": "execute_result"
    },
    {
     "data": {
      "image/png": "[encoded data removed]",
      "text/plain": [
       "<Figure size 432x288 with 1 Axes>"
      ]
     },
     "metadata": {
      "needs_background": "light"
     },
     "output_type": "display_data"
    }
   ],
   "source": [
    "kp=calKp(df1)\n",
    "df1[\"kp\"] =  kp  \n",
    "kp=calKp(df2)\n",
    "df2[\"kp\"] =  kp\n",
    "plt.plot(df1.kp,df1.z)\n",
    "plt.plot(df2.kp,df2.z)"
   ]
  },
  {
   "cell_type": "code",
   "execution_count": null,
   "metadata": {},
   "outputs": [],
   "source": []
  },
  {
   "cell_type": "code",
   "execution_count": 5,
   "metadata": {},
   "outputs": [
    {
     "data": {
      "text/plain": [
       "-800.7066491748928"
      ]
     },
     "execution_count": 5,
     "metadata": {},
     "output_type": "execute_result"
    }
   ],
   "source": [
    "# kp ne odgovarju po tockama\n",
    "min(df1[\"kp\"]- df2[\"kp\"])"
   ]
  },
  {
   "cell_type": "code",
   "execution_count": 6,
   "metadata": {},
   "outputs": [],
   "source": [
    "dz=df1.z-df2.z\n",
    "df2[\"dz\"] = dz\n",
    "dx=df1.x-df2.x\n",
    "df2[\"dx\"] = dx"
   ]
  },
  {
   "cell_type": "code",
   "execution_count": 7,
   "metadata": {},
   "outputs": [
    {
     "name": "stdout",
     "output_type": "stream",
     "text": [
      "-85.65059999999994 32.12477799999999\n",
      "-4801.200000000004 3539.467000000004\n"
     ]
    }
   ],
   "source": [
    "# pre velika je razlika u z tako da vjerojatno tocke nisu niti na istom trokutu\n",
    "print(min(dz),max(dz))\n",
    "print(min(dx),max(dx))"
   ]
  },
  {
   "cell_type": "code",
   "execution_count": 8,
   "metadata": {},
   "outputs": [
    {
     "data": {
      "text/plain": [
       "[<matplotlib.lines.Line2D at 0x7fa6c0a22bd0>]"
      ]
     },
     "execution_count": 8,
     "metadata": {},
     "output_type": "execute_result"
    },
    {
     "data": {
      "image/png": "[encoded data removed]",
      "text/plain": [
       "<Figure size 432x288 with 1 Axes>"
      ]
     },
     "metadata": {
      "needs_background": "light"
     },
     "output_type": "display_data"
    }
   ],
   "source": [
    "plt.plot(df1.kp,dz)"
   ]
  },
  {
   "cell_type": "code",
   "execution_count": 9,
   "metadata": {},
   "outputs": [
    {
     "data": {
      "text/html": [
       "<div>\n",
       "<style scoped>\n",
       "    .dataframe tbody tr th:only-of-type {\n",
       "        vertical-align: middle;\n",
       "    }\n",
       "\n",
       "    .dataframe tbody tr th {\n",
       "        vertical-align: top;\n",
       "    }\n",
       "\n",
       "    .dataframe thead th {\n",
       "        text-align: right;\n",
       "    }\n",
       "</style>\n",
       "<table border=\"1\" class=\"dataframe\">\n",
       "  <thead>\n",
       "    <tr style=\"text-align: right;\">\n",
       "      <th></th>\n",
       "      <th>x</th>\n",
       "      <th>y</th>\n",
       "      <th>z</th>\n",
       "      <th>nx</th>\n",
       "      <th>ny</th>\n",
       "      <th>nz</th>\n",
       "      <th>kp</th>\n",
       "      <th>dz</th>\n",
       "      <th>dx</th>\n",
       "    </tr>\n",
       "  </thead>\n",
       "  <tbody>\n",
       "    <tr>\n",
       "      <td>1053</td>\n",
       "      <td>-31840.78</td>\n",
       "      <td>119812.63</td>\n",
       "      <td>-915.8147</td>\n",
       "      <td>-0.018113</td>\n",
       "      <td>0.02029</td>\n",
       "      <td>0.99963</td>\n",
       "      <td>125856.546705</td>\n",
       "      <td>-85.6506</td>\n",
       "      <td>-877.07</td>\n",
       "    </tr>\n",
       "  </tbody>\n",
       "</table>\n",
       "</div>"
      ],
      "text/plain": [
       "             x          y         z        nx       ny       nz  \\\n",
       "1053 -31840.78  119812.63 -915.8147 -0.018113  0.02029  0.99963   \n",
       "\n",
       "                 kp       dz      dx  \n",
       "1053  125856.546705 -85.6506 -877.07  "
      ]
     },
     "execution_count": 9,
     "metadata": {},
     "output_type": "execute_result"
    }
   ],
   "source": [
    "df2[df2[\"dz\"]==df2[\"dz\"].min()]"
   ]
  },
  {
   "cell_type": "code",
   "execution_count": 10,
   "metadata": {},
   "outputs": [
    {
     "data": {
      "text/html": [
       "<div>\n",
       "<style scoped>\n",
       "    .dataframe tbody tr th:only-of-type {\n",
       "        vertical-align: middle;\n",
       "    }\n",
       "\n",
       "    .dataframe tbody tr th {\n",
       "        vertical-align: top;\n",
       "    }\n",
       "\n",
       "    .dataframe thead th {\n",
       "        text-align: right;\n",
       "    }\n",
       "</style>\n",
       "<table border=\"1\" class=\"dataframe\">\n",
       "  <thead>\n",
       "    <tr style=\"text-align: right;\">\n",
       "      <th></th>\n",
       "      <th>x</th>\n",
       "      <th>y</th>\n",
       "      <th>z</th>\n",
       "      <th>nx</th>\n",
       "      <th>ny</th>\n",
       "      <th>nz</th>\n",
       "      <th>kp</th>\n",
       "    </tr>\n",
       "  </thead>\n",
       "  <tbody>\n",
       "    <tr>\n",
       "      <td>1053</td>\n",
       "      <td>-32717.85</td>\n",
       "      <td>121497.89</td>\n",
       "      <td>-1001.4653</td>\n",
       "      <td>-0.041702</td>\n",
       "      <td>0.02675</td>\n",
       "      <td>0.998772</td>\n",
       "      <td>127755.939326</td>\n",
       "    </tr>\n",
       "  </tbody>\n",
       "</table>\n",
       "</div>"
      ],
      "text/plain": [
       "             x          y          z        nx       ny        nz  \\\n",
       "1053 -32717.85  121497.89 -1001.4653 -0.041702  0.02675  0.998772   \n",
       "\n",
       "                 kp  \n",
       "1053  127755.939326  "
      ]
     },
     "execution_count": 10,
     "metadata": {},
     "output_type": "execute_result"
    }
   ],
   "source": [
    "# za najvecu razliku u z tocka je 2km vise udaljena\n",
    "df1[df2[\"dz\"]==df2[\"dz\"].min()]"
   ]
  },
  {
   "cell_type": "code",
   "execution_count": 11,
   "metadata": {},
   "outputs": [
    {
     "data": {
      "text/plain": [
       "[<matplotlib.lines.Line2D at 0x7fa6c095d690>]"
      ]
     },
     "execution_count": 11,
     "metadata": {},
     "output_type": "execute_result"
    },
    {
     "data": {
      "image/png": "[encoded data removed]",
      "text/plain": [
       "<Figure size 432x288 with 1 Axes>"
      ]
     },
     "metadata": {
      "needs_background": "light"
     },
     "output_type": "display_data"
    }
   ],
   "source": [
    "plt.plot(df1.x,df2.x)\n",
    "\n",
    "# plt.plot(df2.x,df2.y)"
   ]
  },
  {
   "cell_type": "code",
   "execution_count": 12,
   "metadata": {},
   "outputs": [
    {
     "data": {
      "text/plain": [
       "[<matplotlib.lines.Line2D at 0x7fa6d0396890>]"
      ]
     },
     "execution_count": 12,
     "metadata": {},
     "output_type": "execute_result"
    },
    {
     "data": {
      "image/png": "[encoded data removed]",
      "text/plain": [
       "<Figure size 432x288 with 1 Axes>"
      ]
     },
     "metadata": {
      "needs_background": "light"
     },
     "output_type": "display_data"
    }
   ],
   "source": [
    "plt.plot(df1.y,df2.y)"
   ]
  },
  {
   "cell_type": "code",
   "execution_count": 13,
   "metadata": {},
   "outputs": [],
   "source": [
    "import numpy as np\n",
    "df2[\"z2000\"] = np.interp(df2[\"kp\"], df1[\"kp\"], df1[\"z\"])"
   ]
  },
  {
   "cell_type": "code",
   "execution_count": 14,
   "metadata": {},
   "outputs": [
    {
     "data": {
      "text/html": [
       "<div>\n",
       "<style scoped>\n",
       "    .dataframe tbody tr th:only-of-type {\n",
       "        vertical-align: middle;\n",
       "    }\n",
       "\n",
       "    .dataframe tbody tr th {\n",
       "        vertical-align: top;\n",
       "    }\n",
       "\n",
       "    .dataframe thead th {\n",
       "        text-align: right;\n",
       "    }\n",
       "</style>\n",
       "<table border=\"1\" class=\"dataframe\">\n",
       "  <thead>\n",
       "    <tr style=\"text-align: right;\">\n",
       "      <th></th>\n",
       "      <th>x</th>\n",
       "      <th>y</th>\n",
       "      <th>z</th>\n",
       "      <th>nx</th>\n",
       "      <th>ny</th>\n",
       "      <th>nz</th>\n",
       "      <th>kp</th>\n",
       "      <th>dz</th>\n",
       "      <th>dx</th>\n",
       "      <th>z2000</th>\n",
       "    </tr>\n",
       "  </thead>\n",
       "  <tbody>\n",
       "    <tr>\n",
       "      <td>0</td>\n",
       "      <td>0.000000</td>\n",
       "      <td>0.12000</td>\n",
       "      <td>37.449802</td>\n",
       "      <td>-0.083793</td>\n",
       "      <td>0.030611</td>\n",
       "      <td>0.996013</td>\n",
       "      <td>0.000000</td>\n",
       "      <td>1.340630</td>\n",
       "      <td>0.000000e+00</td>\n",
       "      <td>38.790432</td>\n",
       "    </tr>\n",
       "    <tr>\n",
       "      <td>1</td>\n",
       "      <td>2.830831</td>\n",
       "      <td>100.07905</td>\n",
       "      <td>34.615814</td>\n",
       "      <td>-0.083793</td>\n",
       "      <td>0.030611</td>\n",
       "      <td>0.996013</td>\n",
       "      <td>100.039276</td>\n",
       "      <td>4.407516</td>\n",
       "      <td>-6.000000e-07</td>\n",
       "      <td>39.023423</td>\n",
       "    </tr>\n",
       "    <tr>\n",
       "      <td>2</td>\n",
       "      <td>5.661662</td>\n",
       "      <td>200.03812</td>\n",
       "      <td>31.785800</td>\n",
       "      <td>-0.071366</td>\n",
       "      <td>0.018117</td>\n",
       "      <td>0.997286</td>\n",
       "      <td>200.078460</td>\n",
       "      <td>7.470426</td>\n",
       "      <td>-2.300000e-06</td>\n",
       "      <td>39.256412</td>\n",
       "    </tr>\n",
       "    <tr>\n",
       "      <td>3</td>\n",
       "      <td>8.492495</td>\n",
       "      <td>299.99722</td>\n",
       "      <td>30.172520</td>\n",
       "      <td>-0.071366</td>\n",
       "      <td>0.018117</td>\n",
       "      <td>0.997286</td>\n",
       "      <td>300.090649</td>\n",
       "      <td>9.316604</td>\n",
       "      <td>-5.000000e-06</td>\n",
       "      <td>39.486876</td>\n",
       "    </tr>\n",
       "    <tr>\n",
       "      <td>4</td>\n",
       "      <td>14.154160</td>\n",
       "      <td>499.91547</td>\n",
       "      <td>27.373564</td>\n",
       "      <td>-0.027937</td>\n",
       "      <td>0.048984</td>\n",
       "      <td>0.998409</td>\n",
       "      <td>500.108636</td>\n",
       "      <td>9.685522</td>\n",
       "      <td>-2.830842e+00</td>\n",
       "      <td>33.195642</td>\n",
       "    </tr>\n",
       "    <tr>\n",
       "      <td>...</td>\n",
       "      <td>...</td>\n",
       "      <td>...</td>\n",
       "      <td>...</td>\n",
       "      <td>...</td>\n",
       "      <td>...</td>\n",
       "      <td>...</td>\n",
       "      <td>...</td>\n",
       "      <td>...</td>\n",
       "      <td>...</td>\n",
       "      <td>...</td>\n",
       "    </tr>\n",
       "    <tr>\n",
       "      <td>1475</td>\n",
       "      <td>-41265.855000</td>\n",
       "      <td>171303.75000</td>\n",
       "      <td>-1610.452600</td>\n",
       "      <td>-0.003552</td>\n",
       "      <td>0.003850</td>\n",
       "      <td>0.999986</td>\n",
       "      <td>193054.703105</td>\n",
       "      <td>1.950300</td>\n",
       "      <td>7.451450e+02</td>\n",
       "      <td>-1610.797266</td>\n",
       "    </tr>\n",
       "    <tr>\n",
       "      <td>1476</td>\n",
       "      <td>-41172.715000</td>\n",
       "      <td>171340.14000</td>\n",
       "      <td>-1610.275100</td>\n",
       "      <td>-0.003552</td>\n",
       "      <td>0.006408</td>\n",
       "      <td>0.999973</td>\n",
       "      <td>193154.699721</td>\n",
       "      <td>1.882000</td>\n",
       "      <td>7.451490e+02</td>\n",
       "      <td>-1610.490673</td>\n",
       "    </tr>\n",
       "    <tr>\n",
       "      <td>1477</td>\n",
       "      <td>-40613.848000</td>\n",
       "      <td>171558.47000</td>\n",
       "      <td>-1609.538000</td>\n",
       "      <td>-0.005636</td>\n",
       "      <td>0.008017</td>\n",
       "      <td>0.999952</td>\n",
       "      <td>193754.700434</td>\n",
       "      <td>1.691000</td>\n",
       "      <td>6.520000e+02</td>\n",
       "      <td>-1608.654849</td>\n",
       "    </tr>\n",
       "    <tr>\n",
       "      <td>1478</td>\n",
       "      <td>-40241.273000</td>\n",
       "      <td>171704.03000</td>\n",
       "      <td>-1609.651700</td>\n",
       "      <td>-0.004126</td>\n",
       "      <td>0.010371</td>\n",
       "      <td>0.999938</td>\n",
       "      <td>194154.700256</td>\n",
       "      <td>2.023200</td>\n",
       "      <td>4.657130e+02</td>\n",
       "      <td>-1608.171768</td>\n",
       "    </tr>\n",
       "    <tr>\n",
       "      <td>1479</td>\n",
       "      <td>-39675.550000</td>\n",
       "      <td>171925.05000</td>\n",
       "      <td>-1608.517100</td>\n",
       "      <td>-0.005016</td>\n",
       "      <td>0.004182</td>\n",
       "      <td>0.999979</td>\n",
       "      <td>194762.066406</td>\n",
       "      <td>1.005700</td>\n",
       "      <td>0.000000e+00</td>\n",
       "      <td>-1607.511400</td>\n",
       "    </tr>\n",
       "  </tbody>\n",
       "</table>\n",
       "<p>1480 rows × 10 columns</p>\n",
       "</div>"
      ],
      "text/plain": [
       "                 x             y            z        nx        ny        nz  \\\n",
       "0         0.000000       0.12000    37.449802 -0.083793  0.030611  0.996013   \n",
       "1         2.830831     100.07905    34.615814 -0.083793  0.030611  0.996013   \n",
       "2         5.661662     200.03812    31.785800 -0.071366  0.018117  0.997286   \n",
       "3         8.492495     299.99722    30.172520 -0.071366  0.018117  0.997286   \n",
       "4        14.154160     499.91547    27.373564 -0.027937  0.048984  0.998409   \n",
       "...            ...           ...          ...       ...       ...       ...   \n",
       "1475 -41265.855000  171303.75000 -1610.452600 -0.003552  0.003850  0.999986   \n",
       "1476 -41172.715000  171340.14000 -1610.275100 -0.003552  0.006408  0.999973   \n",
       "1477 -40613.848000  171558.47000 -1609.538000 -0.005636  0.008017  0.999952   \n",
       "1478 -40241.273000  171704.03000 -1609.651700 -0.004126  0.010371  0.999938   \n",
       "1479 -39675.550000  171925.05000 -1608.517100 -0.005016  0.004182  0.999979   \n",
       "\n",
       "                 kp        dz            dx        z2000  \n",
       "0          0.000000  1.340630  0.000000e+00    38.790432  \n",
       "1        100.039276  4.407516 -6.000000e-07    39.023423  \n",
       "2        200.078460  7.470426 -2.300000e-06    39.256412  \n",
       "3        300.090649  9.316604 -5.000000e-06    39.486876  \n",
       "4        500.108636  9.685522 -2.830842e+00    33.195642  \n",
       "...             ...       ...           ...          ...  \n",
       "1475  193054.703105  1.950300  7.451450e+02 -1610.797266  \n",
       "1476  193154.699721  1.882000  7.451490e+02 -1610.490673  \n",
       "1477  193754.700434  1.691000  6.520000e+02 -1608.654849  \n",
       "1478  194154.700256  2.023200  4.657130e+02 -1608.171768  \n",
       "1479  194762.066406  1.005700  0.000000e+00 -1607.511400  \n",
       "\n",
       "[1480 rows x 10 columns]"
      ]
     },
     "execution_count": 14,
     "metadata": {},
     "output_type": "execute_result"
    }
   ],
   "source": [
    "df2"
   ]
  },
  {
   "cell_type": "code",
   "execution_count": 15,
   "metadata": {},
   "outputs": [],
   "source": [
    "dz=df2.z2000-df2.z\n",
    "df2[\"dz_inter\"] = dz\n",
    "dKp = df1[\"kp\"]-df2[\"kp\"]\n",
    "df2[\"dKp\"] = dKp"
   ]
  },
  {
   "cell_type": "code",
   "execution_count": 16,
   "metadata": {},
   "outputs": [
    {
     "data": {
      "text/plain": [
       "(-19.920789783942396, 25.275088757825728)"
      ]
     },
     "execution_count": 16,
     "metadata": {},
     "output_type": "execute_result"
    }
   ],
   "source": [
    "df2[\"dz_inter\"].min(), df2[\"dz_inter\"].max()"
   ]
  },
  {
   "cell_type": "code",
   "execution_count": 17,
   "metadata": {},
   "outputs": [
    {
     "data": {
      "text/plain": [
       "[<matplotlib.lines.Line2D at 0x7fa6f07d3150>]"
      ]
     },
     "execution_count": 17,
     "metadata": {},
     "output_type": "execute_result"
    },
    {
     "data": {
      "image/png": "[encoded data removed]",
      "text/plain": [
       "<Figure size 1440x480 with 1 Axes>"
      ]
     },
     "metadata": {},
     "output_type": "display_data"
    }
   ],
   "source": [
    "# nije moguce zakljuciti da li je greska kod interpolacije ili adjustmenta. \n",
    "from matplotlib.pyplot import figure\n",
    "figure(num=None, figsize=(18, 6), dpi=80, facecolor='w', edgecolor='k')\n",
    "plt.plot(df2[\"kp\"], df2[\"dz_inter\"])\n"
   ]
  },
  {
   "cell_type": "code",
   "execution_count": 18,
   "metadata": {},
   "outputs": [
    {
     "data": {
      "text/plain": [
       "[<matplotlib.lines.Line2D at 0x7fa6a0294cd0>]"
      ]
     },
     "execution_count": 18,
     "metadata": {},
     "output_type": "execute_result"
    },
    {
     "data": {
      "image/png": "[encoded data removed]",
      "text/plain": [
       "<Figure size 1440x480 with 1 Axes>"
      ]
     },
     "metadata": {},
     "output_type": "display_data"
    }
   ],
   "source": [
    "figure(num=None, figsize=(18, 6), dpi=80, facecolor='w', edgecolor='k')\n",
    "plt.plot(df2[\"kp\"], df2[\"dKp\"])"
   ]
  },
  {
   "cell_type": "markdown",
   "metadata": {},
   "source": [
    "# Transform angles to Azimuth based coordinate system"
   ]
  },
  {
   "cell_type": "code",
   "execution_count": 19,
   "metadata": {},
   "outputs": [],
   "source": [
    "df1[\"azimuth\"] = calAzimuth(df1)\n",
    "df2[\"azimuth\"] = calAzimuth(df2)"
   ]
  },
  {
   "cell_type": "code",
   "execution_count": 20,
   "metadata": {},
   "outputs": [
    {
     "data": {
      "text/plain": [
       "1480"
      ]
     },
     "execution_count": 20,
     "metadata": {},
     "output_type": "execute_result"
    }
   ],
   "source": [
    "len(df1)"
   ]
  },
  {
   "cell_type": "code",
   "execution_count": 21,
   "metadata": {},
   "outputs": [],
   "source": [
    "from math import cos,sin,tan,atan,degrees,radians\n",
    "l=[]\n",
    "for i, g_vector in df2.iterrows():\n",
    "    a=g_vector[\"azimuth\"]\n",
    "    t_m = np.array([[cos(a), sin(a),0],[-sin(a), cos(a), 0],[0,0,1]])\n",
    "    l_vector=t_m*[(g_vector[\"nx\"]),(g_vector[\"ny\"]),(g_vector[\"nz\"])]    \n",
    "    ax_an=degrees(atan(l_vector[0][0]/l_vector[2][2]))\n",
    "    lat_an=degrees(atan(l_vector[1][1]/l_vector[2][2]))\n",
    "#     print(\"o\",(angle.nx), (angle.ny), (angle.nz))\n",
    "#     print(\"t\",round(degrees(angle.azimuth),3), round(ax_an,3), round(lat_an,3))\n",
    "    \n",
    "    l.append({\"ax_an\":ax_an, \"lat_an\":lat_an})\n",
    "_df=pd.DataFrame(l)\n",
    "df2 = df2.join(_df)"
   ]
  },
  {
   "cell_type": "code",
   "execution_count": 22,
   "metadata": {},
   "outputs": [
    {
     "name": "stdout",
     "output_type": "stream",
     "text": [
      "Azimuth is 83.49996141503874 deg\n",
      "Transformation matrix with given azimuth is \n",
      "[[ 0.11320388  0.99357178  0.        ]\n",
      " [-0.99357178  0.11320388  0.        ]\n",
      " [ 0.          0.          1.        ]]\n",
      "Local vectors in coordinate system rotated around Z axis for azimuth angle are\n",
      " [array([  41.89707735, -342.18573353,   17.845     ]), array([  988.98738273,  -342.18573353, -1363.0841    ])]\n",
      "Note that now Y of -342.18573352966666 is constant and could be ignored in the analysis \n",
      "       but needs to be taken into account when transforming back to global\n"
     ]
    }
   ],
   "source": [
    "from math import cos,sin,tan,atan,degrees,radians\n",
    "import numpy as np\n",
    "g=np.array([[344.729,2.891,17.845],\n",
    "[451.9433,943.8932,-1363.0841]])\n",
    "a=atan((g[1][1]-g[0][1])/(g[1][0]-g[0][0]))\n",
    "print(f\"Azimuth is {degrees(a)} deg\")\n",
    "t_m = np.array([[cos(a), sin(a),0],[-sin(a), cos(a), 0],[0,0,1]])\n",
    "print(f\"Transformation matrix with given azimuth is \\n{t_m}\")\n",
    "l=[]\n",
    "for vect in g:\n",
    "    l.append(t_m.dot(vect))\n",
    "print(f\"Local vectors in coordinate system rotated around Z axis for azimuth angle are\\n {l}\")\n",
    "print(f\"Note that now Y of {l[0][1]} is constant and could be ignored in the analysis \\n \\\n",
    "      but needs to be taken into account when transforming back to global\")"
   ]
  },
  {
   "cell_type": "code",
   "execution_count": 23,
   "metadata": {},
   "outputs": [
    {
     "name": "stdout",
     "output_type": "stream",
     "text": [
      "[[ 0.11320388 -0.99357178  0.        ]\n",
      " [ 0.99357178  0.11320388  0.        ]\n",
      " [ 0.          0.          1.        ]]\n",
      "[ 36.15224532 342.84027838  17.845     ]\n",
      "[ -886.66390993   555.89048405 -1363.0841    ]\n"
     ]
    }
   ],
   "source": [
    "def rotation_matrix(axis, theta):\n",
    "    \"\"\"\n",
    "    Return the rotation matrix associated with counterclockwise rotation about\n",
    "    the given axis by theta radians.\n",
    "    \"\"\"\n",
    "    axis = np.asarray(axis)\n",
    "    axis = axis / math.sqrt(np.dot(axis, axis))\n",
    "    a = math.cos(theta / 2.0)\n",
    "    b, c, d = -axis * math.sin(theta / 2.0)\n",
    "    aa, bb, cc, dd = a * a, b * b, c * c, d * d\n",
    "    bc, ad, ac, ab, bd, cd = b * c, a * d, a * c, a * b, b * d, c * d\n",
    "    return np.array([[aa + bb - cc - dd, 2 * (bc + ad), 2 * (bd - ac)],\n",
    "                     [2 * (bc - ad), aa + cc - bb - dd, 2 * (cd + ab)],\n",
    "                     [2 * (bd + ac), 2 * (cd - ab), aa + dd - bb - cc]])\n",
    "\n",
    "v = [344.729,2.891,17.845]\n",
    "axis = [0,0,1]\n",
    "theta = a \n",
    "print(rotation_matrix(axis, theta))\n",
    "print(np.dot(rotation_matrix(axis, theta), g[0])) \n",
    "print(np.dot(rotation_matrix(axis, theta), g[1])) \n",
    "# [ 2.74911638  4.77180932  1.91629719]"
   ]
  },
  {
   "cell_type": "code",
   "execution_count": 24,
   "metadata": {},
   "outputs": [
    {
     "data": {
      "text/html": [
       "<div>\n",
       "<style scoped>\n",
       "    .dataframe tbody tr th:only-of-type {\n",
       "        vertical-align: middle;\n",
       "    }\n",
       "\n",
       "    .dataframe tbody tr th {\n",
       "        vertical-align: top;\n",
       "    }\n",
       "\n",
       "    .dataframe thead th {\n",
       "        text-align: right;\n",
       "    }\n",
       "</style>\n",
       "<table border=\"1\" class=\"dataframe\">\n",
       "  <thead>\n",
       "    <tr style=\"text-align: right;\">\n",
       "      <th></th>\n",
       "      <th>x</th>\n",
       "      <th>y</th>\n",
       "      <th>z</th>\n",
       "      <th>nx</th>\n",
       "      <th>ny</th>\n",
       "      <th>nz</th>\n",
       "      <th>kp</th>\n",
       "      <th>dz</th>\n",
       "      <th>dx</th>\n",
       "      <th>z2000</th>\n",
       "      <th>dz_inter</th>\n",
       "      <th>dKp</th>\n",
       "      <th>azimuth</th>\n",
       "      <th>ax_an</th>\n",
       "      <th>lat_an</th>\n",
       "    </tr>\n",
       "  </thead>\n",
       "  <tbody>\n",
       "    <tr>\n",
       "      <td>0</td>\n",
       "      <td>0.000000</td>\n",
       "      <td>0.12000</td>\n",
       "      <td>37.449802</td>\n",
       "      <td>-0.083793</td>\n",
       "      <td>0.030611</td>\n",
       "      <td>0.996013</td>\n",
       "      <td>0.000000</td>\n",
       "      <td>1.340630</td>\n",
       "      <td>0.000000e+00</td>\n",
       "      <td>38.790432</td>\n",
       "      <td>1.340630</td>\n",
       "      <td>0.000000</td>\n",
       "      <td>0.000000</td>\n",
       "      <td>-4.808856</td>\n",
       "      <td>1.760374</td>\n",
       "    </tr>\n",
       "    <tr>\n",
       "      <td>1</td>\n",
       "      <td>2.830831</td>\n",
       "      <td>100.07905</td>\n",
       "      <td>34.615814</td>\n",
       "      <td>-0.083793</td>\n",
       "      <td>0.030611</td>\n",
       "      <td>0.996013</td>\n",
       "      <td>100.039276</td>\n",
       "      <td>4.407516</td>\n",
       "      <td>-6.000000e-07</td>\n",
       "      <td>39.023423</td>\n",
       "      <td>4.407609</td>\n",
       "      <td>-0.039904</td>\n",
       "      <td>0.028312</td>\n",
       "      <td>-4.806938</td>\n",
       "      <td>1.759669</td>\n",
       "    </tr>\n",
       "    <tr>\n",
       "      <td>2</td>\n",
       "      <td>5.661662</td>\n",
       "      <td>200.03812</td>\n",
       "      <td>31.785800</td>\n",
       "      <td>-0.071366</td>\n",
       "      <td>0.018117</td>\n",
       "      <td>0.997286</td>\n",
       "      <td>200.078460</td>\n",
       "      <td>7.470426</td>\n",
       "      <td>-2.300000e-06</td>\n",
       "      <td>39.256412</td>\n",
       "      <td>7.470612</td>\n",
       "      <td>-0.079705</td>\n",
       "      <td>0.028312</td>\n",
       "      <td>-4.091474</td>\n",
       "      <td>1.040304</td>\n",
       "    </tr>\n",
       "    <tr>\n",
       "      <td>3</td>\n",
       "      <td>8.492495</td>\n",
       "      <td>299.99722</td>\n",
       "      <td>30.172520</td>\n",
       "      <td>-0.071366</td>\n",
       "      <td>0.018117</td>\n",
       "      <td>0.997286</td>\n",
       "      <td>300.090649</td>\n",
       "      <td>9.316604</td>\n",
       "      <td>-5.000000e-06</td>\n",
       "      <td>39.486876</td>\n",
       "      <td>9.314356</td>\n",
       "      <td>-0.092536</td>\n",
       "      <td>0.028312</td>\n",
       "      <td>-4.091474</td>\n",
       "      <td>1.040304</td>\n",
       "    </tr>\n",
       "    <tr>\n",
       "      <td>4</td>\n",
       "      <td>14.154160</td>\n",
       "      <td>499.91547</td>\n",
       "      <td>27.373564</td>\n",
       "      <td>-0.027937</td>\n",
       "      <td>0.048984</td>\n",
       "      <td>0.998409</td>\n",
       "      <td>500.108636</td>\n",
       "      <td>9.685522</td>\n",
       "      <td>-2.830842e+00</td>\n",
       "      <td>33.195642</td>\n",
       "      <td>5.822078</td>\n",
       "      <td>-100.081946</td>\n",
       "      <td>0.028312</td>\n",
       "      <td>-1.602190</td>\n",
       "      <td>2.807669</td>\n",
       "    </tr>\n",
       "    <tr>\n",
       "      <td>...</td>\n",
       "      <td>...</td>\n",
       "      <td>...</td>\n",
       "      <td>...</td>\n",
       "      <td>...</td>\n",
       "      <td>...</td>\n",
       "      <td>...</td>\n",
       "      <td>...</td>\n",
       "      <td>...</td>\n",
       "      <td>...</td>\n",
       "      <td>...</td>\n",
       "      <td>...</td>\n",
       "      <td>...</td>\n",
       "      <td>...</td>\n",
       "      <td>...</td>\n",
       "      <td>...</td>\n",
       "    </tr>\n",
       "    <tr>\n",
       "      <td>1475</td>\n",
       "      <td>-41265.855000</td>\n",
       "      <td>171303.75000</td>\n",
       "      <td>-1610.452600</td>\n",
       "      <td>-0.003552</td>\n",
       "      <td>0.003850</td>\n",
       "      <td>0.999986</td>\n",
       "      <td>193054.703105</td>\n",
       "      <td>1.950300</td>\n",
       "      <td>7.451450e+02</td>\n",
       "      <td>-1610.797266</td>\n",
       "      <td>-0.344666</td>\n",
       "      <td>797.349232</td>\n",
       "      <td>1.198340</td>\n",
       "      <td>-0.074060</td>\n",
       "      <td>0.080275</td>\n",
       "    </tr>\n",
       "    <tr>\n",
       "      <td>1476</td>\n",
       "      <td>-41172.715000</td>\n",
       "      <td>171340.14000</td>\n",
       "      <td>-1610.275100</td>\n",
       "      <td>-0.003552</td>\n",
       "      <td>0.006408</td>\n",
       "      <td>0.999973</td>\n",
       "      <td>193154.699721</td>\n",
       "      <td>1.882000</td>\n",
       "      <td>7.451490e+02</td>\n",
       "      <td>-1610.490673</td>\n",
       "      <td>-0.215573</td>\n",
       "      <td>797.352860</td>\n",
       "      <td>1.198347</td>\n",
       "      <td>-0.074059</td>\n",
       "      <td>0.133605</td>\n",
       "    </tr>\n",
       "    <tr>\n",
       "      <td>1477</td>\n",
       "      <td>-40613.848000</td>\n",
       "      <td>171558.47000</td>\n",
       "      <td>-1609.538000</td>\n",
       "      <td>-0.005636</td>\n",
       "      <td>0.008017</td>\n",
       "      <td>0.999952</td>\n",
       "      <td>193754.700434</td>\n",
       "      <td>1.691000</td>\n",
       "      <td>6.520000e+02</td>\n",
       "      <td>-1608.654849</td>\n",
       "      <td>0.883151</td>\n",
       "      <td>697.351503</td>\n",
       "      <td>1.198354</td>\n",
       "      <td>-0.117507</td>\n",
       "      <td>0.167167</td>\n",
       "    </tr>\n",
       "    <tr>\n",
       "      <td>1478</td>\n",
       "      <td>-40241.273000</td>\n",
       "      <td>171704.03000</td>\n",
       "      <td>-1609.651700</td>\n",
       "      <td>-0.004126</td>\n",
       "      <td>0.010371</td>\n",
       "      <td>0.999938</td>\n",
       "      <td>194154.700256</td>\n",
       "      <td>2.023200</td>\n",
       "      <td>4.657130e+02</td>\n",
       "      <td>-1608.171768</td>\n",
       "      <td>1.479932</td>\n",
       "      <td>497.348530</td>\n",
       "      <td>1.198345</td>\n",
       "      <td>-0.086031</td>\n",
       "      <td>0.216251</td>\n",
       "    </tr>\n",
       "    <tr>\n",
       "      <td>1479</td>\n",
       "      <td>-39675.550000</td>\n",
       "      <td>171925.05000</td>\n",
       "      <td>-1608.517100</td>\n",
       "      <td>-0.005016</td>\n",
       "      <td>0.004182</td>\n",
       "      <td>0.999979</td>\n",
       "      <td>194762.066406</td>\n",
       "      <td>1.005700</td>\n",
       "      <td>0.000000e+00</td>\n",
       "      <td>-1607.511400</td>\n",
       "      <td>1.005700</td>\n",
       "      <td>-2.643227</td>\n",
       "      <td>0.000000</td>\n",
       "      <td>-0.287400</td>\n",
       "      <td>0.239617</td>\n",
       "    </tr>\n",
       "  </tbody>\n",
       "</table>\n",
       "<p>1480 rows × 15 columns</p>\n",
       "</div>"
      ],
      "text/plain": [
       "                 x             y            z        nx        ny        nz  \\\n",
       "0         0.000000       0.12000    37.449802 -0.083793  0.030611  0.996013   \n",
       "1         2.830831     100.07905    34.615814 -0.083793  0.030611  0.996013   \n",
       "2         5.661662     200.03812    31.785800 -0.071366  0.018117  0.997286   \n",
       "3         8.492495     299.99722    30.172520 -0.071366  0.018117  0.997286   \n",
       "4        14.154160     499.91547    27.373564 -0.027937  0.048984  0.998409   \n",
       "...            ...           ...          ...       ...       ...       ...   \n",
       "1475 -41265.855000  171303.75000 -1610.452600 -0.003552  0.003850  0.999986   \n",
       "1476 -41172.715000  171340.14000 -1610.275100 -0.003552  0.006408  0.999973   \n",
       "1477 -40613.848000  171558.47000 -1609.538000 -0.005636  0.008017  0.999952   \n",
       "1478 -40241.273000  171704.03000 -1609.651700 -0.004126  0.010371  0.999938   \n",
       "1479 -39675.550000  171925.05000 -1608.517100 -0.005016  0.004182  0.999979   \n",
       "\n",
       "                 kp        dz            dx        z2000  dz_inter  \\\n",
       "0          0.000000  1.340630  0.000000e+00    38.790432  1.340630   \n",
       "1        100.039276  4.407516 -6.000000e-07    39.023423  4.407609   \n",
       "2        200.078460  7.470426 -2.300000e-06    39.256412  7.470612   \n",
       "3        300.090649  9.316604 -5.000000e-06    39.486876  9.314356   \n",
       "4        500.108636  9.685522 -2.830842e+00    33.195642  5.822078   \n",
       "...             ...       ...           ...          ...       ...   \n",
       "1475  193054.703105  1.950300  7.451450e+02 -1610.797266 -0.344666   \n",
       "1476  193154.699721  1.882000  7.451490e+02 -1610.490673 -0.215573   \n",
       "1477  193754.700434  1.691000  6.520000e+02 -1608.654849  0.883151   \n",
       "1478  194154.700256  2.023200  4.657130e+02 -1608.171768  1.479932   \n",
       "1479  194762.066406  1.005700  0.000000e+00 -1607.511400  1.005700   \n",
       "\n",
       "             dKp   azimuth     ax_an    lat_an  \n",
       "0       0.000000  0.000000 -4.808856  1.760374  \n",
       "1      -0.039904  0.028312 -4.806938  1.759669  \n",
       "2      -0.079705  0.028312 -4.091474  1.040304  \n",
       "3      -0.092536  0.028312 -4.091474  1.040304  \n",
       "4    -100.081946  0.028312 -1.602190  2.807669  \n",
       "...          ...       ...       ...       ...  \n",
       "1475  797.349232  1.198340 -0.074060  0.080275  \n",
       "1476  797.352860  1.198347 -0.074059  0.133605  \n",
       "1477  697.351503  1.198354 -0.117507  0.167167  \n",
       "1478  497.348530  1.198345 -0.086031  0.216251  \n",
       "1479   -2.643227  0.000000 -0.287400  0.239617  \n",
       "\n",
       "[1480 rows x 15 columns]"
      ]
     },
     "execution_count": 24,
     "metadata": {},
     "output_type": "execute_result"
    }
   ],
   "source": [
    "df2"
   ]
  },
  {
   "cell_type": "code",
   "execution_count": 25,
   "metadata": {},
   "outputs": [
    {
     "data": {
      "text/html": [
       "<div>\n",
       "<style scoped>\n",
       "    .dataframe tbody tr th:only-of-type {\n",
       "        vertical-align: middle;\n",
       "    }\n",
       "\n",
       "    .dataframe tbody tr th {\n",
       "        vertical-align: top;\n",
       "    }\n",
       "\n",
       "    .dataframe thead th {\n",
       "        text-align: right;\n",
       "    }\n",
       "</style>\n",
       "<table border=\"1\" class=\"dataframe\">\n",
       "  <thead>\n",
       "    <tr style=\"text-align: right;\">\n",
       "      <th></th>\n",
       "      <th>x</th>\n",
       "      <th>y</th>\n",
       "      <th>z</th>\n",
       "      <th>nx</th>\n",
       "      <th>ny</th>\n",
       "      <th>nz</th>\n",
       "      <th>kp</th>\n",
       "      <th>dz</th>\n",
       "      <th>dx</th>\n",
       "      <th>z2000</th>\n",
       "      <th>dz_inter</th>\n",
       "      <th>dKp</th>\n",
       "      <th>azimuth</th>\n",
       "      <th>ax_an</th>\n",
       "      <th>lat_an</th>\n",
       "    </tr>\n",
       "  </thead>\n",
       "  <tbody>\n",
       "    <tr>\n",
       "      <td>21</td>\n",
       "      <td>65.10928</td>\n",
       "      <td>2299.1843</td>\n",
       "      <td>-28.148174</td>\n",
       "      <td>0.036991</td>\n",
       "      <td>0.063162</td>\n",
       "      <td>0.997318</td>\n",
       "      <td>2301.416668</td>\n",
       "      <td>8.886284</td>\n",
       "      <td>-2.830857</td>\n",
       "      <td>-20.226692</td>\n",
       "      <td>7.921482</td>\n",
       "      <td>-100.386838</td>\n",
       "      <td>0.028312</td>\n",
       "      <td>2.123277</td>\n",
       "      <td>3.622368</td>\n",
       "    </tr>\n",
       "  </tbody>\n",
       "</table>\n",
       "</div>"
      ],
      "text/plain": [
       "           x          y          z        nx        ny        nz           kp  \\\n",
       "21  65.10928  2299.1843 -28.148174  0.036991  0.063162  0.997318  2301.416668   \n",
       "\n",
       "          dz        dx      z2000  dz_inter         dKp   azimuth     ax_an  \\\n",
       "21  8.886284 -2.830857 -20.226692  7.921482 -100.386838  0.028312  2.123277   \n",
       "\n",
       "      lat_an  \n",
       "21  3.622368  "
      ]
     },
     "execution_count": 25,
     "metadata": {},
     "output_type": "execute_result"
    }
   ],
   "source": [
    "p_lat_max = df2[df2[\"lat_an\"]==df2[\"lat_an\"].max()]\n",
    "p_lat_max"
   ]
  },
  {
   "cell_type": "code",
   "execution_count": 26,
   "metadata": {},
   "outputs": [
    {
     "data": {
      "text/plain": [
       "[<matplotlib.lines.Line2D at 0x7fa6d0467a10>]"
      ]
     },
     "execution_count": 26,
     "metadata": {},
     "output_type": "execute_result"
    },
    {
     "data": {
      "image/png": "[encoded data removed]",
      "text/plain": [
       "<Figure size 1440x480 with 1 Axes>"
      ]
     },
     "metadata": {},
     "output_type": "display_data"
    }
   ],
   "source": [
    "figure(num=None, figsize=(18, 6), dpi=80, facecolor='w', edgecolor='k')\n",
    "plt.plot(df2[\"kp\"],df2[\"ax_an\"])\n",
    "plt.plot(df2[\"kp\"],df2[\"lat_an\"])"
   ]
  },
  {
   "cell_type": "code",
   "execution_count": 27,
   "metadata": {},
   "outputs": [
    {
     "data": {
      "text/plain": [
       "[<matplotlib.lines.Line2D at 0x7fa6f0b0ef10>]"
      ]
     },
     "execution_count": 27,
     "metadata": {},
     "output_type": "execute_result"
    },
    {
     "data": {
      "image/png": "[encoded data removed]",
      "text/plain": [
       "<Figure size 1440x480 with 1 Axes>"
      ]
     },
     "metadata": {},
     "output_type": "display_data"
    }
   ],
   "source": [
    "figure(num=None, figsize=(18, 6), dpi=80, facecolor='w', edgecolor='k')\n",
    "plt.plot(df2[\"kp\"],180/math.pi*(df2[\"azimuth\"]))"
   ]
  },
  {
   "cell_type": "markdown",
   "metadata": {},
   "source": [
    "# load seabeds and analyse "
   ]
  },
  {
   "cell_type": "code",
   "execution_count": 28,
   "metadata": {},
   "outputs": [],
   "source": [
    "sb500 = pd.read_csv(\"GEBCO_2019_-5.0_63.0_-1.0_60.0_UTM-500m.csv_origin_595815.05_6705300.32.csv\",header = None)\n",
    "sb2000 = pd.read_csv(\"GEBCO_2019_-5.0_63.0_-1.0_60.0_UTM-2000m.csv_origin_595815.05_6705300.32.csv\",header = None)\n",
    "sb500.columns = [\"x\",\"y\",\"z\"]\n",
    "sb2000.columns = [\"x\",\"y\",\"z\"]"
   ]
  },
  {
   "cell_type": "code",
   "execution_count": 29,
   "metadata": {},
   "outputs": [
    {
     "data": {
      "text/html": [
       "<div>\n",
       "<style scoped>\n",
       "    .dataframe tbody tr th:only-of-type {\n",
       "        vertical-align: middle;\n",
       "    }\n",
       "\n",
       "    .dataframe tbody tr th {\n",
       "        vertical-align: top;\n",
       "    }\n",
       "\n",
       "    .dataframe thead th {\n",
       "        text-align: right;\n",
       "    }\n",
       "</style>\n",
       "<table border=\"1\" class=\"dataframe\">\n",
       "  <thead>\n",
       "    <tr style=\"text-align: right;\">\n",
       "      <th></th>\n",
       "      <th>x</th>\n",
       "      <th>y</th>\n",
       "      <th>z</th>\n",
       "    </tr>\n",
       "  </thead>\n",
       "  <tbody>\n",
       "    <tr>\n",
       "      <td>0</td>\n",
       "      <td>-196859.09</td>\n",
       "      <td>282334.97</td>\n",
       "      <td>-2172.416504</td>\n",
       "    </tr>\n",
       "    <tr>\n",
       "      <td>1</td>\n",
       "      <td>-196359.09</td>\n",
       "      <td>282334.97</td>\n",
       "      <td>-2179.303223</td>\n",
       "    </tr>\n",
       "    <tr>\n",
       "      <td>2</td>\n",
       "      <td>-195859.09</td>\n",
       "      <td>282334.97</td>\n",
       "      <td>-2181.634277</td>\n",
       "    </tr>\n",
       "    <tr>\n",
       "      <td>3</td>\n",
       "      <td>-195359.09</td>\n",
       "      <td>282334.97</td>\n",
       "      <td>-2185.758057</td>\n",
       "    </tr>\n",
       "    <tr>\n",
       "      <td>4</td>\n",
       "      <td>-194859.09</td>\n",
       "      <td>282334.97</td>\n",
       "      <td>-2194.575195</td>\n",
       "    </tr>\n",
       "    <tr>\n",
       "      <td>...</td>\n",
       "      <td>...</td>\n",
       "      <td>...</td>\n",
       "      <td>...</td>\n",
       "    </tr>\n",
       "    <tr>\n",
       "      <td>285436</td>\n",
       "      <td>-58859.09</td>\n",
       "      <td>-53665.03</td>\n",
       "      <td>-103.390999</td>\n",
       "    </tr>\n",
       "    <tr>\n",
       "      <td>285437</td>\n",
       "      <td>-58359.09</td>\n",
       "      <td>-53665.03</td>\n",
       "      <td>-101.992996</td>\n",
       "    </tr>\n",
       "    <tr>\n",
       "      <td>285438</td>\n",
       "      <td>-57859.09</td>\n",
       "      <td>-53665.03</td>\n",
       "      <td>-101.102997</td>\n",
       "    </tr>\n",
       "    <tr>\n",
       "      <td>285439</td>\n",
       "      <td>-57359.09</td>\n",
       "      <td>-53665.03</td>\n",
       "      <td>-98.827003</td>\n",
       "    </tr>\n",
       "    <tr>\n",
       "      <td>285440</td>\n",
       "      <td>-56859.09</td>\n",
       "      <td>-53665.03</td>\n",
       "      <td>-98.156998</td>\n",
       "    </tr>\n",
       "  </tbody>\n",
       "</table>\n",
       "<p>285441 rows × 3 columns</p>\n",
       "</div>"
      ],
      "text/plain": [
       "                x          y            z\n",
       "0      -196859.09  282334.97 -2172.416504\n",
       "1      -196359.09  282334.97 -2179.303223\n",
       "2      -195859.09  282334.97 -2181.634277\n",
       "3      -195359.09  282334.97 -2185.758057\n",
       "4      -194859.09  282334.97 -2194.575195\n",
       "...           ...        ...          ...\n",
       "285436  -58859.09  -53665.03  -103.390999\n",
       "285437  -58359.09  -53665.03  -101.992996\n",
       "285438  -57859.09  -53665.03  -101.102997\n",
       "285439  -57359.09  -53665.03   -98.827003\n",
       "285440  -56859.09  -53665.03   -98.156998\n",
       "\n",
       "[285441 rows x 3 columns]"
      ]
     },
     "execution_count": 29,
     "metadata": {},
     "output_type": "execute_result"
    }
   ],
   "source": [
    "sb500"
   ]
  },
  {
   "cell_type": "code",
   "execution_count": 30,
   "metadata": {},
   "outputs": [],
   "source": [
    "def closest_node(node, nodes):\n",
    "#     nodes = np.asarray(nodes)\n",
    "    deltas = nodes - node\n",
    "    dist_2 = np.einsum('ij,ij->i', deltas, deltas)\n",
    "    return np.argmin(dist_2)"
   ]
  },
  {
   "cell_type": "code",
   "execution_count": 31,
   "metadata": {},
   "outputs": [
    {
     "data": {
      "text/plain": [
       "array([[  65.10928, 2299.1843 ]])"
      ]
     },
     "execution_count": 31,
     "metadata": {},
     "output_type": "execute_result"
    }
   ],
   "source": [
    "np.asarray(p_lat_max.iloc[:,:2])"
   ]
  },
  {
   "cell_type": "code",
   "execution_count": 32,
   "metadata": {},
   "outputs": [
    {
     "data": {
      "text/plain": [
       "array([[-195359.09,  282334.97],\n",
       "       [-193359.09,  282334.97],\n",
       "       [-191359.09,  282334.97],\n",
       "       ...,\n",
       "       [ -61359.09,  -53665.03],\n",
       "       [ -59359.09,  -53665.03],\n",
       "       [ -57359.09,  -53665.03]])"
      ]
     },
     "execution_count": 32,
     "metadata": {},
     "output_type": "execute_result"
    }
   ],
   "source": [
    "np.asarray(sb2000.iloc[:,:2])"
   ]
  },
  {
   "cell_type": "code",
   "execution_count": 33,
   "metadata": {},
   "outputs": [
    {
     "data": {
      "text/plain": [
       "14809"
      ]
     },
     "execution_count": 33,
     "metadata": {},
     "output_type": "execute_result"
    }
   ],
   "source": [
    "closest_node(np.asarray(p_lat_max.iloc[:,:2]), np.asarray(sb2000.iloc[:,:2]))"
   ]
  },
  {
   "cell_type": "code",
   "execution_count": 31,
   "metadata": {},
   "outputs": [
    {
     "data": {
      "text/html": [
       "<div>\n",
       "<style scoped>\n",
       "    .dataframe tbody tr th:only-of-type {\n",
       "        vertical-align: middle;\n",
       "    }\n",
       "\n",
       "    .dataframe tbody tr th {\n",
       "        vertical-align: top;\n",
       "    }\n",
       "\n",
       "    .dataframe thead th {\n",
       "        text-align: right;\n",
       "    }\n",
       "</style>\n",
       "<table border=\"1\" class=\"dataframe\">\n",
       "  <thead>\n",
       "    <tr style=\"text-align: right;\">\n",
       "      <th></th>\n",
       "      <th>x</th>\n",
       "      <th>y</th>\n",
       "      <th>z</th>\n",
       "    </tr>\n",
       "  </thead>\n",
       "  <tbody>\n",
       "    <tr>\n",
       "      <td>14809</td>\n",
       "      <td>640.91</td>\n",
       "      <td>2334.97</td>\n",
       "      <td>-28.459999</td>\n",
       "    </tr>\n",
       "  </tbody>\n",
       "</table>\n",
       "</div>"
      ],
      "text/plain": [
       "            x        y          z\n",
       "14809  640.91  2334.97 -28.459999"
      ]
     },
     "execution_count": 31,
     "metadata": {},
     "output_type": "execute_result"
    }
   ],
   "source": [
    "sb2000.iloc[[closest_node(np.asarray(p_lat_max.iloc[:,:2]), np.asarray(sb2000.iloc[:,:2]))]]"
   ]
  },
  {
   "cell_type": "code",
   "execution_count": 32,
   "metadata": {},
   "outputs": [
    {
     "data": {
      "text/html": [
       "<div>\n",
       "<style scoped>\n",
       "    .dataframe tbody tr th:only-of-type {\n",
       "        vertical-align: middle;\n",
       "    }\n",
       "\n",
       "    .dataframe tbody tr th {\n",
       "        vertical-align: top;\n",
       "    }\n",
       "\n",
       "    .dataframe thead th {\n",
       "        text-align: right;\n",
       "    }\n",
       "</style>\n",
       "<table border=\"1\" class=\"dataframe\">\n",
       "  <thead>\n",
       "    <tr style=\"text-align: right;\">\n",
       "      <th></th>\n",
       "      <th>x</th>\n",
       "      <th>y</th>\n",
       "      <th>z</th>\n",
       "    </tr>\n",
       "  </thead>\n",
       "  <tbody>\n",
       "    <tr>\n",
       "      <td>14</td>\n",
       "      <td>-183359.09</td>\n",
       "      <td>280334.97</td>\n",
       "      <td>-2115.733887</td>\n",
       "    </tr>\n",
       "  </tbody>\n",
       "</table>\n",
       "</div>"
      ],
      "text/plain": [
       "            x          y            z\n",
       "14 -183359.09  280334.97 -2115.733887"
      ]
     },
     "execution_count": 32,
     "metadata": {},
     "output_type": "execute_result"
    }
   ],
   "source": [
    "sb2000.iloc[[14]]"
   ]
  },
  {
   "cell_type": "code",
   "execution_count": 33,
   "metadata": {},
   "outputs": [
    {
     "data": {
      "text/html": [
       "<div>\n",
       "<style scoped>\n",
       "    .dataframe tbody tr th:only-of-type {\n",
       "        vertical-align: middle;\n",
       "    }\n",
       "\n",
       "    .dataframe tbody tr th {\n",
       "        vertical-align: top;\n",
       "    }\n",
       "\n",
       "    .dataframe thead th {\n",
       "        text-align: right;\n",
       "    }\n",
       "</style>\n",
       "<table border=\"1\" class=\"dataframe\">\n",
       "  <thead>\n",
       "    <tr style=\"text-align: right;\">\n",
       "      <th></th>\n",
       "      <th>x</th>\n",
       "      <th>y</th>\n",
       "      <th>z</th>\n",
       "    </tr>\n",
       "  </thead>\n",
       "  <tbody>\n",
       "    <tr>\n",
       "      <td>236298</td>\n",
       "      <td>140.91</td>\n",
       "      <td>2334.97</td>\n",
       "      <td>-33.226002</td>\n",
       "    </tr>\n",
       "  </tbody>\n",
       "</table>\n",
       "</div>"
      ],
      "text/plain": [
       "             x        y          z\n",
       "236298  140.91  2334.97 -33.226002"
      ]
     },
     "execution_count": 33,
     "metadata": {},
     "output_type": "execute_result"
    }
   ],
   "source": [
    "sb500.iloc[[closest_node(np.asarray(p_lat_max.iloc[:,:2]), np.asarray(sb500.iloc[:,:2]))]]"
   ]
  },
  {
   "cell_type": "code",
   "execution_count": 34,
   "metadata": {},
   "outputs": [],
   "source": [
    "x= float(p_lat_max.x)\n",
    "y= float(p_lat_max.y)\n",
    "\n",
    "def closest_node3(df,x,y,mesh_size):\n",
    "    nearest_points=[]\n",
    "    new_origin = [x, y]\n",
    "    suggested_new_origin = [new_origin]\n",
    "#     print('Turning X/Y data into a 2d tree.')\n",
    "    import sklearn.neighbors\n",
    "    # Searching only within +/- vicinity of the new origin.\n",
    "    VICINITY = 2000\n",
    "    vicinity = VICINITY\n",
    "    narrow_x = (df['x'] > int(x) - vicinity) & \\\n",
    "                      (df['x'] < int(x) + vicinity)\n",
    "    narrow_y = (df['y'] > int(y) - vicinity) & \\\n",
    "                       (df['y'] < int(y) + vicinity)\n",
    "    _df = df.loc[narrow_x & narrow_y, ['x', 'y']]\n",
    "    if _df.empty:\n",
    "        raise ValueError('{:s} outside of the mesh boundaries.'.format(pretext))\n",
    "    tree = sklearn.neighbors.KDTree(_df.values)\n",
    "    d, i = tree.query(suggested_new_origin)\n",
    "    new_origin = tree.get_arrays()[0][i[0][0]]\n",
    "    distance = d[0][0]\n",
    "#     print(f'Closest distance to the mesh: %.2f. Closest point is {new_origin}.' % distance)\n",
    "    if x>new_origin[0]:\n",
    "        nearest_points.append(df[(df[\"x\"]==round(new_origin[0]+mesh_size,3)) & (df[\"y\"]==new_origin[1])].values.tolist()[0])\n",
    "    if y>new_origin[1]:\n",
    "        nearest_points.append(df[(df[\"y\"]==round(new_origin[1]+mesh_size,3)) & (df[\"x\"]==new_origin[0])].values.tolist()[0])\n",
    "    else:\n",
    "        nearest_points.append(df[(df[\"x\"]==round(new_origin[0]-mesh_size,3)) & (df[\"y\"]==new_origin[1])].values.tolist()[0])\n",
    "        nearest_points.append(df[(df[\"y\"]==round(new_origin[1]-mesh_size,3)) & (df[\"x\"]==new_origin[0])].values.tolist()[0])\n",
    "    nearest_points.append(df[(df[\"x\"]==new_origin[0]) & (df[\"y\"]==new_origin[1])].values.tolist()[0])\n",
    "#     print(\"Nearest points are:\",nearest_points)\n",
    "    return nearest_points"
   ]
  },
  {
   "cell_type": "code",
   "execution_count": 35,
   "metadata": {},
   "outputs": [
    {
     "data": {
      "text/plain": [
       "[[-1359.09, 2334.97, -1.01400005817413],\n",
       " [640.91, 334.97, 49.7470016479492],\n",
       " [640.91, 2334.97, -28.4599990844727]]"
      ]
     },
     "execution_count": 35,
     "metadata": {},
     "output_type": "execute_result"
    }
   ],
   "source": [
    "np2000=closest_node3(sb2000,x,y,2000)\n",
    "np2000"
   ]
  },
  {
   "cell_type": "code",
   "execution_count": 36,
   "metadata": {},
   "outputs": [
    {
     "name": "stdout",
     "output_type": "stream",
     "text": [
      "Closest distance to the mesh: 83.82. Closest point is [ 140.91 2334.97].\n",
      "Nearest points are: [[-359.09, 2334.97, -14.680999755859402], [140.91, 1834.97, -1.5599999427795401], [140.91, 2334.97, -33.226001739502]]\n"
     ]
    },
    {
     "data": {
      "text/plain": [
       "[[-359.09, 2334.97, -14.680999755859402],\n",
       " [140.91, 1834.97, -1.5599999427795401],\n",
       " [140.91, 2334.97, -33.226001739502]]"
      ]
     },
     "execution_count": 36,
     "metadata": {},
     "output_type": "execute_result"
    }
   ],
   "source": [
    "np500=closest_node3(sb500,x,y,500)\n",
    "np500"
   ]
  },
  {
   "cell_type": "code",
   "execution_count": 37,
   "metadata": {},
   "outputs": [
    {
     "data": {
      "text/plain": [
       "(65.10928, 2299.1843)"
      ]
     },
     "execution_count": 37,
     "metadata": {},
     "output_type": "execute_result"
    }
   ],
   "source": [
    "x,y"
   ]
  },
  {
   "cell_type": "code",
   "execution_count": 38,
   "metadata": {},
   "outputs": [],
   "source": [
    "def equation_plane(x1, y1, z1, x2, y2, z2, x3, y3, z3):    \n",
    "    a1 = x2 - x1 \n",
    "    b1 = y2 - y1 \n",
    "    c1 = z2 - z1 \n",
    "    a2 = x3 - x1 \n",
    "    b2 = y3 - y1 \n",
    "    c2 = z3 - z1 \n",
    "    a = b1 * c2 - b2 * c1 \n",
    "    b = a2 * c1 - a1 * c2 \n",
    "    c = a1 * b2 - b1 * a2 \n",
    "    d = (- a * x1 - b * y1 - c * z1) \n",
    "#     print (\"equation of plane is \") \n",
    "#     print (f\"{a} x + {b} y + {c} z + {d} = 0.\")\n",
    "    return f\"(-{a}*x - {b}*y - {d})/{c}\""
   ]
  },
  {
   "cell_type": "code",
   "execution_count": 39,
   "metadata": {},
   "outputs": [],
   "source": [
    "fp = equation_plane(np2000[0][0],np2000[0][1],np2000[0][2],np2000[1][0],np2000[1][1],np2000[1][2],np2000[2][0],np2000[2][1],np2000[2][2])"
   ]
  },
  {
   "cell_type": "code",
   "execution_count": 40,
   "metadata": {},
   "outputs": [
    {
     "data": {
      "text/plain": [
       "-19.15893995118657"
      ]
     },
     "execution_count": 40,
     "metadata": {},
     "output_type": "execute_result"
    }
   ],
   "source": [
    "# za xy z na ravnini je\n",
    "eval(fp)"
   ]
  },
  {
   "cell_type": "code",
   "execution_count": 41,
   "metadata": {},
   "outputs": [],
   "source": [
    "fp = equation_plane(np500[0][0],np500[0][1],np500[0][2],np500[1][0],np500[1][1],np500[1][2],np500[2][0],np500[2][1],np500[2][2])"
   ]
  },
  {
   "cell_type": "code",
   "execution_count": 42,
   "metadata": {},
   "outputs": [
    {
     "data": {
      "text/plain": [
       "-28.148172652984975"
      ]
     },
     "execution_count": 42,
     "metadata": {},
     "output_type": "execute_result"
    }
   ],
   "source": [
    "eval(fp)"
   ]
  },
  {
   "cell_type": "code",
   "execution_count": 61,
   "metadata": {},
   "outputs": [],
   "source": [
    "def lineAdjustment(sb,linepoints,sb_mesh_size):\n",
    "    z=[]\n",
    "    for point in linepoints:\n",
    "        x=point[0]\n",
    "        y=point[1]\n",
    "#         print(x,y)\n",
    "        npt = closest_node3(sb,x,y,sb_mesh_size)\n",
    "        if len(npt)<3:\n",
    "            z.append(0)\n",
    "            continue\n",
    "        fp = equation_plane(npt[0][0],npt[0][1],npt[0][2],npt[1][0],npt[1][1],npt[1][2],npt[2][0],npt[2][1],npt[2][2])\n",
    "        z.append(eval(fp))\n",
    "    return z"
   ]
  },
  {
   "cell_type": "code",
   "execution_count": 62,
   "metadata": {},
   "outputs": [],
   "source": [
    "_l = zip(df2.x.values, df2.y.values)\n",
    "linepoints = list(_l)\n",
    "z= lineAdjustment(sb500, linepoints, 500)"
   ]
  },
  {
   "cell_type": "code",
   "execution_count": 63,
   "metadata": {},
   "outputs": [
    {
     "data": {
      "text/plain": [
       "0       37.449802\n",
       "1       -1.735380\n",
       "2       -1.695826\n",
       "3       -0.439537\n",
       "4       27.373564\n",
       "          ...    \n",
       "1475     0.017184\n",
       "1476     0.000078\n",
       "1477    -0.000146\n",
       "1478    -0.287042\n",
       "1479     0.039084\n",
       "Length: 1480, dtype: float64"
      ]
     },
     "execution_count": 63,
     "metadata": {},
     "output_type": "execute_result"
    }
   ],
   "source": [
    "df2[\"z_cal\"] = z\n",
    "df2.z-df2.z_cal"
   ]
  },
  {
   "cell_type": "code",
   "execution_count": 71,
   "metadata": {},
   "outputs": [
    {
     "data": {
      "text/plain": [
       "[<matplotlib.lines.Line2D at 0x7f9c534df2d0>]"
      ]
     },
     "execution_count": 71,
     "metadata": {},
     "output_type": "execute_result"
    },
    {
     "data": {
      "image/png": "[encoded data removed]",
      "text/plain": [
       "<Figure size 432x288 with 1 Axes>"
      ]
     },
     "metadata": {
      "needs_background": "light"
     },
     "output_type": "display_data"
    }
   ],
   "source": [
    "# usporedba z nadjen preko najblize tocke i ravnine kroz 3 tocke i rezulata od Daga.  \n",
    "df= df2[df2.z_cal!=0]\n",
    "plt.plot(df.kp, (df.z-df.z_cal))"
   ]
  },
  {
   "cell_type": "markdown",
   "metadata": {},
   "source": [
    "# compare seabeds"
   ]
  },
  {
   "cell_type": "code",
   "execution_count": 77,
   "metadata": {},
   "outputs": [
    {
     "data": {
      "text/plain": [
       "-191359.09"
      ]
     },
     "execution_count": 77,
     "metadata": {},
     "output_type": "execute_result"
    }
   ],
   "source": [
    "sb2000.iloc[2].x"
   ]
  },
  {
   "cell_type": "code",
   "execution_count": 36,
   "metadata": {},
   "outputs": [
    {
     "ename": "SyntaxError",
     "evalue": "unexpected EOF while parsing (<ipython-input-36-48bd805465e3>, line 3)",
     "output_type": "error",
     "traceback": [
      "\u001b[0;36m  File \u001b[0;32m\"<ipython-input-36-48bd805465e3>\"\u001b[0;36m, line \u001b[0;32m3\u001b[0m\n\u001b[0;31m    #     print(p.z, sb500[(sb500.x==p.x)&((sb500.y==p.y))].z)\u001b[0m\n\u001b[0m                                                              ^\u001b[0m\n\u001b[0;31mSyntaxError\u001b[0m\u001b[0;31m:\u001b[0m unexpected EOF while parsing\n"
     ]
    }
   ],
   "source": [
    "for index,p in sb2000.iterrows():\n",
    "#     sb500[(sb500.x==sb2000.p.x)&((sb500.y==p.y))]\n",
    "#     print(p.z, sb500[(sb500.x==p.x)&((sb500.y==p.y))].z)"
   ]
  },
  {
   "cell_type": "code",
   "execution_count": 81,
   "metadata": {},
   "outputs": [
    {
     "ename": "ValueError",
     "evalue": "Can only compare identically-labeled Series objects",
     "output_type": "error",
     "traceback": [
      "\u001b[0;31m---------------------------------------------------------------------------\u001b[0m",
      "\u001b[0;31mValueError\u001b[0m                                Traceback (most recent call last)",
      "\u001b[0;32m<ipython-input-81-3c108d55ea5a>\u001b[0m in \u001b[0;36m<module>\u001b[0;34m\u001b[0m\n\u001b[0;32m----> 1\u001b[0;31m \u001b[0msb500\u001b[0m\u001b[0;34m[\u001b[0m\u001b[0;34m(\u001b[0m\u001b[0msb500\u001b[0m\u001b[0;34m.\u001b[0m\u001b[0mx\u001b[0m\u001b[0;34m==\u001b[0m\u001b[0msb2000\u001b[0m\u001b[0;34m.\u001b[0m\u001b[0mx\u001b[0m\u001b[0;34m)\u001b[0m\u001b[0;34m&\u001b[0m\u001b[0;34m(\u001b[0m\u001b[0;34m(\u001b[0m\u001b[0msb500\u001b[0m\u001b[0;34m.\u001b[0m\u001b[0my\u001b[0m\u001b[0;34m==\u001b[0m\u001b[0msb2000\u001b[0m\u001b[0;34m.\u001b[0m\u001b[0my\u001b[0m\u001b[0;34m)\u001b[0m\u001b[0;34m)\u001b[0m\u001b[0;34m]\u001b[0m\u001b[0;34m\u001b[0m\u001b[0;34m\u001b[0m\u001b[0m\n\u001b[0m",
      "\u001b[0;32m/opt/anaconda3/lib/python3.7/site-packages/pandas/core/ops/__init__.py\u001b[0m in \u001b[0;36mwrapper\u001b[0;34m(self, other, axis)\u001b[0m\n\u001b[1;32m   1140\u001b[0m \u001b[0;34m\u001b[0m\u001b[0m\n\u001b[1;32m   1141\u001b[0m         \u001b[0;32melif\u001b[0m \u001b[0misinstance\u001b[0m\u001b[0;34m(\u001b[0m\u001b[0mother\u001b[0m\u001b[0;34m,\u001b[0m \u001b[0mABCSeries\u001b[0m\u001b[0;34m)\u001b[0m \u001b[0;32mand\u001b[0m \u001b[0;32mnot\u001b[0m \u001b[0mself\u001b[0m\u001b[0;34m.\u001b[0m\u001b[0m_indexed_same\u001b[0m\u001b[0;34m(\u001b[0m\u001b[0mother\u001b[0m\u001b[0;34m)\u001b[0m\u001b[0;34m:\u001b[0m\u001b[0;34m\u001b[0m\u001b[0;34m\u001b[0m\u001b[0m\n\u001b[0;32m-> 1142\u001b[0;31m             \u001b[0;32mraise\u001b[0m \u001b[0mValueError\u001b[0m\u001b[0;34m(\u001b[0m\u001b[0;34m\"Can only compare identically-labeled \"\u001b[0m \u001b[0;34m\"Series objects\"\u001b[0m\u001b[0;34m)\u001b[0m\u001b[0;34m\u001b[0m\u001b[0;34m\u001b[0m\u001b[0m\n\u001b[0m\u001b[1;32m   1143\u001b[0m \u001b[0;34m\u001b[0m\u001b[0m\n\u001b[1;32m   1144\u001b[0m         \u001b[0;32melif\u001b[0m \u001b[0mis_categorical_dtype\u001b[0m\u001b[0;34m(\u001b[0m\u001b[0mself\u001b[0m\u001b[0;34m)\u001b[0m\u001b[0;34m:\u001b[0m\u001b[0;34m\u001b[0m\u001b[0;34m\u001b[0m\u001b[0m\n",
      "\u001b[0;31mValueError\u001b[0m: Can only compare identically-labeled Series objects"
     ]
    }
   ],
   "source": [
    "sb500[(sb500.x==sb2000.x)&((sb500.y==sb2000.y))]"
   ]
  },
  {
   "cell_type": "code",
   "execution_count": 8,
   "metadata": {},
   "outputs": [],
   "source": [
    "\"\"\" invdisttree.py: inverse-distance-weighted interpolation using KDTree\n",
    "    fast, solid, local\n",
    "\"\"\"\n",
    "from __future__ import division\n",
    "import numpy as np\n",
    "from scipy.spatial import cKDTree as KDTree\n",
    "    # http://docs.scipy.org/doc/scipy/reference/spatial.html\n",
    "\n",
    "__date__ = \"2010-11-09 Nov\"  # weights, doc\n",
    "\n",
    "#...............................................................................\n",
    "class Invdisttree:\n",
    "    \"\"\" inverse-distance-weighted interpolation using KDTree:\n",
    "invdisttree = Invdisttree( X, z )  -- data points, values\n",
    "interpol = invdisttree( q, nnear=3, eps=0, p=1, weights=None, stat=0 )\n",
    "    interpolates z from the 3 points nearest each query point q;\n",
    "    For example, interpol[ a query point q ]\n",
    "    finds the 3 data points nearest q, at distances d1 d2 d3\n",
    "    and returns the IDW average of the values z1 z2 z3\n",
    "        (z1/d1 + z2/d2 + z3/d3)\n",
    "        / (1/d1 + 1/d2 + 1/d3)\n",
    "        = .55 z1 + .27 z2 + .18 z3  for distances 1 2 3\n",
    "\n",
    "    q may be one point, or a batch of points.\n",
    "    eps: approximate nearest, dist <= (1 + eps) * true nearest\n",
    "    p: use 1 / distance**p\n",
    "    weights: optional multipliers for 1 / distance**p, of the same shape as q\n",
    "    stat: accumulate wsum, wn for average weights\n",
    "\n",
    "How many nearest neighbors should one take ?\n",
    "a) start with 8 11 14 .. 28 in 2d 3d 4d .. 10d; see Wendel's formula\n",
    "b) make 3 runs with nnear= e.g. 6 8 10, and look at the results --\n",
    "    |interpol 6 - interpol 8| etc., or |f - interpol*| if you have f(q).\n",
    "    I find that runtimes don't increase much at all with nnear -- ymmv.\n",
    "\n",
    "p=1, p=2 ?\n",
    "    p=2 weights nearer points more, farther points less.\n",
    "    In 2d, the circles around query points have areas ~ distance**2,\n",
    "    so p=2 is inverse-area weighting. For example,\n",
    "        (z1/area1 + z2/area2 + z3/area3)\n",
    "        / (1/area1 + 1/area2 + 1/area3)\n",
    "        = .74 z1 + .18 z2 + .08 z3  for distances 1 2 3\n",
    "    Similarly, in 3d, p=3 is inverse-volume weighting.\n",
    "\n",
    "Scaling:\n",
    "    if different X coordinates measure different things, Euclidean distance\n",
    "    can be way off.  For example, if X0 is in the range 0 to 1\n",
    "    but X1 0 to 1000, the X1 distances will swamp X0;\n",
    "    rescale the data, i.e. make X0.std() ~= X1.std() .\n",
    "\n",
    "A nice property of IDW is that it's scale-free around query points:\n",
    "if I have values z1 z2 z3 from 3 points at distances d1 d2 d3,\n",
    "the IDW average\n",
    "    (z1/d1 + z2/d2 + z3/d3)\n",
    "    / (1/d1 + 1/d2 + 1/d3)\n",
    "is the same for distances 1 2 3, or 10 20 30 -- only the ratios matter.\n",
    "In contrast, the commonly-used Gaussian kernel exp( - (distance/h)**2 )\n",
    "is exceedingly sensitive to distance and to h.\n",
    "\n",
    "    \"\"\"\n",
    "# anykernel( dj / av dj ) is also scale-free\n",
    "# error analysis, |f(x) - idw(x)| ? todo: regular grid, nnear ndim+1, 2*ndim\n",
    "\n",
    "    def __init__( self, X, z, leafsize=10, stat=0 ):\n",
    "        assert len(X) == len(z), \"len(X) %d != len(z) %d\" % (len(X), len(z))\n",
    "        self.tree = KDTree( X, leafsize=leafsize )  # build the tree\n",
    "        self.z = z\n",
    "        self.stat = stat\n",
    "        self.wn = 0\n",
    "        self.wsum = None;\n",
    "\n",
    "    def __call__( self, q, nnear=6, eps=0, p=1, weights=None ):\n",
    "            # nnear nearest neighbours of each query point --\n",
    "        q = np.asarray(q)\n",
    "        qdim = q.ndim\n",
    "        if qdim == 1:\n",
    "            q = np.array([q])\n",
    "        if self.wsum is None:\n",
    "            self.wsum = np.zeros(nnear)\n",
    "\n",
    "        self.distances, self.ix = self.tree.query( q, k=nnear, eps=eps )\n",
    "        interpol = np.zeros( (len(self.distances),) + np.shape(self.z[0]) )\n",
    "        jinterpol = 0\n",
    "        for dist, ix in zip( self.distances, self.ix ):\n",
    "            if nnear == 1:\n",
    "                wz = self.z[ix]\n",
    "            elif dist[0] < 1e-10:\n",
    "                wz = self.z[ix[0]]\n",
    "            else:  # weight z s by 1/dist --\n",
    "                w = 1 / dist**p\n",
    "                if weights is not None:\n",
    "                    w *= weights[ix]  # >= 0\n",
    "                w /= np.sum(w)\n",
    "                wz = np.dot( w, self.z[ix] )\n",
    "                if self.stat:\n",
    "                    self.wn += 1\n",
    "                    self.wsum += w\n",
    "            interpol[jinterpol] = wz\n",
    "            jinterpol += 1\n",
    "        return interpol if qdim > 1  else interpol[0]\n",
    "\n"
   ]
  },
  {
   "cell_type": "code",
   "execution_count": 14,
   "metadata": {},
   "outputs": [],
   "source": [
    "X=sb2000.iloc[:,:2]\n",
    "z=sb2000.z\n",
    "invdisttree = Invdisttree( X, z )  #-- data points, values\n",
    "q = (-3123,3456)\n",
    "interpol = invdisttree( q, nnear=3, eps=0, p=1, weights=None)"
   ]
  },
  {
   "cell_type": "code",
   "execution_count": 15,
   "metadata": {},
   "outputs": [
    {
     "data": {
      "text/plain": [
       "-12.982392730176905"
      ]
     },
     "execution_count": 15,
     "metadata": {},
     "output_type": "execute_result"
    }
   ],
   "source": [
    "interpol"
   ]
  },
  {
   "cell_type": "code",
   "execution_count": null,
   "metadata": {},
   "outputs": [],
   "source": [
    "def lineAdjustment2(sb,linepoints):\n",
    "    z=[]\n",
    "    for point in linepoints:\n",
    "        x=point[0]\n",
    "        y=point[1]\n",
    "#         print(x,y)\n",
    "        npt = closest_node3(sb,x,y,sb_mesh_size)\n",
    "        if len(npt)<3:\n",
    "            z.append(0)\n",
    "            continue\n",
    "        fp = equation_plane(npt[0][0],npt[0][1],npt[0][2],npt[1][0],npt[1][1],npt[1][2],npt[2][0],npt[2][1],npt[2][2])\n",
    "        z.append(eval(fp))\n",
    "    return z"
   ]
  },
  {
   "cell_type": "code",
   "execution_count": null,
   "metadata": {},
   "outputs": [],
   "source": [
    "#...............................................................................\n",
    "if __name__ == \"__main__\":\n",
    "    import sys\n",
    "\n",
    "    N = 10000\n",
    "    Ndim = 2\n",
    "    Nask = N  # N Nask 1e5: 24 sec 2d, 27 sec 3d on mac g4 ppc\n",
    "    Nnear = 8  # 8 2d, 11 3d => 5 % chance one-sided -- Wendel, mathoverflow.com\n",
    "    leafsize = 10\n",
    "    eps = .1  # approximate nearest, dist <= (1 + eps) * true nearest\n",
    "    p = 1  # weights ~ 1 / distance**p\n",
    "    cycle = .25\n",
    "    seed = 1\n",
    "\n",
    "    exec ( \"\\n\".join( sys.argv[1:] ))  # python this.py N= ...\n",
    "    np.random.seed(seed )\n",
    "    np.set_printoptions( 3, threshold=100, suppress=True )  # .3f\n",
    "\n",
    "    print (\"\\nInvdisttree:  N %d  Ndim %d  Nask %d  Nnear %d  leafsize %d  eps %.2g  p %.2g\" % (\n",
    "        N, Ndim, Nask, Nnear, leafsize, eps, p))\n",
    "\n",
    "    def terrain(x):\n",
    "        \"\"\" ~ rolling hills \"\"\"\n",
    "        return np.sin( (2*np.pi / cycle) * np.mean( x, axis=-1 ))\n",
    "\n",
    "    known = np.random.uniform( size=(N,Ndim) ) ** .5  # 1/(p+1): density x^p\n",
    "    z = terrain( known )\n",
    "    ask = np.random.uniform( size=(Nask,Ndim) )\n",
    "\n",
    "#...............................................................................\n",
    "    invdisttree = Invdisttree( known, z, leafsize=leafsize, stat=1 )\n",
    "    interpol = invdisttree( ask, nnear=Nnear, eps=eps, p=p )\n",
    "\n",
    "    print (\"average distances to nearest points: %s\" % \\\n",
    "        np.mean( invdisttree.distances, axis=0 ))\n",
    "    print (\"average weights: %s\" % (invdisttree.wsum / invdisttree.wn))\n",
    "        # see Wikipedia Zipf's law\n",
    "    err = np.abs( terrain(ask) - interpol )\n",
    "    print (\"average |terrain() - interpolated|: %.2g\" % np.mean(err))\n",
    "\n",
    "    # print \"interpolate a single point: %.2g\" % \\\n",
    "    #     invdisttree( known[0], nnear=Nnear, eps=eps )"
   ]
  }
 ],
 "metadata": {
  "kernelspec": {
   "display_name": "Python 3",
   "language": "python",
   "name": "python3"
  },
  "language_info": {
   "codemirror_mode": {
    "name": "ipython",
    "version": 3
   },
   "file_extension": ".py",
   "mimetype": "text/x-python",
   "name": "python",
   "nbconvert_exporter": "python",
   "pygments_lexer": "ipython3",
   "version": "3.7.4"
  }
 },
 "nbformat": 4,
 "nbformat_minor": 4
}
