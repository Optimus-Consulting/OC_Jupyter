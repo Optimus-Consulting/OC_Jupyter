{
 "cells": [
  {
   "cell_type": "code",
   "execution_count": 2,
   "metadata": {},
   "outputs": [
    {
     "name": "stdout",
     "output_type": "stream",
     "text": [
      "Collecting balautil\n",
      "  Downloading https://files.pythonhosted.org/packages/7b/db/a58f78eb5c1ccaa0af5ab9d18fe54c4451ae1de503453b10f5209856482d/balautil-0.1.5-py3-none-any.whl\n",
      "Collecting wordcloud (from balautil)\n",
      "\u001b[?25l  Downloading https://files.pythonhosted.org/packages/be/fe/4e718808c7bfb641e8964c2e40a6ae2a51c74ea493a6701b89ba417bc769/wordcloud-1.5.0-cp37-cp37m-manylinux1_x86_64.whl (361kB)\n",
      "\u001b[K     |████████████████████████████████| 368kB 6.3MB/s eta 0:00:01\n",
      "\u001b[?25hRequirement already satisfied: requests in /opt/anaconda3/lib/python3.7/site-packages (from balautil) (2.22.0)\n",
      "Collecting plotly (from balautil)\n",
      "\u001b[?25l  Downloading https://files.pythonhosted.org/packages/f7/05/3c32c6bc85acbd30a18fbc3ba732fed5e48e5f8fd60d2a148877970f4a61/plotly-4.2.1-py2.py3-none-any.whl (7.2MB)\n",
      "\u001b[K     |████████████████████████████████| 7.2MB 35.2MB/s eta 0:00:01\n",
      "\u001b[?25hRequirement already satisfied: pillow in /opt/anaconda3/lib/python3.7/site-packages (from wordcloud->balautil) (6.2.0)\n",
      "Requirement already satisfied: numpy>=1.6.1 in /opt/anaconda3/lib/python3.7/site-packages (from wordcloud->balautil) (1.17.2)\n",
      "Requirement already satisfied: certifi>=2017.4.17 in /opt/anaconda3/lib/python3.7/site-packages (from requests->balautil) (2019.9.11)\n",
      "Requirement already satisfied: urllib3!=1.25.0,!=1.25.1,<1.26,>=1.21.1 in /opt/anaconda3/lib/python3.7/site-packages (from requests->balautil) (1.24.2)\n",
      "Requirement already satisfied: chardet<3.1.0,>=3.0.2 in /opt/anaconda3/lib/python3.7/site-packages (from requests->balautil) (3.0.4)\n",
      "Requirement already satisfied: idna<2.9,>=2.5 in /opt/anaconda3/lib/python3.7/site-packages (from requests->balautil) (2.8)\n",
      "Collecting retrying>=1.3.3 (from plotly->balautil)\n",
      "  Downloading https://files.pythonhosted.org/packages/44/ef/beae4b4ef80902f22e3af073397f079c96969c69b2c7d52a57ea9ae61c9d/retrying-1.3.3.tar.gz\n",
      "Requirement already satisfied: six in /opt/anaconda3/lib/python3.7/site-packages (from plotly->balautil) (1.12.0)\n",
      "Building wheels for collected packages: retrying\n",
      "  Building wheel for retrying (setup.py) ... \u001b[?25ldone\n",
      "\u001b[?25h  Created wheel for retrying: filename=retrying-1.3.3-cp37-none-any.whl size=11429 sha256=8287f03ff05f2c459ff959c2919c69720cf46a4d0388e56b1d548c28d2c97ac6\n",
      "  Stored in directory: /home/juser/.cache/pip/wheels/d7/a9/33/acc7b709e2a35caa7d4cae442f6fe6fbf2c43f80823d46460c\n",
      "Successfully built retrying\n",
      "Installing collected packages: wordcloud, retrying, plotly, balautil\n",
      "\u001b[31mERROR: Could not install packages due to an EnvironmentError: [Errno 13] Permission denied: '/opt/anaconda3/lib/python3.7/site-packages/wordcloud-1.5.0.dist-info'\n",
      "Consider using the `--user` option or check the permissions.\n",
      "\u001b[0m\n"
     ]
    }
   ],
   "source": [
    "!pip install balautil"
   ]
  },
  {
   "cell_type": "code",
   "execution_count": 2,
   "metadata": {},
   "outputs": [
    {
     "name": "stdout",
     "output_type": "stream",
     "text": [
      "User smavrovic is logged in on sshd.\r\n",
      "User smavrovic is logged in on sshd.\r\n",
      "User smavrovic is logged in on sshd.\r\n",
      "User smavrovic is logged in on sshd.\r\n",
      "User dmancic is logged in on sshd.\r\n",
      "User smavrovic is logged in on sshd.\r\n",
      "User dmancic is logged in on sshd.\r\n",
      "User dmancic is logged in on sshd.\r\n",
      "Please retry operation after closing inhibitors and logging out other users.\r\n",
      "Alternatively, ignore inhibitors and users with 'systemctl reboot -i'.\r\n"
     ]
    }
   ],
   "source": [
    "!reboot"
   ]
  },
  {
   "cell_type": "code",
   "execution_count": 3,
   "metadata": {},
   "outputs": [
    {
     "name": "stdout",
     "output_type": "stream",
     "text": [
      "/usr/bin/sh: line 0: kill: all: arguments must be process or job IDs\r\n"
     ]
    }
   ],
   "source": [
    "!kill -9 all"
   ]
  },
  {
   "cell_type": "code",
   "execution_count": 6,
   "metadata": {},
   "outputs": [
    {
     "name": "stdout",
     "output_type": "stream",
     "text": [
      "\u001b[?1h\u001b=\u001b[H\u001b[2J\u001b[mtop - 07:57:30 up 55 days, 2 min,  8 users,  load average: 0.13, 0.14, 0.09\u001b[m\u001b[m\u001b[m\u001b[m\u001b[K\n",
      "Tasks:\u001b[m\u001b[m\u001b[1m 163 \u001b[m\u001b[mtotal,\u001b[m\u001b[m\u001b[1m   1 \u001b[m\u001b[mrunning,\u001b[m\u001b[m\u001b[1m 161 \u001b[m\u001b[msleeping,\u001b[m\u001b[m\u001b[1m   1 \u001b[m\u001b[mstopped,\u001b[m\u001b[m\u001b[1m   0 \u001b[m\u001b[mzombie\u001b[m\u001b[m\u001b[m\u001b[m\u001b[K\n",
      "%Cpu(s):\u001b[m\u001b[m\u001b[1m  1.6 \u001b[m\u001b[mus,\u001b[m\u001b[m\u001b[1m  1.6 \u001b[m\u001b[msy,\u001b[m\u001b[m\u001b[1m  0.0 \u001b[m\u001b[mni,\u001b[m\u001b[m\u001b[1m 96.9 \u001b[m\u001b[mid,\u001b[m\u001b[m\u001b[1m  0.0 \u001b[m\u001b[mwa,\u001b[m\u001b[m\u001b[1m  0.0 \u001b[m\u001b[mhi,\u001b[m\u001b[m\u001b[1m  0.0 \u001b[m\u001b[msi,\u001b[m\u001b[m\u001b[1m  0.0 \u001b[m\u001b[mst\u001b[m\u001b[m\u001b[m\u001b[m\u001b[K\n",
      "KiB Mem :\u001b[m\u001b[m\u001b[1m  8008852 \u001b[m\u001b[mtotal,\u001b[m\u001b[m\u001b[1m   342084 \u001b[m\u001b[mfree,\u001b[m\u001b[m\u001b[1m  6664192 \u001b[m\u001b[mused,\u001b[m\u001b[m\u001b[1m  1002576 \u001b[m\u001b[mbuff/cache\u001b[m\u001b[m\u001b[m\u001b[m\u001b[K\n",
      "KiB Swap:\u001b[m\u001b[m\u001b[1m        0 \u001b[m\u001b[mtotal,\u001b[m\u001b[m\u001b[1m        0 \u001b[m\u001b[mfree,\u001b[m\u001b[m\u001b[1m        0 \u001b[m\u001b[mused.\u001b[m\u001b[m\u001b[1m   293924 \u001b[m\u001b[mavail Mem \u001b[m\u001b[m\u001b[m\u001b[m\u001b[K\n",
      "\u001b[K\n",
      "\u001b[7m  PID USER      PR  NI    VIRT    RES    SHR S  %CPU %MEM     TIME+ COMMAND     \u001b[m\u001b[m\u001b[K\n",
      "\u001b[m\u001b[1m 1621 juser     20   0  162012   2208   1552 R  12.5  0.0   0:00.04 top         \u001b[m\u001b[m\u001b[K\n",
      "\u001b[m 1372 juser     20   0  634860  43752   8388 S   6.2  0.5   0:05.27 ZMQbg/1     \u001b[m\u001b[m\u001b[K\n",
      "\u001b[m28369 juser     20   0  486812  58920   9128 S   6.2  0.7   0:08.14 ZMQbg/3     \u001b[m\u001b[m\u001b[K\n",
      "\u001b[m    1 root      20   0  199196   3440   2112 S   0.0  0.0  19:33.58 systemd     \u001b[m\u001b[m\u001b[K\n",
      "\u001b[m    2 root      20   0       0      0      0 S   0.0  0.0   0:00.56 kthreadd    \u001b[m\u001b[m\u001b[K\n",
      "\u001b[m    3 root      20   0       0      0      0 S   0.0  0.0   0:09.10 ksoftirqd/0 \u001b[m\u001b[m\u001b[K\n",
      "\u001b[m    5 root       0 -20       0      0      0 S   0.0  0.0   0:00.00 kworker/0:+ \u001b[m\u001b[m\u001b[K\n",
      "\u001b[m    7 root      rt   0       0      0      0 S   0.0  0.0   2:31.40 migration/0 \u001b[m\u001b[m\u001b[K\n",
      "\u001b[m    8 root      20   0       0      0      0 S   0.0  0.0   0:00.00 rcu_bh      \u001b[m\u001b[m\u001b[K\n",
      "\u001b[m    9 root      20   0       0      0      0 S   0.0  0.0 155:23.89 rcu_sched   \u001b[m\u001b[m\u001b[K\n",
      "\u001b[m   10 root       0 -20       0      0      0 S   0.0  0.0   0:00.00 lru-add-dr+ \u001b[m\u001b[m\u001b[K\n",
      "\u001b[m   11 root      rt   0       0      0      0 S   0.0  0.0   0:36.49 watchdog/0  \u001b[m\u001b[m\u001b[K\n",
      "\u001b[m   12 root      rt   0       0      0      0 S   0.0  0.0   0:16.02 watchdog/1  \u001b[m\u001b[m\u001b[K\n",
      "\u001b[m   13 root      rt   0       0      0      0 S   0.0  0.0   1:44.74 migration/1 \u001b[m\u001b[m\u001b[K\n",
      "\u001b[m   14 root      20   0       0      0      0 S   0.0  0.0   0:18.31 ksoftirqd/1 \u001b[m\u001b[m\u001b[K\n",
      "\u001b[m   16 root       0 -20       0      0      0 S   0.0  0.0   0:00.00 kworker/1:+ \u001b[m\u001b[m\u001b[K\n",
      "\u001b[m   17 root      rt   0       0      0      0 S   0.0  0.0   0:17.81 watchdog/2  \u001b[m\u001b[m\u001b[K\u001b[H\u001b[mtop - 07:57:33 up 55 days, 2 min,  8 users,  load average: 0.13, 0.14, 0.09\u001b[m\u001b[m\u001b[m\u001b[m\u001b[K\n",
      "\n",
      "%Cpu(s):\u001b[m\u001b[m\u001b[1m  0.8 \u001b[m\u001b[mus,\u001b[m\u001b[m\u001b[1m  0.2 \u001b[m\u001b[msy,\u001b[m\u001b[m\u001b[1m  0.0 \u001b[m\u001b[mni,\u001b[m\u001b[m\u001b[1m 99.0 \u001b[m\u001b[mid,\u001b[m\u001b[m\u001b[1m  0.0 \u001b[m\u001b[mwa,\u001b[m\u001b[m\u001b[1m  0.0 \u001b[m\u001b[mhi,\u001b[m\u001b[m\u001b[1m  0.0 \u001b[m\u001b[msi,\u001b[m\u001b[m\u001b[1m  0.1 \u001b[m\u001b[mst\u001b[m\u001b[m\u001b[m\u001b[m\u001b[K\n",
      "KiB Mem :\u001b[m\u001b[m\u001b[1m  8008852 \u001b[m\u001b[mtotal,\u001b[m\u001b[m\u001b[1m   342232 \u001b[m\u001b[mfree,\u001b[m\u001b[m\u001b[1m  6663892 \u001b[m\u001b[mused,\u001b[m\u001b[m\u001b[1m  1002728 \u001b[m\u001b[mbuff/cache\u001b[m\u001b[m\u001b[m\u001b[m\u001b[K\n",
      "KiB Swap:\u001b[m\u001b[m\u001b[1m        0 \u001b[m\u001b[mtotal,\u001b[m\u001b[m\u001b[1m        0 \u001b[m\u001b[mfree,\u001b[m\u001b[m\u001b[1m        0 \u001b[m\u001b[mused.\u001b[m\u001b[m\u001b[1m   294100 \u001b[m\u001b[mavail Mem \u001b[m\u001b[m\u001b[m\u001b[m\u001b[K\n",
      "\u001b[K\n",
      "\n",
      "\u001b[m 1372 juser     20   0  634860  43752   8388 S   3.3  0.5   0:05.37 ZMQbg/1     \u001b[m\u001b[m\u001b[K\n",
      "\u001b[m 3179 neo4j     20   0 5880928   2.4g  13960 S   0.7 31.0 701:42.07 java        \u001b[m\u001b[m\u001b[K\n",
      "\u001b[m19583 cassand+  20   0 4109112   2.3g 131772 S   0.7 30.3  64:01.79 java        \u001b[m\u001b[m\u001b[K\n",
      "\u001b[m    9 root      20   0       0      0      0 S   0.3  0.0 155:23.90 rcu_sched   \u001b[m\u001b[m\u001b[K\n",
      "\u001b[m   47 root      39  19       0      0      0 S   0.3  0.0   7:44.56 khugepaged  \u001b[m\u001b[m\u001b[K\n",
      "\u001b[m 1069 juser     20   0  191984  52820   8208 S   0.3  0.7   0:01.90 python      \u001b[m\u001b[m\u001b[K\n",
      "\u001b[m 2951 postgres  20   0  349140  13332  12204 S   0.3  0.2   5:52.10 postgres    \u001b[m\u001b[m\u001b[K\n",
      "\u001b[m12575 dmancic   20   0 4646800  71372  13168 S   0.3  0.9  87:02.90 java        \u001b[m\u001b[m\u001b[K\n",
      "\u001b[m20097 tomcat    20   0 6148768   1.3g  13776 S   0.3 17.0  17:12.60 java        \u001b[m\u001b[m\u001b[K\n",
      "\u001b[m    1 root      20   0  199196   3440   2112 S   0.0  0.0  19:33.58 systemd     \u001b[m\u001b[m\u001b[K\n",
      "\u001b[m    2 root      20   0       0      0      0 S   0.0  0.0   0:00.56 kthreadd    \u001b[m\u001b[m\u001b[K\n",
      "\u001b[m    3 root      20   0       0      0      0 S   0.0  0.0   0:09.10 ksoftirqd/0 \u001b[m\u001b[m\u001b[K\n",
      "\u001b[m    5 root       0 -20       0      0      0 S   0.0  0.0   0:00.00 kworker/0:+ \u001b[m\u001b[m\u001b[K\n",
      "\u001b[m    7 root      rt   0       0      0      0 S   0.0  0.0   2:31.40 migration/0 \u001b[m\u001b[m\u001b[K\n",
      "\u001b[m    8 root      20   0       0      0      0 S   0.0  0.0   0:00.00 rcu_bh      \u001b[m\u001b[m\u001b[K\n",
      "\u001b[m   10 root       0 -20       0      0      0 S   0.0  0.0   0:00.00 lru-add-dr+ \u001b[m\u001b[m\u001b[K\n",
      "\u001b[m   11 root      rt   0       0      0      0 S   0.0  0.0   0:36.49 watchdog/0  \u001b[m\u001b[m\u001b[K\u001b[H\u001b[mtop - 07:57:36 up 55 days, 2 min,  8 users,  load average: 0.12, 0.14, 0.09\u001b[m\u001b[m\u001b[m\u001b[m\u001b[K\n",
      "\n",
      "%Cpu(s):\u001b[m\u001b[m\u001b[1m  0.6 \u001b[m\u001b[mus,\u001b[m\u001b[m\u001b[1m  0.3 \u001b[m\u001b[msy,\u001b[m\u001b[m\u001b[1m  0.0 \u001b[m\u001b[mni,\u001b[m\u001b[m\u001b[1m 99.0 \u001b[m\u001b[mid,\u001b[m\u001b[m\u001b[1m  0.0 \u001b[m\u001b[mwa,\u001b[m\u001b[m\u001b[1m  0.0 \u001b[m\u001b[mhi,\u001b[m\u001b[m\u001b[1m  0.0 \u001b[m\u001b[msi,\u001b[m\u001b[m\u001b[1m  0.2 \u001b[m\u001b[mst\u001b[m\u001b[m\u001b[m\u001b[m\u001b[K\n",
      "KiB Mem :\u001b[m\u001b[m\u001b[1m  8008852 \u001b[m\u001b[mtotal,\u001b[m\u001b[m\u001b[1m   342232 \u001b[m\u001b[mfree,\u001b[m\u001b[m\u001b[1m  6663888 \u001b[m\u001b[mused,\u001b[m\u001b[m\u001b[1m  1002732 \u001b[m\u001b[mbuff/cache\u001b[m\u001b[m\u001b[m\u001b[m\u001b[K\n",
      "\n",
      "\u001b[K\n",
      "\n",
      "\u001b[m 1372 juser     20   0  634860  43752   8388 S   2.7  0.5   0:05.45 ZMQbg/1     \u001b[m\u001b[m\u001b[K\n",
      "\u001b[m19583 cassand+  20   0 4109112   2.3g 131772 S   1.0 30.3  64:01.82 java        \u001b[m\u001b[m\u001b[K\n",
      "\u001b[m 3179 neo4j     20   0 5880928   2.4g  13960 S   0.7 31.0 701:42.09 java        \u001b[m\u001b[m\u001b[K\n",
      "\u001b[m    1 root      20   0  199196   3440   2112 S   0.0  0.0  19:33.58 systemd     \u001b[m\u001b[m\u001b[K\n",
      "\u001b[m    2 root      20   0       0      0      0 S   0.0  0.0   0:00.56 kthreadd    \u001b[m\u001b[m\u001b[K\n",
      "\u001b[m    3 root      20   0       0      0      0 S   0.0  0.0   0:09.10 ksoftirqd/0 \u001b[m\u001b[m\u001b[K\n",
      "\u001b[m    5 root       0 -20       0      0      0 S   0.0  0.0   0:00.00 kworker/0:+ \u001b[m\u001b[m\u001b[K\n",
      "\u001b[m    7 root      rt   0       0      0      0 S   0.0  0.0   2:31.40 migration/0 \u001b[m\u001b[m\u001b[K\n",
      "\u001b[m    8 root      20   0       0      0      0 S   0.0  0.0   0:00.00 rcu_bh      \u001b[m\u001b[m\u001b[K\n",
      "\u001b[m    9 root      20   0       0      0      0 S   0.0  0.0 155:23.90 rcu_sched   \u001b[m\u001b[m\u001b[K\n",
      "\u001b[m   10 root       0 -20       0      0      0 S   0.0  0.0   0:00.00 lru-add-dr+ \u001b[m\u001b[m\u001b[K\n",
      "\u001b[m   11 root      rt   0       0      0      0 S   0.0  0.0   0:36.49 watchdog/0  \u001b[m\u001b[m\u001b[K\n",
      "\u001b[m   12 root      rt   0       0      0      0 S   0.0  0.0   0:16.02 watchdog/1  \u001b[m\u001b[m\u001b[K\n",
      "\u001b[m   13 root      rt   0       0      0      0 S   0.0  0.0   1:44.74 migration/1 \u001b[m\u001b[m\u001b[K\n",
      "\u001b[m   14 root      20   0       0      0      0 S   0.0  0.0   0:18.31 ksoftirqd/1 \u001b[m\u001b[m\u001b[K\n",
      "\u001b[m   16 root       0 -20       0      0      0 S   0.0  0.0   0:00.00 kworker/1:+ \u001b[m\u001b[m\u001b[K\n",
      "\u001b[m   17 root      rt   0       0      0      0 S   0.0  0.0   0:17.81 watchdog/2  \u001b[m\u001b[m\u001b[K\u001b[H\u001b[mtop - 07:57:39 up 55 days, 2 min,  8 users,  load average: 0.11, 0.13, 0.09\u001b[m\u001b[m\u001b[m\u001b[m\u001b[K\n",
      "\n",
      "%Cpu(s):\u001b[m\u001b[m\u001b[1m  0.7 \u001b[m\u001b[mus,\u001b[m\u001b[m\u001b[1m  0.3 \u001b[m\u001b[msy,\u001b[m\u001b[m\u001b[1m  0.0 \u001b[m\u001b[mni,\u001b[m\u001b[m\u001b[1m 98.7 \u001b[m\u001b[mid,\u001b[m\u001b[m\u001b[1m  0.0 \u001b[m\u001b[mwa,\u001b[m\u001b[m\u001b[1m  0.0 \u001b[m\u001b[mhi,\u001b[m\u001b[m\u001b[1m  0.0 \u001b[m\u001b[msi,\u001b[m\u001b[m\u001b[1m  0.3 \u001b[m\u001b[mst\u001b[m\u001b[m\u001b[m\u001b[m\u001b[K\n",
      "KiB Mem :\u001b[m\u001b[m\u001b[1m  8008852 \u001b[m\u001b[mtotal,\u001b[m\u001b[m\u001b[1m   342108 \u001b[m\u001b[mfree,\u001b[m\u001b[m\u001b[1m  6664032 \u001b[m\u001b[mused,\u001b[m\u001b[m\u001b[1m  1002712 \u001b[m\u001b[mbuff/cache\u001b[m\u001b[m\u001b[m\u001b[m\u001b[K\n",
      "KiB Swap:\u001b[m\u001b[m\u001b[1m        0 \u001b[m\u001b[mtotal,\u001b[m\u001b[m\u001b[1m        0 \u001b[m\u001b[mfree,\u001b[m\u001b[m\u001b[1m        0 \u001b[m\u001b[mused.\u001b[m\u001b[m\u001b[1m   293980 \u001b[m\u001b[mavail Mem \u001b[m\u001b[m\u001b[m\u001b[m\u001b[K\n",
      "\u001b[K\n",
      "\n",
      "\u001b[m 1372 juser     20   0  634860  43752   8388 S   3.3  0.5   0:05.55 ZMQbg/1     \u001b[m\u001b[m\u001b[K\n",
      "\u001b[m 3179 neo4j     20   0 5880928   2.4g  13960 S   1.3 31.0 701:42.13 java        \u001b[m\u001b[m\u001b[K\n",
      "\u001b[m19583 cassand+  20   0 4109112   2.3g 131772 S   1.0 30.3  64:01.85 java        \u001b[m\u001b[m\u001b[K\n",
      "\u001b[m    9 root      20   0       0      0      0 S   0.3  0.0 155:23.91 rcu_sched   \u001b[m\u001b[m\u001b[K\n",
      "\u001b[m  765 root      20   0   21532   1060    820 S   0.3  0.0   6:08.69 irqbalance  \u001b[m\u001b[m\u001b[K\n",
      "\u001b[m20097 tomcat    20   0 6148768   1.3g  13776 S   0.3 17.0  17:12.61 java        \u001b[m\u001b[m\u001b[K\n",
      "\u001b[m28369 juser     20   0  486812  58920   9128 S   0.3  0.7   0:08.15 ZMQbg/3     \u001b[m\u001b[m\u001b[K\n",
      "\u001b[m    1 root      20   0  199196   3440   2112 S   0.0  0.0  19:33.58 systemd     \u001b[m\u001b[m\u001b[K\n",
      "\u001b[m    2 root      20   0       0      0      0 S   0.0  0.0   0:00.56 kthreadd    \u001b[m\u001b[m\u001b[K\n",
      "\u001b[m    3 root      20   0       0      0      0 S   0.0  0.0   0:09.10 ksoftirqd/0 \u001b[m\u001b[m\u001b[K\n",
      "\u001b[m    5 root       0 -20       0      0      0 S   0.0  0.0   0:00.00 kworker/0:+ \u001b[m\u001b[m\u001b[K\n",
      "\u001b[m    7 root      rt   0       0      0      0 S   0.0  0.0   2:31.40 migration/0 \u001b[m\u001b[m\u001b[K\n",
      "\u001b[m    8 root      20   0       0      0      0 S   0.0  0.0   0:00.00 rcu_bh      \u001b[m\u001b[m\u001b[K\n",
      "\u001b[m   10 root       0 -20       0      0      0 S   0.0  0.0   0:00.00 lru-add-dr+ \u001b[m\u001b[m\u001b[K\n",
      "\u001b[m   11 root      rt   0       0      0      0 S   0.0  0.0   0:36.49 watchdog/0  \u001b[m\u001b[m\u001b[K\n",
      "\u001b[m   12 root      rt   0       0      0      0 S   0.0  0.0   0:16.02 watchdog/1  \u001b[m\u001b[m\u001b[K\n"
     ]
    },
    {
     "name": "stdout",
     "output_type": "stream",
     "text": [
      "\u001b[m   13 root      rt   0       0      0      0 S   0.0  0.0   1:44.74 migration/1 \u001b[m\u001b[m\u001b[K\u001b[H\u001b[mtop - 07:57:42 up 55 days, 2 min,  8 users,  load average: 0.11, 0.13, 0.09\u001b[m\u001b[m\u001b[m\u001b[m\u001b[K\n",
      "\n",
      "%Cpu(s):\u001b[m\u001b[m\u001b[1m  0.6 \u001b[m\u001b[mus,\u001b[m\u001b[m\u001b[1m  0.2 \u001b[m\u001b[msy,\u001b[m\u001b[m\u001b[1m  0.0 \u001b[m\u001b[mni,\u001b[m\u001b[m\u001b[1m 99.0 \u001b[m\u001b[mid,\u001b[m\u001b[m\u001b[1m  0.0 \u001b[m\u001b[mwa,\u001b[m\u001b[m\u001b[1m  0.0 \u001b[m\u001b[mhi,\u001b[m\u001b[m\u001b[1m  0.1 \u001b[m\u001b[msi,\u001b[m\u001b[m\u001b[1m  0.2 \u001b[m\u001b[mst\u001b[m\u001b[m\u001b[m\u001b[m\u001b[K\n",
      "KiB Mem :\u001b[m\u001b[m\u001b[1m  8008852 \u001b[m\u001b[mtotal,\u001b[m\u001b[m\u001b[1m   341984 \u001b[m\u001b[mfree,\u001b[m\u001b[m\u001b[1m  6664116 \u001b[m\u001b[mused,\u001b[m\u001b[m\u001b[1m  1002752 \u001b[m\u001b[mbuff/cache\u001b[m\u001b[m\u001b[m\u001b[m\u001b[K\n",
      "KiB Swap:\u001b[m\u001b[m\u001b[1m        0 \u001b[m\u001b[mtotal,\u001b[m\u001b[m\u001b[1m        0 \u001b[m\u001b[mfree,\u001b[m\u001b[m\u001b[1m        0 \u001b[m\u001b[mused.\u001b[m\u001b[m\u001b[1m   293856 \u001b[m\u001b[mavail Mem \u001b[m\u001b[m\u001b[m\u001b[m\u001b[K\n",
      "\u001b[K\n",
      "\n",
      "\u001b[m 1372 juser     20   0  634860  43752   8388 S   3.0  0.5   0:05.64 ZMQbg/1     \u001b[m\u001b[m\u001b[K\n",
      "\u001b[m19583 cassand+  20   0 4109112   2.3g 131772 S   1.0 30.3  64:01.88 java        \u001b[m\u001b[m\u001b[K\n",
      "\u001b[m 3179 neo4j     20   0 5880928   2.4g  13960 S   0.7 31.0 701:42.15 java        \u001b[m\u001b[m\u001b[K\n",
      "\u001b[m\u001b[1m 1621 juser     20   0  162012   2308   1612 R   0.3  0.0   0:00.05 top         \u001b[m\u001b[m\u001b[K\n",
      "\u001b[m 1674 mysql     20   0 1197468  83796    928 S   0.3  1.0  72:02.93 mysqld      \u001b[m\u001b[m\u001b[K\n",
      "\u001b[m    1 root      20   0  199196   3440   2112 S   0.0  0.0  19:33.58 systemd     \u001b[m\u001b[m\u001b[K\n",
      "\u001b[m    2 root      20   0       0      0      0 S   0.0  0.0   0:00.56 kthreadd    \u001b[m\u001b[m\u001b[K\n",
      "\u001b[m    3 root      20   0       0      0      0 S   0.0  0.0   0:09.10 ksoftirqd/0 \u001b[m\u001b[m\u001b[K\n",
      "\u001b[m    5 root       0 -20       0      0      0 S   0.0  0.0   0:00.00 kworker/0:+ \u001b[m\u001b[m\u001b[K\n",
      "\u001b[m    7 root      rt   0       0      0      0 S   0.0  0.0   2:31.40 migration/0 \u001b[m\u001b[m\u001b[K\n",
      "\u001b[m    8 root      20   0       0      0      0 S   0.0  0.0   0:00.00 rcu_bh      \u001b[m\u001b[m\u001b[K\n",
      "\u001b[m    9 root      20   0       0      0      0 S   0.0  0.0 155:23.91 rcu_sched   \u001b[m\u001b[m\u001b[K\n",
      "\u001b[m   10 root       0 -20       0      0      0 S   0.0  0.0   0:00.00 lru-add-dr+ \u001b[m\u001b[m\u001b[K\n",
      "\u001b[m   11 root      rt   0       0      0      0 S   0.0  0.0   0:36.49 watchdog/0  \u001b[m\u001b[m\u001b[K\n",
      "\u001b[m   12 root      rt   0       0      0      0 S   0.0  0.0   0:16.02 watchdog/1  \u001b[m\u001b[m\u001b[K\n",
      "\u001b[m   13 root      rt   0       0      0      0 S   0.0  0.0   1:44.74 migration/1 \u001b[m\u001b[m\u001b[K\n",
      "\u001b[m   14 root      20   0       0      0      0 S   0.0  0.0   0:18.31 ksoftirqd/1 \u001b[m\u001b[m\u001b[K\u001b[H\u001b[mtop - 07:57:45 up 55 days, 2 min,  8 users,  load average: 0.10, 0.13, 0.09\u001b[m\u001b[m\u001b[m\u001b[m\u001b[K\n",
      "\n",
      "%Cpu(s):\u001b[m\u001b[m\u001b[1m  0.6 \u001b[m\u001b[mus,\u001b[m\u001b[m\u001b[1m  0.3 \u001b[m\u001b[msy,\u001b[m\u001b[m\u001b[1m  0.0 \u001b[m\u001b[mni,\u001b[m\u001b[m\u001b[1m 98.2 \u001b[m\u001b[mid,\u001b[m\u001b[m\u001b[1m  0.0 \u001b[m\u001b[mwa,\u001b[m\u001b[m\u001b[1m  0.0 \u001b[m\u001b[mhi,\u001b[m\u001b[m\u001b[1m  0.0 \u001b[m\u001b[msi,\u001b[m\u001b[m\u001b[1m  0.9 \u001b[m\u001b[mst\u001b[m\u001b[m\u001b[m\u001b[m\u001b[K\n",
      "KiB Mem :\u001b[m\u001b[m\u001b[1m  8008852 \u001b[m\u001b[mtotal,\u001b[m\u001b[m\u001b[1m   341984 \u001b[m\u001b[mfree,\u001b[m\u001b[m\u001b[1m  6664124 \u001b[m\u001b[mused,\u001b[m\u001b[m\u001b[1m  1002744 \u001b[m\u001b[mbuff/cache\u001b[m\u001b[m\u001b[m\u001b[m\u001b[K\n",
      "\n",
      "\u001b[K\n",
      "\n",
      "\u001b[m 1372 juser     20   0  634860  43752   8388 S   3.7  0.5   0:05.75 ZMQbg/1     \u001b[m\u001b[m\u001b[K\n",
      "\u001b[m19583 cassand+  20   0 4109112   2.3g 131772 S   1.0 30.3  64:01.91 java        \u001b[m\u001b[m\u001b[K\n",
      "\u001b[m 3179 neo4j     20   0 5880928   2.4g  13960 S   0.7 31.0 701:42.17 java        \u001b[m\u001b[m\u001b[K\n",
      "\u001b[m20097 tomcat    20   0 6148768   1.3g  13776 S   0.7 17.0  17:12.63 java        \u001b[m\u001b[m\u001b[K\n",
      "\u001b[m    3 root      20   0       0      0      0 S   0.3  0.0   0:09.11 ksoftirqd/0 \u001b[m\u001b[m\u001b[K\n",
      "\u001b[m    9 root      20   0       0      0      0 S   0.3  0.0 155:23.92 rcu_sched   \u001b[m\u001b[m\u001b[K\n",
      "\u001b[m\u001b[1m 1621 juser     20   0  162012   2308   1612 R   0.3  0.0   0:00.06 top         \u001b[m\u001b[m\u001b[K\n",
      "\u001b[m 1674 mysql     20   0 1197468  83796    928 S   0.3  1.0  72:02.94 mysqld      \u001b[m\u001b[m\u001b[K\n",
      "\u001b[m12575 dmancic   20   0 4646800  71372  13168 S   0.3  0.9  87:02.91 java        \u001b[m\u001b[m\u001b[K\n",
      "\u001b[m    1 root      20   0  199196   3440   2112 S   0.0  0.0  19:33.58 systemd     \u001b[m\u001b[m\u001b[K\n",
      "\u001b[m    2 root      20   0       0      0      0 S   0.0  0.0   0:00.56 kthreadd    \u001b[m\u001b[m\u001b[K\n",
      "\u001b[m    5 root       0 -20       0      0      0 S   0.0  0.0   0:00.00 kworker/0:+ \u001b[m\u001b[m\u001b[K\n",
      "\u001b[m    7 root      rt   0       0      0      0 S   0.0  0.0   2:31.40 migration/0 \u001b[m\u001b[m\u001b[K\n",
      "\u001b[m    8 root      20   0       0      0      0 S   0.0  0.0   0:00.00 rcu_bh      \u001b[m\u001b[m\u001b[K\n",
      "\u001b[m   10 root       0 -20       0      0      0 S   0.0  0.0   0:00.00 lru-add-dr+ \u001b[m\u001b[m\u001b[K\n",
      "\u001b[m   11 root      rt   0       0      0      0 S   0.0  0.0   0:36.49 watchdog/0  \u001b[m\u001b[m\u001b[K\n",
      "\u001b[m   12 root      rt   0       0      0      0 S   0.0  0.0   0:16.02 watchdog/1  \u001b[m\u001b[m\u001b[K\u001b[?1l\u001b>\u001b[25;1H\n",
      "\u001b[K"
     ]
    }
   ],
   "source": [
    "!top"
   ]
  },
  {
   "cell_type": "code",
   "execution_count": null,
   "metadata": {},
   "outputs": [],
   "source": []
  }
 ],
 "metadata": {
  "kernelspec": {
   "display_name": "Python 3",
   "language": "python",
   "name": "python3"
  },
  "language_info": {
   "codemirror_mode": {
    "name": "ipython",
    "version": 3
   },
   "file_extension": ".py",
   "mimetype": "text/x-python",
   "name": "python",
   "nbconvert_exporter": "python",
   "pygments_lexer": "ipython3",
   "version": "3.7.4"
  }
 },
 "nbformat": 4,
 "nbformat_minor": 2
}
