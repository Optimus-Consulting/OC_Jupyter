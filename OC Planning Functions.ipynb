{
 "cells": [
  {
   "cell_type": "code",
   "execution_count": 40,
   "metadata": {},
   "outputs": [],
   "source": [
    "import math\n",
    "def calWelding(element, workStations, jointLength=12.2, weldingSpeed= 300/1000*24*60, weldingWireOD=2/1000, bevelAngle=(20*3.1459)/180, numberOfWeldMachines=2):\n",
    "    wallThickness = element[\"wallThickness\"]\n",
    "    od = element[\"od\"]\n",
    "    weldVolumeSpeed = math.pow(weldingWireOD,2)*math.pi/4*weldingSpeed\n",
    "    capHeight = 2/46.8 * wallThickness\n",
    "    capArea = math.tan(bevelAngle)*wallThickness*capHeight\n",
    "    weldArea = wallThickness*math.tan(bevelAngle)*wallThickness\n",
    "    weldVolumeNeeded = (capArea+weldArea)*od*math.pi\n",
    "    weldRate = weldVolumeNeeded/weldVolumeSpeed/numberOfWeldMachines #time of welding one pipe\n",
    "    numberOfWeldingStations = len([i for i in workStations if i['Name'] == 'Welding'])\n",
    "    durationPerStation = weldRate / numberOfWeldingStations\n",
    "    print(f\"Welding duration is {weldRate*24*60} min\")\n",
    "    print(f\"Welding per station is {durationPerStation*24*60} min\")\n",
    "    for ws in workStations:\n",
    "        if ws[\"Name\"] == \"Welding\":\n",
    "            ws[\"Duration\"] = durationPerStation*24*60\n",
    "    cycleTime = max([i[\"Duration\"] for i in workStations])  #this should return max duration of all welding stations that have relationship (or name) to this vessel.\n",
    "    print(f\"Cycle time is {cycleTime} min\")\n",
    "    layRate = jointLength / (cycleTime/60/24) # should be around 3000 m/day which corresponds to cycleTime of 5.856 min for 12.2 meter long pipes\n",
    "    print(f\"Lay rate is {layRate} m/day\")\n",
    "    return layRate"
   ]
  },
  {
   "cell_type": "markdown",
   "metadata": {},
   "source": [
    "# slay"
   ]
  },
  {
   "cell_type": "code",
   "execution_count": null,
   "metadata": {},
   "outputs": [],
   "source": [
    "slay=[\n",
    "    {\"stationId\":1, \"Name\":\"Welding\", \"Description\":\"Root pass\", \"Duration\":5},\n",
    "    {\"stationId\":2, \"Name\":\"Welding\", \"Description\":\"Hot pass\", \"Duration\":5},\n",
    "    {\"stationId\":3, \"Name\":\"Welding\", \"Description\":\"Filler\", \"Duration\":5},\n",
    "    {\"stationId\":4, \"Name\":\"Welding\", \"Description\":\"Cap\", \"Duration\":5},\n",
    "    {\"stationId\":5, \"Name\":\"NDT\", \"Description\":\"Xray\", \"Duration\":5},\n",
    "    {\"stationId\":6, \"Name\":\"FJC\", \"Description\":\"HSS\", \"Duration\":5}\n",
    "]"
   ]
  },
  {
   "cell_type": "code",
   "execution_count": 36,
   "metadata": {},
   "outputs": [
    {
     "name": "stdout",
     "output_type": "stream",
     "text": [
      "Welding duration is 73.55642101791453 min\n",
      "Welding per station is 18.389105254478633 min\n",
      "Cycle time is 18.389105254478633 min\n",
      "Lay rate is 955.3482758885915 m/day\n"
     ]
    },
    {
     "data": {
      "text/plain": [
       "955.3482758885915"
      ]
     },
     "execution_count": 36,
     "metadata": {},
     "output_type": "execute_result"
    }
   ],
   "source": [
    "element = {\n",
    "\"wallThickness\": 20/1000,\n",
    "\"od\": 30*25.4/1000\n",
    "}\n",
    "calWelding(element, slay, weldingSpeed= 350/1000*24*60, weldingWireOD=3/1000, bevelAngle=(20*3.1459)/180, numberOfWeldMachines=2)"
   ]
  },
  {
   "cell_type": "code",
   "execution_count": 37,
   "metadata": {},
   "outputs": [
    {
     "name": "stdout",
     "output_type": "stream",
     "text": [
      "Welding duration is 26.553867987467143 min\n",
      "Welding per station is 6.638466996866786 min\n",
      "Cycle time is 6.638466996866786 min\n",
      "Lay rate is 2646.3941160348795 m/day\n"
     ]
    },
    {
     "data": {
      "text/plain": [
       "2646.3941160348795"
      ]
     },
     "execution_count": 37,
     "metadata": {},
     "output_type": "execute_result"
    }
   ],
   "source": [
    "element = {\n",
    "\"wallThickness\": 19/1000,\n",
    "\"od\": 12*25.4/1000\n",
    "}\n",
    "calWelding(element, slay, weldingSpeed= 350/1000*24*60, weldingWireOD=3/1000, bevelAngle=(20*3.1459)/180, numberOfWeldMachines=2)"
   ]
  },
  {
   "cell_type": "markdown",
   "metadata": {},
   "source": [
    "# jlay"
   ]
  },
  {
   "cell_type": "code",
   "execution_count": 41,
   "metadata": {},
   "outputs": [
    {
     "name": "stdout",
     "output_type": "stream",
     "text": [
      "Welding duration is 73.55642101791453 min\n",
      "Welding per station is 73.55642101791453 min\n",
      "Cycle time is 73.55642101791453 min\n",
      "Lay rate is 955.3482758885915 m/day\n"
     ]
    },
    {
     "data": {
      "text/plain": [
       "955.3482758885915"
      ]
     },
     "execution_count": 41,
     "metadata": {},
     "output_type": "execute_result"
    }
   ],
   "source": [
    "jlay=[\n",
    "    {\"stationId\":1, \"Name\":\"Welding\", \"Description\":\"All pass\", \"Duration\":5},\n",
    "    {\"stationId\":2, \"Name\":\"NDT-FJC\", \"Description\":\"Xray, Repair, HSS\", \"Duration\":5}\n",
    "]\n",
    "element = {\n",
    "\"wallThickness\": 20/1000,\n",
    "\"od\": 30*25.4/1000\n",
    "}\n",
    "calWelding(element, jlay,jointLength=12.2*4, weldingSpeed= 350/1000*24*60, weldingWireOD=3/1000, bevelAngle=(20*3.1459)/180, numberOfWeldMachines=2)"
   ]
  },
  {
   "cell_type": "markdown",
   "metadata": {},
   "source": [
    "# Reellay spool base"
   ]
  },
  {
   "cell_type": "markdown",
   "metadata": {},
   "source": [
    "# spool base\n",
    "Spool base has task stalk fabrication that is SF to mobilisation of the reellay vessel. This reporent the latest start date that pipes need to arrive to the spoolbase so the the reellay vessel is not delayed."
   ]
  },
  {
   "cell_type": "code",
   "execution_count": 69,
   "metadata": {},
   "outputs": [],
   "source": [
    "stalk_fabrication_spoolbase=[\n",
    "    {\"stationId\":1, \"Name\":\"Welding\", \"Description\":\"Root pass\", \"Duration\":5},\n",
    "    {\"stationId\":2, \"Name\":\"Welding\", \"Description\":\"Hot pass\", \"Duration\":5},\n",
    "    {\"stationId\":3, \"Name\":\"Welding\", \"Description\":\"Filler\", \"Duration\":5},\n",
    "    {\"stationId\":4, \"Name\":\"Welding\", \"Description\":\"Cap\", \"Duration\":5},\n",
    "    {\"stationId\":5, \"Name\":\"NDT\", \"Description\":\"Xray\", \"Duration\":5},\n",
    "    {\"stationId\":6, \"Name\":\"FJC\", \"Description\":\"HSS\", \"Duration\":5}\n",
    "]\n",
    "reel_spoolbase=[\n",
    "    {\"stationId\":1, \"Name\":\"Welding\", \"Description\":\"All pass\", \"Duration\":5},\n",
    "    {\"stationId\":2, \"Name\":\"NDT-FJC\", \"Description\":\"Xray, Repair, HSS\", \"Duration\":5}\n",
    "]"
   ]
  },
  {
   "cell_type": "code",
   "execution_count": 71,
   "metadata": {
    "scrolled": true
   },
   "outputs": [
    {
     "name": "stdout",
     "output_type": "stream",
     "text": [
      "Welding duration is 73.55642101791453 min\n",
      "Welding per station is 18.389105254478633 min\n",
      "Cycle time is 18.389105254478633 min\n",
      "Lay rate is 955.3482758885915 m/day\n",
      "Task = Stalk fabrication, SF reellay mobilisation, Duration = 8.541387686506468 days\n"
     ]
    }
   ],
   "source": [
    "element = {\n",
    "\"wallThickness\": 20/1000,\n",
    "\"od\": 762/1000,\n",
    "\"length\":12.2\n",
    "}\n",
    "line_length = [8160] #all lines that vessel installs needs to be stalk fabricated before first vessel mobilisation\n",
    "stalk_length = 1000 # the best is if this is a multiple of joints but if not we need to make it\n",
    "no_of_joints_in_stalk = math.floor(stalk_length / element[\"length\"])\n",
    "stalk_length = no_of_joints_in_stalk * element[\"length\"] # making stalk lenth to exact number of joints\n",
    "line_lengths = sum(line_length)\n",
    "stalk_fabrication_time = line_lengths / calWelding(element, stalk_fabrication_spoolbase,jointLength=12.2, weldingSpeed= 350/1000*24*60, weldingWireOD=3/1000, bevelAngle=(20*3.1459)/180, numberOfWeldMachines=2)\n",
    "print(f\"Task = Stalk fabrication, SF reellay mobilisation, Duration = {stalk_fabrication_time} days\")\n",
    "\n"
   ]
  },
  {
   "cell_type": "markdown",
   "metadata": {},
   "source": [
    "# reellay vessel mobilisation"
   ]
  },
  {
   "cell_type": "code",
   "execution_count": 67,
   "metadata": {},
   "outputs": [
    {
     "name": "stdout",
     "output_type": "stream",
     "text": [
      "Welding duration is 73.55642101791453 min\n",
      "Welding per station is 73.55642101791453 min\n",
      "Cycle time is 73.55642101791453 min\n",
      "Lay rate is 19345.802586743976 m/day\n",
      "73.55642101791453\n",
      "Stalk welding = 1.8899913733769707 days\n",
      "Task = Mobilisation (spooling), Duration = 4.320546928932526 days\n"
     ]
    }
   ],
   "source": [
    "no_of_stalk_needed = math.ceil(line_lengths / stalk_length)+1 # this is number of stalk welds, added 1 for pull head\n",
    "stalk_cycle_time = stalk_length/calWelding(element, reel_spoolbase,jointLength=stalk_length, weldingSpeed= 350/1000*24*60, weldingWireOD=3/1000, bevelAngle=(20*3.1459)/180, numberOfWeldMachines=2)\n",
    "stalk_welding_time = no_of_stalk_needed * stalk_cycle_time\n",
    "spooling_speed = 600*24 # m/day\n",
    "spooling_time = line_lengths/spooling_speed\n",
    "mob_time = stalk_welding_time+spooling_time\n",
    "print(f\"Stalk welding = {stalk_welding_time} days\")\n",
    "print(f\"Task = Mobilisation (spooling), Duration = {mob_time} days\")"
   ]
  },
  {
   "cell_type": "code",
   "execution_count": null,
   "metadata": {},
   "outputs": [],
   "source": []
  }
 ],
 "metadata": {
  "kernelspec": {
   "display_name": "Python 3",
   "language": "python",
   "name": "python3"
  },
  "language_info": {
   "codemirror_mode": {
    "name": "ipython",
    "version": 3
   },
   "file_extension": ".py",
   "mimetype": "text/x-python",
   "name": "python",
   "nbconvert_exporter": "python",
   "pygments_lexer": "ipython3",
   "version": "3.7.4"
  },
  "toc": {
   "base_numbering": 1,
   "nav_menu": {},
   "number_sections": false,
   "sideBar": false,
   "skip_h1_title": false,
   "title_cell": "Table of Contents",
   "title_sidebar": "Contents",
   "toc_cell": false,
   "toc_position": {},
   "toc_section_display": false,
   "toc_window_display": false
  }
 },
 "nbformat": 4,
 "nbformat_minor": 2
}
