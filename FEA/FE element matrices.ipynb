{
 "cells": [
  {
   "cell_type": "code",
   "execution_count": 3,
   "metadata": {
    "collapsed": false,
    "jupyter": {
     "outputs_hidden": false
    }
   },
   "outputs": [],
   "source": [
    "import numpy as np\n",
    "import sympy\n",
    "from sympy import symbols, Matrix\n",
    "sympy.init_printing()\n",
    "%matplotlib inline"
   ]
  },
  {
   "cell_type": "markdown",
   "metadata": {},
   "source": [
    "For now, neglect rotational inertia."
   ]
  },
  {
   "cell_type": "markdown",
   "metadata": {},
   "source": [
    "## Interpolation functions"
   ]
  },
  {
   "cell_type": "code",
   "execution_count": 4,
   "metadata": {
    "collapsed": false,
    "jupyter": {
     "outputs_hidden": false
    }
   },
   "outputs": [
    {
     "data": {
      "text/latex": [
       "$\\displaystyle \\left[\\begin{matrix}1 - \\xi & 0.0 & 0.0\\\\0.0 & \\left(1 - \\xi\\right)^{2} \\left(2 \\xi + 1\\right) & 0.0\\\\0.0 & 0.0 & \\left(1 - \\xi\\right)^{2} \\left(2 \\xi + 1\\right)\\\\0.0 & 0.0 & 0.0\\\\0.0 & 0.0 & - l \\xi \\left(1 - \\xi\\right)^{2}\\\\0.0 & l \\xi \\left(1 - \\xi\\right)^{2} & 0.0\\\\\\xi & 0.0 & 0.0\\\\0.0 & \\xi^{2} \\left(3 - 2 \\xi\\right) & 0.0\\\\0.0 & 0.0 & \\xi^{2} \\left(3 - 2 \\xi\\right)\\\\0.0 & 0.0 & 0.0\\\\0.0 & 0.0 & - l \\xi^{2} \\left(\\xi - 1\\right)\\\\0.0 & l \\xi^{2} \\left(\\xi - 1\\right) & 0.0\\end{matrix}\\right]$"
      ],
      "text/plain": [
       "⎡1 - ξ         0.0                 0.0        ⎤\n",
       "⎢                                             ⎥\n",
       "⎢              2                              ⎥\n",
       "⎢ 0.0   (1 - ξ) ⋅(2⋅ξ + 1)         0.0        ⎥\n",
       "⎢                                             ⎥\n",
       "⎢                                  2          ⎥\n",
       "⎢ 0.0          0.0          (1 - ξ) ⋅(2⋅ξ + 1)⎥\n",
       "⎢                                             ⎥\n",
       "⎢ 0.0          0.0                 0.0        ⎥\n",
       "⎢                                             ⎥\n",
       "⎢                                         2   ⎥\n",
       "⎢ 0.0          0.0            -l⋅ξ⋅(1 - ξ)    ⎥\n",
       "⎢                                             ⎥\n",
       "⎢                     2                       ⎥\n",
       "⎢ 0.0      l⋅ξ⋅(1 - ξ)             0.0        ⎥\n",
       "⎢                                             ⎥\n",
       "⎢  ξ           0.0                 0.0        ⎥\n",
       "⎢                                             ⎥\n",
       "⎢           2                                 ⎥\n",
       "⎢ 0.0      ξ ⋅(3 - 2⋅ξ)            0.0        ⎥\n",
       "⎢                                             ⎥\n",
       "⎢                               2             ⎥\n",
       "⎢ 0.0          0.0             ξ ⋅(3 - 2⋅ξ)   ⎥\n",
       "⎢                                             ⎥\n",
       "⎢ 0.0          0.0                 0.0        ⎥\n",
       "⎢                                             ⎥\n",
       "⎢                                 2           ⎥\n",
       "⎢ 0.0          0.0            -l⋅ξ ⋅(ξ - 1)   ⎥\n",
       "⎢                                             ⎥\n",
       "⎢             2                               ⎥\n",
       "⎣ 0.0      l⋅ξ ⋅(ξ - 1)            0.0        ⎦"
      ]
     },
     "execution_count": 4,
     "metadata": {},
     "output_type": "execute_result"
    }
   ],
   "source": [
    "xi, l, rho = symbols('xi, l, rho')\n",
    "\n",
    "# Shape functions\n",
    "S = Matrix(np.zeros((4, 12)))\n",
    "x2 = (1 - xi)\n",
    "S[0, 0 ] =  x2                     # extension\n",
    "S[0, 6 ] =  xi\n",
    "S[1, 1 ] =  x2**2 * (3 - 2*x2)     # y-deflection\n",
    "S[1, 7 ] =  xi**2 * (3 - 2*xi)\n",
    "S[1, 5 ] = -x2**2 * (x2 - 1) * l  \n",
    "S[1, 11] =  xi**2 * (xi - 1) * l  \n",
    "S[2, 2 ] =  x2**2 * (3 - 2*x2)     # z-deflection\n",
    "S[2, 8 ] =  xi**2 * (3 - 2*xi)\n",
    "S[2, 4 ] =  x2**2 * (x2 - 1) * l\n",
    "S[2, 10] = -xi**2 * (xi - 1) * l\n",
    "S[3, 3 ] =  x2                     # torsion\n",
    "S[3, 9 ] =  xi\n",
    "\n",
    "#S[4, 2 ] =  6 * x2 * (x2 - 1) / l  # y-rotation\n",
    "#S[4, 8 ] =  6 * xi * (xi - 1) / l\n",
    "#S[4, 4 ] = -x2 * (3*x2 - 2)  \n",
    "#S[4, 10] =  xi * (3*xi - 2)  \n",
    "#S[5, 1 ] = -6 * x2 * (x2 - 1) / l  # z-rotation\n",
    "#S[5, 7 ] = -6 * xi * (xi - 1) / l\n",
    "#S[5, 5 ] =  x2 * (3*x2 - 2)  \n",
    "#S[5, 11] =  xi * (3*xi - 2)  \n",
    "S[:3, :].T"
   ]
  },
  {
   "cell_type": "code",
   "execution_count": 5,
   "metadata": {
    "collapsed": false,
    "jupyter": {
     "outputs_hidden": false
    }
   },
   "outputs": [
    {
     "data": {
      "image/png": "[encoded data removed]",
      "text/plain": [
       "<Figure size 432x288 with 1 Axes>"
      ]
     },
     "metadata": {
      "needs_background": "light"
     },
     "output_type": "display_data"
    },
    {
     "data": {
      "image/png": "[encoded data removed]",
      "text/plain": [
       "<Figure size 432x288 with 1 Axes>"
      ]
     },
     "metadata": {
      "needs_background": "light"
     },
     "output_type": "display_data"
    },
    {
     "data": {
      "image/png": "[encoded data removed]",
      "text/plain": [
       "<Figure size 432x288 with 1 Axes>"
      ]
     },
     "metadata": {
      "needs_background": "light"
     },
     "output_type": "display_data"
    },
    {
     "data": {
      "image/png": "[encoded data removed]",
      "text/plain": [
       "<Figure size 432x288 with 1 Axes>"
      ]
     },
     "metadata": {
      "needs_background": "light"
     },
     "output_type": "display_data"
    }
   ],
   "source": [
    "titles = ['x-defl', 'y-defl', 'z-defl', 'torsion']\n",
    "for i in range(4):\n",
    "    sympy.plot(*([xx.subs(l, 2) for xx in S[i,:] if xx != 0] + [(xi, 0, 1)]), \n",
    "               title=titles[i])"
   ]
  },
  {
   "cell_type": "markdown",
   "metadata": {},
   "source": [
    "### Mass matrix"
   ]
  },
  {
   "cell_type": "markdown",
   "metadata": {},
   "source": [
    "Define the density distribution (linear):"
   ]
  },
  {
   "cell_type": "code",
   "execution_count": 6,
   "metadata": {
    "collapsed": false,
    "jupyter": {
     "outputs_hidden": false
    }
   },
   "outputs": [
    {
     "data": {
      "image/png": "[encoded data removed]",
      "text/latex": [
       "$\\displaystyle \\rho_{1} \\left(1 - \\xi\\right) + \\rho_{2} \\xi$"
      ],
      "text/plain": [
       "ρ₁⋅(1 - ξ) + ρ₂⋅ξ"
      ]
     },
     "execution_count": 6,
     "metadata": {},
     "output_type": "execute_result"
    }
   ],
   "source": [
    "rho1, rho2 = symbols('rho_1, rho_2')\n",
    "rho = (1 - xi)*rho1 + xi*rho2\n",
    "rho"
   ]
  },
  {
   "cell_type": "markdown",
   "metadata": {},
   "source": [
    "Integrate the density distribution with the shape functions."
   ]
  },
  {
   "cell_type": "code",
   "execution_count": 7,
   "metadata": {
    "collapsed": false,
    "jupyter": {
     "outputs_hidden": false
    }
   },
   "outputs": [
    {
     "data": {
      "image/png": "[encoded data removed]",
      "text/latex": [
       "$\\displaystyle \\left( 12, \\  12\\right)$"
      ],
      "text/plain": [
       "(12, 12)"
      ]
     },
     "execution_count": 7,
     "metadata": {},
     "output_type": "execute_result"
    }
   ],
   "source": [
    "def sym_me():\n",
    "    m = Matrix(np.diag([rho, rho, rho, 0]))\n",
    "    integrand = S.T * m * S\n",
    "    me = integrand.applyfunc(\n",
    "        lambda xxx: l * sympy.integrate(xxx, (xi, 0, 1)).expand().factor()\n",
    "    )\n",
    "    return me\n",
    "me = sym_me()\n",
    "me.shape"
   ]
  },
  {
   "cell_type": "code",
   "execution_count": 8,
   "metadata": {
    "collapsed": false,
    "jupyter": {
     "outputs_hidden": false
    }
   },
   "outputs": [
    {
     "data": {
      "text/latex": [
       "$\\displaystyle \\left[\\begin{array}{cccccccccccc}\\frac{l \\left(3 \\rho_{1} + \\rho_{2}\\right)}{12} & 0 & 0 & 0 & 0 & 0 & \\frac{l \\left(\\rho_{1} + \\rho_{2}\\right)}{12} & 0 & 0 & 0 & 0 & 0\\end{array}\\right]$"
      ],
      "text/plain": [
       "⎡l⋅(3⋅ρ₁ + ρ₂)                 l⋅(ρ₁ + ρ₂)               ⎤\n",
       "⎢─────────────  0  0  0  0  0  ───────────  0  0  0  0  0⎥\n",
       "⎣      12                           12                   ⎦"
      ]
     },
     "execution_count": 8,
     "metadata": {},
     "output_type": "execute_result"
    }
   ],
   "source": [
    "me[0,:]"
   ]
  },
  {
   "cell_type": "code",
   "execution_count": 9,
   "metadata": {
    "collapsed": false,
    "jupyter": {
     "outputs_hidden": false
    }
   },
   "outputs": [
    {
     "data": {
      "text/latex": [
       "$\\displaystyle \\left[\\begin{array}{cccccccccccc}\\frac{l \\left(\\rho_{1} + \\rho_{2}\\right)}{12} & 0 & 0 & 0 & 0 & 0 & \\frac{l \\left(\\rho_{1} + 3 \\rho_{2}\\right)}{12} & 0 & 0 & 0 & 0 & 0\\end{array}\\right]$"
      ],
      "text/plain": [
       "⎡l⋅(ρ₁ + ρ₂)                 l⋅(ρ₁ + 3⋅ρ₂)               ⎤\n",
       "⎢───────────  0  0  0  0  0  ─────────────  0  0  0  0  0⎥\n",
       "⎣     12                           12                    ⎦"
      ]
     },
     "execution_count": 9,
     "metadata": {},
     "output_type": "execute_result"
    }
   ],
   "source": [
    "me[6,:]"
   ]
  },
  {
   "cell_type": "code",
   "execution_count": 10,
   "metadata": {
    "collapsed": false,
    "jupyter": {
     "outputs_hidden": false
    }
   },
   "outputs": [
    {
     "data": {
      "text/latex": [
       "$\\displaystyle \\left[\\begin{array}{cccccccccccc}0 & \\frac{l \\left(10 \\rho_{1} + 3 \\rho_{2}\\right)}{35} & 0 & 0 & 0 & \\frac{l^{2} \\left(15 \\rho_{1} + 7 \\rho_{2}\\right)}{420} & 0 & \\frac{9 l \\left(\\rho_{1} + \\rho_{2}\\right)}{140} & 0 & 0 & 0 & - \\frac{l^{2} \\left(7 \\rho_{1} + 6 \\rho_{2}\\right)}{420}\\end{array}\\right]$"
      ],
      "text/plain": [
       "⎡                               2                                             \n",
       "⎢   l⋅(10⋅ρ₁ + 3⋅ρ₂)           l ⋅(15⋅ρ₁ + 7⋅ρ₂)     9⋅l⋅(ρ₁ + ρ₂)           -\n",
       "⎢0  ────────────────  0  0  0  ─────────────────  0  ─────────────  0  0  0  ─\n",
       "⎣          35                         420                 140                 \n",
       "\n",
       " 2               ⎤\n",
       "l ⋅(7⋅ρ₁ + 6⋅ρ₂) ⎥\n",
       "─────────────────⎥\n",
       "      420        ⎦"
      ]
     },
     "execution_count": 10,
     "metadata": {},
     "output_type": "execute_result"
    }
   ],
   "source": [
    "me[1,:]"
   ]
  },
  {
   "cell_type": "markdown",
   "metadata": {},
   "source": [
    "Special case: rho1 == rho2"
   ]
  },
  {
   "cell_type": "code",
   "execution_count": 11,
   "metadata": {
    "collapsed": false,
    "jupyter": {
     "outputs_hidden": false
    }
   },
   "outputs": [
    {
     "data": {
      "text/latex": [
       "$\\displaystyle \\left[\\begin{array}{cccccccccccc}\\frac{l}{3} & 0 & 0 & 0 & 0 & 0 & \\frac{l}{6} & 0 & 0 & 0 & 0 & 0\\\\0 & \\frac{13 l}{35} & 0 & 0 & 0 & \\frac{11 l^{2}}{210} & 0 & \\frac{9 l}{70} & 0 & 0 & 0 & - \\frac{13 l^{2}}{420}\\\\0 & 0 & \\frac{13 l}{35} & 0 & - \\frac{11 l^{2}}{210} & 0 & 0 & 0 & \\frac{9 l}{70} & 0 & \\frac{13 l^{2}}{420} & 0\\\\0 & 0 & 0 & 0 & 0 & 0 & 0 & 0 & 0 & 0 & 0 & 0\\\\0 & 0 & - \\frac{11 l^{2}}{210} & 0 & \\frac{l^{3}}{105} & 0 & 0 & 0 & - \\frac{13 l^{2}}{420} & 0 & - \\frac{l^{3}}{140} & 0\\\\0 & \\frac{11 l^{2}}{210} & 0 & 0 & 0 & \\frac{l^{3}}{105} & 0 & \\frac{13 l^{2}}{420} & 0 & 0 & 0 & - \\frac{l^{3}}{140}\\\\\\frac{l}{6} & 0 & 0 & 0 & 0 & 0 & \\frac{l}{3} & 0 & 0 & 0 & 0 & 0\\\\0 & \\frac{9 l}{70} & 0 & 0 & 0 & \\frac{13 l^{2}}{420} & 0 & \\frac{13 l}{35} & 0 & 0 & 0 & - \\frac{11 l^{2}}{210}\\\\0 & 0 & \\frac{9 l}{70} & 0 & - \\frac{13 l^{2}}{420} & 0 & 0 & 0 & \\frac{13 l}{35} & 0 & \\frac{11 l^{2}}{210} & 0\\\\0 & 0 & 0 & 0 & 0 & 0 & 0 & 0 & 0 & 0 & 0 & 0\\\\0 & 0 & \\frac{13 l^{2}}{420} & 0 & - \\frac{l^{3}}{140} & 0 & 0 & 0 & \\frac{11 l^{2}}{210} & 0 & \\frac{l^{3}}{105} & 0\\\\0 & - \\frac{13 l^{2}}{420} & 0 & 0 & 0 & - \\frac{l^{3}}{140} & 0 & - \\frac{11 l^{2}}{210} & 0 & 0 & 0 & \\frac{l^{3}}{105}\\end{array}\\right]$"
      ],
      "text/plain": [
       "⎡l                                       l                                    \n",
       "⎢─     0        0     0     0       0    ─     0        0     0    0       0  \n",
       "⎢3                                       6                                    \n",
       "⎢                                                                             \n",
       "⎢                                     2                                      2\n",
       "⎢    13⋅l                         11⋅l        9⋅l                       -13⋅l \n",
       "⎢0   ────       0     0     0     ─────  0    ───       0     0    0    ──────\n",
       "⎢     35                           210         70                         420 \n",
       "⎢                                                                             \n",
       "⎢                             2                                      2        \n",
       "⎢             13⋅l       -11⋅l                         9⋅l       13⋅l         \n",
       "⎢0     0      ────    0  ───────    0    0     0       ───    0  ─────     0  \n",
       "⎢              35          210                          70        420         \n",
       "⎢                                                                             \n",
       "⎢0     0        0     0     0       0    0     0        0     0    0       0  \n",
       "⎢                                                                             \n",
       "⎢                 2          3                            2        3          \n",
       "⎢            -11⋅l          l                        -13⋅l       -l           \n",
       "⎢0     0     ───────  0    ───      0    0     0     ───────  0  ────      0  \n",
       "⎢              210         105                         420       140          \n",
       "⎢                                                                             \n",
       "⎢        2                           3           2                         3  \n",
       "⎢    11⋅l                           l        13⋅l                        -l   \n",
       "⎢0   ─────      0     0     0      ───   0   ─────      0     0    0     ──── \n",
       "⎢     210                          105        420                        140  \n",
       "⎢                                                                             \n",
       "⎢l                                       l                                    \n",
       "⎢─     0        0     0     0       0    ─     0        0     0    0       0  \n",
       "⎢6                                       3                                    \n",
       "⎢                                                                             \n",
       "⎢                                     2                                      2\n",
       "⎢     9⋅l                         13⋅l       13⋅l                       -11⋅l \n",
       "⎢0    ───       0     0     0     ─────  0   ────       0     0    0    ──────\n",
       "⎢      70                          420        35                          210 \n",
       "⎢                                                                             \n",
       "⎢                             2                                      2        \n",
       "⎢              9⋅l       -13⋅l                        13⋅l       11⋅l         \n",
       "⎢0     0       ───    0  ───────    0    0     0      ────    0  ─────     0  \n",
       "⎢               70         420                         35         210         \n",
       "⎢                                                                             \n",
       "⎢0     0        0     0     0       0    0     0        0     0    0       0  \n",
       "⎢                                                                             \n",
       "⎢                 2         3                             2         3         \n",
       "⎢             13⋅l        -l                          11⋅l         l          \n",
       "⎢0     0      ─────   0   ────      0    0     0      ─────   0   ───      0  \n",
       "⎢              420        140                          210        105         \n",
       "⎢                                                                             \n",
       "⎢        2                          3            2                          3 \n",
       "⎢   -13⋅l                         -l        -11⋅l                          l  \n",
       "⎢0  ───────     0     0     0     ────   0  ───────     0     0    0      ─── \n",
       "⎣     420                         140         210                         105 \n",
       "\n",
       " ⎤\n",
       " ⎥\n",
       " ⎥\n",
       " ⎥\n",
       " ⎥\n",
       " ⎥\n",
       "─⎥\n",
       " ⎥\n",
       " ⎥\n",
       " ⎥\n",
       " ⎥\n",
       " ⎥\n",
       " ⎥\n",
       " ⎥\n",
       " ⎥\n",
       " ⎥\n",
       " ⎥\n",
       " ⎥\n",
       " ⎥\n",
       " ⎥\n",
       " ⎥\n",
       " ⎥\n",
       " ⎥\n",
       " ⎥\n",
       " ⎥\n",
       " ⎥\n",
       " ⎥\n",
       " ⎥\n",
       " ⎥\n",
       " ⎥\n",
       " ⎥\n",
       " ⎥\n",
       "─⎥\n",
       " ⎥\n",
       " ⎥\n",
       " ⎥\n",
       " ⎥\n",
       " ⎥\n",
       " ⎥\n",
       " ⎥\n",
       " ⎥\n",
       " ⎥\n",
       " ⎥\n",
       " ⎥\n",
       " ⎥\n",
       " ⎥\n",
       " ⎥\n",
       " ⎥\n",
       " ⎥\n",
       " ⎥\n",
       " ⎦"
      ]
     },
     "execution_count": 11,
     "metadata": {},
     "output_type": "execute_result"
    }
   ],
   "source": [
    "me.subs({rho2: rho1})/rho1"
   ]
  },
  {
   "cell_type": "markdown",
   "metadata": {},
   "source": [
    "### Shape integrals"
   ]
  },
  {
   "cell_type": "markdown",
   "metadata": {},
   "source": [
    "As well as the actual mass matrix, the shape integrals are needed for the multibody dynamics equations:\n",
    "\n",
    "\\begin{align}\n",
    "m                   &= \\int \\mathrm{d}m      \\\\\n",
    "\\boldsymbol{S}      &= \\int \\boldsymbol{S} \\mathrm{d}m  \\\\\n",
    "\\boldsymbol{S}_{kl} &= \\int \\boldsymbol{S}_k^T \\boldsymbol{S}_l \\mathrm{d}m\n",
    "\\end{align}\n",
    "where $\\boldsymbol{S}_k$ is the $k$th row of the element shape function."
   ]
  },
  {
   "cell_type": "markdown",
   "metadata": {},
   "source": [
    "The mass is the average density times the length:"
   ]
  },
  {
   "cell_type": "code",
   "execution_count": 12,
   "metadata": {
    "collapsed": false,
    "jupyter": {
     "outputs_hidden": false
    }
   },
   "outputs": [
    {
     "data": {
      "image/png": "[encoded data removed]",
      "text/latex": [
       "$\\displaystyle \\frac{l \\left(\\rho_{1} + \\rho_{2}\\right)}{2}$"
      ],
      "text/plain": [
       "l⋅(ρ₁ + ρ₂)\n",
       "───────────\n",
       "     2     "
      ]
     },
     "execution_count": 12,
     "metadata": {},
     "output_type": "execute_result"
    }
   ],
   "source": [
    "mass = l * sympy.integrate(rho, (xi, 0, 1)).factor()\n",
    "mass"
   ]
  },
  {
   "cell_type": "markdown",
   "metadata": {},
   "source": [
    "First shape integral:"
   ]
  },
  {
   "cell_type": "code",
   "execution_count": 13,
   "metadata": {
    "collapsed": false,
    "jupyter": {
     "outputs_hidden": false
    }
   },
   "outputs": [
    {
     "data": {
      "text/latex": [
       "$\\displaystyle \\left[\\begin{matrix}l \\left(\\frac{\\rho_{1}}{3} + \\frac{\\rho_{2}}{6}\\right) & 0 & 0\\\\0 & l \\left(\\frac{7 \\rho_{1}}{20} + \\frac{3 \\rho_{2}}{20}\\right) & 0\\\\0 & 0 & l \\left(\\frac{7 \\rho_{1}}{20} + \\frac{3 \\rho_{2}}{20}\\right)\\\\0 & 0 & 0\\\\0 & 0 & - \\frac{l^{2} \\left(3 \\rho_{1} + 2 \\rho_{2}\\right)}{60}\\\\0 & \\frac{l^{2} \\left(3 \\rho_{1} + 2 \\rho_{2}\\right)}{60} & 0\\\\l \\left(\\frac{\\rho_{1}}{6} + \\frac{\\rho_{2}}{3}\\right) & 0 & 0\\\\0 & l \\left(\\frac{3 \\rho_{1}}{20} + \\frac{7 \\rho_{2}}{20}\\right) & 0\\\\0 & 0 & l \\left(\\frac{3 \\rho_{1}}{20} + \\frac{7 \\rho_{2}}{20}\\right)\\\\0 & 0 & 0\\\\0 & 0 & \\frac{l^{2} \\left(2 \\rho_{1} + 3 \\rho_{2}\\right)}{60}\\\\0 & - \\frac{l^{2} \\left(2 \\rho_{1} + 3 \\rho_{2}\\right)}{60} & 0\\end{matrix}\\right]$"
      ],
      "text/plain": [
       "⎡  ⎛ρ₁   ρ₂⎞                                        ⎤\n",
       "⎢l⋅⎜── + ──⎟          0                   0         ⎥\n",
       "⎢  ⎝3    6 ⎠                                        ⎥\n",
       "⎢                                                   ⎥\n",
       "⎢                ⎛7⋅ρ₁   3⋅ρ₂⎞                      ⎥\n",
       "⎢     0        l⋅⎜──── + ────⎟            0         ⎥\n",
       "⎢                ⎝ 20     20 ⎠                      ⎥\n",
       "⎢                                                   ⎥\n",
       "⎢                                    ⎛7⋅ρ₁   3⋅ρ₂⎞  ⎥\n",
       "⎢     0               0            l⋅⎜──── + ────⎟  ⎥\n",
       "⎢                                    ⎝ 20     20 ⎠  ⎥\n",
       "⎢                                                   ⎥\n",
       "⎢     0               0                   0         ⎥\n",
       "⎢                                                   ⎥\n",
       "⎢                                   2               ⎥\n",
       "⎢                                 -l ⋅(3⋅ρ₁ + 2⋅ρ₂) ⎥\n",
       "⎢     0               0           ──────────────────⎥\n",
       "⎢                                         60        ⎥\n",
       "⎢                                                   ⎥\n",
       "⎢               2                                   ⎥\n",
       "⎢              l ⋅(3⋅ρ₁ + 2⋅ρ₂)                     ⎥\n",
       "⎢     0        ────────────────           0         ⎥\n",
       "⎢                     60                            ⎥\n",
       "⎢                                                   ⎥\n",
       "⎢  ⎛ρ₁   ρ₂⎞                                        ⎥\n",
       "⎢l⋅⎜── + ──⎟          0                   0         ⎥\n",
       "⎢  ⎝6    3 ⎠                                        ⎥\n",
       "⎢                                                   ⎥\n",
       "⎢                ⎛3⋅ρ₁   7⋅ρ₂⎞                      ⎥\n",
       "⎢     0        l⋅⎜──── + ────⎟            0         ⎥\n",
       "⎢                ⎝ 20     20 ⎠                      ⎥\n",
       "⎢                                                   ⎥\n",
       "⎢                                    ⎛3⋅ρ₁   7⋅ρ₂⎞  ⎥\n",
       "⎢     0               0            l⋅⎜──── + ────⎟  ⎥\n",
       "⎢                                    ⎝ 20     20 ⎠  ⎥\n",
       "⎢                                                   ⎥\n",
       "⎢     0               0                   0         ⎥\n",
       "⎢                                                   ⎥\n",
       "⎢                                   2               ⎥\n",
       "⎢                                  l ⋅(2⋅ρ₁ + 3⋅ρ₂) ⎥\n",
       "⎢     0               0            ──────────────── ⎥\n",
       "⎢                                         60        ⎥\n",
       "⎢                                                   ⎥\n",
       "⎢               2                                   ⎥\n",
       "⎢             -l ⋅(2⋅ρ₁ + 3⋅ρ₂)                     ⎥\n",
       "⎢     0       ──────────────────          0         ⎥\n",
       "⎣                     60                            ⎦"
      ]
     },
     "execution_count": 13,
     "metadata": {},
     "output_type": "execute_result"
    }
   ],
   "source": [
    "shape_integral_1 = S[:3, :].applyfunc(\n",
    "    lambda xxx: l * sympy.integrate(rho * xxx, (xi, 0, 1)).expand().simplify()\n",
    ")\n",
    "shape_integral_1.T"
   ]
  },
  {
   "cell_type": "code",
   "execution_count": 14,
   "metadata": {
    "collapsed": false,
    "jupyter": {
     "outputs_hidden": false
    }
   },
   "outputs": [],
   "source": [
    "shape_integral_2 = [\n",
    "    [l * (S[i, :].T * S[j, :]).applyfunc(\n",
    "        lambda xxx: sympy.integrate(rho * xxx, (xi, 0, 1)).expand().simplify())\n",
    "     for j in range(3)]\n",
    "    for i in range(3)\n",
    "]"
   ]
  },
  {
   "cell_type": "markdown",
   "metadata": {},
   "source": [
    "The mass matrix should be the same as the trace of the 2nd shape integrals:"
   ]
  },
  {
   "cell_type": "code",
   "execution_count": 15,
   "metadata": {
    "collapsed": false,
    "jupyter": {
     "outputs_hidden": false
    }
   },
   "outputs": [
    {
     "data": {
      "text/latex": [
       "$\\displaystyle \\left[\\begin{array}{cccccccccccc}0 & 0 & 0 & 0 & 0 & 0 & 0 & 0 & 0 & 0 & 0 & 0\\\\0 & 0 & 0 & 0 & 0 & 0 & 0 & 0 & 0 & 0 & 0 & 0\\\\0 & 0 & 0 & 0 & 0 & 0 & 0 & 0 & 0 & 0 & 0 & 0\\\\0 & 0 & 0 & 0 & 0 & 0 & 0 & 0 & 0 & 0 & 0 & 0\\\\0 & 0 & 0 & 0 & 0 & 0 & 0 & 0 & 0 & 0 & 0 & 0\\\\0 & 0 & 0 & 0 & 0 & 0 & 0 & 0 & 0 & 0 & 0 & 0\\\\0 & 0 & 0 & 0 & 0 & 0 & 0 & 0 & 0 & 0 & 0 & 0\\\\0 & 0 & 0 & 0 & 0 & 0 & 0 & 0 & 0 & 0 & 0 & 0\\\\0 & 0 & 0 & 0 & 0 & 0 & 0 & 0 & 0 & 0 & 0 & 0\\\\0 & 0 & 0 & 0 & 0 & 0 & 0 & 0 & 0 & 0 & 0 & 0\\\\0 & 0 & 0 & 0 & 0 & 0 & 0 & 0 & 0 & 0 & 0 & 0\\\\0 & 0 & 0 & 0 & 0 & 0 & 0 & 0 & 0 & 0 & 0 & 0\\end{array}\\right]$"
      ],
      "text/plain": [
       "⎡0  0  0  0  0  0  0  0  0  0  0  0⎤\n",
       "⎢                                  ⎥\n",
       "⎢0  0  0  0  0  0  0  0  0  0  0  0⎥\n",
       "⎢                                  ⎥\n",
       "⎢0  0  0  0  0  0  0  0  0  0  0  0⎥\n",
       "⎢                                  ⎥\n",
       "⎢0  0  0  0  0  0  0  0  0  0  0  0⎥\n",
       "⎢                                  ⎥\n",
       "⎢0  0  0  0  0  0  0  0  0  0  0  0⎥\n",
       "⎢                                  ⎥\n",
       "⎢0  0  0  0  0  0  0  0  0  0  0  0⎥\n",
       "⎢                                  ⎥\n",
       "⎢0  0  0  0  0  0  0  0  0  0  0  0⎥\n",
       "⎢                                  ⎥\n",
       "⎢0  0  0  0  0  0  0  0  0  0  0  0⎥\n",
       "⎢                                  ⎥\n",
       "⎢0  0  0  0  0  0  0  0  0  0  0  0⎥\n",
       "⎢                                  ⎥\n",
       "⎢0  0  0  0  0  0  0  0  0  0  0  0⎥\n",
       "⎢                                  ⎥\n",
       "⎢0  0  0  0  0  0  0  0  0  0  0  0⎥\n",
       "⎢                                  ⎥\n",
       "⎣0  0  0  0  0  0  0  0  0  0  0  0⎦"
      ]
     },
     "execution_count": 15,
     "metadata": {},
     "output_type": "execute_result"
    }
   ],
   "source": [
    "(shape_integral_2[0][0] + shape_integral_2[1][1] + shape_integral_2[2][2] - me).expand()"
   ]
  },
  {
   "cell_type": "markdown",
   "metadata": {},
   "source": [
    "### Stiffness matrix"
   ]
  },
  {
   "cell_type": "markdown",
   "metadata": {},
   "source": [
    "Differentiate the shape functions:"
   ]
  },
  {
   "cell_type": "code",
   "execution_count": 16,
   "metadata": {
    "collapsed": false,
    "jupyter": {
     "outputs_hidden": false
    }
   },
   "outputs": [],
   "source": [
    "B = Matrix(np.zeros((4, 12)))\n",
    "B[0, :] = S[0, :].diff(xi, 1) / l\n",
    "B[1, :] = S[1, :].diff(xi, 2) / l**2\n",
    "B[2, :] = S[2, :].diff(xi, 2) / l**2\n",
    "B[3, :] = S[3, :].diff(xi, 1) / l\n",
    "B.simplify()"
   ]
  },
  {
   "cell_type": "code",
   "execution_count": 17,
   "metadata": {
    "collapsed": false,
    "jupyter": {
     "outputs_hidden": false
    }
   },
   "outputs": [
    {
     "data": {
      "text/latex": [
       "$\\displaystyle \\left[\\begin{matrix}- \\frac{1}{l} & 0 & 0 & 0 & 0 & 0\\\\0 & \\frac{6 \\left(2 \\xi - 1\\right)}{l^{2}} & 0 & 0 & 0 & \\frac{2 \\left(3 \\xi - 2\\right)}{l}\\\\0 & 0 & \\frac{6 \\left(2 \\xi - 1\\right)}{l^{2}} & 0 & \\frac{2 \\left(2 - 3 \\xi\\right)}{l} & 0\\\\0 & 0 & 0 & - \\frac{1}{l} & 0 & 0\\end{matrix}\\right]$"
      ],
      "text/plain": [
       "⎡-1                                                          ⎤\n",
       "⎢───       0            0        0        0            0     ⎥\n",
       "⎢ l                                                          ⎥\n",
       "⎢                                                            ⎥\n",
       "⎢     6⋅(2⋅ξ - 1)                                 2⋅(3⋅ξ - 2)⎥\n",
       "⎢ 0   ───────────       0        0        0       ───────────⎥\n",
       "⎢           2                                          l     ⎥\n",
       "⎢          l                                                 ⎥\n",
       "⎢                                                            ⎥\n",
       "⎢                  6⋅(2⋅ξ - 1)       2⋅(2 - 3⋅ξ)             ⎥\n",
       "⎢ 0        0       ───────────   0   ───────────       0     ⎥\n",
       "⎢                        2                l                  ⎥\n",
       "⎢                       l                                    ⎥\n",
       "⎢                                                            ⎥\n",
       "⎢                               -1                           ⎥\n",
       "⎢ 0        0            0       ───       0            0     ⎥\n",
       "⎣                                l                           ⎦"
      ]
     },
     "execution_count": 17,
     "metadata": {},
     "output_type": "execute_result"
    }
   ],
   "source": [
    "B[:, :6]"
   ]
  },
  {
   "cell_type": "code",
   "execution_count": 18,
   "metadata": {
    "collapsed": false,
    "jupyter": {
     "outputs_hidden": false
    }
   },
   "outputs": [
    {
     "data": {
      "text/latex": [
       "$\\displaystyle \\left[\\begin{matrix}\\frac{1}{l} & 0 & 0 & 0 & 0 & 0\\\\0 & \\frac{6 \\left(1 - 2 \\xi\\right)}{l^{2}} & 0 & 0 & 0 & \\frac{2 \\left(3 \\xi - 1\\right)}{l}\\\\0 & 0 & \\frac{6 \\left(1 - 2 \\xi\\right)}{l^{2}} & 0 & \\frac{2 \\left(1 - 3 \\xi\\right)}{l} & 0\\\\0 & 0 & 0 & \\frac{1}{l} & 0 & 0\\end{matrix}\\right]$"
      ],
      "text/plain": [
       "⎡1                                                       ⎤\n",
       "⎢─       0            0       0       0            0     ⎥\n",
       "⎢l                                                       ⎥\n",
       "⎢                                                        ⎥\n",
       "⎢   6⋅(1 - 2⋅ξ)                               2⋅(3⋅ξ - 1)⎥\n",
       "⎢0  ───────────       0       0       0       ───────────⎥\n",
       "⎢         2                                        l     ⎥\n",
       "⎢        l                                               ⎥\n",
       "⎢                                                        ⎥\n",
       "⎢                6⋅(1 - 2⋅ξ)     2⋅(1 - 3⋅ξ)             ⎥\n",
       "⎢0       0       ───────────  0  ───────────       0     ⎥\n",
       "⎢                      2              l                  ⎥\n",
       "⎢                     l                                  ⎥\n",
       "⎢                                                        ⎥\n",
       "⎢                             1                          ⎥\n",
       "⎢0       0            0       ─       0            0     ⎥\n",
       "⎣                             l                          ⎦"
      ]
     },
     "execution_count": 18,
     "metadata": {},
     "output_type": "execute_result"
    }
   ],
   "source": [
    "B[:, 6:]"
   ]
  },
  {
   "cell_type": "code",
   "execution_count": 19,
   "metadata": {
    "collapsed": false,
    "jupyter": {
     "outputs_hidden": false
    }
   },
   "outputs": [
    {
     "data": {
      "image/png": "[encoded data removed]",
      "text/plain": [
       "<Figure size 432x288 with 1 Axes>"
      ]
     },
     "metadata": {
      "needs_background": "light"
     },
     "output_type": "display_data"
    },
    {
     "data": {
      "image/png": "[encoded data removed]",
      "text/plain": [
       "<Figure size 432x288 with 1 Axes>"
      ]
     },
     "metadata": {
      "needs_background": "light"
     },
     "output_type": "display_data"
    },
    {
     "data": {
      "image/png": "[encoded data removed]",
      "text/plain": [
       "<Figure size 432x288 with 1 Axes>"
      ]
     },
     "metadata": {
      "needs_background": "light"
     },
     "output_type": "display_data"
    },
    {
     "data": {
      "image/png": "[encoded data removed]",
      "text/plain": [
       "<Figure size 432x288 with 1 Axes>"
      ]
     },
     "metadata": {
      "needs_background": "light"
     },
     "output_type": "display_data"
    }
   ],
   "source": [
    "titles = ['x-defl', 'y-defl', 'z-defl', 'torsion']\n",
    "for i in range(4):\n",
    "    sympy.plot(*([xx.subs(l, 2) for xx in B[i,:] if xx != 0] + [(xi, 0, 1)]), \n",
    "               title=titles[i])"
   ]
  },
  {
   "cell_type": "markdown",
   "metadata": {},
   "source": [
    "Define the stiffness distribution (linear):"
   ]
  },
  {
   "cell_type": "code",
   "execution_count": 20,
   "metadata": {
    "collapsed": false,
    "jupyter": {
     "outputs_hidden": false
    }
   },
   "outputs": [
    {
     "data": {
      "image/png": "[encoded data removed]",
      "text/latex": [
       "$\\displaystyle \\left( EA_{1} \\left(1 - \\xi\\right) + EA_{2} \\xi, \\  EIy_{1} \\left(1 - \\xi\\right) + EIy_{2} \\xi, \\  EIz_{1} \\left(1 - \\xi\\right) + EIz_{2} \\xi, \\  GJ_{1} \\left(1 - \\xi\\right) + GJ_{2} \\xi\\right)$"
      ],
      "text/plain": [
       "(EA₁⋅(1 - ξ) + EA₂⋅ξ, EIy₁⋅(1 - ξ) + EIy₂⋅ξ, EIz₁⋅(1 - ξ) + EIz₂⋅ξ, GJ₁⋅(1 - ξ\n",
       ") + GJ₂⋅ξ)"
      ]
     },
     "execution_count": 20,
     "metadata": {},
     "output_type": "execute_result"
    }
   ],
   "source": [
    "EA1, EA2, EIy1, EIy2, EIz1, EIz2, GJ1, GJ2 = symbols('EA_1, EA_2, EIy_1, EIy_2, EIz_1, EIz_2, GJ_1, GJ_2')\n",
    "EA  = (1 - xi)*EA1  + xi*EA2\n",
    "EIy = (1 - xi)*EIy1 + xi*EIy2\n",
    "EIz = (1 - xi)*EIz1 + xi*EIz2\n",
    "GJ  = (1 - xi)*GJ1  + xi*GJ2\n",
    "EA, EIy, EIz, GJ"
   ]
  },
  {
   "cell_type": "markdown",
   "metadata": {},
   "source": [
    "Note that $EI_y$ refers to the stiffness for bending in the $y$-direction, not about the $y$ axis.\n",
    "\n",
    "Try and simplify results by using the average values where they come up"
   ]
  },
  {
   "cell_type": "code",
   "execution_count": 21,
   "metadata": {
    "collapsed": false,
    "jupyter": {
     "outputs_hidden": false
    }
   },
   "outputs": [],
   "source": [
    "Ex, Ey, Ez, Gx = symbols('E_x, E_y, E_z, G_x')"
   ]
  },
  {
   "cell_type": "code",
   "execution_count": 22,
   "metadata": {
    "collapsed": false,
    "jupyter": {
     "outputs_hidden": false
    }
   },
   "outputs": [],
   "source": [
    "def sym_ke():\n",
    "    # Note the order -- y deflections depend on EIz etc\n",
    "    E = Matrix(np.diag([EA, EIz, EIy, GJ]))\n",
    "    integrand = B.T * E * B\n",
    "    ke = integrand.applyfunc(\n",
    "        lambda xxx: l * sympy.integrate(xxx, (xi, 0, 1)).factor() #.subs((EA1+EA2), 2*Ex) #.expand().factor()\n",
    "    )\n",
    "    return ke\n",
    "ke = sym_ke()\n",
    "\n",
    "def simplify_ke(ke, EI=False):\n",
    "    result = ke.applyfunc(\n",
    "        lambda xxx: xxx.subs((EA1+EA2), 2*Ex).subs((GJ1+GJ2), 2*Gx))\n",
    "    if EI:\n",
    "        result = result.applyfunc(\n",
    "            lambda xxx: xxx.subs((EIy1+EIy2), 2*Ey).subs((EIz1+EIz2), 2*Ez))\n",
    "    return result\n",
    "kem = simplify_ke(ke, True)"
   ]
  },
  {
   "cell_type": "code",
   "execution_count": 23,
   "metadata": {
    "collapsed": false,
    "jupyter": {
     "outputs_hidden": false
    }
   },
   "outputs": [
    {
     "data": {
      "text/latex": [
       "$\\displaystyle \\left[\\begin{matrix}\\frac{E_{x}}{l} & 0 & 0 & 0 & 0 & 0\\\\0 & \\frac{12 E_{z}}{l^{3}} & 0 & 0 & 0 & \\frac{2 \\left(2 EIz_{1} + EIz_{2}\\right)}{l^{2}}\\\\0 & 0 & \\frac{12 E_{y}}{l^{3}} & 0 & - \\frac{2 \\left(2 EIy_{1} + EIy_{2}\\right)}{l^{2}} & 0\\\\0 & 0 & 0 & \\frac{G_{x}}{l} & 0 & 0\\\\0 & 0 & - \\frac{2 \\left(2 EIy_{1} + EIy_{2}\\right)}{l^{2}} & 0 & \\frac{3 EIy_{1} + EIy_{2}}{l} & 0\\\\0 & \\frac{2 \\left(2 EIz_{1} + EIz_{2}\\right)}{l^{2}} & 0 & 0 & 0 & \\frac{3 EIz_{1} + EIz_{2}}{l}\\\\- \\frac{E_{x}}{l} & 0 & 0 & 0 & 0 & 0\\\\0 & - \\frac{12 E_{z}}{l^{3}} & 0 & 0 & 0 & - \\frac{2 \\left(2 EIz_{1} + EIz_{2}\\right)}{l^{2}}\\\\0 & 0 & - \\frac{12 E_{y}}{l^{3}} & 0 & \\frac{2 \\left(2 EIy_{1} + EIy_{2}\\right)}{l^{2}} & 0\\\\0 & 0 & 0 & - \\frac{G_{x}}{l} & 0 & 0\\\\0 & 0 & - \\frac{2 \\left(EIy_{1} + 2 EIy_{2}\\right)}{l^{2}} & 0 & \\frac{2 E_{y}}{l} & 0\\\\0 & \\frac{2 \\left(EIz_{1} + 2 EIz_{2}\\right)}{l^{2}} & 0 & 0 & 0 & \\frac{2 E_{z}}{l}\\end{matrix}\\right]$"
      ],
      "text/plain": [
       "⎡ Eₓ                                                                          \n",
       "⎢ ──           0                   0            0             0               \n",
       "⎢ l                                                                           \n",
       "⎢                                                                             \n",
       "⎢           12⋅E_z                                                         2⋅(\n",
       "⎢ 0         ──────                 0            0             0            ───\n",
       "⎢              3                                                              \n",
       "⎢             l                                                               \n",
       "⎢                                                                             \n",
       "⎢                               12⋅E_y               -2⋅(2⋅EIy₁ + EIy₂)       \n",
       "⎢ 0            0                ──────          0    ───────────────────      \n",
       "⎢                                  3                           2              \n",
       "⎢                                 l                           l               \n",
       "⎢                                                                             \n",
       "⎢                                               Gₓ                            \n",
       "⎢ 0            0                   0            ──            0               \n",
       "⎢                                               l                             \n",
       "⎢                                                                             \n",
       "⎢                         -2⋅(2⋅EIy₁ + EIy₂)            3⋅EIy₁ + EIy₂         \n",
       "⎢ 0            0          ───────────────────   0       ─────────────         \n",
       "⎢                                   2                         l               \n",
       "⎢                                  l                                          \n",
       "⎢                                                                             \n",
       "⎢      2⋅(2⋅EIz₁ + EIz₂)                                                     3\n",
       "⎢ 0    ─────────────────           0            0             0              ─\n",
       "⎢               2                                                             \n",
       "⎢              l                                                              \n",
       "⎢                                                                             \n",
       "⎢-Eₓ                                                                          \n",
       "⎢────          0                   0            0             0               \n",
       "⎢ l                                                                           \n",
       "⎢                                                                             \n",
       "⎢          -12⋅E_z                                                        -2⋅(\n",
       "⎢ 0        ────────                0            0             0           ────\n",
       "⎢              3                                                              \n",
       "⎢             l                                                               \n",
       "⎢                                                                             \n",
       "⎢                              -12⋅E_y                2⋅(2⋅EIy₁ + EIy₂)       \n",
       "⎢ 0            0               ────────         0     ─────────────────       \n",
       "⎢                                  3                           2              \n",
       "⎢                                 l                           l               \n",
       "⎢                                                                             \n",
       "⎢                                              -Gₓ                            \n",
       "⎢ 0            0                   0           ────           0               \n",
       "⎢                                               l                             \n",
       "⎢                                                                             \n",
       "⎢                         -2⋅(EIy₁ + 2⋅EIy₂)                2⋅E_y             \n",
       "⎢ 0            0          ───────────────────   0           ─────             \n",
       "⎢                                   2                         l               \n",
       "⎢                                  l                                          \n",
       "⎢                                                                             \n",
       "⎢      2⋅(EIz₁ + 2⋅EIz₂)                                                      \n",
       "⎢ 0    ─────────────────           0            0             0               \n",
       "⎢               2                                                             \n",
       "⎣              l                                                              \n",
       "\n",
       "               ⎤\n",
       "     0         ⎥\n",
       "               ⎥\n",
       "               ⎥\n",
       "2⋅EIz₁ + EIz₂) ⎥\n",
       "────────────── ⎥\n",
       "      2        ⎥\n",
       "     l         ⎥\n",
       "               ⎥\n",
       "               ⎥\n",
       "     0         ⎥\n",
       "               ⎥\n",
       "               ⎥\n",
       "               ⎥\n",
       "               ⎥\n",
       "     0         ⎥\n",
       "               ⎥\n",
       "               ⎥\n",
       "               ⎥\n",
       "     0         ⎥\n",
       "               ⎥\n",
       "               ⎥\n",
       "               ⎥\n",
       "⋅EIz₁ + EIz₂   ⎥\n",
       "────────────   ⎥\n",
       "     l         ⎥\n",
       "               ⎥\n",
       "               ⎥\n",
       "               ⎥\n",
       "     0         ⎥\n",
       "               ⎥\n",
       "               ⎥\n",
       "2⋅EIz₁ + EIz₂) ⎥\n",
       "───────────────⎥\n",
       "      2        ⎥\n",
       "     l         ⎥\n",
       "               ⎥\n",
       "               ⎥\n",
       "     0         ⎥\n",
       "               ⎥\n",
       "               ⎥\n",
       "               ⎥\n",
       "               ⎥\n",
       "     0         ⎥\n",
       "               ⎥\n",
       "               ⎥\n",
       "               ⎥\n",
       "     0         ⎥\n",
       "               ⎥\n",
       "               ⎥\n",
       "               ⎥\n",
       "   2⋅E_z       ⎥\n",
       "   ─────       ⎥\n",
       "     l         ⎥\n",
       "               ⎦"
      ]
     },
     "execution_count": 23,
     "metadata": {},
     "output_type": "execute_result"
    }
   ],
   "source": [
    "kem[:, :6]"
   ]
  },
  {
   "cell_type": "code",
   "execution_count": 24,
   "metadata": {
    "collapsed": false,
    "jupyter": {
     "outputs_hidden": false
    }
   },
   "outputs": [
    {
     "data": {
      "text/latex": [
       "$\\displaystyle \\left[\\begin{matrix}- \\frac{E_{x}}{l} & 0 & 0 & 0 & 0 & 0\\\\0 & - \\frac{12 E_{z}}{l^{3}} & 0 & 0 & 0 & \\frac{2 \\left(EIz_{1} + 2 EIz_{2}\\right)}{l^{2}}\\\\0 & 0 & - \\frac{12 E_{y}}{l^{3}} & 0 & - \\frac{2 \\left(EIy_{1} + 2 EIy_{2}\\right)}{l^{2}} & 0\\\\0 & 0 & 0 & - \\frac{G_{x}}{l} & 0 & 0\\\\0 & 0 & \\frac{2 \\left(2 EIy_{1} + EIy_{2}\\right)}{l^{2}} & 0 & \\frac{2 E_{y}}{l} & 0\\\\0 & - \\frac{2 \\left(2 EIz_{1} + EIz_{2}\\right)}{l^{2}} & 0 & 0 & 0 & \\frac{2 E_{z}}{l}\\\\\\frac{E_{x}}{l} & 0 & 0 & 0 & 0 & 0\\\\0 & \\frac{12 E_{z}}{l^{3}} & 0 & 0 & 0 & - \\frac{2 \\left(EIz_{1} + 2 EIz_{2}\\right)}{l^{2}}\\\\0 & 0 & \\frac{12 E_{y}}{l^{3}} & 0 & \\frac{2 \\left(EIy_{1} + 2 EIy_{2}\\right)}{l^{2}} & 0\\\\0 & 0 & 0 & \\frac{G_{x}}{l} & 0 & 0\\\\0 & 0 & \\frac{2 \\left(EIy_{1} + 2 EIy_{2}\\right)}{l^{2}} & 0 & \\frac{EIy_{1} + 3 EIy_{2}}{l} & 0\\\\0 & - \\frac{2 \\left(EIz_{1} + 2 EIz_{2}\\right)}{l^{2}} & 0 & 0 & 0 & \\frac{EIz_{1} + 3 EIz_{2}}{l}\\end{matrix}\\right]$"
      ],
      "text/plain": [
       "⎡-Eₓ                                                                          \n",
       "⎢────           0                   0           0             0               \n",
       "⎢ l                                                                           \n",
       "⎢                                                                             \n",
       "⎢           -12⋅E_z                                                        2⋅(\n",
       "⎢ 0         ────────                0           0             0            ───\n",
       "⎢               3                                                             \n",
       "⎢              l                                                              \n",
       "⎢                                                                             \n",
       "⎢                               -12⋅E_y              -2⋅(EIy₁ + 2⋅EIy₂)       \n",
       "⎢ 0             0               ────────        0    ───────────────────      \n",
       "⎢                                   3                          2              \n",
       "⎢                                  l                          l               \n",
       "⎢                                                                             \n",
       "⎢                                              -Gₓ                            \n",
       "⎢ 0             0                   0          ────           0               \n",
       "⎢                                               l                             \n",
       "⎢                                                                             \n",
       "⎢                           2⋅(2⋅EIy₁ + EIy₂)               2⋅E_y             \n",
       "⎢ 0             0           ─────────────────   0           ─────             \n",
       "⎢                                    2                        l               \n",
       "⎢                                   l                                         \n",
       "⎢                                                                             \n",
       "⎢      -2⋅(2⋅EIz₁ + EIz₂)                                                     \n",
       "⎢ 0    ───────────────────          0           0             0               \n",
       "⎢                2                                                            \n",
       "⎢               l                                                             \n",
       "⎢                                                                             \n",
       "⎢ Eₓ                                                                          \n",
       "⎢ ──            0                   0           0             0               \n",
       "⎢ l                                                                           \n",
       "⎢                                                                             \n",
       "⎢            12⋅E_z                                                       -2⋅(\n",
       "⎢ 0          ──────                 0           0             0           ────\n",
       "⎢               3                                                             \n",
       "⎢              l                                                              \n",
       "⎢                                                                             \n",
       "⎢                                12⋅E_y               2⋅(EIy₁ + 2⋅EIy₂)       \n",
       "⎢ 0             0                ──────         0     ─────────────────       \n",
       "⎢                                   3                          2              \n",
       "⎢                                  l                          l               \n",
       "⎢                                                                             \n",
       "⎢                                               Gₓ                            \n",
       "⎢ 0             0                   0           ──            0               \n",
       "⎢                                               l                             \n",
       "⎢                                                                             \n",
       "⎢                           2⋅(EIy₁ + 2⋅EIy₂)           EIy₁ + 3⋅EIy₂         \n",
       "⎢ 0             0           ─────────────────   0       ─────────────         \n",
       "⎢                                    2                        l               \n",
       "⎢                                   l                                         \n",
       "⎢                                                                             \n",
       "⎢      -2⋅(EIz₁ + 2⋅EIz₂)                                                    E\n",
       "⎢ 0    ───────────────────          0           0             0              ─\n",
       "⎢                2                                                            \n",
       "⎣               l                                                             \n",
       "\n",
       "               ⎤\n",
       "     0         ⎥\n",
       "               ⎥\n",
       "               ⎥\n",
       "EIz₁ + 2⋅EIz₂) ⎥\n",
       "────────────── ⎥\n",
       "      2        ⎥\n",
       "     l         ⎥\n",
       "               ⎥\n",
       "               ⎥\n",
       "     0         ⎥\n",
       "               ⎥\n",
       "               ⎥\n",
       "               ⎥\n",
       "               ⎥\n",
       "     0         ⎥\n",
       "               ⎥\n",
       "               ⎥\n",
       "               ⎥\n",
       "     0         ⎥\n",
       "               ⎥\n",
       "               ⎥\n",
       "               ⎥\n",
       "   2⋅E_z       ⎥\n",
       "   ─────       ⎥\n",
       "     l         ⎥\n",
       "               ⎥\n",
       "               ⎥\n",
       "               ⎥\n",
       "     0         ⎥\n",
       "               ⎥\n",
       "               ⎥\n",
       "EIz₁ + 2⋅EIz₂) ⎥\n",
       "───────────────⎥\n",
       "      2        ⎥\n",
       "     l         ⎥\n",
       "               ⎥\n",
       "               ⎥\n",
       "     0         ⎥\n",
       "               ⎥\n",
       "               ⎥\n",
       "               ⎥\n",
       "               ⎥\n",
       "     0         ⎥\n",
       "               ⎥\n",
       "               ⎥\n",
       "               ⎥\n",
       "     0         ⎥\n",
       "               ⎥\n",
       "               ⎥\n",
       "               ⎥\n",
       "Iz₁ + 3⋅EIz₂   ⎥\n",
       "────────────   ⎥\n",
       "     l         ⎥\n",
       "               ⎦"
      ]
     },
     "execution_count": 24,
     "metadata": {},
     "output_type": "execute_result"
    }
   ],
   "source": [
    "kem[:, 6:]"
   ]
  },
  {
   "cell_type": "markdown",
   "metadata": {},
   "source": [
    "Special case: uniform stiffness."
   ]
  },
  {
   "cell_type": "code",
   "execution_count": 25,
   "metadata": {
    "collapsed": false,
    "jupyter": {
     "outputs_hidden": false
    }
   },
   "outputs": [
    {
     "data": {
      "text/latex": [
       "$\\displaystyle \\left[\\begin{array}{cccccccccccc}\\frac{E_{x}}{l} & 0 & 0 & 0 & 0 & 0 & - \\frac{E_{x}}{l} & 0 & 0 & 0 & 0 & 0\\\\0 & \\frac{12 E_{z}}{l^{3}} & 0 & 0 & 0 & \\frac{6 E_{z}}{l^{2}} & 0 & - \\frac{12 E_{z}}{l^{3}} & 0 & 0 & 0 & \\frac{6 E_{z}}{l^{2}}\\\\0 & 0 & \\frac{12 E_{y}}{l^{3}} & 0 & - \\frac{6 E_{y}}{l^{2}} & 0 & 0 & 0 & - \\frac{12 E_{y}}{l^{3}} & 0 & - \\frac{6 E_{y}}{l^{2}} & 0\\\\0 & 0 & 0 & \\frac{G_{x}}{l} & 0 & 0 & 0 & 0 & 0 & - \\frac{G_{x}}{l} & 0 & 0\\\\0 & 0 & - \\frac{6 E_{y}}{l^{2}} & 0 & \\frac{4 E_{y}}{l} & 0 & 0 & 0 & \\frac{6 E_{y}}{l^{2}} & 0 & \\frac{2 E_{y}}{l} & 0\\\\0 & \\frac{6 E_{z}}{l^{2}} & 0 & 0 & 0 & \\frac{4 E_{z}}{l} & 0 & - \\frac{6 E_{z}}{l^{2}} & 0 & 0 & 0 & \\frac{2 E_{z}}{l}\\\\- \\frac{E_{x}}{l} & 0 & 0 & 0 & 0 & 0 & \\frac{E_{x}}{l} & 0 & 0 & 0 & 0 & 0\\\\0 & - \\frac{12 E_{z}}{l^{3}} & 0 & 0 & 0 & - \\frac{6 E_{z}}{l^{2}} & 0 & \\frac{12 E_{z}}{l^{3}} & 0 & 0 & 0 & - \\frac{6 E_{z}}{l^{2}}\\\\0 & 0 & - \\frac{12 E_{y}}{l^{3}} & 0 & \\frac{6 E_{y}}{l^{2}} & 0 & 0 & 0 & \\frac{12 E_{y}}{l^{3}} & 0 & \\frac{6 E_{y}}{l^{2}} & 0\\\\0 & 0 & 0 & - \\frac{G_{x}}{l} & 0 & 0 & 0 & 0 & 0 & \\frac{G_{x}}{l} & 0 & 0\\\\0 & 0 & - \\frac{6 E_{y}}{l^{2}} & 0 & \\frac{2 E_{y}}{l} & 0 & 0 & 0 & \\frac{6 E_{y}}{l^{2}} & 0 & \\frac{4 E_{y}}{l} & 0\\\\0 & \\frac{6 E_{z}}{l^{2}} & 0 & 0 & 0 & \\frac{2 E_{z}}{l} & 0 & - \\frac{6 E_{z}}{l^{2}} & 0 & 0 & 0 & \\frac{4 E_{z}}{l}\\end{array}\\right]$"
      ],
      "text/plain": [
       "⎡ Eₓ                                               -Eₓ                        \n",
       "⎢ ──      0         0       0       0        0     ────     0         0       \n",
       "⎢ l                                                 l                         \n",
       "⎢                                                                             \n",
       "⎢       12⋅E_z                             6⋅E_z         -12⋅E_z              \n",
       "⎢ 0     ──────      0       0       0      ─────    0    ────────     0       \n",
       "⎢          3                                  2              3                \n",
       "⎢         l                                  l              l                 \n",
       "⎢                                                                             \n",
       "⎢                 12⋅E_y         -6⋅E_y                            -12⋅E_y    \n",
       "⎢ 0       0       ──────    0    ───────     0      0       0      ────────   \n",
       "⎢                    3               2                                 3      \n",
       "⎢                   l               l                                 l       \n",
       "⎢                                                                             \n",
       "⎢                           Gₓ                                               -\n",
       "⎢ 0       0         0       ──      0        0      0       0         0      ─\n",
       "⎢                           l                                                 \n",
       "⎢                                                                             \n",
       "⎢                -6⋅E_y           4⋅E_y                             6⋅E_y     \n",
       "⎢ 0       0      ───────    0     ─────      0      0       0       ─────     \n",
       "⎢                    2              l                                  2      \n",
       "⎢                   l                                                 l       \n",
       "⎢                                                                             \n",
       "⎢       6⋅E_z                              4⋅E_z         -6⋅E_z               \n",
       "⎢ 0     ─────       0       0       0      ─────    0    ───────      0       \n",
       "⎢          2                                 l               2                \n",
       "⎢         l                                                 l                 \n",
       "⎢                                                                             \n",
       "⎢-Eₓ                                                Eₓ                        \n",
       "⎢────     0         0       0       0        0      ──      0         0       \n",
       "⎢ l                                                 l                         \n",
       "⎢                                                                             \n",
       "⎢      -12⋅E_z                            -6⋅E_z          12⋅E_z              \n",
       "⎢ 0    ────────     0       0       0     ───────   0     ──────      0       \n",
       "⎢          3                                  2              3                \n",
       "⎢         l                                  l              l                 \n",
       "⎢                                                                             \n",
       "⎢                -12⋅E_y          6⋅E_y                             12⋅E_y    \n",
       "⎢ 0       0      ────────   0     ─────      0      0       0       ──────    \n",
       "⎢                    3               2                                 3      \n",
       "⎢                   l               l                                 l       \n",
       "⎢                                                                             \n",
       "⎢                          -Gₓ                                                \n",
       "⎢ 0       0         0      ────     0        0      0       0         0       \n",
       "⎢                           l                                                 \n",
       "⎢                                                                             \n",
       "⎢                -6⋅E_y           2⋅E_y                             6⋅E_y     \n",
       "⎢ 0       0      ───────    0     ─────      0      0       0       ─────     \n",
       "⎢                    2              l                                  2      \n",
       "⎢                   l                                                 l       \n",
       "⎢                                                                             \n",
       "⎢       6⋅E_z                              2⋅E_z         -6⋅E_z               \n",
       "⎢ 0     ─────       0       0       0      ─────    0    ───────      0       \n",
       "⎢          2                                 l               2                \n",
       "⎣         l                                                 l                 \n",
       "\n",
       "                     ⎤\n",
       "0       0        0   ⎥\n",
       "                     ⎥\n",
       "                     ⎥\n",
       "               6⋅E_z ⎥\n",
       "0       0      ───── ⎥\n",
       "                  2  ⎥\n",
       "                 l   ⎥\n",
       "                     ⎥\n",
       "     -6⋅E_y          ⎥\n",
       "0    ───────     0   ⎥\n",
       "         2           ⎥\n",
       "        l            ⎥\n",
       "                     ⎥\n",
       "Gₓ                   ⎥\n",
       "───     0        0   ⎥\n",
       "l                    ⎥\n",
       "                     ⎥\n",
       "      2⋅E_y          ⎥\n",
       "0     ─────      0   ⎥\n",
       "        l            ⎥\n",
       "                     ⎥\n",
       "                     ⎥\n",
       "               2⋅E_z ⎥\n",
       "0       0      ───── ⎥\n",
       "                 l   ⎥\n",
       "                     ⎥\n",
       "                     ⎥\n",
       "                     ⎥\n",
       "0       0        0   ⎥\n",
       "                     ⎥\n",
       "                     ⎥\n",
       "              -6⋅E_z ⎥\n",
       "0       0     ───────⎥\n",
       "                  2  ⎥\n",
       "                 l   ⎥\n",
       "                     ⎥\n",
       "      6⋅E_y          ⎥\n",
       "0     ─────      0   ⎥\n",
       "         2           ⎥\n",
       "        l            ⎥\n",
       "                     ⎥\n",
       "Gₓ                   ⎥\n",
       "──      0        0   ⎥\n",
       "l                    ⎥\n",
       "                     ⎥\n",
       "      4⋅E_y          ⎥\n",
       "0     ─────      0   ⎥\n",
       "        l            ⎥\n",
       "                     ⎥\n",
       "                     ⎥\n",
       "               4⋅E_z ⎥\n",
       "0       0      ───── ⎥\n",
       "                 l   ⎥\n",
       "                     ⎦"
      ]
     },
     "execution_count": 25,
     "metadata": {},
     "output_type": "execute_result"
    }
   ],
   "source": [
    "kem.subs({EA1: Ex, EA2: Ex, EIy1: Ey, EIy2: Ey, EIz1: Ez, EIz2: Ez})"
   ]
  },
  {
   "cell_type": "markdown",
   "metadata": {},
   "source": [
    "This is the same as Rao2004 p.326"
   ]
  },
  {
   "cell_type": "markdown",
   "metadata": {},
   "source": [
    "## Stress stiffening"
   ]
  },
  {
   "cell_type": "markdown",
   "metadata": {},
   "source": [
    "Now derive the stress stiffening (e.g. centrifugal stiffening) matrix. Ref Cook1989.\n",
    "\n",
    "Need the matrix $\\boldsymbol{G}$ such that\n",
    "$$\n",
    "\\begin{bmatrix} u_{,x} \\\\ v_{,x} \\\\ w_{,x} \\\\ \\end{bmatrix} = \\boldsymbol{Gq}\n",
    "$$"
   ]
  },
  {
   "cell_type": "code",
   "execution_count": 26,
   "metadata": {
    "collapsed": false,
    "jupyter": {
     "outputs_hidden": false
    }
   },
   "outputs": [
    {
     "data": {
      "text/latex": [
       "$\\displaystyle \\left[\\begin{matrix}- \\frac{1}{l} & 0 & 0 & 0 & 0 & 0\\\\0 & \\frac{6 \\xi \\left(\\xi - 1\\right)}{l} & 0 & 0 & 0 & \\left(\\xi - 1\\right) \\left(3 \\xi - 1\\right)\\\\0 & 0 & \\frac{6 \\xi \\left(\\xi - 1\\right)}{l} & 0 & \\left(1 - 3 \\xi\\right) \\left(\\xi - 1\\right) & 0\\end{matrix}\\right]$"
      ],
      "text/plain": [
       "⎡-1                                                                    ⎤\n",
       "⎢───       0            0       0          0                  0        ⎥\n",
       "⎢ l                                                                    ⎥\n",
       "⎢                                                                      ⎥\n",
       "⎢     6⋅ξ⋅(ξ - 1)                                                      ⎥\n",
       "⎢ 0   ───────────       0       0          0          (ξ - 1)⋅(3⋅ξ - 1)⎥\n",
       "⎢          l                                                           ⎥\n",
       "⎢                                                                      ⎥\n",
       "⎢                  6⋅ξ⋅(ξ - 1)                                         ⎥\n",
       "⎢ 0        0       ───────────  0  (1 - 3⋅ξ)⋅(ξ - 1)          0        ⎥\n",
       "⎣                       l                                              ⎦"
      ]
     },
     "execution_count": 26,
     "metadata": {},
     "output_type": "execute_result"
    }
   ],
   "source": [
    "# G = Matrix(np.zeros((3, 12)))\n",
    "# G[0, :] = S[0, :].diff(xi, 1) / l\n",
    "# G[1, :] = S[1, :].diff(xi, 1) / l\n",
    "# G[2, :] = S[2, :].diff(xi, 1) / l\n",
    "G = S[:3, :].diff(xi, 1) / l\n",
    "G.simplify()\n",
    "G[:, :6]"
   ]
  },
  {
   "cell_type": "code",
   "execution_count": 27,
   "metadata": {
    "collapsed": false,
    "jupyter": {
     "outputs_hidden": false
    }
   },
   "outputs": [
    {
     "data": {
      "text/latex": [
       "$\\displaystyle \\left[\\begin{matrix}\\frac{1}{l} & 0 & 0 & 0 & 0 & 0\\\\0 & \\frac{6 \\xi \\left(1 - \\xi\\right)}{l} & 0 & 0 & 0 & \\xi \\left(3 \\xi - 2\\right)\\\\0 & 0 & \\frac{6 \\xi \\left(1 - \\xi\\right)}{l} & 0 & \\xi \\left(2 - 3 \\xi\\right) & 0\\end{matrix}\\right]$"
      ],
      "text/plain": [
       "⎡1                                                       ⎤\n",
       "⎢─       0            0       0       0            0     ⎥\n",
       "⎢l                                                       ⎥\n",
       "⎢                                                        ⎥\n",
       "⎢   6⋅ξ⋅(1 - ξ)                                          ⎥\n",
       "⎢0  ───────────       0       0       0       ξ⋅(3⋅ξ - 2)⎥\n",
       "⎢        l                                               ⎥\n",
       "⎢                                                        ⎥\n",
       "⎢                6⋅ξ⋅(1 - ξ)                             ⎥\n",
       "⎢0       0       ───────────  0  ξ⋅(2 - 3⋅ξ)       0     ⎥\n",
       "⎣                     l                                  ⎦"
      ]
     },
     "execution_count": 27,
     "metadata": {},
     "output_type": "execute_result"
    }
   ],
   "source": [
    "G[:, 6:]"
   ]
  },
  {
   "cell_type": "code",
   "execution_count": 28,
   "metadata": {
    "collapsed": false,
    "jupyter": {
     "outputs_hidden": false
    }
   },
   "outputs": [],
   "source": [
    "def sym_ks_axial_force():\n",
    "    # Unit axial force (absorbing area from integral), block matrix 3 times\n",
    "    #smat3 = Matrix(9, 9, lambda i, j: 1 if i == j and i % 3 == 0 else 0)\n",
    "    #integrand = G.T * smat3 * G\n",
    "    integrand = G.T * G\n",
    "    ks = integrand.applyfunc(\n",
    "        lambda xxx: l * sympy.integrate(xxx, (xi, 0, 1)).factor() #.subs((EA1+EA2), 2*Ex) #.expand().factor()\n",
    "    )\n",
    "    return ks\n",
    "ks = sym_ks_axial_force()"
   ]
  },
  {
   "cell_type": "code",
   "execution_count": 29,
   "metadata": {
    "collapsed": false,
    "jupyter": {
     "outputs_hidden": false
    }
   },
   "outputs": [
    {
     "data": {
      "text/latex": [
       "$\\displaystyle \\left[\\begin{array}{cccccccccccc}30 & 0 & 0 & 0 & 0 & 0 & -30 & 0 & 0 & 0 & 0 & 0\\\\0 & 36 & 0 & 0 & 0 & 3 l & 0 & -36 & 0 & 0 & 0 & 3 l\\\\0 & 0 & 36 & 0 & - 3 l & 0 & 0 & 0 & -36 & 0 & - 3 l & 0\\\\0 & 0 & 0 & 0 & 0 & 0 & 0 & 0 & 0 & 0 & 0 & 0\\\\0 & 0 & - 3 l & 0 & 4 l^{2} & 0 & 0 & 0 & 3 l & 0 & - l^{2} & 0\\\\0 & 3 l & 0 & 0 & 0 & 4 l^{2} & 0 & - 3 l & 0 & 0 & 0 & - l^{2}\\\\-30 & 0 & 0 & 0 & 0 & 0 & 30 & 0 & 0 & 0 & 0 & 0\\\\0 & -36 & 0 & 0 & 0 & - 3 l & 0 & 36 & 0 & 0 & 0 & - 3 l\\\\0 & 0 & -36 & 0 & 3 l & 0 & 0 & 0 & 36 & 0 & 3 l & 0\\\\0 & 0 & 0 & 0 & 0 & 0 & 0 & 0 & 0 & 0 & 0 & 0\\\\0 & 0 & - 3 l & 0 & - l^{2} & 0 & 0 & 0 & 3 l & 0 & 4 l^{2} & 0\\\\0 & 3 l & 0 & 0 & 0 & - l^{2} & 0 & - 3 l & 0 & 0 & 0 & 4 l^{2}\\end{array}\\right]$"
      ],
      "text/plain": [
       "⎡30    0    0    0   0     0    -30   0     0   0   0     0  ⎤\n",
       "⎢                                                            ⎥\n",
       "⎢ 0   36    0    0   0    3⋅l    0   -36    0   0   0    3⋅l ⎥\n",
       "⎢                                                            ⎥\n",
       "⎢ 0    0    36   0  -3⋅l   0     0    0    -36  0  -3⋅l   0  ⎥\n",
       "⎢                                                            ⎥\n",
       "⎢ 0    0    0    0   0     0     0    0     0   0   0     0  ⎥\n",
       "⎢                                                            ⎥\n",
       "⎢                      2                             2       ⎥\n",
       "⎢ 0    0   -3⋅l  0  4⋅l    0     0    0    3⋅l  0  -l     0  ⎥\n",
       "⎢                                                            ⎥\n",
       "⎢                            2                             2 ⎥\n",
       "⎢ 0   3⋅l   0    0   0    4⋅l    0   -3⋅l   0   0   0    -l  ⎥\n",
       "⎢                                                            ⎥\n",
       "⎢-30   0    0    0   0     0    30    0     0   0   0     0  ⎥\n",
       "⎢                                                            ⎥\n",
       "⎢ 0   -36   0    0   0    -3⋅l   0    36    0   0   0    -3⋅l⎥\n",
       "⎢                                                            ⎥\n",
       "⎢ 0    0   -36   0  3⋅l    0     0    0    36   0  3⋅l    0  ⎥\n",
       "⎢                                                            ⎥\n",
       "⎢ 0    0    0    0   0     0     0    0     0   0   0     0  ⎥\n",
       "⎢                                                            ⎥\n",
       "⎢                     2                               2      ⎥\n",
       "⎢ 0    0   -3⋅l  0  -l     0     0    0    3⋅l  0  4⋅l    0  ⎥\n",
       "⎢                                                            ⎥\n",
       "⎢                           2                               2⎥\n",
       "⎣ 0   3⋅l   0    0   0    -l     0   -3⋅l   0   0   0    4⋅l ⎦"
      ]
     },
     "execution_count": 29,
     "metadata": {},
     "output_type": "execute_result"
    }
   ],
   "source": [
    "ks * 30*l"
   ]
  },
  {
   "cell_type": "markdown",
   "metadata": {},
   "source": [
    "This agrees with Cook1989, p.434, for the transverse directions. "
   ]
  },
  {
   "cell_type": "markdown",
   "metadata": {},
   "source": [
    "## Generalised forces"
   ]
  },
  {
   "cell_type": "markdown",
   "metadata": {},
   "source": [
    "Define the force distribution (linear):"
   ]
  },
  {
   "cell_type": "code",
   "execution_count": 30,
   "metadata": {
    "collapsed": false,
    "jupyter": {
     "outputs_hidden": false
    }
   },
   "outputs": [
    {
     "data": {
      "text/latex": [
       "$\\displaystyle \\left[\\begin{matrix}f_{x1} \\left(1 - \\xi\\right) + f_{x2} \\xi\\\\f_{y1} \\left(1 - \\xi\\right) + f_{y2} \\xi\\\\f_{z1} \\left(1 - \\xi\\right) + f_{z2} \\xi\\end{matrix}\\right]$"
      ],
      "text/plain": [
       "⎡ fₓ₁⋅(1 - ξ) + fₓ₂⋅ξ ⎤\n",
       "⎢                     ⎥\n",
       "⎢f_y1⋅(1 - ξ) + f_y2⋅ξ⎥\n",
       "⎢                     ⎥\n",
       "⎣f_z1⋅(1 - ξ) + f_z2⋅ξ⎦"
      ]
     },
     "execution_count": 30,
     "metadata": {},
     "output_type": "execute_result"
    }
   ],
   "source": [
    "fx1, fx2, fy1, fy2, fz1, fz2 = symbols('f_x1, f_x2, f_y1, f_y2, f_z1, f_z2')\n",
    "fx = (1 - xi)*fx1 + xi*fx2\n",
    "fy = (1 - xi)*fy1 + xi*fy2\n",
    "fz = (1 - xi)*fz1 + xi*fz2\n",
    "f = Matrix([fx, fy, fz])\n",
    "f"
   ]
  },
  {
   "cell_type": "code",
   "execution_count": 31,
   "metadata": {
    "collapsed": false,
    "jupyter": {
     "outputs_hidden": false
    }
   },
   "outputs": [
    {
     "data": {
      "text/latex": [
       "$\\displaystyle \\left[\\begin{array}{cccccccccccc}1 - \\xi & 0.0 & 0.0 & 0.0 & 0.0 & 0.0 & \\xi & 0.0 & 0.0 & 0.0 & 0.0 & 0.0\\\\0.0 & 1 - \\xi & 0.0 & 0.0 & 0.0 & 0.0 & 0.0 & \\xi & 0.0 & 0.0 & 0.0 & 0.0\\\\0.0 & 0.0 & 1 - \\xi & 0.0 & 0.0 & 0.0 & 0.0 & 0.0 & \\xi & 0.0 & 0.0 & 0.0\\end{array}\\right]$"
      ],
      "text/plain": [
       "⎡1 - ξ   0.0    0.0   0.0  0.0  0.0   ξ   0.0  0.0  0.0  0.0  0.0⎤\n",
       "⎢                                                                ⎥\n",
       "⎢ 0.0   1 - ξ   0.0   0.0  0.0  0.0  0.0   ξ   0.0  0.0  0.0  0.0⎥\n",
       "⎢                                                                ⎥\n",
       "⎣ 0.0    0.0   1 - ξ  0.0  0.0  0.0  0.0  0.0   ξ   0.0  0.0  0.0⎦"
      ]
     },
     "execution_count": 31,
     "metadata": {},
     "output_type": "execute_result"
    }
   ],
   "source": [
    "# Shape functions for applied force -- linear\n",
    "SF = Matrix(np.zeros((3, 12)))\n",
    "SF[0, 0 ] =  x2                     # x\n",
    "SF[0, 6 ] =  xi\n",
    "SF[1, 1 ] =  x2                     # y\n",
    "SF[1, 7 ] =  xi\n",
    "SF[2, 2 ] =  x2                     # z\n",
    "SF[2, 8 ] =  xi\n",
    "SF"
   ]
  },
  {
   "cell_type": "markdown",
   "metadata": {},
   "source": [
    "First shape integral for applied forces:"
   ]
  },
  {
   "cell_type": "code",
   "execution_count": 32,
   "metadata": {
    "collapsed": false,
    "jupyter": {
     "outputs_hidden": false
    }
   },
   "outputs": [
    {
     "data": {
      "text/latex": [
       "$\\displaystyle \\left[\\begin{array}{cccccccccccc}\\frac{l}{2} & 0 & 0 & 0 & 0 & 0 & \\frac{l}{2} & 0 & 0 & 0 & 0 & 0\\\\0 & \\frac{l}{2} & 0 & 0 & 0 & 0 & 0 & \\frac{l}{2} & 0 & 0 & 0 & 0\\\\0 & 0 & \\frac{l}{2} & 0 & 0 & 0 & 0 & 0 & \\frac{l}{2} & 0 & 0 & 0\\end{array}\\right]$"
      ],
      "text/plain": [
       "⎡l                 l               ⎤\n",
       "⎢─  0  0  0  0  0  ─  0  0  0  0  0⎥\n",
       "⎢2                 2               ⎥\n",
       "⎢                                  ⎥\n",
       "⎢   l                 l            ⎥\n",
       "⎢0  ─  0  0  0  0  0  ─  0  0  0  0⎥\n",
       "⎢   2                 2            ⎥\n",
       "⎢                                  ⎥\n",
       "⎢      l                 l         ⎥\n",
       "⎢0  0  ─  0  0  0  0  0  ─  0  0  0⎥\n",
       "⎣      2                 2         ⎦"
      ]
     },
     "execution_count": 32,
     "metadata": {},
     "output_type": "execute_result"
    }
   ],
   "source": [
    "shape_integral_F1 = SF.applyfunc(\n",
    "    lambda xxx: l * sympy.integrate(xxx, (xi, 0, 1)).expand().simplify()\n",
    ")\n",
    "shape_integral_F1"
   ]
  },
  {
   "cell_type": "markdown",
   "metadata": {},
   "source": [
    "Second shape integral for applied forces:"
   ]
  },
  {
   "cell_type": "code",
   "execution_count": 33,
   "metadata": {
    "collapsed": false,
    "jupyter": {
     "outputs_hidden": false
    }
   },
   "outputs": [],
   "source": [
    "shape_integral_F2 = [\n",
    "    [l * (S[i, :].T * SF[j, :]).applyfunc(\n",
    "        lambda xxx: sympy.integrate(xxx, (xi, 0, 1)).expand().simplify())\n",
    "     for j in range(3)]\n",
    "    for i in range(3)\n",
    "]"
   ]
  },
  {
   "cell_type": "markdown",
   "metadata": {},
   "source": [
    "The generalised nodal forces are given by the trace of this (the other parts of it are used to find the moments on the whole body directly...):"
   ]
  },
  {
   "cell_type": "code",
   "execution_count": 34,
   "metadata": {
    "collapsed": false,
    "jupyter": {
     "outputs_hidden": false
    }
   },
   "outputs": [],
   "source": [
    "F = shape_integral_F2[0][0] + shape_integral_F2[1][1] + shape_integral_F2[2][2]"
   ]
  },
  {
   "cell_type": "markdown",
   "metadata": {},
   "source": [
    "Special case -- constant force:"
   ]
  },
  {
   "cell_type": "code",
   "execution_count": 35,
   "metadata": {
    "collapsed": false,
    "jupyter": {
     "outputs_hidden": false
    }
   },
   "outputs": [
    {
     "data": {
      "text/latex": [
       "$\\displaystyle \\left[\\begin{matrix}\\frac{f_{x1} l}{2}\\\\\\frac{f_{y1} l}{2}\\\\\\frac{f_{z1} l}{2}\\\\0\\\\- \\frac{f_{z1} l^{2}}{12}\\\\\\frac{f_{y1} l^{2}}{12}\\\\\\frac{f_{x1} l}{2}\\\\\\frac{f_{y1} l}{2}\\\\\\frac{f_{z1} l}{2}\\\\0\\\\\\frac{f_{z1} l^{2}}{12}\\\\- \\frac{f_{y1} l^{2}}{12}\\end{matrix}\\right]$"
      ],
      "text/plain": [
       "⎡  fₓ₁⋅l  ⎤\n",
       "⎢  ─────  ⎥\n",
       "⎢    2    ⎥\n",
       "⎢         ⎥\n",
       "⎢ f_y1⋅l  ⎥\n",
       "⎢ ──────  ⎥\n",
       "⎢   2     ⎥\n",
       "⎢         ⎥\n",
       "⎢ f_z1⋅l  ⎥\n",
       "⎢ ──────  ⎥\n",
       "⎢   2     ⎥\n",
       "⎢         ⎥\n",
       "⎢    0    ⎥\n",
       "⎢         ⎥\n",
       "⎢       2 ⎥\n",
       "⎢-f_z1⋅l  ⎥\n",
       "⎢─────────⎥\n",
       "⎢    12   ⎥\n",
       "⎢         ⎥\n",
       "⎢       2 ⎥\n",
       "⎢ f_y1⋅l  ⎥\n",
       "⎢ ─────── ⎥\n",
       "⎢    12   ⎥\n",
       "⎢         ⎥\n",
       "⎢  fₓ₁⋅l  ⎥\n",
       "⎢  ─────  ⎥\n",
       "⎢    2    ⎥\n",
       "⎢         ⎥\n",
       "⎢ f_y1⋅l  ⎥\n",
       "⎢ ──────  ⎥\n",
       "⎢   2     ⎥\n",
       "⎢         ⎥\n",
       "⎢ f_z1⋅l  ⎥\n",
       "⎢ ──────  ⎥\n",
       "⎢   2     ⎥\n",
       "⎢         ⎥\n",
       "⎢    0    ⎥\n",
       "⎢         ⎥\n",
       "⎢       2 ⎥\n",
       "⎢ f_z1⋅l  ⎥\n",
       "⎢ ─────── ⎥\n",
       "⎢    12   ⎥\n",
       "⎢         ⎥\n",
       "⎢       2 ⎥\n",
       "⎢-f_y1⋅l  ⎥\n",
       "⎢─────────⎥\n",
       "⎣    12   ⎦"
      ]
     },
     "execution_count": 35,
     "metadata": {},
     "output_type": "execute_result"
    }
   ],
   "source": [
    "F * Matrix([fx1, fy1, fz1, 0, 0, 0, fx1, fy1, fz1, 0, 0, 0])"
   ]
  },
  {
   "cell_type": "markdown",
   "metadata": {},
   "source": [
    "Another example -- a uniform distributed force in the z direction:"
   ]
  },
  {
   "cell_type": "code",
   "execution_count": 36,
   "metadata": {
    "collapsed": false,
    "jupyter": {
     "outputs_hidden": false
    }
   },
   "outputs": [
    {
     "data": {
      "text/latex": [
       "$\\displaystyle \\left[\\begin{matrix}0\\\\0\\\\6\\\\0\\\\- l\\\\0\\\\0\\\\0\\\\6\\\\0\\\\l\\\\0\\end{matrix}\\right]$"
      ],
      "text/plain": [
       "⎡0 ⎤\n",
       "⎢  ⎥\n",
       "⎢0 ⎥\n",
       "⎢  ⎥\n",
       "⎢6 ⎥\n",
       "⎢  ⎥\n",
       "⎢0 ⎥\n",
       "⎢  ⎥\n",
       "⎢-l⎥\n",
       "⎢  ⎥\n",
       "⎢0 ⎥\n",
       "⎢  ⎥\n",
       "⎢0 ⎥\n",
       "⎢  ⎥\n",
       "⎢0 ⎥\n",
       "⎢  ⎥\n",
       "⎢6 ⎥\n",
       "⎢  ⎥\n",
       "⎢0 ⎥\n",
       "⎢  ⎥\n",
       "⎢l ⎥\n",
       "⎢  ⎥\n",
       "⎣0 ⎦"
      ]
     },
     "execution_count": 36,
     "metadata": {},
     "output_type": "execute_result"
    }
   ],
   "source": [
    "F * Matrix([0, 0, fz1, 0, 0, 0, 0, 0, fz1, 0, 0, 0]) / (l/12*fz1)"
   ]
  },
  {
   "cell_type": "markdown",
   "metadata": {},
   "source": [
    "## Output"
   ]
  },
  {
   "cell_type": "markdown",
   "metadata": {},
   "source": [
    "Write a Python file with functions to calculate all of these:"
   ]
  },
  {
   "cell_type": "code",
   "execution_count": 37,
   "metadata": {
    "collapsed": false,
    "jupyter": {
     "outputs_hidden": false
    }
   },
   "outputs": [],
   "source": [
    "def numpy_array_str(expr):\n",
    "    return str(expr) \\\n",
    "        .replace('Matrix([', 'array([\\n') \\\n",
    "        .replace('], [', '],\\n[') \\\n",
    "        .replace(']])', ']\\n])')\n",
    "        \n",
    "def numpy_array_str_2x2(arr):\n",
    "    return ',\\n'.join(['[{}]'.format(',\\n'.join([numpy_array_str(arr[i][j])\n",
    "                                                 for j in range(3)]))\n",
    "                        for i in range(3)])"
   ]
  },
  {
   "cell_type": "code",
   "execution_count": 39,
   "metadata": {
    "collapsed": false,
    "jupyter": {
     "outputs_hidden": false
    }
   },
   "outputs": [],
   "source": [
    "import datetime\n",
    "\n",
    "code = \"\"\"\n",
    "# Automatically generated from SymPy in notebook\n",
    "# {date}\n",
    "\n",
    "from __future__ import division\n",
    "from numpy import array\n",
    "\n",
    "def mass(l, rho_1, rho_2):\n",
    "    return {mass}\n",
    "    \n",
    "def S1(l, rho_1, rho_2):\n",
    "    return {S1}\n",
    "    \n",
    "def S2(l, rho_1, rho_2):\n",
    "    return [\n",
    "        {S2}\n",
    "    ]\n",
    "    \n",
    "def K(l, E_x, G_x, EIy_1, EIy_2, EIz_1, EIz_2):\n",
    "    return {K}\n",
    "    \n",
    "def Ks(l):\n",
    "    return {Ks}\n",
    "    \n",
    "def F1(l):\n",
    "    return {F1}\n",
    "    \n",
    "def F2(l):\n",
    "    return [\n",
    "        {F2}\n",
    "    ]\n",
    "    \n",
    "\"\"\".format(\n",
    "    date=datetime.datetime.now(),\n",
    "    mass=mass,\n",
    "    S1=numpy_array_str(shape_integral_1),\n",
    "    S2=numpy_array_str_2x2(shape_integral_2),\n",
    "    K=numpy_array_str(simplify_ke(ke)),\n",
    "    Ks=numpy_array_str(ks),\n",
    "    F1=numpy_array_str(shape_integral_F1),\n",
    "    F2=numpy_array_str_2x2(shape_integral_F2)\n",
    ")\n",
    "\n",
    "with open('tapered_beam_element_integrals.py', 'wt') as f:\n",
    "    f.write(code)"
   ]
  },
  {
   "cell_type": "code",
   "execution_count": null,
   "metadata": {},
   "outputs": [],
   "source": []
  }
 ],
 "metadata": {
  "kernelspec": {
   "display_name": "Python 3",
   "language": "python",
   "name": "python3"
  },
  "language_info": {
   "codemirror_mode": {
    "name": "ipython",
    "version": 3
   },
   "file_extension": ".py",
   "mimetype": "text/x-python",
   "name": "python",
   "nbconvert_exporter": "python",
   "pygments_lexer": "ipython3",
   "version": "3.7.4"
  }
 },
 "nbformat": 4,
 "nbformat_minor": 4
}
