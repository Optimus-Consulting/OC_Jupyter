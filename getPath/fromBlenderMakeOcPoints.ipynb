{
 "cells": [
  {
   "cell_type": "code",
   "execution_count": 19,
   "metadata": {},
   "outputs": [
    {
     "data": {
      "text/plain": [
       "'[{\"type\": \"Connector\", \"position\": {\"x\": 1.2, \"y\": 1.95, \"z\": 0.7}, \"direction\": {\"x\": 0, \"y\": 0, \"z\": 90}, \"systems\": [\"Oil\", \"Gas\"], \"endpoint\": false, \"purposes\": [\"Production\"], \"metaData\": {}}, {\"type\": \"Connector\", \"position\": {\"x\": -1.27, \"y\": 1.95, \"z\": 0.7}, \"direction\": {\"x\": 0, \"y\": 0, \"z\": 90}, \"systems\": [\"Oil\", \"Gas\"], \"endpoint\": false, \"purposes\": [\"Production\"], \"metaData\": {}}, {\"type\": \"Connector\", \"position\": {\"x\": 1.2, \"y\": -1.95, \"z\": 0.7}, \"direction\": {\"x\": 0, \"y\": 0, \"z\": 270}, \"systems\": [\"Oil\", \"Gas\"], \"endpoint\": false, \"purposes\": [\"Production\"], \"metaData\": {}}, {\"type\": \"Connector\", \"position\": {\"x\": -1.27, \"y\": -1.95, \"z\": 0.7}, \"direction\": {\"x\": 0, \"y\": 0, \"z\": 270}, \"systems\": [\"Oil\", \"Gas\"], \"endpoint\": false, \"purposes\": [\"Production\"], \"metaData\": {}}, {\"type\": \"Connector\", \"position\": {\"x\": 4.1, \"y\": -0.3, \"z\": 0.4}, \"direction\": {\"x\": 0, \"y\": 0, \"z\": 0}, \"systems\": [\"Oil\", \"Gas\"], \"endpoint\": false, \"purposes\": [\"Production\"], \"metaData\": {}}, {\"type\": \"Connector\", \"position\": {\"x\": 4.1, \"y\": 0.33, \"z\": 0.4}, \"direction\": {\"x\": 0, \"y\": 0, \"z\": 0}, \"systems\": [\"Oil\", \"Gas\"], \"endpoint\": false, \"purposes\": [\"Production\"], \"metaData\": {}}, {\"type\": \"Connector\", \"position\": {\"x\": 4.1, \"y\": 1, \"z\": 0.4}, \"direction\": {\"x\": 0, \"y\": 0, \"z\": 0}, \"systems\": [\"Oil\", \"Gas\"], \"endpoint\": false, \"purposes\": [\"Production\"], \"metaData\": {}}, {\"type\": \"Connector\", \"position\": {\"x\": -4.1, \"y\": -0.3, \"z\": 0.4}, \"direction\": {\"x\": 0, \"y\": 0, \"z\": 180}, \"systems\": [\"Oil\", \"Gas\"], \"endpoint\": false, \"purposes\": [\"Production\"], \"metaData\": {}}, {\"type\": \"Connector\", \"position\": {\"x\": -4.1, \"y\": 0.33, \"z\": 0.4}, \"direction\": {\"x\": 0, \"y\": 0, \"z\": 180}, \"systems\": [\"Oil\", \"Gas\"], \"endpoint\": false, \"purposes\": [\"Production\"], \"metaData\": {}}, {\"type\": \"Connector\", \"position\": {\"x\": -4.1, \"y\": 1, \"z\": 0.4}, \"direction\": {\"x\": 0, \"y\": 0, \"z\": 180}, \"systems\": [\"Oil\", \"Gas\"], \"endpoint\": false, \"purposes\": [\"Production\"], \"metaData\": {}}]'"
      ]
     },
     "execution_count": 19,
     "metadata": {},
     "output_type": "execute_result"
    }
   ],
   "source": [
    "# blender (x,y,z) to oc coordinate system is (-y,x,z)\n",
    "blender_points=[\n",
    "[-1.95,1.2,0.7],\n",
    "[-1.95,-1.27,0.7],\n",
    "[1.95,1.2,0.7],\n",
    "[1.95,-1.27,0.7],\n",
    "[0.3,4.1,0.4],\n",
    "[-0.33,4.1,0.4],\n",
    "[-1,4.1,0.4],\n",
    "[0.3,-4.1,0.4],\n",
    "[-0.33,-4.1,0.4],\n",
    "[-1,-4.1,0.4]\n",
    "]\n",
    "ocPoints=[]\n",
    "for p in blender_points:\n",
    "    ocx=p[1]\n",
    "    ocy=-p[0]\n",
    "    ocz=p[2]\n",
    "    if ocx>3:\n",
    "        direction = 0\n",
    "    if ocx<-3:\n",
    "        direction=180\n",
    "    if ocy>1.6:\n",
    "        direction=90\n",
    "    if ocy<-1.6:\n",
    "        direction=270\n",
    "    point = {\n",
    "      \"type\": \"Connector\",\n",
    "      \"position\": {\n",
    "        \"x\": ocx,\n",
    "        \"y\": ocy,\n",
    "        \"z\": ocz\n",
    "      },\n",
    "      \"direction\": {\n",
    "        \"x\": 0,\n",
    "        \"y\": 0,\n",
    "        \"z\": direction\n",
    "      },\n",
    "      \"systems\": [\n",
    "        \"Oil\",\n",
    "        \"Gas\"\n",
    "      ],\n",
    "      \"endpoint\": False,\n",
    "      \"purposes\": [\n",
    "        \"Production\"\n",
    "      ],\n",
    "      \"metaData\": {}\n",
    "    }\n",
    "    ocPoints.append(point)\n",
    "import json\n",
    "json.dumps(ocPoints)"
   ]
  },
  {
   "cell_type": "code",
   "execution_count": null,
   "metadata": {},
   "outputs": [],
   "source": []
  }
 ],
 "metadata": {
  "kernelspec": {
   "display_name": "Python 3",
   "language": "python",
   "name": "python3"
  },
  "language_info": {
   "codemirror_mode": {
    "name": "ipython",
    "version": 3
   },
   "file_extension": ".py",
   "mimetype": "text/x-python",
   "name": "python",
   "nbconvert_exporter": "python",
   "pygments_lexer": "ipython3",
   "version": "3.7.4"
  }
 },
 "nbformat": 4,
 "nbformat_minor": 4
}
