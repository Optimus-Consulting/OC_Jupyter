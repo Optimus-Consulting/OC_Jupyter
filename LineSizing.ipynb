{
 "cells": [
  {
   "cell_type": "markdown",
   "metadata": {},
   "source": [
    "# This spreadsheet calculates size of the pipeline for single gas phase"
   ]
  },
  {
   "cell_type": "markdown",
   "metadata": {},
   "source": [
    "## Input data\n",
    "example of a West shetland main line"
   ]
  },
  {
   "cell_type": "code",
   "execution_count": 62,
   "metadata": {},
   "outputs": [],
   "source": [
    "#exact model from the OC just for reference in the next line we make a simple model for this spreadsheet\n",
    "import math\n",
    "import sys\n",
    "import numpy as np\n",
    "import colebrook\n",
    "import json\n",
    "\n",
    "with open('line.json', \"r\") as json_file:\n",
    "    data=json_file.read()\n",
    "    _line = json.loads(data)\n"
   ]
  },
  {
   "cell_type": "code",
   "execution_count": 63,
   "metadata": {},
   "outputs": [
    {
     "name": "stdout",
     "output_type": "stream",
     "text": [
      "0 packingOnReelOrCarousel \n",
      "1 od {'value': 0.273, 'unit': 'm'}\n",
      "2 color 16711680\n",
      "3 material Carbon Steel\n",
      "4 smys 448000000.0\n",
      "5 weight {'value': 100.714, 'unit': 'kg/m'}\n",
      "6 id {'value': 0.241, 'unit': 'm'}\n",
      "7 density {'value': 7850, 'unit': 'kg/m^3'}\n",
      "8 wallThickness {'value': 15.88, 'unit': 'mm'}\n",
      "9 points [{'x': 0.0, 'y': 0.12, 'z': 54.0546}, {'x': 927.7, 'y': 32758.0, 'z': -99.0}, {'x': -28471.08, 'y': 113337.86, 'z': -704.0}, {'x': -55703.16, 'y': 165663.44, 'z': -1640.0}, {'x': -39675.55, 'y': 171925.05, 'z': -1564.0}]\n"
     ]
    }
   ],
   "source": [
    "for index, i in enumerate(_line[\"properties\"]):\n",
    "    print(index, i[\"name\"], i[\"value\"])"
   ]
  },
  {
   "cell_type": "code",
   "execution_count": 64,
   "metadata": {},
   "outputs": [
    {
     "data": {
      "text/plain": [
       "{'od': 0.273,\n",
       " 'smys': 448000000.0,\n",
       " 'wallThickness': 0.015880000000000002,\n",
       " 'points': [{'x': 0.0, 'y': 0.12, 'z': 54.0546},\n",
       "  {'x': 927.7, 'y': 32758.0, 'z': -99.0},\n",
       "  {'x': -28471.08, 'y': 113337.86, 'z': -704.0},\n",
       "  {'x': -55703.16, 'y': 165663.44, 'z': -1640.0},\n",
       "  {'x': -39675.55, 'y': 171925.05, 'z': -1564.0}]}"
      ]
     },
     "execution_count": 64,
     "metadata": {},
     "output_type": "execute_result"
    }
   ],
   "source": [
    "line = {_line[\"properties\"][1][\"name\"]: _line[\"properties\"][1][\"value\"][\"value\"],\n",
    "       _line[\"properties\"][4][\"name\"]: _line[\"properties\"][4][\"value\"],\n",
    "       _line[\"properties\"][8][\"name\"]: _line[\"properties\"][8][\"value\"][\"value\"]/1000,\n",
    "       _line[\"properties\"][9][\"name\"]: _line[\"properties\"][9][\"value\"]}\n",
    "line"
   ]
  },
  {
   "cell_type": "code",
   "execution_count": 65,
   "metadata": {},
   "outputs": [
    {
     "data": {
      "image/svg+xml": [
       "<svg xmlns=\"http://www.w3.org/2000/svg\" xmlns:xlink=\"http://www.w3.org/1999/xlink\" width=\"300\" height=\"300\" viewBox=\"-62580.1572 -6876.8772 70384.8544 185678.9244\" preserveAspectRatio=\"xMinYMin meet\"><g transform=\"matrix(1,0,0,-1,0,171925.17)\"><polyline fill=\"none\" stroke=\"#66cc99\" stroke-width=\"1237.859496\" points=\"0.0,0.12 927.7,32758.0 -28471.08,113337.86 -55703.16,165663.44 -39675.55,171925.05\" opacity=\"0.8\" /></g></svg>"
      ],
      "text/plain": [
       "<shapely.geometry.linestring.LineString at 0x7ff2cd6ee090>"
      ]
     },
     "execution_count": 65,
     "metadata": {},
     "output_type": "execute_result"
    }
   ],
   "source": [
    "from shapely.geometry import Point, Polygon, LineString\n",
    "points_list =[(x[\"x\"],x[\"y\"],x[\"z\"]) for x in line[\"points\"]] \n",
    "path=LineString(points_list)\n",
    "path"
   ]
  },
  {
   "cell_type": "code",
   "execution_count": 66,
   "metadata": {},
   "outputs": [
    {
     "data": {
      "text/plain": [
       "{'od': 0.273,\n",
       " 'smys': 448000000.0,\n",
       " 'wallThickness': 0.015880000000000002,\n",
       " 'points': [{'x': 0.0, 'y': 0.12, 'z': 54.0546},\n",
       "  {'x': 927.7, 'y': 32758.0, 'z': -99.0},\n",
       "  {'x': -28471.08, 'y': 113337.86, 'z': -704.0},\n",
       "  {'x': -55703.16, 'y': 165663.44, 'z': -1640.0},\n",
       "  {'x': -39675.55, 'y': 171925.05, 'z': -1564.0}],\n",
       " 'angle': -90,\n",
       " 'length': 194741.37068050078,\n",
       " 'kfPipe': 60,\n",
       " 'pipeRoughness': 0.0023}"
      ]
     },
     "execution_count": 66,
     "metadata": {},
     "output_type": "execute_result"
    }
   ],
   "source": [
    "# adding other needed parameters to the line - this will be put in the line template\n",
    "line[\"angle\"] = -90\n",
    "line[\"length\"]= path.length\n",
    "line[\"kfPipe\"]= 60\n",
    "line[\"pipeRoughness\"]= 0.0023 \n",
    "line"
   ]
  },
  {
   "cell_type": "code",
   "execution_count": 73,
   "metadata": {},
   "outputs": [
    {
     "data": {
      "text/plain": [
       "(1640.0, 54.0546)"
      ]
     },
     "execution_count": 73,
     "metadata": {},
     "output_type": "execute_result"
    }
   ],
   "source": [
    "maxWd = abs(min(map(lambda point: point[\"z\"], line[\"points\"])));\n",
    "minWd = abs(max(map(lambda point: point[\"z\"], line[\"points\"])));\n",
    "maxWd, minWd"
   ]
  },
  {
   "cell_type": "code",
   "execution_count": 98,
   "metadata": {},
   "outputs": [],
   "source": [
    "def calPressureDrop(fluid, line):\n",
    "    re=fluid[\"density\"]*velocity*id/fluid[\"viscosity\"];\n",
    "    pRo = line[\"pipeRoughness\"]\n",
    "    f = colebrook.sjFriction( re, pRo)\n",
    "    pressureDrop_unit = -fluid[\"density\"]*9.81*math.sin(line[\"angle\"]*math.pi/180)-f*fluid[\"density\"]*velocity/(2*id)\n",
    "    pressureDrop = pressureDrop_unit * line[\"length\"]\n",
    "    pStart = fluid[\"pressure\"]\n",
    "    pEnd = fluid[\"pressure\"] - pressureDrop\n",
    "    print(f\"Starting pressure is {pStart/10**5} and end is {pEnd/10**5}\")\n",
    "    return pressureDrop_unit"
   ]
  },
  {
   "cell_type": "code",
   "execution_count": 103,
   "metadata": {},
   "outputs": [
    {
     "name": "stdout",
     "output_type": "stream",
     "text": [
      "[0, 100, 200, 1500]\n",
      "For od 4.5in Velocity is 61.25082262255811\n",
      "Velocity too high selecting next bigger od\n",
      "For od 6.625in Velocity is 22.391341213492215\n",
      "Starting pressure is 80.0 and end is 53.8874639484655\n",
      "   Prandtl number is  0.13199999999999998\n",
      "   For Re= 3362.4293403358784 Nu= 31.481855874527646. Interpolation of Re=6000 nu=51.23866964488336 and Re=2000 nu=21.276532027123206\n",
      "   Nu =  31.481855874527646\n",
      "For od 8.625in Velocity is 11.893118377268845\n",
      "Starting pressure is 80.0 and end is 44.744266098023466\n",
      "   Prandtl number is  0.13199999999999998\n",
      "   For Re= 3362.4293403358784 Nu= 31.481855874527646. Interpolation of Re=6000 nu=51.23866964488336 and Re=2000 nu=21.276532027123206\n",
      "   Nu =  31.481855874527646\n",
      "For od 10.75in Velocity is 7.167409336087322\n",
      "Starting pressure is 80.0 and end is 41.40703128537769\n",
      "   Prandtl number is  0.13199999999999998\n",
      "   For Re= 3362.4293403358784 Nu= 31.481855874527646. Interpolation of Re=6000 nu=51.23866964488336 and Re=2000 nu=21.276532027123206\n",
      "   Nu =  31.481855874527646\n",
      "For od 12.75in Velocity is 4.891110533376123\n",
      "Starting pressure is 80.0 and end is 40.037078475232946\n",
      "   Prandtl number is  0.13199999999999998\n",
      "   For Re= 3362.4293403358784 Nu= 31.481855874527646. Interpolation of Re=6000 nu=51.23866964488336 and Re=2000 nu=21.276532027123206\n",
      "   Nu =  31.481855874527646\n",
      "For od 14in Velocity is 3.979054368603836\n",
      "Starting pressure is 80.0 and end is 39.54227349912026\n",
      "   Prandtl number is  0.13199999999999998\n",
      "   For Re= 3362.4293403358784 Nu= 31.481855874527646. Interpolation of Re=6000 nu=51.23866964488336 and Re=2000 nu=21.276532027123206\n",
      "   Nu =  31.481855874527646\n",
      "For od 16in Velocity is 2.973120869145713\n",
      "Starting pressure is 80.0 and end is 39.04021838136252\n",
      "   Prandtl number is  0.13199999999999998\n",
      "   For Re= 3362.4293403358784 Nu= 31.481855874527646. Interpolation of Re=6000 nu=51.23866964488336 and Re=2000 nu=21.276532027123206\n",
      "   Nu =  31.481855874527646\n",
      "For od 18in Velocity is 2.305495160534302\n",
      "Starting pressure is 80.0 and end is 38.73707960905208\n",
      "   Prandtl number is  0.13199999999999998\n",
      "   For Re= 3362.4293403358784 Nu= 31.481855874527646. Interpolation of Re=6000 nu=51.23866964488336 and Re=2000 nu=21.276532027123206\n",
      "   Nu =  31.481855874527646\n",
      "For od 20in Velocity is 1.8398783786299837\n",
      "Starting pressure is 80.0 and end is 38.54112547115849\n",
      "   Prandtl number is  0.13199999999999998\n",
      "   For Re= 3362.4293403358784 Nu= 31.481855874527646. Interpolation of Re=6000 nu=51.23866964488336 and Re=2000 nu=21.276532027123206\n",
      "   Nu =  31.481855874527646\n",
      "For od 22in Velocity is 1.5022897355569516\n",
      "Starting pressure is 80.0 and end is 38.40872184397939\n",
      "   Prandtl number is  0.13199999999999998\n",
      "   For Re= 3362.4293403358784 Nu= 31.481855874527646. Interpolation of Re=6000 nu=51.23866964488336 and Re=2000 nu=21.276532027123206\n",
      "   Nu =  31.481855874527646\n",
      "For od 24in Velocity is 1.2497572107773258\n",
      "Starting pressure is 80.0 and end is 38.316081170272284\n",
      "   Prandtl number is  0.13199999999999998\n",
      "   For Re= 3362.4293403358784 Nu= 31.481855874527646. Interpolation of Re=6000 nu=51.23866964488336 and Re=2000 nu=21.276532027123206\n",
      "   Nu =  31.481855874527646\n",
      "For od 26in Velocity is 1.0559341410777898\n",
      "Starting pressure is 80.0 and end is 38.24833887370032\n",
      "   Prandtl number is  0.13199999999999998\n",
      "   For Re= 3362.4293403358784 Nu= 31.481855874527646. Interpolation of Re=6000 nu=51.23866964488336 and Re=2000 nu=21.276532027123206\n",
      "   Nu =  31.481855874527646\n",
      "For od 28in Velocity is 0.9039379770627003\n",
      "Starting pressure is 80.0 and end is 38.198059016354996\n",
      "   Prandtl number is  0.13199999999999998\n",
      "   For Re= 3362.4293403358784 Nu= 31.481855874527646. Interpolation of Re=6000 nu=51.23866964488336 and Re=2000 nu=21.276532027123206\n",
      "   Nu =  31.481855874527646\n",
      "For od 30in Velocity is 0.7825455355135005\n",
      "Starting pressure is 80.0 and end is 38.15961513108194\n",
      "   Prandtl number is  0.13199999999999998\n",
      "   For Re= 3362.4293403358784 Nu= 31.481855874527646. Interpolation of Re=6000 nu=51.23866964488336 and Re=2000 nu=21.276532027123206\n",
      "   Nu =  31.481855874527646\n",
      "For od 32in Velocity is 0.6840601673412882\n",
      "Starting pressure is 80.0 and end is 38.12964126901224\n",
      "   Prandtl number is  0.13199999999999998\n",
      "   For Re= 3362.4293403358784 Nu= 31.481855874527646. Interpolation of Re=6000 nu=51.23866964488336 and Re=2000 nu=21.276532027123206\n",
      "   Nu =  31.481855874527646\n",
      "For od 34in Velocity is 0.6030610155554138\n",
      "Starting pressure is 80.0 and end is 38.106028661754884\n",
      "   Prandtl number is  0.13199999999999998\n",
      "   For Re= 3362.4293403358784 Nu= 31.481855874527646. Interpolation of Re=6000 nu=51.23866964488336 and Re=2000 nu=21.276532027123206\n",
      "   Nu =  31.481855874527646\n",
      "For od 36in Velocity is 0.5356407932869446\n",
      "Starting pressure is 80.0 and end is 38.08713673605998\n",
      "   Prandtl number is  0.13199999999999998\n",
      "   For Re= 3362.4293403358784 Nu= 31.481855874527646. Interpolation of Re=6000 nu=51.23866964488336 and Re=2000 nu=21.276532027123206\n",
      "   Nu =  31.481855874527646\n"
     ]
    }
   ],
   "source": [
    "#fluid data\n",
    "fluid = {\n",
    "    \"temperature\": 33,\n",
    "    \"flowRate\": 80,\n",
    "    \"pressure\": 80*10**5,\n",
    "    \"density\": 2.2,\n",
    "    \"viscosity\": 200*10e-6,\n",
    "    \"heatCapapcity\": 2.31,\n",
    "    \"thermalConductivity\": 0.035,\n",
    "    \"Compressibility  Factor\": 1,\n",
    "    \"description\": [\"COMPOSITION onecomponent = ON\",\"library name=\\\"Methane\\\" comp=1\"]\n",
    "}\n",
    "#environment data\n",
    "oceanEnvironment = {\n",
    "    0: {\"temperature\":23, \"current\":0.7, \"waterViscocity\":0.9321*10e-6},\n",
    "    100: {\"temperature\":13, \"current\":0.65, \"waterViscocity\":1.2005*10e-6},\n",
    "    200: {\"temperature\":5, \"current\":0.39, \"waterViscocity\":1.5182*10e-6},\n",
    "    1500: {\"temperature\":3, \"current\":0.1, \"waterViscocity\":1.6735*10e-6}\n",
    "}\n",
    "owd=[k for k in oceanEnvironment]\n",
    "print(owd);\n",
    "otemp = [oceanEnvironment[k][\"temperature\"] for k in owd]\n",
    "ovis = [oceanEnvironment[k][\"waterViscocity\"] for k in owd]\n",
    "\n",
    "waterViscocity = 1.6735*10e-6;\n",
    "\n",
    "\n",
    "''' example how to get properies of water'''\n",
    "from iapws import SeaWater\n",
    "state = SeaWater(T=300, P=0.101325, S=0.001)    #Seawater with 0.1% Salinity\n",
    "# print(state.cp)                                 # Get cp\n",
    "\n",
    "odInch = [4.5,6.625,8.625,10.75,12.75,14,16,18,20,22,24,26,28,30,32,34,36];\n",
    "\n",
    "for odI in odInch:\n",
    "    \n",
    "    od=(25.4*odI)/1000\n",
    "    id=od-2*line[\"wallThickness\"];\n",
    "    #calculate velocity\n",
    "    velocity = math.pow(10,6)/((86400*35.3147)*math.pi/4*math.pow(id,2));\n",
    "    print(f\"For od {odI}in Velocity is {velocity}\")\n",
    "    if velocity > 25:\n",
    "        print(\"Velocity too high selecting next bigger od\")\n",
    "        continue;\n",
    "    \n",
    "    #calculate pressure drop\n",
    "    pressureDrop_unit = calPressureDrop(fluid, line)\n",
    "    if(pressureDrop_unit/100 > 0.25):\n",
    "        print(f\"Pressure drop > 0.25 skipping to next bigger od\")\n",
    "        continue;\n",
    "    \n",
    "    #calculate temperature drop\n",
    "\n",
    "    maxWd = abs(min(map(lambda point: point[\"z\"], line[\"points\"])));\n",
    "    tExt = np.interp(maxWd, owd, otemp);\n",
    "    cpFluid = fluid[\"heatCapapcity\"];\n",
    "    kFluid = fluid[\"thermalConductivity\"];\n",
    "    pr= fluid[\"viscosity\"]*cpFluid/kFluid;\n",
    "    print(\"   Prandtl number is \",pr)\n",
    "    waterViscosity = np.interp(maxWd, owd, ovis);\n",
    "    \n",
    "    nu = 0;\n",
    "    if re >6000:\n",
    "        nu = math.pow(0.023*Re, 4/5)*math.pow(pr, 1/3)*math.pow(fluid[\"viscosity\"]/waterViscosity,0.14)\n",
    "    elif re<2000:\n",
    "        nu = 1.86*re*pr* math.pow(id/line[\"length\"], 1/3)*math.pow(fluid[\"viscosity\"]/waterViscosity,0.14)\n",
    "    else: \n",
    "        nu6000 = math.pow(0.023*6000, 4/5)*math.pow(pr, 1/3)*math.pow(fluid[\"viscosity\"]/waterViscosity,0.14)\n",
    "        nu2000 = math.pow(0.023*2000, 4/5)*math.pow(pr, 1/3)*math.pow(fluid[\"viscosity\"]/waterViscosity,0.14)\n",
    "        \n",
    "        xp = [2000,6000]\n",
    "        fp = [nu2000, nu6000]     \n",
    "        nu = np.interp(re, xp, fp)\n",
    "        print(f\"   For Re= {re} Nu= {nu}. Interpolation of Re=6000 nu={nu6000} and Re=2000 nu={nu2000}\")\n",
    "    print(\"   Nu = \",nu)\n",
    "    \n",
    "    hin=kFluid*nu/id;\n",
    "    R=  8.3144598\n",
    "#     ho=hin + u*( tExt - fluid[\"temperature\"])*math.pi*id*line[\"length\"]/flowRate-(Z*R*T*flowRate/(pEnd*MW*id**2/4*PI())) -9.81*delta(elev) \n",
    "\n",
    "\n",
    "\n",
    "        \n",
    "    \n",
    "\n"
   ]
  },
  {
   "cell_type": "code",
   "execution_count": null,
   "metadata": {},
   "outputs": [],
   "source": []
  }
 ],
 "metadata": {
  "kernelspec": {
   "display_name": "Python 3",
   "language": "python",
   "name": "python3"
  },
  "language_info": {
   "codemirror_mode": {
    "name": "ipython",
    "version": 3
   },
   "file_extension": ".py",
   "mimetype": "text/x-python",
   "name": "python",
   "nbconvert_exporter": "python",
   "pygments_lexer": "ipython3",
   "version": "3.7.4"
  }
 },
 "nbformat": 4,
 "nbformat_minor": 2
}
